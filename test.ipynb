{
 "cells": [
  {
   "cell_type": "code",
   "execution_count": null,
   "metadata": {},
   "outputs": [],
   "source": [
    "sessions['date'] = pd.to_datetime(sessions.date)\n",
    "sessions = sessions.fillna(0)\n",
    "sessions.columns\n",
    "climbing_scores = sessions.apply(calc_climbing_scores, axis=1)\n",
    "yoga_scores = sessions.apply(calc_yoga_scores, axis=1)\n",
    "sessions['yoga_scores'] = yoga_scores\n",
    "arc_scores = sessions.apply(calc_arc_scores, axis=1)\n",
    "sessions['arc_scores'] = arc_scores\n",
    "power_scores = sessions.apply(calc_power_scores, axis=1)\n",
    "sessions['power_scores'] = power_scores\n",
    "scores = sessions.apply(calc_score, axis=1)\n",
    "sessions['climbing_scores'] = climbing_scores\n",
    "sessions['scores'] = scores\n",
    "gym_scores = sessions.apply(calc_gym_scores, axis=1)\n",
    "sessions['gym_scores'] = gym_scores\n",
    "hangboard_scores = sessions.apply(calc_hangboard_scores, axis=1)\n",
    "tech_scores = sessions.apply(calc_technique_scores, axis=1)\n",
    "sessions['hang_scores'] = hangboard_scores\n",
    "sessions['tech_scores'] = tech_scores\n",
    "doripa = sessions[sessions.monkey == 'doripa']\n",
    "sunshine_sessions = sessions[sessions.monkey == 'sunshine']\n",
    "doripa.tail()[['climbing_scores', 'tech_scores', 'gym_scores', 'hang_scores', 'arc_scores']]\n",
    "doripa[['climbing_scores', 'tech_scores', 'gym_scores', 'hang_scores', 'arc_scores']].max()\n",
    "sunshine_sessions.tail()[['climbing_scores', 'tech_scores', 'gym_scores', 'hang_scores', 'arc_scores']]\n",
    "sunshine_sessions[['climbing_scores', 'tech_scores', 'gym_scores', 'hang_scores', 'arc_scores']].max()\n",
    "athlete_tech_scores = athlete[athlete.tech_scores > 0]\n",
    "athlete_hang_scores = athlete[athlete.hang > 0]\n",
    "athlete_climbing_scores = athlete[athlete.climbing_scores > 0]\n",
    "athlete['additional_index'] = x\n",
    "athelete_gym_scores = athlete[athlete.gym_scores > 0]\n",
    "doripa[doripa.tech_scores > 0].tech_scores,\n",
    "doripa[doripa.arc_scores > 0].arc_scores,\n",
    "doripa[doripa.hang_scores > 0].hang_scores,\n",
    "doripa[doripa.climbing_scores > 0].climbing_scores,\n",
    "doripa[doripa.scores > 0].scores,\n",
    "doripa[doripa.gym_scores > 0].gym_scores,\n",
    "sunshine_sessions[sunshine_sessions.tech_scores > 0].tech_scores,\n",
    "sunshine_sessions[sunshine_sessions.arc_scores > 0].arc_scores,\n",
    "sunshine_sessions[sunshine_sessions.hang_scores > 0].hang_scores,\n",
    "sunshine_sessions[sunshine_sessions.climbing_scores > 0].climbing_scores,\n",
    "sunshine_sessions[sunshine_sessions.scores > 0].scores,\n",
    "sunshine_sessions[sunshine_sessions.gym_scores > 0].gym_scores,\n",
    "doripa.corr()['scores'].sort_values()"
   ]
  }
 ],
 "metadata": {
  "language_info": {
   "name": "python"
  }
 },
 "nbformat": 4,
 "nbformat_minor": 2
}
