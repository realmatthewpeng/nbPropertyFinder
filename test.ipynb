{
 "cells": [
  {
   "cell_type": "code",
   "execution_count": null,
   "metadata": {},
   "outputs": [],
   "source": [
    "import pandas"
   ]
  },
  {
   "cell_type": "code",
   "execution_count": null,
   "metadata": {},
   "outputs": [],
   "source": [
    "print(X_5K.shape, y_5K.shape)"
   ]
  },
  {
   "cell_type": "code",
   "execution_count": 3,
   "metadata": {},
   "outputs": [
    {
     "data": {
      "text/plain": [
       "'dfTitanic.loc[(dfTitanic[\"Survived\"] == 1) & (dfTitanic[\"Pclass\"] == 1) & (dfTitanic[\"Sex\"] == \"male\"), [\"Survived\"]].count()'"
      ]
     },
     "execution_count": 3,
     "metadata": {},
     "output_type": "execute_result"
    }
   ],
   "source": [
    "# def preprocess(trips_in):\n",
    "#   qc = np.all([\\\n",
    "#              trips['pickup_longitude'] > -78, \\\n",
    "#              trips['pickup_longitude'] < -70, \\\n",
    "#              trips['dropoff_longitude'] > -78, \\\n",
    "#              trips['dropoff_longitude'] < -70, \\\n",
    "#              trips['pickup_latitude'] > 37, \\\n",
    "#              trips['pickup_latitude'] < 45, \\\n",
    "#              trips['dropoff_latitude'] > 37, \\\n",
    "#              trips['dropoff_latitude'] < 45, \\\n",
    "#              trips['passenger_count'] > 0,\n",
    "#             ], axis=0)\n",
    "#   return trips[qc]"
   ]
  }
 ],
 "metadata": {
  "kernelspec": {
   "display_name": "Python 3",
   "language": "python",
   "name": "python3"
  },
  "language_info": {
   "codemirror_mode": {
    "name": "ipython",
    "version": 3
   },
   "file_extension": ".py",
   "mimetype": "text/x-python",
   "name": "python",
   "nbconvert_exporter": "python",
   "pygments_lexer": "ipython3",
   "version": "3.9.6"
  }
 },
 "nbformat": 4,
 "nbformat_minor": 2
}
