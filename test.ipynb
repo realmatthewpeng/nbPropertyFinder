{
 "cells": [
  {
   "cell_type": "code",
   "execution_count": null,
   "metadata": {},
   "outputs": [],
   "source": [
    "sessions = sessions.fillna(0)"
   ]
  },
  {
   "cell_type": "code",
   "execution_count": null,
   "metadata": {},
   "outputs": [],
   "source": [
    "sessions = sessions.fillna(0)"
   ]
  },
  {
   "cell_type": "code",
   "execution_count": null,
   "metadata": {},
   "outputs": [],
   "source": [
    "sessions = sessions.fillna(0)"
   ]
  },
  {
   "cell_type": "code",
   "execution_count": null,
   "metadata": {},
   "outputs": [],
   "source": [
    "if True:\n",
    "    if True:\n",
    "        if True:\n",
    "            sessions = sessions.fillna(0)\n",
    "sessions = sessions.fillna(0)\n",
    "df0_10k_grouped = df0_10k_edit9.groupby(['region']).mean()\n",
    "df10_18k_grouped = df10_18k_edit.groupby(['region']).mean()\n",
    "df32_grouped = df32.groupby(['region']).mean()\n",
    "df18_32_grouped = df18_32.groupby(['region']).mean()\n",
    "table10k.rename(columns={'weighted_growth_to_tuition':'Worth-It Ratio'})\n",
    "table10k = df0_10k_grouped.drop(['tuition_in_state','earnings6years','earnings10years','earnings_cost_ratio','earnings_growth_y6_y10'], axis = 1)\n",
    "y_axis4 = df32_grouped[\"earnings_cost_ratio\"]\n",
    "y_axis1 = df0_10k_grouped[\"earnings_cost_ratio\"]\n",
    "y_axis3 = df18_32_grouped[\"earnings_cost_ratio\"]\n",
    "y_axis2 = df10_18k_grouped[\"earnings_cost_ratio\"]"
   ]
  }
 ],
 "metadata": {
  "kernelspec": {
   "display_name": "Python 3",
   "language": "python",
   "name": "python3"
  },
  "language_info": {
   "codemirror_mode": {
    "name": "ipython",
    "version": 3
   },
   "file_extension": ".py",
   "mimetype": "text/x-python",
   "name": "python",
   "nbconvert_exporter": "python",
   "pygments_lexer": "ipython3",
   "version": "3.9.6"
  }
 },
 "nbformat": 4,
 "nbformat_minor": 2
}
