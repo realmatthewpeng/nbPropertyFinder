{
 "cells": [
  {
   "cell_type": "code",
   "execution_count": null,
   "metadata": {},
   "outputs": [],
   "source": [
    "import pandas"
   ]
  },
  {
   "cell_type": "code",
   "execution_count": null,
   "metadata": {},
   "outputs": [],
   "source": [
    "firstClassMRate = (dfTitanic.loc[(dfTitanic[\"Survived\"] == 1) & (dfTitanic[\"Pclass\"] == 1) & (dfTitanic[\"Sex\"] == \"male\"), [\"Survived\"]].count() / dfTitanic.loc[(dfTitanic[\"Pclass\"] == 1) & (dfTitanic[\"Sex\"] == \"male\"), [\"Survived\"]].count())"
   ]
  },
  {
   "cell_type": "code",
   "execution_count": 3,
   "metadata": {},
   "outputs": [
    {
     "data": {
      "text/plain": [
       "'dfTitanic.loc[(dfTitanic[\"Survived\"] == 1) & (dfTitanic[\"Pclass\"] == 1) & (dfTitanic[\"Sex\"] == \"male\"), [\"Survived\"]].count()'"
      ]
     },
     "execution_count": 3,
     "metadata": {},
     "output_type": "execute_result"
    }
   ],
   "source": [
    "str = 'firstClassMRate = (dfTitanic.loc[(dfTitanic[\"Survived\"] == 1) & (dfTitanic[\"Pclass\"] == 1) & (dfTitanic[\"Sex\"] == \"male\"), [\"Survived\"]].count() / dfTitanic.loc[(dfTitanic[\"Pclass\"] == 1) & (dfTitanic[\"Sex\"] == \"male\"), [\"Survived\"]].count())'\n",
    "str[19:144]"
   ]
  }
 ],
 "metadata": {
  "kernelspec": {
   "display_name": "Python 3",
   "language": "python",
   "name": "python3"
  },
  "language_info": {
   "codemirror_mode": {
    "name": "ipython",
    "version": 3
   },
   "file_extension": ".py",
   "mimetype": "text/x-python",
   "name": "python",
   "nbconvert_exporter": "python",
   "pygments_lexer": "ipython3",
   "version": "3.9.6"
  }
 },
 "nbformat": 4,
 "nbformat_minor": 2
}
