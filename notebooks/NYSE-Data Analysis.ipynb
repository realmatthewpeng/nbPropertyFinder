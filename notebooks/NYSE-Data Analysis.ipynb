{
 "cells": [
  {
   "cell_type": "code",
   "execution_count": null,
   "metadata": {},
   "outputs": [],
   "source": [
    "__author__ = \"Sreejith Sreekumar\"\n",
    "__email__ = \"sreekumar.s@husky.neu.edu\"\n",
    "__version__ = \"0.0.1\""
   ]
  },
  {
   "cell_type": "code",
   "execution_count": null,
   "metadata": {},
   "outputs": [],
   "source": [
    "%load_ext autoreload\n",
    "%autoreload 2\n",
    "%matplotlib inline\n",
    "%debug\n",
    "\n",
    "import warnings\n",
    "warnings.filterwarnings('ignore')"
   ]
  },
  {
   "cell_type": "code",
   "execution_count": null,
   "metadata": {},
   "outputs": [],
   "source": [
    "import pandas as pd\n",
    "\n",
    "import plotly\n",
    "import plotly.plotly as py\n",
    "import plotly.graph_objs as go\n",
    "\n",
    "plotly.tools.set_credentials_file(username='srjit', api_key='lpKtXjzR7LBaqHwlxFQp')"
   ]
  },
  {
   "cell_type": "code",
   "execution_count": null,
   "metadata": {},
   "outputs": [],
   "source": [
    "data = pd.read_csv(\"../data/prices.csv\")"
   ]
  },
  {
   "cell_type": "code",
   "execution_count": null,
   "metadata": {},
   "outputs": [],
   "source": [
    "data[data.symbol == \"FB\"].head()"
   ]
  },
  {
   "cell_type": "code",
   "execution_count": null,
   "metadata": {},
   "outputs": [],
   "source": [
    "data.symbol.unique()[:50]"
   ]
  },
  {
   "cell_type": "code",
   "execution_count": null,
   "metadata": {},
   "outputs": [],
   "source": [
    "len(data.symbol.unique())"
   ]
  },
  {
   "cell_type": "markdown",
   "metadata": {},
   "source": [
    "__Qn 4. Label the 7 columns in the dataset as key or value columns (see Munzner 2.6). Include this write-up in a markup cell. Write a couple of sentences justifying your choice.__\n",
    "\n",
    "    Value Columns:\n",
    "          date, symbol, open, close, low, high, volume\n",
    "          \n",
    "          \n",
    "There are no attributes which can be used to index the _items_. Hence we do not have any key columns for the dataset."
   ]
  },
  {
   "cell_type": "markdown",
   "metadata": {},
   "source": [
    "# Task: Analyze the stock price variations of AAPL (Apple)\n",
    "\n",
    "\n",
    "\n",
    "How is the user analyzing it? Task Abstraction\n",
    "\n",
    "__Actions__\n",
    "\n",
    "__Analyze (High Level)__:\n",
    "\n",
    "   Understand and analyze and stock movement of AAPL\n",
    "   \n",
    "__Search__:   \n",
    "   Targets for the analysis are known  - Date Ranges, Which of the values are under consideration (Open, High, Low or Close), and the Company Symbol.\n",
    "   \n",
    "   \n",
    "__Query__:\n",
    "   Plot the targets and understand the trends within."
   ]
  },
  {
   "cell_type": "markdown",
   "metadata": {},
   "source": [
    "## Encoding 1: How has apple stock price been varying over the years?"
   ]
  },
  {
   "cell_type": "code",
   "execution_count": null,
   "metadata": {},
   "outputs": [],
   "source": [
    "# Variation of AAPL Stock\n",
    "# Ref: https://plot.ly/python/ohlc-charts/\n",
    "\n",
    "\n",
    "aapl = data[data.symbol == \"AAPL\"]\n",
    "trace = go.Ohlc(x=aapl['date'],\n",
    "                open=aapl['open'],\n",
    "                high=aapl['high'],\n",
    "                low=aapl['low'],\n",
    "                close=aapl['close'],\n",
    "                increasing=dict(line=dict(color= '#17BECF')),\n",
    "                decreasing=dict(line=dict(color= '#7F7F7F')))\n",
    "\n",
    "layout = {\n",
    "    'title' : 'AAPL Stock Variation',\n",
    "    'yaxis' : {'title': 'Stock Value'},\n",
    "    'xaxis' : {'title' : 'Year'},\n",
    "    'shapes': [{\n",
    "        'x0': '2014-06-09', 'x1': '2014-06-09',\n",
    "        'y0': 0, 'y1': 1, 'xref': 'x', 'yref': 'paper',\n",
    "        'line': {'color': 'rgb(30,30,30)', 'width': 1}\n",
    "    }],\n",
    "     'annotations': [{\n",
    "        'x': '2014-06-09', 'y': 0.05, 'xref': 'x', 'yref': 'paper',\n",
    "        'showarrow': False, 'xanchor': 'left',\n",
    "        'text': 'Steep Drop in Stock Price'\n",
    "    }]\n",
    "}\n",
    "\n",
    "data_aapl = [trace]\n",
    "fig = dict(data=data_aapl, layout=layout)\n",
    "\n",
    "py.iplot(fig, filename='simple_ohlc')"
   ]
  },
  {
   "cell_type": "markdown",
   "metadata": {},
   "source": [
    "The Open High Low Chart from Plotly has been chosen to encode the stock price data of AAPL visually.\n",
    "Every point in the encoding showing the open, high and low values of a particular day with an interactive tooltip.\n",
    "The tooltip takes multi colored background to encode the rise or fall of the stock price (green - rise, gray - fall).\n",
    "\n",
    "Attributes: symbol, open, high, low, close.\n",
    "\n",
    "Channel: \n",
    "   * Horizontal and vertical positions\n",
    "   * Color coding (gray for falling of stock price, cyan for rise),\n",
    "   * Mark (Triangle up or down) to indicate rise or fall.\n",
    "\n",
    "The plot shows the variation in the stock price of apple according to the data from new york stock exchange.\n",
    "\n",
    "The visualization shows a number of details for the interested user:\n",
    "  - How the price has been varying around a certain period\n",
    "  - Has there been steep falls (marked by the bold heavy line at 2014 June\n",
    "  - The interactive tooltip on the line shows if there has been a rise or fall from the previous closing (marked by background colors and the pointed arrow)\n",
    "\n",
    "\n"
   ]
  },
  {
   "cell_type": "markdown",
   "metadata": {},
   "source": [
    "## Encoding 2: Visualize the __Change__ in stock price of AAPL from the previous day"
   ]
  },
  {
   "cell_type": "code",
   "execution_count": null,
   "metadata": {},
   "outputs": [],
   "source": [
    "import numpy as np\n",
    "\n",
    "aapl_close = aapl[[\"close\"]]\n",
    "dates = aapl[[\"date\"]]\n",
    "\n",
    " \n",
    "aapl_change = aapl_close.apply(lambda x: np.log(x) - np.log(x.shift(1))) # shift moves dates back by 1.\n",
    "\n",
    "\n",
    "layout = dict(title = 'Change in AAPL stock from the previous day',\n",
    "               xaxis=dict(\n",
    "                    title = 'Date',\n",
    "                    tickcolor='#000'\n",
    "                ),\n",
    "                yaxis=dict(\n",
    "                    title = 'Variations in stock price',\n",
    "                    tickcolor='#000'\n",
    "                    )\n",
    "              )\n",
    "\n",
    "\n",
    "# Create a trace\n",
    "trace = go.Scatter(\n",
    "    x = dates,\n",
    "    y = aapl_change)\n",
    "\n",
    "\n",
    "data_aapl_change = [trace]\n",
    "fig = dict(data=data_aapl_change, layout=layout)\n",
    "\n",
    "py.iplot(fig)"
   ]
  },
  {
   "cell_type": "markdown",
   "metadata": {},
   "source": [
    "The simple line plot from plotly has been chosen to see the apple stock price variations from the previous day. Without too many color encodings the differences can be shows very efficiently through the line graph.\n",
    "\n",
    "Attributes: symbol, close\n",
    "\n",
    "Channel: \n",
    "\n",
    "   * Horizontal and vertical positions.\n",
    "   * Color: Blue\n",
    "   * Marks: Lines\n",
    "\n",
    "The plot shows the change the variation of AAPL stock from the previous day. It presents all the variations \n",
    "in prices from all the subsequent dates in the dataset - on zooming in on a range of dates, the scales adjust themselves to give an clearer overview of what is happening to the stock during that period of time. The interative tooltip also provides the actual value of rise or fall of the stock.\n",
    "\n",
    "The visualization shows a number of details for the interested user:\n",
    "\n",
    "   - Has there been steep variations in the stock prices from the previous day?\n",
    "   - If yes, what was the event in time which caused it - A steep rise (Could be the release of an Apple product?) or A steep fall (Something went wrong in the company or a product?)\n",
    "     \n",
    "\n",
    "\n"
   ]
  },
  {
   "cell_type": "markdown",
   "metadata": {},
   "source": [
    "__Extra Task:__"
   ]
  },
  {
   "cell_type": "markdown",
   "metadata": {},
   "source": [
    "## Task 2: How are the growth rates of GOOGL (Google) over different periods in time?"
   ]
  },
  {
   "cell_type": "code",
   "execution_count": null,
   "metadata": {},
   "outputs": [],
   "source": [
    "googl = data[data.symbol == \"GOOGL\"]"
   ]
  },
  {
   "cell_type": "code",
   "execution_count": null,
   "metadata": {},
   "outputs": [],
   "source": [
    "## Ref: https://plot.ly/python/time-series/\n",
    "\n",
    "trace_high = go.Scatter(\n",
    "                x=googl.date,\n",
    "                y=googl['high'],\n",
    "                name = \"High\",\n",
    "                line = dict(color = '#228B22'),\n",
    "                opacity = 0.8)\n",
    "\n",
    "trace_low = go.Scatter(\n",
    "                x=googl.date,\n",
    "                y=googl['low'],\n",
    "                name = \"Low\",\n",
    "                line = dict(color = '#B22222'),\n",
    "                opacity = 0.8)\n",
    "\n",
    "data_googl = [trace_high,trace_low]\n",
    "\n",
    "layout = {\n",
    "    'title' : 'GOOGLE Stock Variation',\n",
    "    'yaxis' : {'title': 'Stock Value'},\n",
    "    'xaxis' : {'title' : 'Year',\n",
    "               'range' : ['2014-01-01','2016-12-01'],\n",
    "               'rangeselector' : dict(\n",
    "                                buttons=list([\n",
    "                                    dict(count=1,\n",
    "                                         label='1m',\n",
    "                                         step='month',\n",
    "                                         stepmode='backward'),\n",
    "                                    dict(count=6,\n",
    "                                         label='6m',\n",
    "                                         step='month',\n",
    "                                         stepmode='backward'),\n",
    "                                    dict(count=1,\n",
    "                                         label='1y',\n",
    "                                         step='year',\n",
    "                                         stepmode='backward'),\n",
    "                                    dict(count=5,\n",
    "                                         label='5y',\n",
    "                                         step='year',\n",
    "                                         stepmode='backward'),                                    \n",
    "                                    dict(step='all')\n",
    "                                    ])\n",
    "                ),\n",
    "               \"rangeslider\" : dict(\n",
    "                    visible = True\n",
    "                ),\n",
    "               \"type\" : 'date'\n",
    "              }\n",
    "    \n",
    "}\n",
    "\n",
    "\n",
    "fig = dict(data=data_googl, layout=layout)\n",
    "py.iplot(fig, filename = \"Variation of High and Low of Google Stock Prices\")"
   ]
  },
  {
   "cell_type": "markdown",
   "metadata": {},
   "source": [
    "The plot shows the high and low values in stock prices of google over the entire period in data. The high and low values are encoded by the green and red colors respectively. Similar to google's stock chart, there are different scales at which the variations can be  viewed. The interactive tooltip shows the values of high and low at the selected point in time.\n",
    "\n",
    "\n",
    "The plot shows the variation of high and low values of days from 2014-2016 in the stock price of google according to the data from new york stock exchange.\n",
    "\n",
    "The visualization shows a number of details for the interested user:\n",
    "\n",
    "   - How the increase/decrese in the stock prices been over various periods (6 months / 1 year/ 5 years)? \n",
    "   - Has there been significant deviation in high and low prices on any significant day?\n",
    "   - How has the stock prices of google been varying over time?"
   ]
  }
 ],
 "metadata": {
  "kernelspec": {
   "display_name": "Python 3",
   "language": "python",
   "name": "python3"
  },
  "language_info": {
   "codemirror_mode": {
    "name": "ipython",
    "version": 3
   },
   "file_extension": ".py",
   "mimetype": "text/x-python",
   "name": "python",
   "nbconvert_exporter": "python",
   "pygments_lexer": "ipython3",
   "version": "3.7.1"
  }
 },
 "nbformat": 4,
 "nbformat_minor": 2
}
