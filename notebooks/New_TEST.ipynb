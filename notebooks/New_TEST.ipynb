{
 "cells": [
  {
   "cell_type": "code",
   "execution_count": null,
   "metadata": {},
   "outputs": [],
   "source": [
    "# Useful starting lines\n",
    "%matplotlib inline\n",
    "import numpy as np\n",
    "import matplotlib.pyplot as plt\n",
    "%load_ext autoreload\n",
    "%autoreload 2\n",
    "\n",
    "from implementation import *\n",
    "from utilities import *"
   ]
  },
  {
   "cell_type": "markdown",
   "metadata": {},
   "source": [
    "# Load and clean the data"
   ]
  },
  {
   "cell_type": "code",
   "execution_count": null,
   "metadata": {},
   "outputs": [],
   "source": [
    "y,x,ids=load_csv_data(\"train.csv\")\n",
    "y_test,x_test,ids_test=load_csv_data(\"test.csv\")"
   ]
  },
  {
   "cell_type": "code",
   "execution_count": null,
   "metadata": {},
   "outputs": [],
   "source": [
    "# tej colonnes où y'a des -999\n",
    "\n",
    "x[x==-999]=np.NaN\n",
    "z=x[:,~np.isnan(x).any(axis=0)] #z is our matrix of observations with size (number of observations, number of features without -999)\n",
    "\n",
    "#z=one_hot_jet_num(z,17)\n",
    "#z=build_poly_with_one_hot(z,5,17,True,3)\n",
    "\n",
    "#z2=interaction_prod(z,0,False)\n",
    "#z1 = build_poly(z,3)\n",
    "#z3=build_poly(z2,3)\n",
    "#z = np.c_[z1,z2]\n",
    "#z=np.c_[z1,z3]\n",
    "#add_ones(z)\n",
    "#np.column_stack((z, np.ones(z.shape[0])))\n",
    "#np.column_stack((z, np.ones(z.shape[0])))\n",
    "print(z.shape)"
   ]
  },
  {
   "cell_type": "code",
   "execution_count": null,
   "metadata": {},
   "outputs": [],
   "source": [
    "x_test[x_test==-999]=np.NaN\n",
    "z_test=x_test[:,~np.isnan(x_test).any(axis=0)] #z is our matrix of observations with size (number of observations, number of features without -999)\n",
    "z1_test = build_poly(z_test,9)\n",
    "z2_test=interaction_prodbis(z_test,0,False)\n",
    "z3_test=build_poly(z2_test,6)\n",
    "z_test = np.c_[z1_test,z3_test]\n",
    "#z_test=np.c_[z1_test,z3_test]"
   ]
  },
  {
   "cell_type": "code",
   "execution_count": null,
   "metadata": {},
   "outputs": [],
   "source": [
    "# cross validation for 2 --> TO DO: FOR K\n",
    "\n",
    "Strain1_z, Stest1_z, Strain1_y, Stest1_y = split_data(z,y,0.8)\n",
    "\n",
    "# standardize the data (only centered here)\n",
    "\n",
    "#Strain1_z = standardize(Strain1_z)\n",
    "#Stest1_z = standardize(Stest1_z)\n",
    "#Strain1_y = standardize(Strain1_y)\n",
    "#Stest_y = standardize(Stest1_y)"
   ]
  },
  {
   "cell_type": "markdown",
   "metadata": {},
   "source": [
    "# Calculate MSE for result from least squares "
   ]
  },
  {
   "cell_type": "code",
   "execution_count": null,
   "metadata": {},
   "outputs": [],
   "source": [
    "beta1,l = least_squares(Strain1_y, Strain1_z)      #beta from y = X^T*beta --> missing the column of ones'\n",
    "#print(beta1)\n",
    "res1 = definitive_res(Stest1_z.dot(beta1))\n",
    "#print(res1)\n",
    "len(Stest1_y[Stest1_y==res1])/len(Stest1_y)"
   ]
  },
  {
   "cell_type": "markdown",
   "metadata": {},
   "source": [
    "# Calculate MSE for results from least squares GD and SGD"
   ]
  },
  {
   "cell_type": "code",
   "execution_count": null,
   "metadata": {},
   "outputs": [],
   "source": [
    "initial_w = np.zeros(Strain1_z.shape[1])    #w is an array of size = number of features (i.e. number of columns in z)\n",
    "max_iters = 5000\n",
    "gamma = 0.000001"
   ]
  },
  {
   "cell_type": "markdown",
   "metadata": {},
   "source": [
    "# GD"
   ]
  },
  {
   "cell_type": "code",
   "execution_count": null,
   "metadata": {},
   "outputs": [],
   "source": [
    "beta2 ,l= least_squares_GD(Strain1_y, Strain1_z, initial_w, max_iters, gamma)      #beta from y = X*beta --> missing the column of ones'\n",
    "res2 = definitive_res(Stest1_z.dot(beta2))\n",
    "len(Stest1_y[Stest1_y==res2])/len(Stest1_y)"
   ]
  },
  {
   "cell_type": "markdown",
   "metadata": {},
   "source": [
    "# SGD"
   ]
  },
  {
   "cell_type": "code",
   "execution_count": null,
   "metadata": {},
   "outputs": [],
   "source": [
    "batch_size = 1\n",
    "\n",
    "beta3 = least_squares_SGD(Strain1_y, Strain1_z, initial_w, batch_size, max_iters, gamma)      #beta from y = X*beta --> missing the column of ones'\n",
    "res3 = definitive_res(Stest1_z.dot(beta3))\n",
    "len(Stest1_y[Stest1_y==res3])/len(Stest1_y)"
   ]
  },
  {
   "cell_type": "markdown",
   "metadata": {},
   "source": [
    "# Calculate other LS for Ridge Regression "
   ]
  },
  {
   "cell_type": "code",
   "execution_count": null,
   "metadata": {},
   "outputs": [],
   "source": [
    "lambdas = np.logspace(-5, 0, 15)\n",
    "\n",
    "# bluid poly\n",
    "tx_tr = build_poly(Strain1_z, 1)\n",
    "tx_te = build_poly(Stest1_z, 1)\n",
    "\n",
    "# ridge regression with different lambda\n",
    "rmse_tr = []\n",
    "rmse_te = []\n",
    "for ind, lambda_ in enumerate(lambdas):\n",
    "    # ridge regression\n",
    "    weight = ridge_regression(Strain1_y, tx_tr, lambda_)\n",
    "    rmse_tr.append(np.sqrt(2 * compute_mse(Strain1_y, tx_tr, weight)))\n",
    "    rmse_te.append(np.sqrt(2 * compute_mse(Stest1_y, tx_te, weight)))\n",
    "print(rmse_tr, rmse_te)\n",
    "#print(\"last weight:\",weight)"
   ]
  },
  {
   "cell_type": "code",
   "execution_count": null,
   "metadata": {},
   "outputs": [],
   "source": [
    "lmin=-10\n",
    "lmax=0\n",
    "n=10\n",
    "y=Strain1_y\n",
    "x=Strain1_z\n",
    "y_te=Stest1_y\n",
    "x_te=Stest1_z\n",
    "ratio=[]\n",
    "ratios=[]\n",
    "weights=[]\n",
    "lambdas = np.logspace(lmin, lmax, n)\n",
    "for ind, lambda_ in enumerate(lambdas):\n",
    "    weight = ridge_regression(y, x, lambda_)\n",
    "    ratio.append(ratio_prediction_threshold(y_te,x_te,weight,-0.1))\n",
    "    ratios.append(ratio_prediction_threshold(y_te,x_te,weight,0.1))\n",
    "    weights.append(weight)\n",
    "    print(ind)\n",
    "indx1=np.argmax(ratio)\n",
    "indx2=np.argmax(ratios)\n",
    "weight=weights[indx]\n",
    "lambdaa=lambdas[indx]\n"
   ]
  },
  {
   "cell_type": "code",
   "execution_count": null,
   "metadata": {},
   "outputs": [],
   "source": [
    "print(np.max(ratio),indx)\n",
    "print(np.max(ratios),indx)"
   ]
  },
  {
   "cell_type": "code",
   "execution_count": null,
   "metadata": {},
   "outputs": [],
   "source": [
    "pred=definitive_res(z_test.dot(weight))\n",
    "create_csv_submission(ids_test,pred,\"testsubs\")"
   ]
  },
  {
   "cell_type": "code",
   "execution_count": null,
   "metadata": {},
   "outputs": [],
   "source": [
    "beta4,losss=logistic_regression(Strain1_y, Strain1_z, initial_w, max_iters, gamma)\n",
    "res4 = definitive_res(Stest1_z.dot(beta4))\n",
    "len(Stest1_y[Stest1_y==res4])/len(Stest1_y)"
   ]
  },
  {
   "cell_type": "code",
   "execution_count": null,
   "metadata": {},
   "outputs": [],
   "source": [
    "Stest1_z.dot(beta4)"
   ]
  },
  {
   "cell_type": "code",
   "execution_count": null,
   "metadata": {},
   "outputs": [],
   "source": []
  }
 ],
 "metadata": {
  "anaconda-cloud": {},
  "kernelspec": {
   "display_name": "Python 3",
   "language": "python",
   "name": "python3"
  },
  "language_info": {
   "codemirror_mode": {
    "name": "ipython",
    "version": 3
   },
   "file_extension": ".py",
   "mimetype": "text/x-python",
   "name": "python",
   "nbconvert_exporter": "python",
   "pygments_lexer": "ipython3",
   "version": "3.6.5"
  }
 },
 "nbformat": 4,
 "nbformat_minor": 2
}
