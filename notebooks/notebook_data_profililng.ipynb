{
 "cells": [
  {
   "cell_type": "markdown",
   "metadata": {},
   "source": [
    "# Data Profiler Notebook"
   ]
  },
  {
   "cell_type": "markdown",
   "metadata": {},
   "source": [
    "## Setup"
   ]
  },
  {
   "cell_type": "markdown",
   "metadata": {},
   "source": [
    "### Import relevant modules"
   ]
  },
  {
   "cell_type": "code",
   "execution_count": 1,
   "metadata": {},
   "outputs": [
    {
     "name": "stderr",
     "output_type": "stream",
     "text": [
      "/Library/Frameworks/Python.framework/Versions/3.6/lib/python3.6/importlib/_bootstrap.py:219: RuntimeWarning: numpy.dtype size changed, may indicate binary incompatibility. Expected 96, got 88\n",
      "  return f(*args, **kwds)\n",
      "/Library/Frameworks/Python.framework/Versions/3.6/lib/python3.6/importlib/_bootstrap.py:219: RuntimeWarning: numpy.dtype size changed, may indicate binary incompatibility. Expected 96, got 88\n",
      "  return f(*args, **kwds)\n"
     ]
    }
   ],
   "source": [
    "import pandas\n",
    "import numpy\n",
    "import random\n",
    "import datetime\n",
    "import math\n",
    "import json\n",
    "import seaborn\n",
    "import matplotlib.pyplot as plt\n",
    "from functools import reduce"
   ]
  },
  {
   "cell_type": "markdown",
   "metadata": {},
   "source": [
    "### Set seaborn grid and figuresize"
   ]
  },
  {
   "cell_type": "code",
   "execution_count": 2,
   "metadata": {},
   "outputs": [],
   "source": [
    "seaborn.set(rc = {\"figure.figsize\":(16,12)})\n",
    "seaborn.set_style(\"whitegrid\")"
   ]
  },
  {
   "cell_type": "markdown",
   "metadata": {},
   "source": [
    "### Grab current timestamp"
   ]
  },
  {
   "cell_type": "code",
   "execution_count": 3,
   "metadata": {},
   "outputs": [
    {
     "name": "stdout",
     "output_type": "stream",
     "text": [
      "Timestamp set to: 20180810_\n"
     ]
    }
   ],
   "source": [
    "# get timestamp\n",
    "now = datetime.datetime.now()\n",
    "timestamp = now.strftime(\"%Y%m%d\") + \"_\"\n",
    "\n",
    "print(\"Timestamp set to: {}\".format(timestamp))"
   ]
  },
  {
   "cell_type": "markdown",
   "metadata": {},
   "source": [
    "## Settings\n",
    "- Fill in the parameters within Settings subsections and run all cells to generate report"
   ]
  },
  {
   "cell_type": "markdown",
   "metadata": {},
   "source": [
    "#### Import data settings\n",
    "- First import your data into a pandas dataframe (mandatory)\n",
    "- You can use `pandas`' `read_csv()`, `read_excel()`, `read_json()` methods to read in data"
   ]
  },
  {
   "cell_type": "code",
   "execution_count": 4,
   "metadata": {},
   "outputs": [
    {
     "name": "stdout",
     "output_type": "stream",
     "text": [
      "Dataframe has 5 features and 150 records\n"
     ]
    }
   ],
   "source": [
    "data_path = \"/users/danielcorcoran/desktop/\\\n",
    "github_repos/python_nb_visualization/\\\n",
    "seaborn_official_datasets/iris.csv\"\n",
    "\n",
    "data = pandas.read_csv(data_path)\n",
    "\n",
    "print(\"Dataframe has {} features and {} records\".format(data.shape[1], data.shape[0]))"
   ]
  },
  {
   "cell_type": "code",
   "execution_count": 5,
   "metadata": {},
   "outputs": [
    {
     "name": "stdout",
     "output_type": "stream",
     "text": [
      "Dataframe feature names: ['sepal_length', 'sepal_width', 'petal_length', 'petal_width', 'species']\n"
     ]
    }
   ],
   "source": [
    "print(\"Dataframe feature names: {}\".format(list(data.columns)))"
   ]
  },
  {
   "cell_type": "markdown",
   "metadata": {},
   "source": [
    "#### Export settings\n",
    "- Set your `exportpath`. The profiler will export the .csv/.json report as well as visualization .png/.svgs to this folder."
   ]
  },
  {
   "cell_type": "code",
   "execution_count": 6,
   "metadata": {},
   "outputs": [
    {
     "name": "stdout",
     "output_type": "stream",
     "text": [
      "Export path set to '/users/danielcorcoran/desktop/github_repos/python_nb_data_profiling/exports/'\n"
     ]
    }
   ],
   "source": [
    "exportpath = \"/users/danielcorcoran/desktop/github_repos/python_nb_data_profiling/exports/\"\n",
    "\n",
    "print(\"Export path set to '{}'\".format(exportpath))"
   ]
  },
  {
   "cell_type": "markdown",
   "metadata": {},
   "source": [
    "#### Report Settings \n",
    "- Set report width and spacing chars (optional)\n",
    "- `report_width` is the width in chars of the report printed out in step `1.7 Data Profile Results`\n",
    "- `header_spacing_char` is the char used to pad the report column headers eg. \"##### age (1/12) #####\" for \"#\"\n",
    "- `attribute_spacing_char` is the char used to pad the attribute value pairing eg. \"mean:___34\" for \"_\""
   ]
  },
  {
   "cell_type": "code",
   "execution_count": 7,
   "metadata": {},
   "outputs": [
    {
     "name": "stdout",
     "output_type": "stream",
     "text": [
      "Report width set to 80\n",
      "Attribute spacing char set to ' '\n",
      "Header spacing char set to '~'\n"
     ]
    }
   ],
   "source": [
    "report_width = 80\n",
    "just_width = math.floor(report_width / 2)\n",
    "attribute_spacing_char = \" \"\n",
    "header_spacing_char = \"~\"\n",
    "\n",
    "print(\"Report width set to {}\".format(report_width))\n",
    "print(\"Attribute spacing char set to '{}'\".format(attribute_spacing_char))\n",
    "print(\"Header spacing char set to '{}'\".format(header_spacing_char))"
   ]
  },
  {
   "cell_type": "markdown",
   "metadata": {},
   "source": [
    "#### Visualization Settings\n",
    "- `visualize_dataset` if this is set to True, the dataset will be visualized using `seaborn`'s `.pairplot()` and `heatmap()`\n",
    "- `deal_with_nulls` set this to 'mean' to imputate missing values, or 'remove' to drop them entirely.\n",
    "- `palette` seaborn palette. Visit https://seaborn.pydata.org/tutorial/color_palettes.html for more info.\n",
    "- `nunique_range` Categorical features with unique items between this range will be visualized in the `.pairplot()`\n",
    "- `features_to_exclude` A list of features to exclude from visualization data.\n",
    "- `identity_type` Set this to 'kde' for kernel density or 'hist' for histogram.\n",
    "- `non_identity_type` Set this to 'scatter' for scatterplot or 'reg' for regression."
   ]
  },
  {
   "cell_type": "code",
   "execution_count": 8,
   "metadata": {},
   "outputs": [],
   "source": [
    "visualize_dataset = True\n",
    "features_to_exclude = ['x', 'y', 'z']\n",
    "deal_with_nulls = \"mean\"\n",
    "nunique_range = [2,10]\n",
    "palette = \"Dark2\"\n",
    "identity_type = 'hist'\n",
    "non_identity_type = 'scatter'"
   ]
  },
  {
   "cell_type": "markdown",
   "metadata": {},
   "source": [
    "## Extract Data Profiles"
   ]
  },
  {
   "cell_type": "markdown",
   "metadata": {},
   "source": [
    "### Get Statistical Summary"
   ]
  },
  {
   "cell_type": "code",
   "execution_count": 9,
   "metadata": {},
   "outputs": [],
   "source": [
    "#call pandas describe method on dataframe\n",
    "describe = data.describe(include = \"all\")\n",
    "\n",
    "#transpose\n",
    "describe_transposed = describe.T\n",
    "\n",
    "#reset_index, moving the column names into a new series\n",
    "describe_final = describe_transposed.reset_index()"
   ]
  },
  {
   "cell_type": "code",
   "execution_count": 10,
   "metadata": {},
   "outputs": [
    {
     "data": {
      "text/html": [
       "<div>\n",
       "<style scoped>\n",
       "    .dataframe tbody tr th:only-of-type {\n",
       "        vertical-align: middle;\n",
       "    }\n",
       "\n",
       "    .dataframe tbody tr th {\n",
       "        vertical-align: top;\n",
       "    }\n",
       "\n",
       "    .dataframe thead th {\n",
       "        text-align: right;\n",
       "    }\n",
       "</style>\n",
       "<table border=\"1\" class=\"dataframe\">\n",
       "  <thead>\n",
       "    <tr style=\"text-align: right;\">\n",
       "      <th></th>\n",
       "      <th>index</th>\n",
       "      <th>count</th>\n",
       "      <th>unique</th>\n",
       "      <th>top</th>\n",
       "      <th>freq</th>\n",
       "      <th>mean</th>\n",
       "      <th>std</th>\n",
       "      <th>min</th>\n",
       "      <th>25%</th>\n",
       "      <th>50%</th>\n",
       "      <th>75%</th>\n",
       "      <th>max</th>\n",
       "    </tr>\n",
       "  </thead>\n",
       "  <tbody>\n",
       "    <tr>\n",
       "      <th>0</th>\n",
       "      <td>sepal_length</td>\n",
       "      <td>150</td>\n",
       "      <td>NaN</td>\n",
       "      <td>NaN</td>\n",
       "      <td>NaN</td>\n",
       "      <td>5.84333</td>\n",
       "      <td>0.828066</td>\n",
       "      <td>4.3</td>\n",
       "      <td>5.1</td>\n",
       "      <td>5.8</td>\n",
       "      <td>6.4</td>\n",
       "      <td>7.9</td>\n",
       "    </tr>\n",
       "    <tr>\n",
       "      <th>1</th>\n",
       "      <td>sepal_width</td>\n",
       "      <td>150</td>\n",
       "      <td>NaN</td>\n",
       "      <td>NaN</td>\n",
       "      <td>NaN</td>\n",
       "      <td>3.05733</td>\n",
       "      <td>0.435866</td>\n",
       "      <td>2</td>\n",
       "      <td>2.8</td>\n",
       "      <td>3</td>\n",
       "      <td>3.3</td>\n",
       "      <td>4.4</td>\n",
       "    </tr>\n",
       "    <tr>\n",
       "      <th>2</th>\n",
       "      <td>petal_length</td>\n",
       "      <td>150</td>\n",
       "      <td>NaN</td>\n",
       "      <td>NaN</td>\n",
       "      <td>NaN</td>\n",
       "      <td>3.758</td>\n",
       "      <td>1.7653</td>\n",
       "      <td>1</td>\n",
       "      <td>1.6</td>\n",
       "      <td>4.35</td>\n",
       "      <td>5.1</td>\n",
       "      <td>6.9</td>\n",
       "    </tr>\n",
       "    <tr>\n",
       "      <th>3</th>\n",
       "      <td>petal_width</td>\n",
       "      <td>150</td>\n",
       "      <td>NaN</td>\n",
       "      <td>NaN</td>\n",
       "      <td>NaN</td>\n",
       "      <td>1.19933</td>\n",
       "      <td>0.762238</td>\n",
       "      <td>0.1</td>\n",
       "      <td>0.3</td>\n",
       "      <td>1.3</td>\n",
       "      <td>1.8</td>\n",
       "      <td>2.5</td>\n",
       "    </tr>\n",
       "    <tr>\n",
       "      <th>4</th>\n",
       "      <td>species</td>\n",
       "      <td>150</td>\n",
       "      <td>3</td>\n",
       "      <td>setosa</td>\n",
       "      <td>50</td>\n",
       "      <td>NaN</td>\n",
       "      <td>NaN</td>\n",
       "      <td>NaN</td>\n",
       "      <td>NaN</td>\n",
       "      <td>NaN</td>\n",
       "      <td>NaN</td>\n",
       "      <td>NaN</td>\n",
       "    </tr>\n",
       "  </tbody>\n",
       "</table>\n",
       "</div>"
      ],
      "text/plain": [
       "          index count unique     top freq     mean       std  min  25%   50%  \\\n",
       "0  sepal_length   150    NaN     NaN  NaN  5.84333  0.828066  4.3  5.1   5.8   \n",
       "1   sepal_width   150    NaN     NaN  NaN  3.05733  0.435866    2  2.8     3   \n",
       "2  petal_length   150    NaN     NaN  NaN    3.758    1.7653    1  1.6  4.35   \n",
       "3   petal_width   150    NaN     NaN  NaN  1.19933  0.762238  0.1  0.3   1.3   \n",
       "4       species   150      3  setosa   50      NaN       NaN  NaN  NaN   NaN   \n",
       "\n",
       "   75%  max  \n",
       "0  6.4  7.9  \n",
       "1  3.3  4.4  \n",
       "2  5.1  6.9  \n",
       "3  1.8  2.5  \n",
       "4  NaN  NaN  "
      ]
     },
     "execution_count": 10,
     "metadata": {},
     "output_type": "execute_result"
    }
   ],
   "source": [
    "describe_final"
   ]
  },
  {
   "cell_type": "markdown",
   "metadata": {},
   "source": [
    "### Get Data Types"
   ]
  },
  {
   "cell_type": "code",
   "execution_count": 11,
   "metadata": {},
   "outputs": [],
   "source": [
    "# get datatypes of each feature\n",
    "dtypes = data.dtypes"
   ]
  },
  {
   "cell_type": "code",
   "execution_count": 12,
   "metadata": {},
   "outputs": [],
   "source": [
    "#convert to dataframe and rename a column\n",
    "dtypes_dataframe = pandas.DataFrame(dtypes, columns = [\"data_type\"])"
   ]
  },
  {
   "cell_type": "code",
   "execution_count": 13,
   "metadata": {},
   "outputs": [],
   "source": [
    "# reset index, moving the column names into a new series\n",
    "dtypes_final = dtypes_dataframe.reset_index()"
   ]
  },
  {
   "cell_type": "code",
   "execution_count": 14,
   "metadata": {},
   "outputs": [
    {
     "data": {
      "text/html": [
       "<div>\n",
       "<style scoped>\n",
       "    .dataframe tbody tr th:only-of-type {\n",
       "        vertical-align: middle;\n",
       "    }\n",
       "\n",
       "    .dataframe tbody tr th {\n",
       "        vertical-align: top;\n",
       "    }\n",
       "\n",
       "    .dataframe thead th {\n",
       "        text-align: right;\n",
       "    }\n",
       "</style>\n",
       "<table border=\"1\" class=\"dataframe\">\n",
       "  <thead>\n",
       "    <tr style=\"text-align: right;\">\n",
       "      <th></th>\n",
       "      <th>index</th>\n",
       "      <th>data_type</th>\n",
       "    </tr>\n",
       "  </thead>\n",
       "  <tbody>\n",
       "    <tr>\n",
       "      <th>0</th>\n",
       "      <td>sepal_length</td>\n",
       "      <td>float64</td>\n",
       "    </tr>\n",
       "    <tr>\n",
       "      <th>1</th>\n",
       "      <td>sepal_width</td>\n",
       "      <td>float64</td>\n",
       "    </tr>\n",
       "    <tr>\n",
       "      <th>2</th>\n",
       "      <td>petal_length</td>\n",
       "      <td>float64</td>\n",
       "    </tr>\n",
       "    <tr>\n",
       "      <th>3</th>\n",
       "      <td>petal_width</td>\n",
       "      <td>float64</td>\n",
       "    </tr>\n",
       "    <tr>\n",
       "      <th>4</th>\n",
       "      <td>species</td>\n",
       "      <td>object</td>\n",
       "    </tr>\n",
       "  </tbody>\n",
       "</table>\n",
       "</div>"
      ],
      "text/plain": [
       "          index data_type\n",
       "0  sepal_length   float64\n",
       "1   sepal_width   float64\n",
       "2  petal_length   float64\n",
       "3   petal_width   float64\n",
       "4       species    object"
      ]
     },
     "execution_count": 14,
     "metadata": {},
     "output_type": "execute_result"
    }
   ],
   "source": [
    "# preview\n",
    "dtypes_final.head()"
   ]
  },
  {
   "cell_type": "markdown",
   "metadata": {},
   "source": [
    "### Get Null composition"
   ]
  },
  {
   "cell_type": "code",
   "execution_count": 15,
   "metadata": {},
   "outputs": [],
   "source": [
    "#use notnull() and isnull() methods combined with sum() to\n",
    "#get null composition of dataset\n",
    "filled_count_series = data.notnull().sum().astype(int)\n",
    "null_count_series = data.isnull().sum().astype(int)\n",
    "\n",
    "#get amount of rows in dataset\n",
    "totalcount = data.shape[0]"
   ]
  },
  {
   "cell_type": "code",
   "execution_count": 16,
   "metadata": {},
   "outputs": [],
   "source": [
    "#create percentage series based on series above\n",
    "percent_null =  null_count_series / totalcount\n",
    "percent_filled = filled_count_series / totalcount"
   ]
  },
  {
   "cell_type": "code",
   "execution_count": 17,
   "metadata": {},
   "outputs": [],
   "source": [
    "percent_null = percent_null.reset_index().rename(columns = {0:\"null_percent\"})\n",
    "percent_filled = percent_filled.reset_index().rename(columns = {0:\"non_null_percent\"})\n",
    "filled_count_series = filled_count_series.reset_index().rename(columns = {0:\"non_null_counts\"})\n",
    "null_count_series = null_count_series.reset_index().rename(columns = {0:\"null_counts\"})"
   ]
  },
  {
   "cell_type": "code",
   "execution_count": 18,
   "metadata": {},
   "outputs": [],
   "source": [
    "null_info_dataframe = reduce(lambda left,right: pandas.merge(left,right,on='index'), [percent_null,\n",
    "                                                                                 percent_filled,\n",
    "                                                                                 filled_count_series,\n",
    "                                                                                 null_count_series])"
   ]
  },
  {
   "cell_type": "code",
   "execution_count": 19,
   "metadata": {},
   "outputs": [
    {
     "data": {
      "text/html": [
       "<div>\n",
       "<style scoped>\n",
       "    .dataframe tbody tr th:only-of-type {\n",
       "        vertical-align: middle;\n",
       "    }\n",
       "\n",
       "    .dataframe tbody tr th {\n",
       "        vertical-align: top;\n",
       "    }\n",
       "\n",
       "    .dataframe thead th {\n",
       "        text-align: right;\n",
       "    }\n",
       "</style>\n",
       "<table border=\"1\" class=\"dataframe\">\n",
       "  <thead>\n",
       "    <tr style=\"text-align: right;\">\n",
       "      <th></th>\n",
       "      <th>index</th>\n",
       "      <th>null_percent</th>\n",
       "      <th>non_null_percent</th>\n",
       "      <th>non_null_counts</th>\n",
       "      <th>null_counts</th>\n",
       "    </tr>\n",
       "  </thead>\n",
       "  <tbody>\n",
       "    <tr>\n",
       "      <th>0</th>\n",
       "      <td>sepal_length</td>\n",
       "      <td>0.0</td>\n",
       "      <td>1.0</td>\n",
       "      <td>150</td>\n",
       "      <td>0</td>\n",
       "    </tr>\n",
       "    <tr>\n",
       "      <th>1</th>\n",
       "      <td>sepal_width</td>\n",
       "      <td>0.0</td>\n",
       "      <td>1.0</td>\n",
       "      <td>150</td>\n",
       "      <td>0</td>\n",
       "    </tr>\n",
       "    <tr>\n",
       "      <th>2</th>\n",
       "      <td>petal_length</td>\n",
       "      <td>0.0</td>\n",
       "      <td>1.0</td>\n",
       "      <td>150</td>\n",
       "      <td>0</td>\n",
       "    </tr>\n",
       "    <tr>\n",
       "      <th>3</th>\n",
       "      <td>petal_width</td>\n",
       "      <td>0.0</td>\n",
       "      <td>1.0</td>\n",
       "      <td>150</td>\n",
       "      <td>0</td>\n",
       "    </tr>\n",
       "    <tr>\n",
       "      <th>4</th>\n",
       "      <td>species</td>\n",
       "      <td>0.0</td>\n",
       "      <td>1.0</td>\n",
       "      <td>150</td>\n",
       "      <td>0</td>\n",
       "    </tr>\n",
       "  </tbody>\n",
       "</table>\n",
       "</div>"
      ],
      "text/plain": [
       "          index  null_percent  non_null_percent  non_null_counts  null_counts\n",
       "0  sepal_length           0.0               1.0              150            0\n",
       "1   sepal_width           0.0               1.0              150            0\n",
       "2  petal_length           0.0               1.0              150            0\n",
       "3   petal_width           0.0               1.0              150            0\n",
       "4       species           0.0               1.0              150            0"
      ]
     },
     "execution_count": 19,
     "metadata": {},
     "output_type": "execute_result"
    }
   ],
   "source": [
    "null_info_dataframe.head()"
   ]
  },
  {
   "cell_type": "markdown",
   "metadata": {},
   "source": [
    "\n",
    "### Merge all"
   ]
  },
  {
   "cell_type": "code",
   "execution_count": 20,
   "metadata": {},
   "outputs": [],
   "source": [
    "merged = reduce(\n",
    "    lambda left, right: pandas.merge(left, right, on='index', how=\"left\"),\n",
    "    [null_info_dataframe, dtypes_final, describe_final])"
   ]
  },
  {
   "cell_type": "markdown",
   "metadata": {},
   "source": [
    "### Cleanup: Drop count column"
   ]
  },
  {
   "cell_type": "code",
   "execution_count": 21,
   "metadata": {},
   "outputs": [],
   "source": [
    "merged[\"row_count\"] = totalcount\n",
    "\n",
    "merged.drop([\"count\"], axis = 1, inplace = True)"
   ]
  },
  {
   "cell_type": "code",
   "execution_count": 22,
   "metadata": {},
   "outputs": [
    {
     "data": {
      "text/html": [
       "<div>\n",
       "<style scoped>\n",
       "    .dataframe tbody tr th:only-of-type {\n",
       "        vertical-align: middle;\n",
       "    }\n",
       "\n",
       "    .dataframe tbody tr th {\n",
       "        vertical-align: top;\n",
       "    }\n",
       "\n",
       "    .dataframe thead th {\n",
       "        text-align: right;\n",
       "    }\n",
       "</style>\n",
       "<table border=\"1\" class=\"dataframe\">\n",
       "  <thead>\n",
       "    <tr style=\"text-align: right;\">\n",
       "      <th></th>\n",
       "      <th>index</th>\n",
       "      <th>null_percent</th>\n",
       "      <th>non_null_percent</th>\n",
       "      <th>non_null_counts</th>\n",
       "      <th>null_counts</th>\n",
       "      <th>data_type</th>\n",
       "      <th>unique</th>\n",
       "      <th>top</th>\n",
       "      <th>freq</th>\n",
       "      <th>mean</th>\n",
       "      <th>std</th>\n",
       "      <th>min</th>\n",
       "      <th>25%</th>\n",
       "      <th>50%</th>\n",
       "      <th>75%</th>\n",
       "      <th>max</th>\n",
       "      <th>row_count</th>\n",
       "    </tr>\n",
       "  </thead>\n",
       "  <tbody>\n",
       "    <tr>\n",
       "      <th>0</th>\n",
       "      <td>sepal_length</td>\n",
       "      <td>0.0</td>\n",
       "      <td>1.0</td>\n",
       "      <td>150</td>\n",
       "      <td>0</td>\n",
       "      <td>float64</td>\n",
       "      <td>NaN</td>\n",
       "      <td>NaN</td>\n",
       "      <td>NaN</td>\n",
       "      <td>5.84333</td>\n",
       "      <td>0.828066</td>\n",
       "      <td>4.3</td>\n",
       "      <td>5.1</td>\n",
       "      <td>5.8</td>\n",
       "      <td>6.4</td>\n",
       "      <td>7.9</td>\n",
       "      <td>150</td>\n",
       "    </tr>\n",
       "    <tr>\n",
       "      <th>1</th>\n",
       "      <td>sepal_width</td>\n",
       "      <td>0.0</td>\n",
       "      <td>1.0</td>\n",
       "      <td>150</td>\n",
       "      <td>0</td>\n",
       "      <td>float64</td>\n",
       "      <td>NaN</td>\n",
       "      <td>NaN</td>\n",
       "      <td>NaN</td>\n",
       "      <td>3.05733</td>\n",
       "      <td>0.435866</td>\n",
       "      <td>2</td>\n",
       "      <td>2.8</td>\n",
       "      <td>3</td>\n",
       "      <td>3.3</td>\n",
       "      <td>4.4</td>\n",
       "      <td>150</td>\n",
       "    </tr>\n",
       "    <tr>\n",
       "      <th>2</th>\n",
       "      <td>petal_length</td>\n",
       "      <td>0.0</td>\n",
       "      <td>1.0</td>\n",
       "      <td>150</td>\n",
       "      <td>0</td>\n",
       "      <td>float64</td>\n",
       "      <td>NaN</td>\n",
       "      <td>NaN</td>\n",
       "      <td>NaN</td>\n",
       "      <td>3.758</td>\n",
       "      <td>1.7653</td>\n",
       "      <td>1</td>\n",
       "      <td>1.6</td>\n",
       "      <td>4.35</td>\n",
       "      <td>5.1</td>\n",
       "      <td>6.9</td>\n",
       "      <td>150</td>\n",
       "    </tr>\n",
       "    <tr>\n",
       "      <th>3</th>\n",
       "      <td>petal_width</td>\n",
       "      <td>0.0</td>\n",
       "      <td>1.0</td>\n",
       "      <td>150</td>\n",
       "      <td>0</td>\n",
       "      <td>float64</td>\n",
       "      <td>NaN</td>\n",
       "      <td>NaN</td>\n",
       "      <td>NaN</td>\n",
       "      <td>1.19933</td>\n",
       "      <td>0.762238</td>\n",
       "      <td>0.1</td>\n",
       "      <td>0.3</td>\n",
       "      <td>1.3</td>\n",
       "      <td>1.8</td>\n",
       "      <td>2.5</td>\n",
       "      <td>150</td>\n",
       "    </tr>\n",
       "    <tr>\n",
       "      <th>4</th>\n",
       "      <td>species</td>\n",
       "      <td>0.0</td>\n",
       "      <td>1.0</td>\n",
       "      <td>150</td>\n",
       "      <td>0</td>\n",
       "      <td>object</td>\n",
       "      <td>3</td>\n",
       "      <td>setosa</td>\n",
       "      <td>50</td>\n",
       "      <td>NaN</td>\n",
       "      <td>NaN</td>\n",
       "      <td>NaN</td>\n",
       "      <td>NaN</td>\n",
       "      <td>NaN</td>\n",
       "      <td>NaN</td>\n",
       "      <td>NaN</td>\n",
       "      <td>150</td>\n",
       "    </tr>\n",
       "  </tbody>\n",
       "</table>\n",
       "</div>"
      ],
      "text/plain": [
       "          index  null_percent  non_null_percent  non_null_counts  null_counts  \\\n",
       "0  sepal_length           0.0               1.0              150            0   \n",
       "1   sepal_width           0.0               1.0              150            0   \n",
       "2  petal_length           0.0               1.0              150            0   \n",
       "3   petal_width           0.0               1.0              150            0   \n",
       "4       species           0.0               1.0              150            0   \n",
       "\n",
       "  data_type unique     top freq     mean       std  min  25%   50%  75%  max  \\\n",
       "0   float64    NaN     NaN  NaN  5.84333  0.828066  4.3  5.1   5.8  6.4  7.9   \n",
       "1   float64    NaN     NaN  NaN  3.05733  0.435866    2  2.8     3  3.3  4.4   \n",
       "2   float64    NaN     NaN  NaN    3.758    1.7653    1  1.6  4.35  5.1  6.9   \n",
       "3   float64    NaN     NaN  NaN  1.19933  0.762238  0.1  0.3   1.3  1.8  2.5   \n",
       "4    object      3  setosa   50      NaN       NaN  NaN  NaN   NaN  NaN  NaN   \n",
       "\n",
       "   row_count  \n",
       "0        150  \n",
       "1        150  \n",
       "2        150  \n",
       "3        150  \n",
       "4        150  "
      ]
     },
     "execution_count": 22,
     "metadata": {},
     "output_type": "execute_result"
    }
   ],
   "source": [
    "merged.head()"
   ]
  },
  {
   "cell_type": "markdown",
   "metadata": {},
   "source": [
    "### Cleanup: Calculate unique values for numerical features"
   ]
  },
  {
   "cell_type": "code",
   "execution_count": 23,
   "metadata": {},
   "outputs": [
    {
     "name": "stdout",
     "output_type": "stream",
     "text": [
      "Feature sepal_length unique values being calculated and adjusted to 35\n",
      "Feature sepal_width unique values being calculated and adjusted to 23\n",
      "Feature petal_length unique values being calculated and adjusted to 43\n",
      "Feature petal_width unique values being calculated and adjusted to 22\n"
     ]
    }
   ],
   "source": [
    "# Fill in gaps in unique column with nunique method\n",
    "\n",
    "for index in range(merged.shape[0]):\n",
    "    \n",
    "    unique_value = merged.loc[index, \"unique\"]\n",
    "    \n",
    "    if numpy.isnan(unique_value):\n",
    "        \n",
    "        feature_name = merged.loc[index, \"index\"]\n",
    "        \n",
    "        \n",
    "        number_of_uniques = data[feature_name].nunique()\n",
    "        merged.loc[index, \"unique\"] = number_of_uniques\n",
    "        print(\"Feature {} unique values being calculated and adjusted to {}\".format(feature_name, number_of_uniques))"
   ]
  },
  {
   "cell_type": "markdown",
   "metadata": {},
   "source": [
    "### Cleanup: Change types"
   ]
  },
  {
   "cell_type": "code",
   "execution_count": 24,
   "metadata": {},
   "outputs": [],
   "source": [
    "# Changing type of datatype column to string\n",
    "merged[\"data_type\"] = merged[\"data_type\"].astype(str)"
   ]
  },
  {
   "cell_type": "markdown",
   "metadata": {},
   "source": [
    "### Cleanup: Round values"
   ]
  },
  {
   "cell_type": "code",
   "execution_count": 25,
   "metadata": {},
   "outputs": [
    {
     "name": "stdout",
     "output_type": "stream",
     "text": [
      "Unique datatypes in this dataset are: ['float64', 'object']\n"
     ]
    }
   ],
   "source": [
    "unique_datatypes = list(merged[\"data_type\"].unique())\n",
    "\n",
    "print(\"Unique datatypes in this dataset are: {}\".format(unique_datatypes))\n",
    "\n",
    "if \"float64\" in unique_datatypes or \"int64\" in unique_datatypes:\n",
    "    \n",
    "    round_values = True\n",
    "    rounded_places = 4\n",
    "    \n",
    "    for column in [\"mean\", \"std\", \"min\", \"25%\", \"50%\", \"75%\", \"max\"]:\n",
    "        \n",
    "        merged[column] = merged[column].astype(float).round(rounded_places)\n",
    "else:\n",
    "    round_values = False"
   ]
  },
  {
   "cell_type": "markdown",
   "metadata": {},
   "source": [
    "### Create Data Profile Dictionary"
   ]
  },
  {
   "cell_type": "code",
   "execution_count": 26,
   "metadata": {},
   "outputs": [],
   "source": [
    "profile_dict = {}"
   ]
  },
  {
   "cell_type": "code",
   "execution_count": 27,
   "metadata": {
    "scrolled": false
   },
   "outputs": [],
   "source": [
    "# Store list of features relevant to dictionary\n",
    "merged_attributes = list(merged.columns)\n",
    "merged_attributes.remove(\"index\")\n",
    "\n",
    "# Iterate through merged records\n",
    "for index in range(merged.shape[0]):\n",
    "    \n",
    "    # Store column name\n",
    "    column = merged.loc[index, \"index\"]\n",
    "    \n",
    "    # Create empty list, to store sub dictionaries in\n",
    "    profile_dict[column] = []\n",
    "    \n",
    "    # For each attribute in merged_attributes list do this\n",
    "    for attr in merged_attributes:\n",
    "        \n",
    "        # Locate the value of the attribuet for a given record\n",
    "        value = merged.loc[index, attr]\n",
    "        \n",
    "        # Append dictionary to list within main dictionary\n",
    "        profile_dict[column].append({attr: value})"
   ]
  },
  {
   "cell_type": "markdown",
   "metadata": {},
   "source": [
    "## Export results as .json and .csv"
   ]
  },
  {
   "cell_type": "markdown",
   "metadata": {},
   "source": [
    "### Helper Function to convert invalid json values"
   ]
  },
  {
   "cell_type": "code",
   "execution_count": 28,
   "metadata": {},
   "outputs": [],
   "source": [
    "# will try to convert a value to a float, followed by string,\n",
    "# if the float conversion fails\n",
    "\n",
    "def convert_invalid_values(value):\n",
    "    \n",
    "    try:\n",
    "        new_value = float(value)\n",
    "    except:\n",
    "        new_value = str(value)\n",
    "\n",
    "    return new_value"
   ]
  },
  {
   "cell_type": "markdown",
   "metadata": {},
   "source": [
    "### Export as json"
   ]
  },
  {
   "cell_type": "code",
   "execution_count": 29,
   "metadata": {},
   "outputs": [],
   "source": [
    "with open(exportpath + \"profile.json\", \"w\") as fileobj:\n",
    "    # for errors I want to attempt to convert the value to a float before str using\n",
    "    # the function defined above\n",
    "    json.dump(profile_dict, fileobj, default = convert_invalid_values)\n",
    "    \n",
    "fileobj.close()"
   ]
  },
  {
   "cell_type": "markdown",
   "metadata": {},
   "source": [
    "### Export as csv"
   ]
  },
  {
   "cell_type": "code",
   "execution_count": 30,
   "metadata": {},
   "outputs": [],
   "source": [
    "merged.to_csv(exportpath + \"profile.csv\", index = False)"
   ]
  },
  {
   "cell_type": "markdown",
   "metadata": {},
   "source": [
    "## Data Profile Results "
   ]
  },
  {
   "cell_type": "code",
   "execution_count": 31,
   "metadata": {},
   "outputs": [],
   "source": [
    "total_keys = len(profile_dict.keys())\n",
    "column_number = 0"
   ]
  },
  {
   "cell_type": "code",
   "execution_count": 32,
   "metadata": {
    "scrolled": false
   },
   "outputs": [
    {
     "name": "stdout",
     "output_type": "stream",
     "text": [
      "\n",
      " ~~~~~~~~~~~~~~~~~~~~~~~~~~~~~~~~~ sepal_length ~~~~~~~~~~~~~~~~~~~~~~~~~~~~~~~~~\n",
      "null_percent                                                                0.00%\n",
      "non_null_percent                                                          100.00%\n",
      "non_null_counts                                                               150\n",
      "null_counts                                                                     0\n",
      "data_type                                                                 float64\n",
      "unique                                                                         35\n",
      "top                                                                           nan\n",
      "freq                                                                          nan\n",
      "mean                                                                       5.8433\n",
      "std                                                                        0.8281\n",
      "min                                                                           4.3\n",
      "25%                                                                           5.1\n",
      "50%                                                                           5.8\n",
      "75%                                                                           6.4\n",
      "max                                                                           7.9\n",
      "row_count                                                                     150\n",
      "\n",
      " ~~~~~~~~~~~~~~~~~~~~~~~~~~~~~~~~~ sepal_width ~~~~~~~~~~~~~~~~~~~~~~~~~~~~~~~~~~\n",
      "null_percent                                                                0.00%\n",
      "non_null_percent                                                          100.00%\n",
      "non_null_counts                                                               150\n",
      "null_counts                                                                     0\n",
      "data_type                                                                 float64\n",
      "unique                                                                         23\n",
      "top                                                                           nan\n",
      "freq                                                                          nan\n",
      "mean                                                                       3.0573\n",
      "std                                                                        0.4359\n",
      "min                                                                           2.0\n",
      "25%                                                                           2.8\n",
      "50%                                                                           3.0\n",
      "75%                                                                           3.3\n",
      "max                                                                           4.4\n",
      "row_count                                                                     150\n",
      "\n",
      " ~~~~~~~~~~~~~~~~~~~~~~~~~~~~~~~~~ petal_length ~~~~~~~~~~~~~~~~~~~~~~~~~~~~~~~~~\n",
      "null_percent                                                                0.00%\n",
      "non_null_percent                                                          100.00%\n",
      "non_null_counts                                                               150\n",
      "null_counts                                                                     0\n",
      "data_type                                                                 float64\n",
      "unique                                                                         43\n",
      "top                                                                           nan\n",
      "freq                                                                          nan\n",
      "mean                                                                        3.758\n",
      "std                                                                        1.7653\n",
      "min                                                                           1.0\n",
      "25%                                                                           1.6\n",
      "50%                                                                          4.35\n",
      "75%                                                                           5.1\n",
      "max                                                                           6.9\n",
      "row_count                                                                     150\n",
      "\n",
      " ~~~~~~~~~~~~~~~~~~~~~~~~~~~~~~~~~ petal_width ~~~~~~~~~~~~~~~~~~~~~~~~~~~~~~~~~~\n",
      "null_percent                                                                0.00%\n",
      "non_null_percent                                                          100.00%\n",
      "non_null_counts                                                               150\n",
      "null_counts                                                                     0\n",
      "data_type                                                                 float64\n",
      "unique                                                                         22\n",
      "top                                                                           nan\n",
      "freq                                                                          nan\n",
      "mean                                                                       1.1993\n",
      "std                                                                        0.7622\n",
      "min                                                                           0.1\n",
      "25%                                                                           0.3\n",
      "50%                                                                           1.3\n",
      "75%                                                                           1.8\n",
      "max                                                                           2.5\n",
      "row_count                                                                     150\n",
      "\n",
      " ~~~~~~~~~~~~~~~~~~~~~~~~~~~~~~~~~~~ species ~~~~~~~~~~~~~~~~~~~~~~~~~~~~~~~~~~~~\n",
      "null_percent                                                                0.00%\n",
      "non_null_percent                                                          100.00%\n",
      "non_null_counts                                                               150\n",
      "null_counts                                                                     0\n",
      "data_type                                                                  object\n",
      "unique                                                                          3\n",
      "top                                                                        setosa\n",
      "freq                                                                           50\n",
      "mean                                                                          nan\n",
      "std                                                                           nan\n",
      "min                                                                           nan\n",
      "25%                                                                           nan\n",
      "50%                                                                           nan\n",
      "75%                                                                           nan\n",
      "max                                                                           nan\n",
      "row_count                                                                     150\n"
     ]
    }
   ],
   "source": [
    "for key in profile_dict.keys():\n",
    "    \n",
    "    # Increment column number\n",
    "    column_number = column_number + 1\n",
    "    \n",
    "    # Calculate column pos\n",
    "    column_pos = \" ({}/{})\"\n",
    "    \n",
    "    print(\"\\n\", (\" \" + key + \" \").center(report_width, header_spacing_char))\n",
    "    \n",
    "    sub_dictionary = profile_dict[key]\n",
    "    for dictionary in sub_dictionary:\n",
    "        \n",
    "        keys = list(dictionary.keys())\n",
    "        attribute = keys[0]\n",
    "        value = dictionary[attribute]\n",
    "        \n",
    "        if \"percent\" in attribute:\n",
    "            formatted_value = \"{0:.2%}\".format(value)\n",
    "        else:\n",
    "            formatted_value = str(value)\n",
    "        \n",
    "        print(attribute.ljust(just_width, attribute_spacing_char), \n",
    "              formatted_value.rjust(just_width, attribute_spacing_char))"
   ]
  },
  {
   "cell_type": "markdown",
   "metadata": {},
   "source": [
    "## Visualizations\n",
    "(Optional)"
   ]
  },
  {
   "cell_type": "markdown",
   "metadata": {},
   "source": [
    "### Pairplot"
   ]
  },
  {
   "cell_type": "markdown",
   "metadata": {},
   "source": [
    "#### Create subset of data without nulls for visualizing\n",
    "- Will react to `deal_with_nulls` variable"
   ]
  },
  {
   "cell_type": "code",
   "execution_count": 33,
   "metadata": {},
   "outputs": [],
   "source": [
    "d = \"this\"\n",
    "\n",
    "if d in [\"this is\", \"that\"]:\n",
    "    print(\"true\")"
   ]
  },
  {
   "cell_type": "code",
   "execution_count": 34,
   "metadata": {},
   "outputs": [
    {
     "data": {
      "text/plain": [
       "['sepal_length', 'sepal_width', 'petal_length', 'petal_width']"
      ]
     },
     "execution_count": 34,
     "metadata": {},
     "output_type": "execute_result"
    }
   ],
   "source": [
    "list(merged[(merged[\"data_type\"] == \"int64\") | \n",
    "            (merged[\"data_type\"] == \"float64\")][\"index\"])"
   ]
  },
  {
   "cell_type": "code",
   "execution_count": 35,
   "metadata": {},
   "outputs": [
    {
     "name": "stdout",
     "output_type": "stream",
     "text": [
      "Nulls will be replaced by the mean of each numeric feature.\n"
     ]
    }
   ],
   "source": [
    "if visualize_dataset == True:\n",
    "    \n",
    "    if deal_with_nulls == \"remove\":\n",
    "        \n",
    "        # Print message\n",
    "        print(\"Nulls will be removed from visualization dataset.\")\n",
    "        \n",
    "        # Remove each record containing any nulls\n",
    "        data_no_nulls = data.dropna(how = \"any\", axis = 0)\n",
    "\n",
    "        print(\"Shape of original dataset {}\"\\\n",
    "              .format(data.shape))\n",
    "        print(\"Shape of visualization dataset {}. \\n{} Records were removed (containing nulls).\"\\\n",
    "              .format(data_no_nulls.shape, data.shape[0] - data_no_nulls.shape[0]))\n",
    "    else:\n",
    "        # Print message\n",
    "        \n",
    "        print(\"Nulls will be replaced by the mean of each numeric feature.\")\n",
    "        \n",
    "        # Find each column of numeric quality and store in list\n",
    "        columns_to_fill_mean = list(\n",
    "                merged[(merged[\"data_type\"] == \"int64\") | \n",
    "                (merged[\"data_type\"] == \"float64\")][\"index\"])\n",
    "        \n",
    "        data_no_nulls = data\n",
    "        \n",
    "        # For each column in list fill the dataset with the mean of that column\n",
    "        for column in columns_to_fill_mean:\n",
    "            data_no_nulls[column] = data_no_nulls[column].fillna(data_no_nulls[column].mean())"
   ]
  },
  {
   "cell_type": "markdown",
   "metadata": {},
   "source": [
    "#### Drop columns from visualization dataset\n",
    "- These features are listed in `features_to_exclude` variable"
   ]
  },
  {
   "cell_type": "code",
   "execution_count": 36,
   "metadata": {},
   "outputs": [],
   "source": [
    "data_no_nulls_column_list = list(data_no_nulls.columns)\n",
    "\n",
    "if visualize_dataset == True:\n",
    "    for feature in features_to_exclude:\n",
    "        if feature in data_no_nulls_column_list:\n",
    "            data_no_nulls.drop([feature], axis = 1, inplace = True)\n",
    "            print(\"{} removed from visualization dataset\".format(feature))"
   ]
  },
  {
   "cell_type": "markdown",
   "metadata": {},
   "source": [
    "#### Calculate chosen_categorical_features (features with unique number of items between given range)"
   ]
  },
  {
   "cell_type": "code",
   "execution_count": 37,
   "metadata": {},
   "outputs": [
    {
     "name": "stdout",
     "output_type": "stream",
     "text": [
      "Categorical features: ['species']\n",
      "Categorical features being used in pairplot: ['species']\n"
     ]
    }
   ],
   "source": [
    "if visualize_dataset == True:\n",
    "\n",
    "    # Create subset of merged containing data type = object and nunique between range above\n",
    "    chosen_categorical_features = list(merged[(merged[\"unique\"] >= nunique_range[0]) & \n",
    "                               (merged[\"unique\"] <= nunique_range[1]) & \n",
    "                               (merged[\"data_type\"] == \"object\")][\"index\"])\n",
    "\n",
    "    print(\"Categorical features: {}\".format(chosen_categorical_features))\n",
    "\n",
    "    # Remove unwanted features\n",
    "    for feature in features_to_exclude:\n",
    "        if feature in chosen_categorical_features:\n",
    "            chosen_categorical_features.remove(feature)\n",
    "\n",
    "    # Preview chosen_categorical_features\n",
    "    print(\"Categorical features being used in pairplot: {}\".format(chosen_categorical_features))"
   ]
  },
  {
   "cell_type": "markdown",
   "metadata": {},
   "source": [
    "#### Calculate which columns can be used as categories to split float data in pairplots\n",
    "- Note: code hasn't accounted for datasets without float/int features yet."
   ]
  },
  {
   "cell_type": "markdown",
   "metadata": {},
   "source": [
    "#### Convert bool dtypes before visualizing, as this produces errors otherwise "
   ]
  },
  {
   "cell_type": "code",
   "execution_count": 38,
   "metadata": {},
   "outputs": [],
   "source": [
    "for column in data_no_nulls.columns:\n",
    "    dtype = data_no_nulls[column].dtype\n",
    "    if dtype == \"bool\":\n",
    "        data_no_nulls[column] = data_no_nulls[column].astype(str)"
   ]
  },
  {
   "cell_type": "code",
   "execution_count": 39,
   "metadata": {
    "scrolled": false
   },
   "outputs": [
    {
     "data": {
      "text/plain": [
       "<Figure size 1152x864 with 0 Axes>"
      ]
     },
     "metadata": {},
     "output_type": "display_data"
    },
    {
     "data": {
      "image/png": "[encoded data removed]",
      "text/plain": [
       "<Figure size 806.85x720 with 20 Axes>"
      ]
     },
     "metadata": {},
     "output_type": "display_data"
    }
   ],
   "source": [
    "if visualize_dataset == True:\n",
    "    \n",
    "    # If dataset contains at least one categorical feature do this\n",
    "    if \"unique\" in merged.columns:\n",
    "\n",
    "        for column in chosen_categorical_features:\n",
    "\n",
    "            plt.figure()\n",
    "            myplot = seaborn.pairplot(data = data_no_nulls, \n",
    "                                      kind = non_identity_type,\n",
    "                                      diag_kind = identity_type,\n",
    "                                      hue = column,\n",
    "                                      palette = palette\n",
    "                                     )\n",
    "\n",
    "            myplot.fig.suptitle(\"Pairplot categorized by {}\".format(column), \n",
    "                         y = 1.03)\n",
    "\n",
    "            plt.savefig(exportpath + timestamp +  column + \"_pairplot.png\")\n",
    "\n",
    "    # If data set has no categorical features (only floats/ints) do this\n",
    "    else:\n",
    "\n",
    "        plt.figure()\n",
    "\n",
    "        myplot = seaborn.pairplot(data = data_no_nulls, \n",
    "                                  kind = non_identity_type,\n",
    "                                  diag_kind = identity_type\n",
    "                                 )\n",
    "\n",
    "        myplot.fig.suptitle(\"Pairplot\", \n",
    "                     y = 1.03)\n",
    "\n",
    "        plt.savefig(exportpath + timestamp +  \"data_profile_pairplot.png\")"
   ]
  },
  {
   "cell_type": "markdown",
   "metadata": {},
   "source": [
    "### Correlation Heatmap"
   ]
  },
  {
   "cell_type": "code",
   "execution_count": 42,
   "metadata": {},
   "outputs": [],
   "source": [
    "seaborn.set(rc = {\"figure.figsize\":(13,10)})\n",
    "seaborn.set_style(\"whitegrid\")"
   ]
  },
  {
   "cell_type": "code",
   "execution_count": 43,
   "metadata": {},
   "outputs": [
    {
     "name": "stdout",
     "output_type": "stream",
     "text": [
      "Heatmap saved to '/users/danielcorcoran/desktop/github_repos/python_nb_data_profiling/exports/20180810_heatmap.png'\n"
     ]
    },
    {
     "data": {
      "image/png": "[encoded data removed]",
      "text/plain": [
       "<Figure size 936x720 with 2 Axes>"
      ]
     },
     "metadata": {},
     "output_type": "display_data"
    }
   ],
   "source": [
    "if visualize_dataset == True and round_values == True:\n",
    "    # Save path\n",
    "    heatmap_save_path = exportpath + timestamp + \"heatmap.png\"\n",
    "    \n",
    "    # Create correlation Matrix\n",
    "    correlation_dataframe = data_no_nulls.corr()\n",
    "    \n",
    "    # Create mask\n",
    "    mask = numpy.zeros_like(correlation_dataframe)\n",
    "    mask[numpy.triu_indices_from(mask)] = True\n",
    "\n",
    "    # Create heatmap, show and export as .png\n",
    "    seaborn.heatmap(data = correlation_dataframe,\n",
    "               cmap = ['#b2182b',\n",
    "                    '#ef8a62',\n",
    "                    '#fddbc7',\n",
    "                    '#f7f7f7',\n",
    "                    '#d1e5f0',\n",
    "                    '#67a9cf',\n",
    "                    '#2166ac'],\n",
    "               center = 0,\n",
    "               square = True,\n",
    "               linewidth = 1,\n",
    "               mask = mask,\n",
    "               annot = True).get_figure().savefig(heatmap_save_path)\n",
    "    \n",
    "    print(\"Heatmap saved to '{}'\".format(heatmap_save_path))\n",
    "else:\n",
    "    print(\"No heatmap was produced. Dataset contains no numeric features or visualize_dataset variable was set to False.\")"
   ]
  },
  {
   "cell_type": "code",
   "execution_count": null,
   "metadata": {},
   "outputs": [],
   "source": []
  }
 ],
 "metadata": {
  "kernelspec": {
   "display_name": "Python 3",
   "language": "python",
   "name": "python3"
  },
  "language_info": {
   "codemirror_mode": {
    "name": "ipython",
    "version": 3
   },
   "file_extension": ".py",
   "mimetype": "text/x-python",
   "name": "python",
   "nbconvert_exporter": "python",
   "pygments_lexer": "ipython3",
   "version": "3.6.5"
  },
  "toc": {
   "base_numbering": 1,
   "nav_menu": {
    "height": "327px",
    "width": "257px"
   },
   "number_sections": true,
   "sideBar": true,
   "skip_h1_title": false,
   "title_cell": "Table of Contents",
   "title_sidebar": "Contents",
   "toc_cell": false,
   "toc_position": {
    "height": "calc(100% - 180px)",
    "left": "10px",
    "top": "150px",
    "width": "298px"
   },
   "toc_section_display": true,
   "toc_window_display": true
  },
  "varInspector": {
   "cols": {
    "lenName": 16,
    "lenType": 16,
    "lenVar": 40
   },
   "kernels_config": {
    "python": {
     "delete_cmd_postfix": "",
     "delete_cmd_prefix": "del ",
     "library": "var_list.py",
     "varRefreshCmd": "print(var_dic_list())"
    },
    "r": {
     "delete_cmd_postfix": ") ",
     "delete_cmd_prefix": "rm(",
     "library": "var_list.r",
     "varRefreshCmd": "cat(var_dic_list()) "
    }
   },
   "types_to_exclude": [
    "module",
    "function",
    "builtin_function_or_method",
    "instance",
    "_Feature"
   ],
   "window_display": false
  }
 },
 "nbformat": 4,
 "nbformat_minor": 2
}
