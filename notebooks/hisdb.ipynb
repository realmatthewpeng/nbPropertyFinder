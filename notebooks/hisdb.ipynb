{
 "cells": [
  {
   "cell_type": "code",
   "execution_count": null,
   "metadata": {},
   "outputs": [],
   "source": [
    "import torch\n",
    "import torch.utils.data\n",
    "import torchvision\n",
    "from glob import glob\n",
    "import json\n",
    "import os\n",
    "from pathlib import Path\n",
    "import random\n",
    "from PIL import Image\n",
    "from zipfile import ZipFile\n",
    "import torchvision.transforms as transforms\n",
    "\n",
    "import numpy as np"
   ]
  },
  {
   "cell_type": "code",
   "execution_count": null,
   "metadata": {},
   "outputs": [],
   "source": [
    "config = json.load(open(os.path.expanduser(\"~/.thesis.conf\")))\n",
    "datasets_path = Path(config['datasets'])\n",
    "db_folder = Path(config['datasets']) / 'hisdb'\n",
    "modules   = Path(config['project']) / 'src'\n",
    "\n",
    "%load_ext autoreload\n",
    "%autoreload 2\n",
    "import sys\n",
    "sys.path.append(str(modules))"
   ]
  },
  {
   "cell_type": "code",
   "execution_count": null,
   "metadata": {},
   "outputs": [],
   "source": [
    "import datasets.divahisdb as diva\n",
    "hisdb = diva.HisDBDataset(datasets_path / diva.NAME, gt=True)\n",
    "page, page_gt = hisdb[0]"
   ]
  },
  {
   "cell_type": "code",
   "execution_count": null,
   "metadata": {},
   "outputs": [],
   "source": [
    "p = 2000\n",
    "box = (slice(p,p+500), slice(p,p+500))\n",
    "gt = page_gt[box]\n",
    "render = diva.color_gt(gt)\n",
    "plt.imshow(render)\n",
    "# print(np.unique(gt)) \n",
    "[bin(n) for n in np.unique(page_gt)]\n",
    "np.unique(gt)\n",
    "# hex(gt[0,0])\n",
    "# (gt == 1).shape"
   ]
  },
  {
   "cell_type": "code",
   "execution_count": null,
   "metadata": {},
   "outputs": [],
   "source": [
    "np.unique(gt & diva.BOUNDARY)\n",
    "# plt.imshow((gt & diva.BOUNDARY).astype(bool),'binary')"
   ]
  },
  {
   "cell_type": "code",
   "execution_count": null,
   "metadata": {},
   "outputs": [],
   "source": [
    "diva.Annotations(diva.BOUNDARY)"
   ]
  },
  {
   "cell_type": "code",
   "execution_count": null,
   "metadata": {},
   "outputs": [],
   "source": [
    "# diva.to_encoding(gt)"
   ]
  },
  {
   "cell_type": "code",
   "execution_count": null,
   "metadata": {},
   "outputs": [],
   "source": [
    "# for a in diva.Annotations(12):\n",
    "#     print(a)\n",
    "c = diva.Annotations(diva.Annotations.COMMENT | diva.Annotations.DECORATION | diva.BOUNDARY)\n",
    "bool(c & diva.Annotations.BODY_TEXT)\n",
    "v = np.ones((4),dtype=np.ubyte)\n",
    "np.put(v, np.where(v> 0), 3)\n",
    "v "
   ]
  },
  {
   "cell_type": "code",
   "execution_count": null,
   "metadata": {},
   "outputs": [],
   "source": [
    "dim = 150\n",
    "array = np.zeros((dim, dim),dtype=np.uint32)\n",
    "marray = np.zeros((dim, dim,4),dtype=np.ubyte)\n",
    "array[20,int(dim/2)] = diva.Annotations.COMMENT | diva.Annotations.BODY_TEXT\n"
   ]
  },
  {
   "cell_type": "code",
   "execution_count": null,
   "metadata": {},
   "outputs": [],
   "source": [
    "\n",
    "y = diva.to_encoding(gt)\n",
    "# y[np.where(y[:,:,3] == 0)].shape\n",
    "plt.imshow(y[:,:,3] < 1, 'binary')"
   ]
  },
  {
   "cell_type": "code",
   "execution_count": null,
   "metadata": {},
   "outputs": [],
   "source": [
    "import cProfile\n",
    "cProfile.run('diva.to_encoding(array)')"
   ]
  },
  {
   "cell_type": "code",
   "execution_count": null,
   "metadata": {},
   "outputs": [],
   "source": [
    "%timeit diva.to_encoding(array)"
   ]
  },
  {
   "cell_type": "code",
   "execution_count": null,
   "metadata": {},
   "outputs": [],
   "source": [
    "%timeit diva.to_encoding(array)"
   ]
  },
  {
   "cell_type": "code",
   "execution_count": null,
   "metadata": {},
   "outputs": [],
   "source": [
    "%timeit diva.to_encoding(array)"
   ]
  },
  {
   "cell_type": "code",
   "execution_count": null,
   "metadata": {},
   "outputs": [],
   "source": [
    "# np.array(page_gt.mode,dtype=np.uint32).shape\n",
    "page_gt.mode"
   ]
  },
  {
   "cell_type": "code",
   "execution_count": null,
   "metadata": {},
   "outputs": [],
   "source": [
    "%matplotlib inline\n",
    "import matplotlib.pyplot as plt\n",
    "from skimage.segmentation import mark_boundaries"
   ]
  },
  {
   "cell_type": "code",
   "execution_count": null,
   "metadata": {},
   "outputs": [],
   "source": [
    "xpos, ypos, size = 0,700, 500 \n",
    "box = (xpos,ypos,xpos+size,ypos+size)\n",
    "plt.imshow(hisdb[0][0].crop(box))"
   ]
  },
  {
   "cell_type": "code",
   "execution_count": null,
   "metadata": {},
   "outputs": [],
   "source": [
    "boximg   = hisdb[0][0].crop(box)\n",
    "boxgtimg = hisdb[0][1].crop(box)\n",
    "plt.imshow(mark_boundaries(np.array(boximg),\n",
    "                           np.array(boxgtimg)[:,:,2]))"
   ]
  },
  {
   "cell_type": "code",
   "execution_count": null,
   "metadata": {},
   "outputs": [],
   "source": [
    "np.unique(np.array(boxgtimg.getdata()))"
   ]
  },
  {
   "cell_type": "code",
   "execution_count": null,
   "metadata": {},
   "outputs": [],
   "source": [
    "#np.array(boxgtimg,dtype=np.int32).shape\n",
    "np.array(boxgtimg.convert('I'),dtype=np.int32)\n",
    "# pixel[2,2]"
   ]
  },
  {
   "cell_type": "code",
   "execution_count": null,
   "metadata": {},
   "outputs": [],
   "source": [
    "hex(0)"
   ]
  },
  {
   "cell_type": "code",
   "execution_count": null,
   "metadata": {},
   "outputs": [],
   "source": [
    "plt.imshow(np.array(hisdb[0][1])[:,:,], cmap='flag')"
   ]
  },
  {
   "cell_type": "code",
   "execution_count": null,
   "metadata": {},
   "outputs": [],
   "source": [
    "np.unique(np.array(hisdb[0][1])[:,:,:])"
   ]
  },
  {
   "cell_type": "code",
   "execution_count": null,
   "metadata": {},
   "outputs": [],
   "source": [
    "transforms.functional.to_tensor??"
   ]
  },
  {
   "cell_type": "code",
   "execution_count": null,
   "metadata": {},
   "outputs": [],
   "source": []
  }
 ],
 "metadata": {
  "kernelspec": {
   "display_name": "Python 3",
   "language": "python",
   "name": "python3"
  },
  "language_info": {
   "codemirror_mode": {
    "name": "ipython",
    "version": 3
   },
   "file_extension": ".py",
   "mimetype": "text/x-python",
   "name": "python",
   "nbconvert_exporter": "python",
   "pygments_lexer": "ipython3",
   "version": "3.6.4"
  }
 },
 "nbformat": 4,
 "nbformat_minor": 2
}
