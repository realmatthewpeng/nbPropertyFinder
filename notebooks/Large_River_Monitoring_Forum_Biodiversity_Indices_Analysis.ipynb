{
 "cells": [
  {
   "cell_type": "code",
   "execution_count": null,
   "metadata": {},
   "outputs": [],
   "source": [
    "##  Import required python modules\n",
    "import numpy as np\n",
    "import matplotlib\n",
    "import pandas as pd\n",
    "from matplotlib import pyplot as plt\n",
    "import math"
   ]
  },
  {
   "cell_type": "code",
   "execution_count": null,
   "metadata": {},
   "outputs": [],
   "source": [
    "##  Define existing output location\n",
    "##  i.e. Y:\\LRMF\\graphics\\Columbia\n",
    "output = input(\"Please provide a full-path output directory:\")\n",
    "##output = \"Y:\\\\LRMF\\\\scratch\\\\Colorado\"\n"
   ]
  },
  {
   "cell_type": "code",
   "execution_count": null,
   "metadata": {},
   "outputs": [],
   "source": [
    "##  Ask for input file, full path\n",
    "##  i.e. Y:\\LRMF\\R_tables\\columbia_river_orig.csv\n",
    "inputFile = input(\"Please provide a full-path input file:\")\n",
    "##inputFile = \"Y:\\\\LRMF\\\\R_tables\\\\colorado_river_orig.csv\"\n",
    "\n",
    "data = pd.read_csv(inputFile,header=0)\n"
   ]
  },
  {
   "cell_type": "code",
   "execution_count": null,
   "metadata": {},
   "outputs": [],
   "source": [
    "##  define variable as count of columns in table.  Provides \"stopping\" point for calculations after indices have been added\n",
    "last = len(data.columns)"
   ]
  },
  {
   "cell_type": "code",
   "execution_count": null,
   "metadata": {},
   "outputs": [],
   "source": [
    "## display first 5 rows of data frame with new index\n",
    "data.iloc[0:5]"
   ]
  },
  {
   "cell_type": "code",
   "execution_count": null,
   "metadata": {},
   "outputs": [],
   "source": [
    "## add new column\n",
    "data[\"Margalef\"] = \"\""
   ]
  },
  {
   "cell_type": "code",
   "execution_count": null,
   "metadata": {},
   "outputs": [],
   "source": [
    "##  for each row calculate Margalef Species Richness Index\n",
    "for i in range(len(data)):\n",
    "    data.loc[i,'Margalef'] = (len(data.iloc[i][4:last][data.iloc[i][4:last]>0])-1)/math.log(sum(data.iloc[i][4:last][data.iloc[i][4:last]>0]))\n"
   ]
  },
  {
   "cell_type": "code",
   "execution_count": null,
   "metadata": {},
   "outputs": [],
   "source": [
    "## display first 5 rows of data frame with new index\n",
    "data.iloc[0:5]"
   ]
  },
  {
   "cell_type": "code",
   "execution_count": null,
   "metadata": {},
   "outputs": [],
   "source": [
    "## get unique river segment names\n",
    "segments = data.RiverSeg.unique()"
   ]
  },
  {
   "cell_type": "code",
   "execution_count": null,
   "metadata": {},
   "outputs": [],
   "source": [
    "##  get river name\n",
    "river = data.iloc[0][\"River\"]"
   ]
  },
  {
   "cell_type": "code",
   "execution_count": null,
   "metadata": {},
   "outputs": [],
   "source": [
    "##  define color list\n",
    "colors = ['b', 'g', 'r', 'k', 'c', 'm', 'y']\n",
    "##  define index for iterating through color list\n",
    "index = 0\n",
    "\n",
    "##  for each river segment\n",
    "for segment in segments:\n",
    "    ##  subset df to non-zero values for the current river segment\n",
    "    segDF = data.loc[data['RiverSeg'] == segment]\n",
    "    segDF = segDF[segDF[\"Margalef\"]>0]\n",
    "\n",
    "    ## sort based on year\n",
    "    segDF = segDF.sort_values('Year')\n",
    "    ## define x,y for plotting\n",
    "    x = segDF[\"Year\"]\n",
    "    y = segDF[\"Margalef\"]\n",
    "    ## change name of y to Riv Seg for legend\n",
    "    y.name = segment\n",
    "    ##  build graph...\n",
    "    ##  plot segment x vs y assigning color based on index\n",
    "    plt.plot(x,y,colors[index])\n",
    "    ##  locate legend\n",
    "    plt.legend(loc=(1.05,0.2))\n",
    "    index += 1\n",
    "\n",
    "##  update title\n",
    "plt.title(\"Margalef Index, \" + river + \" River Segments\")\n",
    "##  label x axis\n",
    "plt.xlabel('Year')\n",
    "##  label y axis\n",
    "plt.ylabel('Margalef Index')\n",
    "##  force x axis to integer values, increment by 1 year\n",
    "plt.xticks(np.arange(min(x), max(x)+1, 1.0))\n",
    "##  rotate year labels 90 degrees\n",
    "plt.xticks(rotation=90)\n",
    "##  advance color index    \n",
    "    \n",
    "    \n",
    "##  save figure\n",
    "plt.savefig(output + \"\\\\\" + river + \"_margalef.png\", bbox_inches='tight',dpi=300, size=(2000,2000))\n",
    "##  display figure\n",
    "plt.show()"
   ]
  },
  {
   "cell_type": "code",
   "execution_count": null,
   "metadata": {},
   "outputs": [],
   "source": [
    "## add new column\n",
    "data[\"SWI_2\"] = \"\""
   ]
  },
  {
   "cell_type": "code",
   "execution_count": null,
   "metadata": {},
   "outputs": [],
   "source": [
    "##  for each row calculate Shannon-Wiener Log(2) Index\n",
    "for i in range(len(data)):\n",
    "    swi = 0.0\n",
    "    for x in range(len(data.iloc[0]))[4:last]:\n",
    "        if data.iloc[i][x] > 0:\n",
    "            swi += -(data.iloc[i][x]/sum(data.iloc[i][4:last][data.iloc[i][4:last]>0])) * math.log((data.iloc[i][x]/sum(data.iloc[i][4:last][data.iloc[i][4:last]>0])),2)\n",
    "    data.loc[i,'SWI_2'] = swi"
   ]
  },
  {
   "cell_type": "code",
   "execution_count": null,
   "metadata": {},
   "outputs": [],
   "source": [
    "## display first 5 rows of data frame with new index\n",
    "data.iloc[0:5]"
   ]
  },
  {
   "cell_type": "code",
   "execution_count": null,
   "metadata": {},
   "outputs": [],
   "source": [
    "##  define color list\n",
    "colors = ['b', 'g', 'r', 'k', 'c', 'm', 'y']\n",
    "##  define index for iterating through color list\n",
    "index = 0\n",
    "##  for each river segment\n",
    "for segment in segments:\n",
    "    ##  subset df to non-zero values for the current river segment\n",
    "    segDF = data.loc[data['RiverSeg'] == segment]\n",
    "    segDF = segDF[segDF[\"SWI_2\"]>0]\n",
    "\n",
    "    ## sort based on year\n",
    "    segDF = segDF.sort_values('Year')\n",
    "    ## define x,y for plotting\n",
    "    x = segDF[\"Year\"]\n",
    "    y = segDF[\"SWI_2\"]\n",
    "    ## change name of y to Riv Seg for legend\n",
    "    y.name = segment\n",
    "    ##  build graph...\n",
    "    ##  plot segment x vs y assigning color based on index\n",
    "    plt.plot(x,y,colors[index])\n",
    "    ##  locate legend\n",
    "    plt.legend(loc=(1.05,0.2))\n",
    "    index += 1\n",
    "\n",
    "##  update title\n",
    "plt.title(\"S-W Index (Log(2)), \" + river + \" River Segments\")\n",
    "##  label x axis\n",
    "plt.xlabel('Year')\n",
    "##  label y axis\n",
    "plt.ylabel('SWI Log(2)')\n",
    "##  force x axis to integer values, increment by 1 year\n",
    "plt.xticks(np.arange(min(x), max(x)+1, 1.0))\n",
    "##  rotate year labels 90 degrees\n",
    "plt.xticks(rotation=90)\n",
    "##  advance color index    \n",
    "    \n",
    "##  save figure\n",
    "plt.savefig(output + \"\\\\\" + river + \"_SWI_2.png\", bbox_inches='tight',dpi=300, size=(2000,2000))\n",
    "##  display figure\n",
    "plt.show()"
   ]
  },
  {
   "cell_type": "code",
   "execution_count": null,
   "metadata": {},
   "outputs": [],
   "source": [
    "## add new column\n",
    "data[\"SWI_e\"] = \"\""
   ]
  },
  {
   "cell_type": "code",
   "execution_count": null,
   "metadata": {},
   "outputs": [],
   "source": [
    "##  for each row calculate Shannon-Wiener Log(e) Index\n",
    "for i in range(len(data)):\n",
    "    swi = 0.0\n",
    "    for x in range(len(data.iloc[0]))[4:last]:\n",
    "        if data.iloc[i][x] > 0:\n",
    "            swi += -(data.iloc[i][x]/sum(data.iloc[i][4:last][data.iloc[i][4:last]>0])) * math.log((data.iloc[i][x]/sum(data.iloc[i][4:last][data.iloc[i][4:last]>0])))\n",
    "    data.loc[i,'SWI_e'] = swi"
   ]
  },
  {
   "cell_type": "code",
   "execution_count": null,
   "metadata": {},
   "outputs": [],
   "source": [
    "## display first 5 rows of data frame with new index\n",
    "data.iloc[0:5]"
   ]
  },
  {
   "cell_type": "code",
   "execution_count": null,
   "metadata": {},
   "outputs": [],
   "source": [
    "##  define color list\n",
    "colors = ['b', 'g', 'r', 'k', 'c', 'm', 'y']\n",
    "##  define index for iterating through color list\n",
    "index = 0\n",
    "##  for each river segment\n",
    "for segment in segments:\n",
    "    ##  subset df to non-zero values for the current river segment\n",
    "    segDF = data.loc[data['RiverSeg'] == segment]\n",
    "    segDF = segDF[segDF[\"SWI_e\"]>0]\n",
    "\n",
    "    ## sort based on year\n",
    "    segDF = segDF.sort_values('Year')\n",
    "    ## define x,y for plotting\n",
    "    x = segDF[\"Year\"]\n",
    "    y = segDF[\"SWI_e\"]\n",
    "    ## change name of y to Riv Seg for legend\n",
    "    y.name = segment\n",
    "    ##  build graph...\n",
    "    ##  plot segment x vs y assigning color based on index\n",
    "    plt.plot(x,y,colors[index])\n",
    "    ##  locate legend\n",
    "    plt.legend(loc=(1.05,0.2))\n",
    "    ##  advance color index\n",
    "    index += 1\n",
    "\n",
    "##  update title\n",
    "plt.title(\"S-W Index (Log(e)), \" + river + \" River Segments\")\n",
    "##  label x axis\n",
    "plt.xlabel('Year')\n",
    "##  label y axis\n",
    "plt.ylabel('SWI Log(e)')\n",
    "##  force x axis to integer values, increment by 1 year\n",
    "plt.xticks(np.arange(min(x), max(x)+1, 1.0))\n",
    "##  rotate year labels 90 degrees\n",
    "plt.xticks(rotation=90)    \n",
    "    \n",
    "    \n",
    "##  save figure\n",
    "plt.savefig(output + \"\\\\\" + river + \"_SWI_e.png\", bbox_inches='tight',dpi=300, size=(2000,2000))\n",
    "##  display figure\n",
    "plt.show()"
   ]
  },
  {
   "cell_type": "code",
   "execution_count": null,
   "metadata": {},
   "outputs": [],
   "source": [
    "## add new column\n",
    "data[\"SWI_10\"] = \"\""
   ]
  },
  {
   "cell_type": "code",
   "execution_count": null,
   "metadata": {},
   "outputs": [],
   "source": [
    "##  for each row calculate Shannon-Wiener Log(10) Index\n",
    "for i in range(len(data)):\n",
    "    swi = 0.0\n",
    "    for x in range(len(data.iloc[0]))[4:last]:\n",
    "        if data.iloc[i][x] > 0:\n",
    "            swi += -(data.iloc[i][x]/sum(data.iloc[i][4:last][data.iloc[i][4:last]>0])) * math.log((data.iloc[i][x]/sum(data.iloc[i][4:last][data.iloc[i][4:last]>0])),10)\n",
    "    data.loc[i,'SWI_10'] = swi"
   ]
  },
  {
   "cell_type": "code",
   "execution_count": null,
   "metadata": {},
   "outputs": [],
   "source": [
    "## display first 5 rows of data frame with new index\n",
    "data.iloc[0:5]"
   ]
  },
  {
   "cell_type": "code",
   "execution_count": null,
   "metadata": {},
   "outputs": [],
   "source": [
    "##  define color list\n",
    "colors = ['b', 'g', 'r', 'k', 'c', 'm', 'y']\n",
    "##  define index for iterating through color list\n",
    "index = 0\n",
    "##  for each river segment\n",
    "for segment in segments:\n",
    "    ##  subset df to non-zero values for the current river segment\n",
    "    segDF = data.loc[data['RiverSeg'] == segment]\n",
    "    segDF = segDF[segDF[\"SWI_10\"]>0]\n",
    "\n",
    "    ## sort based on year\n",
    "    segDF = segDF.sort_values('Year')\n",
    "    ## define x,y for plotting\n",
    "    x = segDF[\"Year\"]\n",
    "    y = segDF[\"SWI_10\"]\n",
    "    ## change name of y to Riv Seg for legend\n",
    "    y.name = segment\n",
    "    ##  build graph...\n",
    "    ##  plot segment x vs y assigning color based on index\n",
    "    plt.plot(x,y,colors[index])\n",
    "    ##  locate legend\n",
    "    plt.legend(loc=(1.05,0.2))\n",
    "    ##  advance color index\n",
    "    index += 1\n",
    "\n",
    "##  update title\n",
    "plt.title(\"S-W Index (Log(10)), \" + river + \" River Segments\")\n",
    "##  label x axis\n",
    "plt.xlabel('Year')\n",
    "##  label y axis\n",
    "plt.ylabel('SWI Log(10)')\n",
    "##  force x axis to integer values, increment by 1 year\n",
    "plt.xticks(np.arange(min(x), max(x)+1, 1.0))\n",
    "##  rotate year labels 90 degrees\n",
    "plt.xticks(rotation=90)    \n",
    "    \n",
    "    \n",
    "##  save figure\n",
    "plt.savefig(output + \"\\\\\" + river + \"_SWI_10.png\", bbox_inches='tight',dpi=300, size=(2000,2000))\n",
    "##  display figure\n",
    "plt.show()"
   ]
  },
  {
   "cell_type": "code",
   "execution_count": null,
   "metadata": {},
   "outputs": [],
   "source": [
    "## add new column\n",
    "data[\"lam\"] = \"\""
   ]
  },
  {
   "cell_type": "code",
   "execution_count": null,
   "metadata": {},
   "outputs": [],
   "source": [
    "##  for each row calculate Lambda\n",
    "for i in range(len(data)):\n",
    "    N = 0.0\n",
    "    for x in range(len(data.iloc[0]))[4:last]:\n",
    "        if data.iloc[i][x] > 0:\n",
    "            N += data.iloc[i][x]\n",
    "\n",
    "    lam = 0.0\n",
    "    for x in range(len(data.iloc[0]))[4:last]:\n",
    "        lam += (data.iloc[i][x]/N) * (data.iloc[i][x]/N)\n",
    "    data.loc[i,'lam'] = lam\n"
   ]
  },
  {
   "cell_type": "code",
   "execution_count": null,
   "metadata": {},
   "outputs": [],
   "source": [
    "## display first 5 rows of data frame with new index\n",
    "data.iloc[0:5]"
   ]
  },
  {
   "cell_type": "code",
   "execution_count": null,
   "metadata": {},
   "outputs": [],
   "source": [
    "##  define color list\n",
    "colors = ['b', 'g', 'r', 'k', 'c', 'm', 'y']\n",
    "##  define index for iterating through color list\n",
    "index = 0\n",
    "##  for each river segment\n",
    "for segment in segments:\n",
    "    ##  subset df to non-zero values for the current river segment\n",
    "    segDF = data.loc[data['RiverSeg'] == segment]\n",
    "    segDF = segDF[segDF[\"lam\"]>0]\n",
    "\n",
    "    ## sort based on year\n",
    "    segDF = segDF.sort_values('Year')\n",
    "    ## define x,y for plotting\n",
    "    x = segDF[\"Year\"]\n",
    "    y = segDF[\"lam\"]\n",
    "    ## change name of y to Riv Seg for legend\n",
    "    y.name = segment\n",
    "    ##  build graph...\n",
    "    ##  plot segment x vs y\n",
    "    plt.plot(x,y,colors[index])\n",
    "    ##  locate legend\n",
    "    plt.legend(loc=(1.05,0.2))\n",
    "    ##  advance color index\n",
    "    index += 1\n",
    "\n",
    "##  update title\n",
    "plt.title(\"Lambda, \" + river + \" River Segments\")\n",
    "##  label x axis\n",
    "plt.xlabel('Year')\n",
    "##  label y axis\n",
    "plt.ylabel('Lambda')\n",
    "##  force x axis to integer values, increment by 1 year\n",
    "plt.xticks(np.arange(min(x), max(x)+1, 1.0))\n",
    "##  rotate year labels 90 degrees\n",
    "plt.xticks(rotation=90)    \n",
    "    \n",
    "    \n",
    "##  save figure\n",
    "plt.savefig(output + \"\\\\\" + river + \"_Lambda.png\", bbox_inches='tight',dpi=300, size=(2000,2000))\n",
    "##  display figure\n",
    "plt.show()"
   ]
  },
  {
   "cell_type": "code",
   "execution_count": null,
   "metadata": {},
   "outputs": [],
   "source": [
    "## add new column\n",
    "data[\"1-lam\"] = \"\""
   ]
  },
  {
   "cell_type": "code",
   "execution_count": null,
   "metadata": {},
   "outputs": [],
   "source": [
    "##  for each row calculate 1-Lambda\n",
    "for i in range(len(data)):\n",
    "    N = 0.0\n",
    "    for x in range(len(data.iloc[0]))[4:last]:\n",
    "        if data.iloc[i][x] > 0:\n",
    "            N += data.iloc[i][x]\n",
    "\n",
    "    lam = 0.0\n",
    "    for x in range(len(data.iloc[0]))[4:last]:\n",
    "        lam += (data.iloc[i][x]/N) * (data.iloc[i][x]/N)\n",
    "    data.loc[i,'1-lam'] = 1 - lam"
   ]
  },
  {
   "cell_type": "code",
   "execution_count": null,
   "metadata": {},
   "outputs": [],
   "source": [
    "## display first 5 rows of data frame with new index\n",
    "data.iloc[0:5]"
   ]
  },
  {
   "cell_type": "code",
   "execution_count": null,
   "metadata": {
    "scrolled": false
   },
   "outputs": [],
   "source": [
    "##  define color list\n",
    "colors = ['b', 'g', 'r', 'k', 'c', 'm', 'y']\n",
    "##  define index for iterating through color list\n",
    "index = 0\n",
    "##  for each river segment\n",
    "for segment in segments:\n",
    "    ##  subset df to non-zero values for the current river segment\n",
    "    segDF = data.loc[data['RiverSeg'] == segment]\n",
    "    segDF = segDF[segDF[\"1-lam\"]>0]\n",
    "\n",
    "    ## sort based on year\n",
    "    segDF = segDF.sort_values('Year')\n",
    "    ## define x,y for plotting\n",
    "    x = segDF[\"Year\"]\n",
    "    y = segDF[\"1-lam\"]\n",
    "    ## change name of y to Riv Seg for legend\n",
    "    y.name = segment\n",
    "    ##  build graph...\n",
    "    ##  plot segment x vs y\n",
    "    plt.plot(x,y,colors[index])\n",
    "    ##  locate legend\n",
    "    plt.legend(loc=(1.05,0.2))\n",
    "    ##  advance color index\n",
    "    index += 1\n",
    "\n",
    "##  update title\n",
    "plt.title(\"1-Lambda, \" + river + \" River Segments\")\n",
    "##  label x axis\n",
    "plt.xlabel('Year')\n",
    "##  label y axis\n",
    "plt.ylabel('1-Lambda')\n",
    "##  force x axis to integer values, increment by 1 year\n",
    "plt.xticks(np.arange(min(x), max(x)+1, 1.0))\n",
    "##  rotate year labels 90 degrees\n",
    "plt.xticks(rotation=90)    \n",
    "    \n",
    "##  save figure   \n",
    "plt.savefig(output + \"\\\\\" + river + \"_1-Lambda.png\", bbox_inches='tight',dpi=300, size=(2000,2000))\n",
    "##  show figure\n",
    "plt.show()"
   ]
  },
  {
   "cell_type": "code",
   "execution_count": null,
   "metadata": {},
   "outputs": [],
   "source": [
    "## add new column\n",
    "data[\"lam'\"] = \"\""
   ]
  },
  {
   "cell_type": "code",
   "execution_count": null,
   "metadata": {},
   "outputs": [],
   "source": [
    "##  for each row calculate Lambda Prime\n",
    "for i in range(len(data)):\n",
    "    N = 0.0\n",
    "    for x in range(len(data.iloc[i]))[4:last]:\n",
    "        if data.iloc[i][x] > 0:\n",
    "            N += data.iloc[i][x]\n",
    "    \n",
    "    \n",
    "    array = data.iloc[i][4:last]\n",
    "    num = 0.0\n",
    "    for y in array:\n",
    "        num += (y * (y-1))\n",
    "    lam = num/(N*(N-1))\n",
    "    data.loc[i,\"lam'\"] = lam"
   ]
  },
  {
   "cell_type": "code",
   "execution_count": null,
   "metadata": {},
   "outputs": [],
   "source": [
    "## display first 5 rows of data frame with new index\n",
    "data.iloc[0:5]"
   ]
  },
  {
   "cell_type": "code",
   "execution_count": null,
   "metadata": {},
   "outputs": [],
   "source": [
    "##  define color list\n",
    "colors = ['b', 'g', 'r', 'k', 'c', 'm', 'y']\n",
    "##  define index for iterating through color list\n",
    "index = 0\n",
    "##  for each river segment\n",
    "for segment in segments:\n",
    "    ##  subset df to non-zero values for the current river segment\n",
    "    segDF = data.loc[data['RiverSeg'] == segment]\n",
    "    segDF = segDF[segDF[\"lam'\"]>0]\n",
    "\n",
    "    ## sort based on year\n",
    "    segDF = segDF.sort_values('Year')\n",
    "    ## define x,y for plotting\n",
    "    x = segDF[\"Year\"]\n",
    "    y = segDF[\"lam'\"]\n",
    "    ## change name of y to Riv Seg for legend\n",
    "    y.name = segment\n",
    "    ##  build graph...\n",
    "    ##  plot segment x vs y\n",
    "    plt.plot(x,y,colors[index])\n",
    "    ##  locate legend\n",
    "    plt.legend(loc=(1.05,0.2))\n",
    "    ##  advance color index\n",
    "    index += 1\n",
    "\n",
    "##  update title\n",
    "plt.title(\"Lambda', \" + river + \" River Segments\")\n",
    "##  label x axis\n",
    "plt.xlabel('Year')\n",
    "##  label y axis\n",
    "plt.ylabel(\"Lambda'\")\n",
    "##  force x axis to integer values, increment by 1 year\n",
    "plt.xticks(np.arange(min(x), max(x)+1, 1.0))\n",
    "##  rotate year labels 90 degrees\n",
    "plt.xticks(rotation=90)    \n",
    "    \n",
    "##  save figure\n",
    "plt.savefig(output + \"\\\\\" + river + \"_Lambda'.png\", bbox_inches='tight',dpi=300, size=(2000,2000))\n",
    "##  show figure\n",
    "plt.show()"
   ]
  },
  {
   "cell_type": "code",
   "execution_count": null,
   "metadata": {},
   "outputs": [],
   "source": [
    "##  add new column\n",
    "data[\"1-lam'\"] = \"\""
   ]
  },
  {
   "cell_type": "code",
   "execution_count": null,
   "metadata": {},
   "outputs": [],
   "source": [
    "##  for each row calculate 1-Lambda Prime\n",
    "for i in range(len(data)):\n",
    "    N = 0.0\n",
    "    for x in range(len(data.iloc[i]))[4:last]:\n",
    "        if data.iloc[i][x] > 0:\n",
    "            N += data.iloc[i][x]\n",
    "    \n",
    "    \n",
    "    array = data.iloc[i][4:last]\n",
    "    num = 0.0\n",
    "    for y in array:\n",
    "        num += (y * (y-1))\n",
    "    lam = num/(N*(N-1))\n",
    "    data.loc[i,\"1-lam'\"] = 1 - lam"
   ]
  },
  {
   "cell_type": "code",
   "execution_count": null,
   "metadata": {},
   "outputs": [],
   "source": [
    "## display first 5 rows of data frame with new index\n",
    "data.iloc[0:5]"
   ]
  },
  {
   "cell_type": "code",
   "execution_count": null,
   "metadata": {},
   "outputs": [],
   "source": [
    "##  define color list\n",
    "colors = ['b', 'g', 'r', 'k', 'c', 'm', 'y']\n",
    "##  define index for iterating through color list\n",
    "index = 0\n",
    "##  for each river segment\n",
    "for segment in segments:\n",
    "    ##  subset df for the current river segment\n",
    "    segDF = data.loc[data['RiverSeg'] == segment]\n",
    "    segDF = segDF[segDF[\"lam'\"]>0]\n",
    "    ## sort based on year\n",
    "    segDF = segDF.sort_values('Year')\n",
    "    ## define x,y for plotting\n",
    "    x = segDF[\"Year\"]\n",
    "    y = segDF[\"1-lam'\"]\n",
    "    ## change name of y to Riv Seg for legend\n",
    "    y.name = segment\n",
    "    ##  build graph...\n",
    "    ##  plot segment x vs y\n",
    "    plt.plot(x,y,colors[index])\n",
    "    ##  locate legend\n",
    "    plt.legend(loc=(1.05,0.2))\n",
    "    ##  advance color index\n",
    "    index += 1\n",
    "\n",
    "##  update title\n",
    "plt.title(\"1-Lambda', \" + river + \" River Segments\")\n",
    "##  label x axis\n",
    "plt.xlabel('Year')\n",
    "##  label y axis\n",
    "plt.ylabel(\"1-Lambda'\")\n",
    "##  force x axis to integer values, increment by 1 year\n",
    "plt.xticks(np.arange(min(x), max(x)+1, 1.0))\n",
    "##  rotate year labels 90 degrees\n",
    "plt.xticks(rotation=90)    \n",
    "    \n",
    "    \n",
    "##  save figure\n",
    "plt.savefig(output + \"\\\\\" + river + \"_1-Lambda'.png\", bbox_inches='tight',dpi=300, size=(2000,2000))\n",
    "##  display figure\n",
    "plt.show()"
   ]
  },
  {
   "cell_type": "code",
   "execution_count": null,
   "metadata": {},
   "outputs": [],
   "source": [
    "data[\"N1\"] = \"\""
   ]
  },
  {
   "cell_type": "code",
   "execution_count": null,
   "metadata": {},
   "outputs": [],
   "source": [
    "##  for each row calculate Hill N1\n",
    "for i in range(len(data)):\n",
    "    N1 = 0.0\n",
    "    for x in range(len(data.iloc[0]))[4:last]:\n",
    "        if data.iloc[i][x] > 0:\n",
    "            N1 += -(data.iloc[i][x]/sum(data.iloc[i][4:last][data.iloc[i][4:last]>0])) * math.log((data.iloc[i][x]/sum(data.iloc[i][4:last][data.iloc[i][4:last]>0])))\n",
    "    data.loc[i,'N1'] = math.exp(N1)"
   ]
  },
  {
   "cell_type": "code",
   "execution_count": null,
   "metadata": {},
   "outputs": [],
   "source": [
    "## display first 5 rows of data frame with new index\n",
    "data.iloc[0:5]"
   ]
  },
  {
   "cell_type": "code",
   "execution_count": null,
   "metadata": {},
   "outputs": [],
   "source": [
    "##  define color list\n",
    "colors = ['b', 'g', 'r', 'k', 'c', 'm', 'y']\n",
    "##  define index for iterating through color list\n",
    "index = 0\n",
    "##  for each river segment\n",
    "for segment in segments:\n",
    "    ##  subset df for the current river segment\n",
    "    segDF = data.loc[data['RiverSeg'] == segment]\n",
    "    segDF = segDF[segDF[\"lam'\"]>0]\n",
    "\n",
    "    ## sort based on year\n",
    "    segDF = segDF.sort_values('Year')\n",
    "    ## define x,y for plotting\n",
    "    x = segDF[\"Year\"]\n",
    "    y = segDF[\"N1\"]\n",
    "    ## change name of y to Riv Seg for legend\n",
    "    y.name = segment\n",
    "    ##  build graph...\n",
    "    ##  plot segment x vs y\n",
    "    plt.plot(x,y,colors[index])\n",
    "    ##  locate legend\n",
    "    plt.legend(loc=(1.05,0.2))\n",
    "    ##  advance color index\n",
    "    index += 1\n",
    "\n",
    "##  update title\n",
    "plt.title(\"Hill N1, \" + river + \" River Segments\")\n",
    "##  label x axis\n",
    "plt.xlabel('Year')\n",
    "##  label y axis\n",
    "plt.ylabel(\"N1'\")\n",
    "##  force x axis to integer values, increment by 1 year\n",
    "plt.xticks(np.arange(min(x), max(x)+1, 1.0))\n",
    "##  rotate year labels 90 degrees\n",
    "plt.xticks(rotation=90)    \n",
    "    \n",
    "##  save figure\n",
    "plt.savefig(output + \"\\\\\" + river + \"_Hill_N1.png\", bbox_inches='tight',dpi=300, size=(2000,2000))\n",
    "##  display figure\n",
    "plt.show()"
   ]
  },
  {
   "cell_type": "code",
   "execution_count": null,
   "metadata": {},
   "outputs": [],
   "source": [
    "## add new column\n",
    "data[\"N2\"] = \"\""
   ]
  },
  {
   "cell_type": "code",
   "execution_count": null,
   "metadata": {},
   "outputs": [],
   "source": [
    "##  for each row calculate Hill N2\n",
    "for i in range(len(data)):\n",
    "    N = 0.0\n",
    "    for x in range(len(data.iloc[0]))[4:last]:\n",
    "        if data.iloc[i][x] > 0:\n",
    "            N += data.iloc[i][x]\n",
    "\n",
    "    lam = 0.0\n",
    "    for x in range(len(data.iloc[0]))[4:last]:\n",
    "        lam += (data.iloc[i][x]/N) * (data.iloc[i][x]/N)\n",
    "    data.loc[i,'N2'] = 1/lam"
   ]
  },
  {
   "cell_type": "code",
   "execution_count": null,
   "metadata": {},
   "outputs": [],
   "source": [
    "## display first 5 rows of data frame with new index\n",
    "data.iloc[0:5]"
   ]
  },
  {
   "cell_type": "code",
   "execution_count": null,
   "metadata": {},
   "outputs": [],
   "source": [
    "##  define color list\n",
    "colors = ['b', 'g', 'r', 'k', 'c', 'm', 'y']\n",
    "##  define index for iterating through color list\n",
    "index = 0\n",
    "##  for each river segment\n",
    "for segment in segments:\n",
    "    ##  subset df for the current river segment\n",
    "    segDF = data.loc[data['RiverSeg'] == segment]\n",
    "    segDF = segDF[segDF[\"lam'\"]>0]\n",
    "\n",
    "    ## sort based on year\n",
    "    segDF = segDF.sort_values('Year')\n",
    "    ## define x,y for plotting\n",
    "    x = segDF[\"Year\"]\n",
    "    y = segDF[\"N2\"]\n",
    "    \n",
    "    ## change name of y to Riv Seg for legend\n",
    "    y.name = segment\n",
    "    ##  build graph...\n",
    "    plt.plot(x,y,colors[index])\n",
    "    ##  locate legend\n",
    "    plt.legend(loc=(1.05,0.2))\n",
    "    ##  advance color index\n",
    "    index += 1\n",
    "\n",
    "##  update title\n",
    "plt.title(\"Hill N2, \" + river + \" River Segments\")\n",
    "##  label x axis\n",
    "plt.xlabel('Year')\n",
    "##  label y axis\n",
    "plt.ylabel(\"N2'\")\n",
    "##  force x axis to integer values, increment by 1 year\n",
    "plt.xticks(np.arange(min(x), max(x)+1, 1.0))\n",
    "##  rotate year labels 90 degrees\n",
    "plt.xticks(rotation=90)    \n",
    "    \n",
    "##  save figure\n",
    "plt.savefig(output + \"\\\\\" + river + \"_Hill_N2.png\", bbox_inches='tight',dpi=300, size=(2000,2000))\n",
    "##  display figure\n",
    "plt.show()"
   ]
  },
  {
   "cell_type": "code",
   "execution_count": null,
   "metadata": {},
   "outputs": [],
   "source": [
    "## add new column\n",
    "data[\"N_Inf\"] = \"\""
   ]
  },
  {
   "cell_type": "code",
   "execution_count": null,
   "metadata": {
    "scrolled": true
   },
   "outputs": [],
   "source": [
    "##  for each row calculate Hill N-infinity\n",
    "for i in range(len(data)):\n",
    "    \n",
    "    N = 0.0\n",
    "    for x in range(len(data.iloc[0]))[4:last]:\n",
    "        if data.iloc[i][x] > 0:\n",
    "            N += data.iloc[i][x]\n",
    "    \n",
    "    \n",
    "    array = data.iloc[i][4:last]\n",
    "    data.loc[i,'N_Inf'] = 1/(max(array)/N)"
   ]
  },
  {
   "cell_type": "code",
   "execution_count": null,
   "metadata": {},
   "outputs": [],
   "source": [
    "## display first 5 rows of data frame with new index\n",
    "data.iloc[0:5]"
   ]
  },
  {
   "cell_type": "code",
   "execution_count": null,
   "metadata": {},
   "outputs": [],
   "source": [
    "##  define color list\n",
    "colors = ['b', 'g', 'r', 'k', 'c', 'm', 'y']\n",
    "##  define index for iterating through color list\n",
    "index = 0\n",
    "##  for each river segment\n",
    "for segment in segments:\n",
    "    ##  subset df to non-zero values for the current river segment\n",
    "    segDF = data.loc[data['RiverSeg'] == segment]\n",
    "    segDF = segDF[segDF[\"lam'\"]>0]\n",
    "\n",
    "    ## sort based on year\n",
    "    segDF = segDF.sort_values('Year')\n",
    "    ## define x,y for plotting\n",
    "    x = segDF[\"Year\"]\n",
    "    y = segDF[\"N_Inf\"]\n",
    "    ## change name of y to Riv Seg for legend\n",
    "    y.name = segment\n",
    "    ##  build graph...\n",
    "    ##  plot segment x vs y\n",
    "    plt.plot(x,y,colors[index])\n",
    "    ##  locate legend\n",
    "    plt.legend(loc=(1.05,0.2))\n",
    "    ##  advance color index\n",
    "    index += 1\n",
    "\n",
    "##  update title\n",
    "plt.title(\"Hill N_Inf, \" + river + \" River Segments\")\n",
    "##  label x axis\n",
    "plt.xlabel('Year')\n",
    "##  label y axis\n",
    "plt.ylabel(\"N_Inf'\")\n",
    "##  force x axis to integer values, increment by 1 year\n",
    "plt.xticks(np.arange(min(x), max(x)+1, 1.0))\n",
    "##  rotate year labels 90 degrees\n",
    "plt.xticks(rotation=90)    \n",
    "\n",
    "##  save figure\n",
    "plt.savefig(output + \"\\\\\" + river + \"_Hill_N_Inf.png\", bbox_inches='tight',dpi=300, size=(2000,2000))\n",
    "##  display figure\n",
    "plt.show()"
   ]
  },
  {
   "cell_type": "code",
   "execution_count": null,
   "metadata": {},
   "outputs": [],
   "source": [
    "## add new column\n",
    "data[\"N10\"] = \"\""
   ]
  },
  {
   "cell_type": "code",
   "execution_count": null,
   "metadata": {},
   "outputs": [],
   "source": [
    "##  for each row calculate Hill N10\n",
    "for i in range(len(data)):\n",
    "    swi = 0.0\n",
    "    for x in range(len(data.iloc[0]))[4:last]:\n",
    "        if data.iloc[i][x] > 0:\n",
    "            swi += -(data.iloc[i][x]/sum(data.iloc[i][4:last][data.iloc[i][4:last]>0])) * math.log((data.iloc[i][x]/sum(data.iloc[i][4:last][data.iloc[i][4:last]>0])))\n",
    "    data.loc[i,'N10'] = math.exp(swi)/len(data.iloc[i][4:last][data.iloc[i][4:last]>0])"
   ]
  },
  {
   "cell_type": "code",
   "execution_count": null,
   "metadata": {},
   "outputs": [],
   "source": [
    "## display first 5 rows of data frame with new index\n",
    "data.iloc[0:5]"
   ]
  },
  {
   "cell_type": "code",
   "execution_count": null,
   "metadata": {},
   "outputs": [],
   "source": [
    "##  define color list\n",
    "colors = ['b', 'g', 'r', 'k', 'c', 'm', 'y']\n",
    "##  define index for iterating through color list\n",
    "index = 0\n",
    "\n",
    "##  for each river segment\n",
    "for segment in segments:\n",
    "    ##  subset df to non-zero values for the current river segment\n",
    "    segDF = data.loc[data['RiverSeg'] == segment]\n",
    "    segDF = segDF[segDF[\"lam'\"]>0]\n",
    "\n",
    "    ## sort based on year\n",
    "    segDF = segDF.sort_values('Year')\n",
    "    ## define x,y for plotting\n",
    "    x = segDF[\"Year\"]\n",
    "    y = segDF[\"N10\"]\n",
    "    ## change name of y to Riv Seg for legend\n",
    "    y.name = segment\n",
    "    ##  build graph...\n",
    "    plt.plot(x,y,colors[index])\n",
    "    ##  locate legend\n",
    "    plt.legend(loc=(1.05,0.2))\n",
    "    ##  advance color index\n",
    "    index += 1\n",
    "\n",
    "##  update title\n",
    "plt.title(\"Hill N10, \" + river + \" River Segments\")\n",
    "##  label x axis\n",
    "plt.xlabel('Year')\n",
    "##  label y axis\n",
    "plt.ylabel(\"N10\")\n",
    "##  force x axis to integer values, increment by 1 year\n",
    "plt.xticks(np.arange(min(x), max(x)+1, 1.0))\n",
    "##  rotate year labels 90 degrees\n",
    "plt.xticks(rotation=90)    \n",
    "    \n",
    "##  save figure\n",
    "plt.savefig(output + \"\\\\\" + river + \"_Hill_N10.png\", bbox_inches='tight',dpi=300, size=(2000,2000))\n",
    "##  display figure\n",
    "plt.show()"
   ]
  },
  {
   "cell_type": "code",
   "execution_count": null,
   "metadata": {},
   "outputs": [],
   "source": [
    "## add new column\n",
    "data[\"N10'\"] = \"\""
   ]
  },
  {
   "cell_type": "code",
   "execution_count": null,
   "metadata": {},
   "outputs": [],
   "source": [
    "##  for each row calculate Hill N10 prime \n",
    "for i in range(len(data)):\n",
    "    swi = 0.0\n",
    "    for x in range(len(data.iloc[0]))[4:last]:\n",
    "        if data.iloc[i][x] > 0:\n",
    "            swi += -(data.iloc[i][x]/sum(data.iloc[i][4:last][data.iloc[i][4:last]>0])) * math.log((data.iloc[i][x]/sum(data.iloc[i][4:last][data.iloc[i][4:last]>0])))\n",
    "    try:\n",
    "        data.loc[i,\"N10'\"] = (math.exp(swi)-1)/(len(data.iloc[i][4:last][data.iloc[i][4:last]>0])-1)\n",
    "    except:\n",
    "        data.loc[i,\"N10'\"] = 0"
   ]
  },
  {
   "cell_type": "code",
   "execution_count": null,
   "metadata": {},
   "outputs": [],
   "source": [
    "## display first 5 rows of data frame with new index\n",
    "data.iloc[0:5]"
   ]
  },
  {
   "cell_type": "code",
   "execution_count": null,
   "metadata": {},
   "outputs": [],
   "source": [
    "##  define color list\n",
    "colors = ['b', 'g', 'r', 'k', 'c', 'm', 'y']\n",
    "##  define index for iterating through color list\n",
    "index = 0\n",
    "##  for each river segment\n",
    "for segment in segments:\n",
    "    ##  subset df to non-zero values for the current river segment\n",
    "    segDF = data.loc[data['RiverSeg'] == segment]\n",
    "    segDF = segDF[segDF[\"lam'\"]>0]\n",
    "\n",
    "    ## sort based on year\n",
    "    segDF = segDF.sort_values('Year')\n",
    "    ## define x,y for plotting\n",
    "    x = segDF[\"Year\"]\n",
    "    y = segDF[\"N10'\"]\n",
    "    ## change name of y to Riv Seg for legend\n",
    "    y.name = segment\n",
    "    ##  build graph...\n",
    "    ##  plot segment x vs y\n",
    "    plt.plot(x,y,colors[index])\n",
    "    ##  locate legend\n",
    "    plt.legend(loc=(1.05,0.2))\n",
    "    ##  advance color index\n",
    "    index += 1\n",
    "\n",
    "##  update title\n",
    "plt.title(\"Hill N10', \" + river + \" River Segments\")\n",
    "##  label x axis\n",
    "plt.xlabel('Year')\n",
    "##  label y axis\n",
    "plt.ylabel(\"N10'\")\n",
    "##  force x axis to integer values, increment by 1 year\n",
    "plt.xticks(np.arange(min(x), max(x)+1, 1.0))\n",
    "##  rotate year labels 90 degrees\n",
    "plt.xticks(rotation=90)    \n",
    "    \n",
    "##  save figure\n",
    "plt.savefig(output + \"\\\\\" + river + \"_Hill_N10'.png\", bbox_inches='tight',dpi=300, size=(2000,2000))\n",
    "##  display figure\n",
    "plt.show()"
   ]
  },
  {
   "cell_type": "code",
   "execution_count": null,
   "metadata": {},
   "outputs": [],
   "source": [
    "## add new column\n",
    "data[\"N21\"] = \"\""
   ]
  },
  {
   "cell_type": "code",
   "execution_count": null,
   "metadata": {},
   "outputs": [],
   "source": [
    "##  for each row calculate Hill N21\n",
    "for i in range(len(data)):\n",
    "    N = 0.0\n",
    "    for x in range(len(data.iloc[0]))[4:last]:\n",
    "        if data.iloc[i][x] > 0:\n",
    "            N += data.iloc[i][x]\n",
    "    #N2\n",
    "    lam = 0.0\n",
    "    for x in range(len(data.iloc[0]))[4:last]:\n",
    "        lam += (data.iloc[i][x]/N) * (data.iloc[i][x]/N)\n",
    "    N2 = 1/lam\n",
    "        \n",
    "    swi = 0.0\n",
    "    for x in range(len(data.iloc[0]))[4:last]:\n",
    "        if data.iloc[i][x] > 0:\n",
    "            swi += -(data.iloc[i][x]/sum(data.iloc[i][4:last][data.iloc[i][4:last]>0])) * math.log((data.iloc[i][x]/sum(data.iloc[i][4:last][data.iloc[i][4:last]>0])))\n",
    "    N1 = math.exp(swi)\n",
    "    \n",
    "    data.loc[i,\"N21\"] = N2/N1"
   ]
  },
  {
   "cell_type": "code",
   "execution_count": null,
   "metadata": {},
   "outputs": [],
   "source": [
    "## display first 5 rows of data frame with new index\n",
    "data.iloc[0:5]"
   ]
  },
  {
   "cell_type": "code",
   "execution_count": null,
   "metadata": {},
   "outputs": [],
   "source": [
    "##  define color list\n",
    "colors = ['b', 'g', 'r', 'k', 'c', 'm', 'y']\n",
    "##  define index for iterating through color list\n",
    "index = 0\n",
    "##  for each river segment\n",
    "for segment in segments:\n",
    "    ##  subset df to non-zero values for the current river segment\n",
    "    segDF = data.loc[data['RiverSeg'] == segment]\n",
    "    segDF = segDF[segDF[\"lam'\"]>0]\n",
    "\n",
    "    ## sort based on year\n",
    "    segDF = segDF.sort_values('Year')\n",
    "    ## define x,y for plotting\n",
    "    x = segDF[\"Year\"]\n",
    "    y = segDF[\"N21\"]\n",
    "    ## change name of y to Riv Seg for legend\n",
    "    y.name = segment\n",
    "    ##  build graph...\n",
    "    ##  plot segment x vs y\n",
    "    plt.plot(x,y,colors[index])\n",
    "    ##  locate legend\n",
    "    plt.legend(loc=(1.05,0.2))\n",
    "    ##  advance color index\n",
    "    index += 1\n",
    "\n",
    "##  update title\n",
    "plt.title(\"Hill N21, \" + river + \" River Segments\")\n",
    "##  label x axis\n",
    "plt.xlabel('Year')\n",
    "##  label y axis\n",
    "plt.ylabel(\"N21\")\n",
    "##  force x axis to integer values, increment by 1 year\n",
    "plt.xticks(np.arange(min(x), max(x)+1, 1.0))\n",
    "##  rotate year labels 90 degrees\n",
    "plt.xticks(rotation=90)    \n",
    "    \n",
    "##  save figure\n",
    "plt.savefig(output + \"\\\\\" + river + \"_Hill_N21.png\", bbox_inches='tight',dpi=300, size=(2000,2000))\n",
    "##  display figure\n",
    "plt.show()"
   ]
  },
  {
   "cell_type": "code",
   "execution_count": null,
   "metadata": {},
   "outputs": [],
   "source": [
    "## add new column\n",
    "data[\"N21'\"] = \"\""
   ]
  },
  {
   "cell_type": "code",
   "execution_count": null,
   "metadata": {},
   "outputs": [],
   "source": [
    "##  for each row calculate Hill N21 Prime\n",
    "for i in range(len(data)):\n",
    "\n",
    "    N = 0.0\n",
    "    for x in range(len(data.iloc[0]))[4:last]:\n",
    "        if data.iloc[i][x] > 0:\n",
    "            N += data.iloc[i][x]\n",
    "    #N2\n",
    "    lam = 0.0\n",
    "    for x in range(len(data.iloc[0]))[4:last]:\n",
    "        lam += (data.iloc[i][x]/N) * (data.iloc[i][x]/N)\n",
    "    N2 = 1/lam\n",
    "\n",
    "    swi = 0.0\n",
    "    for x in range(len(data.iloc[0]))[4:last]:\n",
    "        if data.iloc[i][x] > 0:\n",
    "            swi += -(data.iloc[i][x]/sum(data.iloc[i][4:last][data.iloc[i][4:last]>0])) * math.log((data.iloc[i][x]/sum(data.iloc[i][4:last][data.iloc[i][4:last]>0])))\n",
    "    N1 = math.exp(swi)\n",
    "\n",
    "\n",
    "    data.loc[i,\"N21'\"] = (N2-1)/(N1-1)\n",
    "\n",
    "    \n"
   ]
  },
  {
   "cell_type": "code",
   "execution_count": null,
   "metadata": {},
   "outputs": [],
   "source": [
    "## display first 5 rows of data frame with new index\n",
    "data.iloc[0:5]"
   ]
  },
  {
   "cell_type": "code",
   "execution_count": null,
   "metadata": {},
   "outputs": [],
   "source": [
    "##  define color list\n",
    "colors = ['b', 'g', 'r', 'k', 'c', 'm', 'y']\n",
    "##  define index for iterating through color list\n",
    "index = 0\n",
    "##  for each river segment\n",
    "for segment in segments:\n",
    "    ##  subset df to non-zero values for the current river segment\n",
    "    segDF = data.loc[data['RiverSeg'] == segment]\n",
    "    segDF = segDF[segDF[\"lam'\"]>0]\n",
    "\n",
    "    ## sort based on year\n",
    "    segDF = segDF.sort_values('Year')\n",
    "    ## define x,y for plotting\n",
    "    x = segDF[\"Year\"]\n",
    "    y = segDF[\"N21'\"]\n",
    "    ## change name of y to Riv Seg for legend\n",
    "    y.name = segment\n",
    "    ##  build graph...\n",
    "    ##  plot segment x vs y\n",
    "    plt.plot(x,y,colors[index])\n",
    "    ##  locate legend\n",
    "    plt.legend(loc=(1.05,0.2))\n",
    "    ##  advance color index\n",
    "    index += 1\n",
    "\n",
    "##  update title\n",
    "plt.title(\"Hill N21', \" + river + \" River Segments\")\n",
    "##  label x axis\n",
    "plt.xlabel('Year')\n",
    "##  label y axis\n",
    "plt.ylabel(\"N21'\")\n",
    "##  force x axis to integer values, increment by 1 year\n",
    "plt.xticks(np.arange(min(x), max(x)+1, 1.0))\n",
    "##  rotate year labels 90 degrees\n",
    "plt.xticks(rotation=90)\n",
    "    \n",
    "##  save figure\n",
    "plt.savefig(output + \"\\\\\" + river + \"_Hill_N21'.png\", bbox_inches='tight',dpi=300, size=(2000,2000))\n",
    "##  display figure\n",
    "plt.show()"
   ]
  },
  {
   "cell_type": "code",
   "execution_count": null,
   "metadata": {},
   "outputs": [],
   "source": [
    "## add new column\n",
    "data[\"Pielou\"] = \"\""
   ]
  },
  {
   "cell_type": "code",
   "execution_count": null,
   "metadata": {},
   "outputs": [],
   "source": [
    "##  for each row calculate Pielou's Evenness Index \n",
    "for i in range(len(data)):\n",
    "\n",
    "    count = 0.0\n",
    "    hmax = 0.0\n",
    "    \n",
    "    for x in range(len(data.iloc[0]))[4:last]:\n",
    "        if data.iloc[i][x] > 0:\n",
    "            count += 1\n",
    "\n",
    "    swi = 0.0\n",
    "    for x in range(len(data.iloc[0]))[4:last]:\n",
    "        if data.iloc[i][x] > 0:\n",
    "            swi += -(data.iloc[i][x]/sum(data.iloc[i][4:last][data.iloc[i][4:last]>0])) * math.log((data.iloc[i][x]/sum(data.iloc[i][4:last][data.iloc[i][4:last]>0])))\n",
    "\n",
    "          \n",
    "    data.loc[i,'Pielou'] = swi/math.log(count)\n",
    "\n",
    "\n",
    "\n",
    "\n",
    "\n"
   ]
  },
  {
   "cell_type": "code",
   "execution_count": null,
   "metadata": {},
   "outputs": [],
   "source": [
    "## display first 5 rows of data frame with new index\n",
    "data.iloc[0:5]"
   ]
  },
  {
   "cell_type": "code",
   "execution_count": null,
   "metadata": {},
   "outputs": [],
   "source": [
    "##  define color list\n",
    "colors = ['b', 'g', 'r', 'k', 'c', 'm', 'y']\n",
    "##  define index for iterating through color list\n",
    "index = 0\n",
    "##  for each river segment\n",
    "for segment in segments:\n",
    "    ##  subset df to non-zero values for the current river segment\n",
    "    segDF = data.loc[data['RiverSeg'] == segment]\n",
    "    segDF = segDF[segDF[\"lam'\"]>0]\n",
    "\n",
    "    ## sort based on year\n",
    "    segDF = segDF.sort_values('Year')\n",
    "    ## define x,y for plotting\n",
    "    x = segDF[\"Year\"]\n",
    "    y = segDF[\"Pielou\"]\n",
    "    ## change name of y to Riv Seg for legend\n",
    "    y.name = segment\n",
    "    ##  build graph...\n",
    "    ##  plot segment x vs y\n",
    "    plt.plot(x,y,colors[index])\n",
    "    ##  locate legend\n",
    "    plt.legend(loc=(1.05,0.2))\n",
    "    ##  advance color index\n",
    "    index += 1\n",
    "\n",
    "##  update title\n",
    "plt.title(\"Pielou, \" + river + \" River Segments\")\n",
    "##  label x axis\n",
    "plt.xlabel('Year')\n",
    "##  label y axis\n",
    "plt.ylabel(\"Pielou\")\n",
    "##  force x axis to integer values, increment by 1 year\n",
    "plt.xticks(np.arange(min(x), max(x)+1, 1.0))\n",
    "##  rotate year labels 90 degrees\n",
    "plt.xticks(rotation=90)    \n",
    "    \n",
    "##  save figure\n",
    "plt.savefig(output + \"\\\\\" + river + \"_Pielou.png\", bbox_inches='tight',dpi=300, size=(2000,2000))\n",
    "##  display figure\n",
    "plt.show()"
   ]
  },
  {
   "cell_type": "code",
   "execution_count": null,
   "metadata": {},
   "outputs": [],
   "source": [
    "##  save dataframe with biodiversity indices to csv\n",
    "data.to_csv(output + \"\\\\\" + river + \"_biodiv.csv\")"
   ]
  },
  {
   "cell_type": "code",
   "execution_count": null,
   "metadata": {},
   "outputs": [],
   "source": []
  },
  {
   "cell_type": "code",
   "execution_count": null,
   "metadata": {},
   "outputs": [],
   "source": []
  },
  {
   "cell_type": "code",
   "execution_count": null,
   "metadata": {},
   "outputs": [],
   "source": []
  },
  {
   "cell_type": "code",
   "execution_count": null,
   "metadata": {},
   "outputs": [],
   "source": []
  }
 ],
 "metadata": {
  "kernelspec": {
   "display_name": "Python 2",
   "language": "python",
   "name": "python2"
  },
  "language_info": {
   "codemirror_mode": {
    "name": "ipython",
    "version": 2
   },
   "file_extension": ".py",
   "mimetype": "text/x-python",
   "name": "python",
   "nbconvert_exporter": "python",
   "pygments_lexer": "ipython2",
   "version": "2.7.15"
  }
 },
 "nbformat": 4,
 "nbformat_minor": 2
}
