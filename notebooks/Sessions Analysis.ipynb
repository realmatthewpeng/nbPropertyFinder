{
 "cells": [
  {
   "cell_type": "code",
   "execution_count": null,
   "metadata": {},
   "outputs": [],
   "source": [
    "import pandas as pd\n",
    "import numpy as np\n",
    "\n",
    "from matplotlib import pyplot as plt\n",
    "%matplotlib inline"
   ]
  },
  {
   "cell_type": "code",
   "execution_count": null,
   "metadata": {},
   "outputs": [],
   "source": [
    "sessions = pd.read_csv('sessions.csv')\n",
    "sessions = sessions.fillna(0)\n",
    "\n",
    "# reformat dates\n",
    "sessions['date'] = pd.to_datetime(sessions.date)"
   ]
  },
  {
   "cell_type": "code",
   "execution_count": null,
   "metadata": {},
   "outputs": [],
   "source": [
    "sessions.columns"
   ]
  },
  {
   "cell_type": "code",
   "execution_count": null,
   "metadata": {},
   "outputs": [],
   "source": [
    "boulder_4 = 4\n",
    "boulder_5a = 8\n",
    "boulder_5b = 9\n",
    "boulder_5c = 10\n",
    "\n",
    "boulder_6a = 20\n",
    "boulder_6a_plus = 21\n",
    "boulder_6b = 30\n",
    "\n",
    "boulder_6b_plus = 40\n",
    "boulder_6c = 60\n",
    "boulder_6c_plus = 70\n",
    "\n",
    "boulder_7a = 100\n",
    "boulder_7a_plus = 130\n",
    "\n",
    "scores_translator = {\n",
    "    # climbing\n",
    "    '4': boulder_4,   \n",
    "    '5a': boulder_5a,\n",
    "    '5b': boulder_5b,\n",
    "    '5c': boulder_5c,\n",
    "    '6a': boulder_6a,\n",
    "    '6a+': boulder_6a_plus,\n",
    "    '6b': boulder_6b,\n",
    "    '6b+': boulder_6b_plus,\n",
    "    '6c': boulder_6c,\n",
    "    '6c+': boulder_6c_plus,\n",
    "    '7a': boulder_7a,\n",
    "    '7a+': boulder_7a_plus,\n",
    "    \n",
    "    # gymnastics\n",
    "    'block': boulder_6a_plus / 5,\n",
    "    'block+': boulder_6c / 4,\n",
    "    'core': boulder_6a / 5,\n",
    "    'core+': boulder_6c / 4,\n",
    "    'anta': boulder_5c / 5,\n",
    "    'legs': boulder_5c / 5,\n",
    "    'L-Sit': boulder_6b,\n",
    "    \n",
    "    # power phase\n",
    "    'power': boulder_6b,\n",
    "    'speed': boulder_6a_plus,\n",
    "    'speed+': boulder_7a / 4,\n",
    "    \n",
    "    # yoga\n",
    "    'yoga': boulder_6b / 5,\n",
    "    \n",
    "    # ARC\n",
    "    'arc': boulder_6b_plus / 5,\n",
    "    \n",
    "    # technique\n",
    "    'tech': boulder_6a_plus / 5,\n",
    "    'visual': boulder_6b / 5,\n",
    "    \n",
    "    # Hangboard for each 10 seconds\n",
    "    '4F2G': boulder_5c / 10,\n",
    "    '3F2G': boulder_6a / 10,\n",
    "    '3F2G+10%': boulder_6a / 10,\n",
    "    '3F2G+15%' : boulder_6a_plus / 10,\n",
    "    '3F2G+20%': boulder_6b / 10,\n",
    "    '3F2G+25%': boulder_6b_plus / 10,\n",
    "    '2F2G': boulder_6b / 10,\n",
    "    \n",
    "    # crimp in mm\n",
    "    '16': boulder_6a_plus / 10,\n",
    "    '16-3F': boulder_6b_plus / 10,\n",
    "    \n",
    "    '12': boulder_6b_plus / 10,\n",
    "    '12-3F': boulder_6c / 10,\n",
    "    \n",
    "    # slopers\n",
    "    'sloper': boulder_6a / 10,\n",
    "    '15°': boulder_6a / 10,\n",
    "    '35°': boulder_6b_plus / 10,\n",
    "    '45°': boulder_7a / 10,\n",
    "    \n",
    "    'pinch': boulder_6b_plus / 10,\n",
    "}\n",
    "\n",
    "hangboard = [\n",
    "    '4F2G',\n",
    "    '3F2G',\n",
    "    '3F2G+10%',\n",
    "    '3F2G+15%',\n",
    "    '3F2G+20%',\n",
    "    '3F2G+25%',\n",
    "    '2F2G',\n",
    "    '16',\n",
    "    '16-3F',\n",
    "    '12',\n",
    "    '12-3F',\n",
    "    'sloper',\n",
    "    '15°',\n",
    "    '35°',\n",
    "    '45°',\n",
    "    'pinch'\n",
    "]\n",
    "\n",
    "gymnastics = ['block', 'block+', 'core', 'core+', 'anta', 'legs', 'L-Sit',]\n",
    "climbing = ['4', '5a', '5b', '5c', '6a', '6a+', '6b', '6b+', '6c', '6c+', '7a', '7a+',]\n",
    "\n",
    "\n",
    "def calc_score(row):\n",
    "    s = [row[key] * scores_translator[key] for key in scores_translator]\n",
    "    return sum(s)\n",
    "\n",
    "\n",
    "def calc_hangboard_scores(row):\n",
    "    s = [row[key] * scores_translator[key] for key in hangboard]\n",
    "    return sum(s)\n",
    "        \n",
    "    \n",
    "def calc_gym_scores(row):\n",
    "    s = [row[key] * scores_translator[key] for key in gymnastics]\n",
    "    return sum(s)\n",
    "\n",
    "def calc_climbing_scores(row):\n",
    "    s = [row[key] * scores_translator[key] for key in climbing]\n",
    "    return sum(s)\n",
    "\n",
    "def calc_arc_scores(row):\n",
    "    s = [row[key] * scores_translator[key] for key in ['arc']]\n",
    "    return sum(s)\n",
    "\n",
    "def calc_technique_scores(row):\n",
    "    s = [row[key] * scores_translator[key] for key in ['tech', 'visual']]\n",
    "    return sum(s)\n",
    "\n",
    "def calc_power_scores(row):\n",
    "    s = [row[key] * scores_translator[key] for key in ['power', 'speed', 'speed+']]\n",
    "    return sum(s)\n",
    "\n",
    "def calc_yoga_scores(row):\n",
    "    s = [row[key] * scores_translator[key] for key in ['yoga', ]]\n",
    "    return sum(s)"
   ]
  },
  {
   "cell_type": "code",
   "execution_count": null,
   "metadata": {},
   "outputs": [],
   "source": [
    "scores = sessions.apply(calc_score, axis=1)\n",
    "hangboard_scores = sessions.apply(calc_hangboard_scores, axis=1)\n",
    "gym_scores = sessions.apply(calc_gym_scores, axis=1)\n",
    "climbing_scores = sessions.apply(calc_climbing_scores, axis=1)\n",
    "arc_scores = sessions.apply(calc_arc_scores, axis=1)\n",
    "tech_scores = sessions.apply(calc_technique_scores, axis=1)\n",
    "power_scores = sessions.apply(calc_power_scores, axis=1)\n",
    "yoga_scores = sessions.apply(calc_yoga_scores, axis=1)\n",
    "\n",
    "sessions['scores'] = scores\n",
    "sessions['hang_scores'] = hangboard_scores\n",
    "sessions['gym_scores'] = gym_scores\n",
    "sessions['climbing_scores'] = climbing_scores\n",
    "sessions['arc_scores'] = arc_scores\n",
    "sessions['tech_scores'] = tech_scores\n",
    "sessions['power_scores'] = power_scores\n",
    "sessions['yoga_scores'] = yoga_scores"
   ]
  },
  {
   "cell_type": "code",
   "execution_count": null,
   "metadata": {},
   "outputs": [],
   "source": [
    "doripa = sessions[sessions.monkey == 'doripa']\n",
    "sunshine_sessions = sessions[sessions.monkey == 'sunshine']"
   ]
  },
  {
   "cell_type": "markdown",
   "metadata": {},
   "source": [
    "# Doripa: Five last entries"
   ]
  },
  {
   "cell_type": "code",
   "execution_count": null,
   "metadata": {},
   "outputs": [],
   "source": [
    "doripa.tail()[['climbing_scores', 'tech_scores', 'gym_scores', 'hang_scores', 'arc_scores']]"
   ]
  },
  {
   "cell_type": "markdown",
   "metadata": {},
   "source": [
    "# Doripa: Maximal sessions"
   ]
  },
  {
   "cell_type": "code",
   "execution_count": null,
   "metadata": {},
   "outputs": [],
   "source": [
    "doripa[['climbing_scores', 'tech_scores', 'gym_scores', 'hang_scores', 'arc_scores']].max()"
   ]
  },
  {
   "cell_type": "markdown",
   "metadata": {},
   "source": [
    "# Sunshine: Last five scores"
   ]
  },
  {
   "cell_type": "code",
   "execution_count": null,
   "metadata": {},
   "outputs": [],
   "source": [
    "sunshine_sessions.tail()[['climbing_scores', 'tech_scores', 'gym_scores', 'hang_scores', 'arc_scores']]"
   ]
  },
  {
   "cell_type": "markdown",
   "metadata": {},
   "source": [
    "# Sunshine: Maximal Sessions"
   ]
  },
  {
   "cell_type": "code",
   "execution_count": null,
   "metadata": {},
   "outputs": [],
   "source": [
    "sunshine_sessions[['climbing_scores', 'tech_scores', 'gym_scores', 'hang_scores', 'arc_scores']].max()"
   ]
  },
  {
   "cell_type": "code",
   "execution_count": null,
   "metadata": {},
   "outputs": [],
   "source": [
    "def plot_stacked_scores(athlete):\n",
    "    plt.figure(figsize=(30,10))\n",
    "    \n",
    "    x = np.arange(len(athlete))\n",
    "    \n",
    "    athlete['additional_index'] = x\n",
    "    scores = [\n",
    "        athlete.climbing_scores,\n",
    "        athlete.yoga_scores,\n",
    "\n",
    "        athlete.tech_scores,\n",
    "        athlete.power_scores,\n",
    "\n",
    "        athlete.gym_scores,\n",
    "        athlete.arc_scores,\n",
    "\n",
    "        athlete.hang_scores,\n",
    "    ]\n",
    "    \n",
    "    labels = ['Climbing', 'Yoga', 'Technique', 'Power', 'Gymnastics', 'ARC', 'Hangboarding',  ]\n",
    "    colors = [ 'cornflowerblue', 'darkturquoise', 'mediumorchid', 'red', 'gold', 'gray', 'lightgreen', ]\n",
    "\n",
    "    y = np.vstack(scores)\n",
    "    plt.stackplot(x, y, labels=labels, colors=colors)\n",
    "    plt.plot(x, athlete.scores, marker='o', color='lightgray')\n",
    "\n",
    "    for index, row in athlete.iterrows():\n",
    "        if row.notes:\n",
    "            plt.annotate(row.notes, xy=(row.additional_index, row.scores), fontsize=14, fontweight='bold')\n",
    "            \n",
    "    plt.legend(loc=2)\n",
    "    plt.show()\n",
    "    \n",
    "def plot_scores(athlete):\n",
    "    \"\"\"\n",
    "    Plot the following scores:\n",
    "    \n",
    "    - Hangboard\n",
    "    - Climbing\n",
    "    - Gymnastics \n",
    "    - Technical Scores\n",
    "    \n",
    "    \"\"\"\n",
    "    fig, axes = plt.subplots()\n",
    "    ax1 = fig.add_subplot(221)\n",
    "    ax2 = fig.add_subplot(222)\n",
    "    ax3 = fig.add_subplot(223)\n",
    "    ax4 = fig.add_subplot(224)\n",
    "    \n",
    "    ax1.set_title('Hangboarding')\n",
    "    ax2.set_title('Gymnastics')\n",
    "    ax3.set_title('Climbing')\n",
    "    ax4.set_title('Technique')\n",
    "    \n",
    "    athlete_hang_scores = athlete[athlete.hang > 0]\n",
    "    athelete_gym_scores = athlete[athlete.gym_scores > 0]\n",
    "    athlete_climbing_scores = athlete[athlete.climbing_scores > 0]\n",
    "    athlete_tech_scores = athlete[athlete.tech_scores > 0]\n",
    "    \n",
    "    # plt.figure(figsize=(20,10))\n",
    "    # plt.plot(athlete_hang_scores.hang_scores, marker='o', color='green')\n",
    "    \n",
    "    athlete_hang_scores.hang_scores.plot(ax=ax1, figsize=(20, 10), marker='o', color='green')\n",
    "    athelete_gym_scores.gym_scores.plot(ax=ax2, figsize=(20, 10), marker='o', color='gold')\n",
    "    athlete_climbing_scores.climbing_scores.plot(ax=ax3, figsize=(20, 10), marker='o', color='cornflowerblue')\n",
    "    athlete_tech_scores.tech_scores.plot(ax=ax4, figsize=(20, 10), marker='o', color='mediumorchid')\n",
    "    \n",
    "    plt.show()"
   ]
  },
  {
   "cell_type": "code",
   "execution_count": null,
   "metadata": {},
   "outputs": [],
   "source": []
  },
  {
   "cell_type": "code",
   "execution_count": null,
   "metadata": {
    "scrolled": true
   },
   "outputs": [],
   "source": [
    "plot_stacked_scores(doripa);"
   ]
  },
  {
   "cell_type": "code",
   "execution_count": null,
   "metadata": {},
   "outputs": [],
   "source": [
    "plot_scores(doripa)"
   ]
  },
  {
   "cell_type": "code",
   "execution_count": null,
   "metadata": {},
   "outputs": [],
   "source": [
    "scores = [\n",
    "    doripa[doripa.scores > 0].scores,\n",
    "    doripa[doripa.climbing_scores > 0].climbing_scores,\n",
    "\n",
    "    doripa[doripa.tech_scores > 0].tech_scores,\n",
    "    doripa[doripa.gym_scores > 0].gym_scores,\n",
    "    doripa[doripa.arc_scores > 0].arc_scores,\n",
    "\n",
    "    doripa[doripa.hang_scores > 0].hang_scores,\n",
    "]\n",
    "labels = ['Score', 'Climbing', 'Technique', 'Gymnastics', 'ARC', 'Hangboarding']\n",
    "plt.boxplot(scores, labels=labels)\n",
    "plt.show()"
   ]
  },
  {
   "cell_type": "code",
   "execution_count": null,
   "metadata": {},
   "outputs": [],
   "source": [
    "plot_stacked_scores(sunshine_sessions)\n"
   ]
  },
  {
   "cell_type": "code",
   "execution_count": null,
   "metadata": {},
   "outputs": [],
   "source": [
    "plot_scores(sunshine_sessions)"
   ]
  },
  {
   "cell_type": "code",
   "execution_count": null,
   "metadata": {},
   "outputs": [],
   "source": [
    "scores = [\n",
    "    sunshine_sessions[sunshine_sessions.scores > 0].scores,\n",
    "    sunshine_sessions[sunshine_sessions.climbing_scores > 0].climbing_scores,\n",
    "\n",
    "    sunshine_sessions[sunshine_sessions.tech_scores > 0].tech_scores,\n",
    "    sunshine_sessions[sunshine_sessions.gym_scores > 0].gym_scores,\n",
    "    sunshine_sessions[sunshine_sessions.arc_scores > 0].arc_scores,\n",
    "\n",
    "    sunshine_sessions[sunshine_sessions.hang_scores > 0].hang_scores,\n",
    "]\n",
    "labels = ['Score', 'Climbing', 'Technique', 'Gymnastics', 'ARC', 'Hangboarding']\n",
    "plt.boxplot(scores, labels=labels)\n",
    "plt.show()\n",
    "# plt.boxplot(sunshine_sessions[sunshine_sessions.gym_scores > 0].gym_scores)"
   ]
  },
  {
   "cell_type": "code",
   "execution_count": null,
   "metadata": {},
   "outputs": [],
   "source": [
    "plt.matshow(doripa[['total', 'total6', 'scores']].corr());"
   ]
  },
  {
   "cell_type": "code",
   "execution_count": null,
   "metadata": {},
   "outputs": [],
   "source": [
    "doripa[['total', 'total6', 'scores']].corr()"
   ]
  },
  {
   "cell_type": "code",
   "execution_count": null,
   "metadata": {},
   "outputs": [],
   "source": [
    "doripa['total'].corr(doripa['total6'])"
   ]
  },
  {
   "cell_type": "code",
   "execution_count": null,
   "metadata": {},
   "outputs": [],
   "source": [
    "doripa['total'].corr(doripa['scores'])"
   ]
  },
  {
   "cell_type": "code",
   "execution_count": null,
   "metadata": {},
   "outputs": [],
   "source": [
    "doripa['scores'].corr(doripa['total6'])"
   ]
  },
  {
   "cell_type": "code",
   "execution_count": null,
   "metadata": {},
   "outputs": [],
   "source": [
    "sunshine_sessions.corr()['scores']"
   ]
  },
  {
   "cell_type": "code",
   "execution_count": null,
   "metadata": {},
   "outputs": [],
   "source": [
    "doripa.corr()['scores'].sort_values()"
   ]
  },
  {
   "cell_type": "code",
   "execution_count": null,
   "metadata": {},
   "outputs": [],
   "source": []
  },
  {
   "cell_type": "code",
   "execution_count": null,
   "metadata": {},
   "outputs": [],
   "source": []
  }
 ],
 "metadata": {
  "kernelspec": {
   "display_name": "Python 3",
   "language": "python",
   "name": "python3"
  },
  "language_info": {
   "codemirror_mode": {
    "name": "ipython",
    "version": 3
   },
   "file_extension": ".py",
   "mimetype": "text/x-python",
   "name": "python",
   "nbconvert_exporter": "python",
   "pygments_lexer": "ipython3",
   "version": "3.5.2"
  }
 },
 "nbformat": 4,
 "nbformat_minor": 2
}
