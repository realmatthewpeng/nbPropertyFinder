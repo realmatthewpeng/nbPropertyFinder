{
 "cells": [
  {
   "cell_type": "markdown",
   "metadata": {},
   "source": [
    "# 4 Years at College Expressed in Data"
   ]
  },
  {
   "cell_type": "code",
   "execution_count": null,
   "metadata": {},
   "outputs": [],
   "source": [
    "import datetime\n",
    "\n",
    "import numpy as np\n",
    "import pandas as pd\n",
    "from ics import Calendar\n",
    "\n",
    "import matplotlib.pyplot as plt\n",
    "from plotly.offline import download_plotlyjs, init_notebook_mode, plot, iplot\n",
    "import plotly.graph_objs as go\n",
    "from plotly import tools\n",
    "import cufflinks as cf\n",
    "\n",
    "from lib.custom_utils import generate_wordcloud, get_semester_date_range, get_semester_asana, get_semester_via_col\n",
    "\n",
    "init_notebook_mode(connected=True)\n",
    "cf.set_config_file(world_readable=True, offline=True)"
   ]
  },
  {
   "cell_type": "markdown",
   "metadata": {},
   "source": [
    "## Constants"
   ]
  },
  {
   "cell_type": "code",
   "execution_count": null,
   "metadata": {},
   "outputs": [],
   "source": [
    "all_color = 'rgba(219, 64, 82, 1.0)'\n",
    "\n",
    "semester_codes = ['f16', 's17', 'f17', 's18', 'f18', 's19', 'f19', 's20']\n",
    "\n",
    "semester_colors = {\n",
    "    'f16': 'rgba(76, 175, 95, 1.0)',\n",
    "    's17': 'rgba(0, 150, 143, 1.0)',\n",
    "    'f17': 'rgba(0, 188, 223 1.0)',\n",
    "    's18': 'rgba(3, 169, 255, 1.0)',\n",
    "    'f18': 'rgba(33, 150, 255, 1.0)',\n",
    "    's19': 'rgba(63, 81, 181, 1.0)',\n",
    "    'f19': 'rgba(103, 58, 183, 1.0)',\n",
    "    's20': 'rgba(156, 39, 176, 1.0)',\n",
    "}\n",
    "\n",
    "semester_names = {\n",
    "    'f16': 'Fall 16',\n",
    "    's17': 'Spring 17',\n",
    "    'f17': 'Fall 17',\n",
    "    's18': 'Spring 18',\n",
    "    'f18': 'Fall 18',\n",
    "    's19': 'Spring 19',\n",
    "    'f19': 'Fall 19',\n",
    "    's20': 'Spring 20',\n",
    "}"
   ]
  },
  {
   "cell_type": "markdown",
   "metadata": {},
   "source": [
    "## Load Data"
   ]
  },
  {
   "cell_type": "code",
   "execution_count": null,
   "metadata": {},
   "outputs": [],
   "source": [
    "old_df = pd.read_csv('data/School.csv', parse_dates=[1, 2, 3, 7, 8])"
   ]
  },
  {
   "cell_type": "code",
   "execution_count": null,
   "metadata": {},
   "outputs": [],
   "source": [
    "f18_df = pd.read_csv('data/asana-umass-f18.csv', parse_dates=[1, 2, 3, 8, 9])\n",
    "#s19_df = pd.read_csv('data/asana-umass-s19.csv', parse_dates=[1, 2, 3, 8, 9])\n",
    "#f19_df = pd.read_csv('data/asana-umass-f19.csv', parse_dates=[1, 2, 3, 8, 9])\n",
    "#s20_df = pd.read_csv('data/asana-umass-s20.csv', parse_dates=[1, 2, 3, 8, 9])"
   ]
  },
  {
   "cell_type": "code",
   "execution_count": null,
   "metadata": {},
   "outputs": [],
   "source": [
    "all_df = pd.concat([old_df, f18_df], verify_integrity=True, ignore_index=True, sort=True)\n",
    "all_df.head()"
   ]
  },
  {
   "cell_type": "markdown",
   "metadata": {},
   "source": [
    "## Task Creation Day of Week"
   ]
  },
  {
   "cell_type": "code",
   "execution_count": null,
   "metadata": {},
   "outputs": [],
   "source": [
    "all_df['Created At DOW'] = all_df['Created At'].dt.dayofweek"
   ]
  },
  {
   "cell_type": "code",
   "execution_count": null,
   "metadata": {},
   "outputs": [],
   "source": [
    "data = []\n",
    "for sem in semester_codes:\n",
    "    data.append(\n",
    "        go.Bar(\n",
    "            x=get_semester_asana(all_df, sem)['Created At DOW'].value_counts(normalize=True).keys(),\n",
    "            y=get_semester_asana(all_df, sem)['Created At DOW'].value_counts(normalize=True).values,\n",
    "            name=semester_names[sem],\n",
    "            marker={ 'color': semester_colors[sem] }\n",
    "        )\n",
    "    )\n",
    "\n",
    "layout = go.Layout(\n",
    "    barmode='group'\n",
    ")\n",
    "\n",
    "fig = go.Figure(data=data, layout=layout)\n",
    "iplot(fig, filename='DOW Comparison')"
   ]
  },
  {
   "cell_type": "markdown",
   "metadata": {},
   "source": [
    "## Busiest Class per Semester\n",
    "\n",
    "Note: Data only availible for last 4 semesters because the way I separated tasks before didn't label the class."
   ]
  },
  {
   "cell_type": "code",
   "execution_count": null,
   "metadata": {},
   "outputs": [],
   "source": [
    "# https://community.plot.ly/t/setting-up-pie-charts-subplots-with-an-appropriate-size-and-spacing/5066\n",
    "domains = [\n",
    "    {'x': [0, .48], 'y': [.51, 1]}, #cell (1,1)\n",
    "    {'x': [.52, 1], 'y': [.51, 1]}, #cell (1,2)\n",
    "    {'x': [0, .48], 'y': [0, .49]}, #cell (2,1)\n",
    "    {'x': [.52, 1], 'y': [0, .49]}  #cell (2,2)\n",
    "]\n",
    "\n",
    "fig = {\n",
    "    'data': [],\n",
    "    \"layout\": {\n",
    "        \"title\":\"Busiest Class per Semester\",\n",
    "        \"annotations\": [],\n",
    "        'autosize': False,\n",
    "        'height': 850,\n",
    "        'width': 900\n",
    "    }\n",
    "}\n",
    "\n",
    "for i, sem in enumerate(semester_codes[4:]):\n",
    "    fig['data'].append(\n",
    "        {\n",
    "            \"values\": get_semester_asana(all_df, sem)['Column'].value_counts().values,\n",
    "            \"labels\": get_semester_asana(all_df, sem)['Column'].value_counts().keys(),\n",
    "            'domain': domains[i],\n",
    "            \"name\": semester_names[sem],\n",
    "            \"hoverinfo\":\"label+percent+name\",\n",
    "            \"hole\": .4,\n",
    "            \"type\": \"pie\"\n",
    "        }\n",
    "    )\n",
    "    \n",
    "    fig['layout']['annotations'].append(\n",
    "        {\n",
    "            \"font\": {\n",
    "                \"size\": 15\n",
    "            },\n",
    "            \"showarrow\": False,\n",
    "            \"text\": semester_names[sem],\n",
    "            \"x\": 0.82 if i % 2 != 0 else 0.20,\n",
    "            \"y\": 0.23 if i >= 2 else 0.78\n",
    "        }\n",
    "    )\n",
    "\n",
    "iplot(fig, filename='donut')"
   ]
  },
  {
   "cell_type": "markdown",
   "metadata": {},
   "source": [
    "## Completion Time"
   ]
  },
  {
   "cell_type": "code",
   "execution_count": null,
   "metadata": {},
   "outputs": [],
   "source": [
    "all_df['Duration'] = (all_df['Completed At'] - all_df['Created At'])"
   ]
  },
  {
   "cell_type": "code",
   "execution_count": null,
   "metadata": {},
   "outputs": [],
   "source": [
    "data = []\n",
    "for sem in semester_codes:\n",
    "    data.append(\n",
    "        go.Bar(\n",
    "            x=get_semester_asana(all_df, sem)[(get_semester_asana(all_df, sem)['Duration'].astype('timedelta64[D]') < 30)]['Duration'].value_counts(normalize=True).keys().days,\n",
    "            y=get_semester_asana(all_df, sem)[(get_semester_asana(all_df, sem)['Duration'].astype('timedelta64[D]') < 30)]['Duration'].value_counts(normalize=True).values,\n",
    "            name=semester_names[sem],\n",
    "            marker={ 'color': semester_colors[sem] }\n",
    "        )\n",
    "    )\n",
    "\n",
    "layout = go.Layout(\n",
    "    barmode='group'\n",
    ")\n",
    "\n",
    "fig = go.Figure(data=data, layout=layout)\n",
    "iplot(fig, filename='grouped-bar')"
   ]
  },
  {
   "cell_type": "code",
   "execution_count": null,
   "metadata": {},
   "outputs": [],
   "source": [
    "# concatenate all name fields from tasks separated by duration of 3 days\n",
    "less_text = ' '.join(list(all_df[all_df['Duration'].astype('timedelta64[D]') < 3]['Name'].dropna()))\n",
    "grtr_text = ' '.join(list(all_df[all_df['Duration'].astype('timedelta64[D]') >= 3]['Name'].dropna()))\n",
    "\n",
    "less_wordcloud = generate_wordcloud(less_text)\n",
    "grtr_wordcloud = generate_wordcloud(grtr_text)\n",
    "\n",
    "# display wordclouds using matplotlib\n",
    "f, axes = plt.subplots(1, 2, sharex=True)\n",
    "f.set_size_inches(18, 10)\n",
    "axes[0].imshow(less_wordcloud, interpolation=\"bilinear\")\n",
    "axes[0].set_title('<3 days', fontsize=36)\n",
    "axes[0].axis(\"off\")\n",
    "axes[1].imshow(grtr_wordcloud, interpolation=\"bilinear\")\n",
    "axes[1].set_title('>=3 days', fontsize=36)\n",
    "axes[1].axis(\"off\")"
   ]
  },
  {
   "cell_type": "markdown",
   "metadata": {},
   "source": [
    "## Due Date Frequency"
   ]
  },
  {
   "cell_type": "code",
   "execution_count": null,
   "metadata": {},
   "outputs": [],
   "source": [
    "data = []\n",
    "for i, sem in enumerate(semester_codes):\n",
    "    data.append(\n",
    "        go.Bar(\n",
    "            x=get_semester_asana(all_df, sem)['Due Date'].dropna().value_counts().keys(),\n",
    "            y=get_semester_asana(all_df, sem)['Due Date'].dropna().value_counts().values,\n",
    "            name=semester_names[sem],\n",
    "            marker={ 'color': semester_colors[sem] },\n",
    "            yaxis='y' + str(i+1)\n",
    "        )\n",
    "    )\n",
    "\n",
    "fig = tools.make_subplots(rows=4, cols=2, subplot_titles=list(semester_names.values()))\n",
    "\n",
    "fig.append_trace(data[0], 1, 1)\n",
    "fig.append_trace(data[1], 1, 2)\n",
    "fig.append_trace(data[2], 2, 1)\n",
    "fig.append_trace(data[3], 2, 2)\n",
    "fig.append_trace(data[4], 3, 1)\n",
    "fig.append_trace(data[5], 3, 2)\n",
    "fig.append_trace(data[6], 4, 1)\n",
    "fig.append_trace(data[7], 4, 2)\n",
    "\n",
    "for i, sem in enumerate(semester_codes):\n",
    "    fig['layout']['xaxis' + str(i+1)].update(range=get_semester_date_range(sem, unix_time=True))\n",
    "    fig['layout']['yaxis' + str(i+1)].update(range=[0, 10])\n",
    "\n",
    "fig.layout.update(height=1000)\n",
    "fig.layout.update(title='Due Date Frequency')\n",
    "\n",
    "iplot(fig, filename='due date freq')"
   ]
  },
  {
   "cell_type": "markdown",
   "metadata": {},
   "source": [
    "## Overdue Tasks"
   ]
  },
  {
   "cell_type": "code",
   "execution_count": null,
   "metadata": {},
   "outputs": [],
   "source": [
    "all_df['Overdue'] = all_df['Completed At'] - all_df['Due Date']"
   ]
  },
  {
   "cell_type": "code",
   "execution_count": null,
   "metadata": {},
   "outputs": [],
   "source": [
    "data = []\n",
    "for sem in semester_codes:\n",
    "    data.append(\n",
    "        go.Bar(\n",
    "            x=get_semester_asana(all_df, sem)['Overdue'].value_counts(normalize=True).keys().days,\n",
    "            y=get_semester_asana(all_df, sem)['Overdue'].value_counts(normalize=True).values,\n",
    "            name=semester_names[sem],\n",
    "            marker={ 'color': semester_colors[sem] }\n",
    "        )\n",
    "    )\n",
    "\n",
    "layout = go.Layout(\n",
    "    barmode='group'\n",
    ")\n",
    "\n",
    "fig = go.Figure(data=data, layout=layout)\n",
    "iplot(fig, filename='grouped-bar')"
   ]
  },
  {
   "cell_type": "code",
   "execution_count": null,
   "metadata": {},
   "outputs": [],
   "source": [
    "data = []\n",
    "for i, sem in enumerate(semester_codes):\n",
    "    data.append(\n",
    "        go.Bar(\n",
    "            x=get_semester_asana(all_df, sem)['Overdue'].value_counts(normalize=True).keys().days,\n",
    "            y=get_semester_asana(all_df, sem)['Overdue'].value_counts(normalize=True).values,\n",
    "            name=semester_names[sem],\n",
    "            marker={ 'color': semester_colors[sem] },\n",
    "            yaxis='y' + str(i+1)\n",
    "        )\n",
    "    )\n",
    "\n",
    "fig = tools.make_subplots(rows=4, cols=2, subplot_titles=list(semester_names.values()))\n",
    "\n",
    "fig.append_trace(data[0], 1, 1)\n",
    "fig.append_trace(data[1], 1, 2)\n",
    "fig.append_trace(data[2], 2, 1)\n",
    "fig.append_trace(data[3], 2, 2)\n",
    "fig.append_trace(data[4], 3, 1)\n",
    "fig.append_trace(data[5], 3, 2)\n",
    "fig.append_trace(data[6], 4, 1)\n",
    "fig.append_trace(data[7], 4, 2)\n",
    "\n",
    "for i, sem in enumerate(semester_codes):\n",
    "    fig['layout']['xaxis' + str(i+1)].update(range=[-28, 28])\n",
    "    fig['layout']['yaxis' + str(i+1)].update(range=[0, 0.7])\n",
    "\n",
    "fig.layout.update(height=1000)\n",
    "fig.layout.update(title='Overdue Spread')\n",
    "\n",
    "iplot(fig, filename='overdue spread')"
   ]
  },
  {
   "cell_type": "code",
   "execution_count": null,
   "metadata": {},
   "outputs": [],
   "source": [
    "# concatenate all name fields from overdue tasks\n",
    "before_text = ' '.join(list(all_df[all_df['Overdue'].astype('timedelta64[D]') < 0]['Name'].dropna()))\n",
    "sameday_text = ' '.join(list(all_df[all_df['Overdue'].astype('timedelta64[D]') == 0]['Name'].dropna()))\n",
    "overdue_text = ' '.join(list(all_df[all_df['Overdue'].astype('timedelta64[D]') > 0]['Name'].dropna()))\n",
    "\n",
    "before_wordcloud = generate_wordcloud(before_text)\n",
    "sameday_wordcloud = generate_wordcloud(sameday_text)\n",
    "overdue_wordcloud = generate_wordcloud(overdue_text)\n",
    "\n",
    "# display wordclouds using matplotlib\n",
    "f, axes = plt.subplots(2, 2, sharex=True)\n",
    "f.set_size_inches(18, 10)\n",
    "axes[0, 0].imshow(before_wordcloud, interpolation=\"bilinear\")\n",
    "axes[0, 0].set_title('Completed Before', fontsize=36)\n",
    "axes[0, 0].axis(\"off\")\n",
    "axes[0, 1].imshow(sameday_wordcloud, interpolation=\"bilinear\")\n",
    "axes[0, 1].set_title('Completed Same Day', fontsize=36)\n",
    "axes[0, 1].axis(\"off\")\n",
    "axes[1, 0].imshow(overdue_wordcloud, interpolation=\"bilinear\")\n",
    "axes[1, 0].set_title('Overdue', fontsize=36)\n",
    "axes[1, 0].axis(\"off\")\n",
    "axes[1, 1].axis(\"off\")"
   ]
  },
  {
   "cell_type": "markdown",
   "metadata": {},
   "source": [
    "# Exams"
   ]
  },
  {
   "cell_type": "code",
   "execution_count": null,
   "metadata": {},
   "outputs": [],
   "source": [
    "with open('data/Exams_2alvmakoou6sa9ks0roaq79nic@group.calendar.google.com.ics', 'r') as f:\n",
    "    exams_cal = Calendar(f.readlines())"
   ]
  },
  {
   "cell_type": "code",
   "execution_count": null,
   "metadata": {},
   "outputs": [],
   "source": [
    "exam_counts = {}\n",
    "for exam in exams_cal.events:\n",
    "    exam_date_str = exam.begin.strftime('%Y-%m-%d')\n",
    "    exam_counts[exam_date_str] = exam_counts.get(exam_date_str, 0) + 1\n",
    "    \n",
    "exam_counts = pd.DataFrame.from_dict({ 'date': list(exam_counts.keys()), 'num': list(exam_counts.values()) })\n",
    "exam_counts['date']  = pd.to_datetime(exam_counts['date'])"
   ]
  },
  {
   "cell_type": "code",
   "execution_count": null,
   "metadata": {},
   "outputs": [],
   "source": [
    "data = []\n",
    "for i, sem in enumerate(semester_codes):\n",
    "    data.append(\n",
    "        go.Bar(\n",
    "            x=get_semester_via_col(exam_counts, 'date', sem)['date'],\n",
    "            y=get_semester_via_col(exam_counts, 'date', sem)['num'],\n",
    "            name=semester_names[sem],\n",
    "            marker={ 'color': semester_colors[sem] },\n",
    "            yaxis='y' + str(i+1)\n",
    "        )\n",
    "    )\n",
    "\n",
    "fig = tools.make_subplots(rows=4, cols=2, subplot_titles=list(semester_names.values()))\n",
    "\n",
    "fig.append_trace(data[0], 1, 1)\n",
    "fig.append_trace(data[1], 1, 2)\n",
    "fig.append_trace(data[2], 2, 1)\n",
    "fig.append_trace(data[3], 2, 2)\n",
    "fig.append_trace(data[4], 3, 1)\n",
    "fig.append_trace(data[5], 3, 2)\n",
    "fig.append_trace(data[6], 4, 1)\n",
    "fig.append_trace(data[7], 4, 2)\n",
    "                                                                               \n",
    "for i, sem in enumerate(semester_codes):\n",
    "    fig['layout']['xaxis' + str(i+1)].update(range=get_semester_date_range(sem, unix_time=True))\n",
    "    fig['layout']['yaxis' + str(i+1)].update(range=[0, 3])\n",
    "\n",
    "fig.layout.update(height=1000)\n",
    "fig.layout.update(title='Exams')\n",
    "\n",
    "iplot(fig, filename='due date freq')"
   ]
  },
  {
   "cell_type": "code",
   "execution_count": null,
   "metadata": {},
   "outputs": [],
   "source": []
  }
 ],
 "metadata": {
  "kernelspec": {
   "display_name": "Python 3",
   "language": "python",
   "name": "python3"
  },
  "language_info": {
   "codemirror_mode": {
    "name": "ipython",
    "version": 3
   },
   "file_extension": ".py",
   "mimetype": "text/x-python",
   "name": "python",
   "nbconvert_exporter": "python",
   "pygments_lexer": "ipython3",
   "version": "3.6.7"
  }
 },
 "nbformat": 4,
 "nbformat_minor": 2
}
