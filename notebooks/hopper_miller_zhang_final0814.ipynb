{
 "cells": [
  {
   "cell_type": "markdown",
   "metadata": {},
   "source": [
    "## Shelter Animal Outcomes\n",
    "#### MIDS W207 Final Project\n",
    "#### Clay Miller, Roseanna Hopper, Yubo Zhang"
   ]
  },
  {
   "cell_type": "markdown",
   "metadata": {},
   "source": [
    "### Introduction\n",
    "\n",
    "Approximately 6.5 to 7.6 million companion animals enter the animal shelters across the U.S. each year. Each year, approximately 1.5 million shelter animals are euthanized (670,000 dogs and 860,000 cats). The number of dogs and cats euthanized in U.S. shelters annually has declined from approximately 2.6 million in 2011. This decline can be partially explained by an increase in the percentage of animals adopted and an increase in the number of stray animals successfully returned to their owners.\n",
    "\n",
    "For this exploration, we are using a dataset of intake information including breed, color, sex, and age from the [Austin Animal Center](https://www.kaggle.com/c/shelter-animal-outcomes), to develop a model that can be used for shelters to predict the outcome for each animal.  We are hoping that by using this model, the shelter can provide a little bit of extra help for animals that have a low adoption rate. In addition, we are hoping this dataset can help us to provide some key findings (for example, if age and gender would impact the adoption rate for dogs, if neutered or spayed cats are more likely to be adopted), understand which factors impact the chance of adoption, and identify differences between dog and cat adoption trends.  "
   ]
  },
  {
   "cell_type": "code",
   "execution_count": 1,
   "metadata": {
    "collapsed": false,
    "scrolled": true
   },
   "outputs": [
    {
     "data": {
      "text/html": [
       "\n",
       "    <div class=\"bk-root\">\n",
       "        <a href=\"http://bokeh.pydata.org\" target=\"_blank\" class=\"bk-logo bk-logo-small bk-logo-notebook\"></a>\n",
       "        <span id=\"42c3d64b-f050-4f45-86db-5b8dc09a74d3\">Loading BokehJS ...</span>\n",
       "    </div>"
      ]
     },
     "metadata": {},
     "output_type": "display_data"
    },
    {
     "data": {
      "application/javascript": [
       "\n",
       "(function(global) {\n",
       "  function now() {\n",
       "    return new Date();\n",
       "  }\n",
       "\n",
       "  var force = \"1\";\n",
       "\n",
       "  if (typeof (window._bokeh_onload_callbacks) === \"undefined\" || force !== \"\") {\n",
       "    window._bokeh_onload_callbacks = [];\n",
       "    window._bokeh_is_loading = undefined;\n",
       "  }\n",
       "\n",
       "\n",
       "  \n",
       "  if (typeof (window._bokeh_timeout) === \"undefined\" || force !== \"\") {\n",
       "    window._bokeh_timeout = Date.now() + 5000;\n",
       "    window._bokeh_failed_load = false;\n",
       "  }\n",
       "\n",
       "  var NB_LOAD_WARNING = {'data': {'text/html':\n",
       "     \"<div style='background-color: #fdd'>\\n\"+\n",
       "     \"<p>\\n\"+\n",
       "     \"BokehJS does not appear to have successfully loaded. If loading BokehJS from CDN, this \\n\"+\n",
       "     \"may be due to a slow or bad network connection. Possible fixes:\\n\"+\n",
       "     \"</p>\\n\"+\n",
       "     \"<ul>\\n\"+\n",
       "     \"<li>re-rerun `output_notebook()` to attempt to load from CDN again, or</li>\\n\"+\n",
       "     \"<li>use INLINE resources instead, as so:</li>\\n\"+\n",
       "     \"</ul>\\n\"+\n",
       "     \"<code>\\n\"+\n",
       "     \"from bokeh.resources import INLINE\\n\"+\n",
       "     \"output_notebook(resources=INLINE)\\n\"+\n",
       "     \"</code>\\n\"+\n",
       "     \"</div>\"}};\n",
       "\n",
       "  function display_loaded() {\n",
       "    if (window.Bokeh !== undefined) {\n",
       "      Bokeh.$(\"#42c3d64b-f050-4f45-86db-5b8dc09a74d3\").text(\"BokehJS successfully loaded.\");\n",
       "    } else if (Date.now() < window._bokeh_timeout) {\n",
       "      setTimeout(display_loaded, 100)\n",
       "    }\n",
       "  }\n",
       "\n",
       "  function run_callbacks() {\n",
       "    window._bokeh_onload_callbacks.forEach(function(callback) { callback() });\n",
       "    delete window._bokeh_onload_callbacks\n",
       "    console.info(\"Bokeh: all callbacks have finished\");\n",
       "  }\n",
       "\n",
       "  function load_libs(js_urls, callback) {\n",
       "    window._bokeh_onload_callbacks.push(callback);\n",
       "    if (window._bokeh_is_loading > 0) {\n",
       "      console.log(\"Bokeh: BokehJS is being loaded, scheduling callback at\", now());\n",
       "      return null;\n",
       "    }\n",
       "    if (js_urls == null || js_urls.length === 0) {\n",
       "      run_callbacks();\n",
       "      return null;\n",
       "    }\n",
       "    console.log(\"Bokeh: BokehJS not loaded, scheduling load and callback at\", now());\n",
       "    window._bokeh_is_loading = js_urls.length;\n",
       "    for (var i = 0; i < js_urls.length; i++) {\n",
       "      var url = js_urls[i];\n",
       "      var s = document.createElement('script');\n",
       "      s.src = url;\n",
       "      s.async = false;\n",
       "      s.onreadystatechange = s.onload = function() {\n",
       "        window._bokeh_is_loading--;\n",
       "        if (window._bokeh_is_loading === 0) {\n",
       "          console.log(\"Bokeh: all BokehJS libraries loaded\");\n",
       "          run_callbacks()\n",
       "        }\n",
       "      };\n",
       "      s.onerror = function() {\n",
       "        console.warn(\"failed to load library \" + url);\n",
       "      };\n",
       "      console.log(\"Bokeh: injecting script tag for BokehJS library: \", url);\n",
       "      document.getElementsByTagName(\"head\")[0].appendChild(s);\n",
       "    }\n",
       "  };var element = document.getElementById(\"42c3d64b-f050-4f45-86db-5b8dc09a74d3\");\n",
       "  if (element == null) {\n",
       "    console.log(\"Bokeh: ERROR: autoload.js configured with elementid '42c3d64b-f050-4f45-86db-5b8dc09a74d3' but no matching script tag was found. \")\n",
       "    return false;\n",
       "  }\n",
       "\n",
       "  var js_urls = ['https://cdn.pydata.org/bokeh/release/bokeh-0.12.2.min.js', 'https://cdn.pydata.org/bokeh/release/bokeh-widgets-0.12.2.min.js', 'https://cdn.pydata.org/bokeh/release/bokeh-compiler-0.12.2.min.js'];\n",
       "\n",
       "  var inline_js = [\n",
       "    function(Bokeh) {\n",
       "      Bokeh.set_log_level(\"info\");\n",
       "    },\n",
       "    \n",
       "    function(Bokeh) {\n",
       "      \n",
       "      Bokeh.$(\"#42c3d64b-f050-4f45-86db-5b8dc09a74d3\").text(\"BokehJS is loading...\");\n",
       "    },\n",
       "    function(Bokeh) {\n",
       "      console.log(\"Bokeh: injecting CSS: https://cdn.pydata.org/bokeh/release/bokeh-0.12.2.min.css\");\n",
       "      Bokeh.embed.inject_css(\"https://cdn.pydata.org/bokeh/release/bokeh-0.12.2.min.css\");\n",
       "      console.log(\"Bokeh: injecting CSS: https://cdn.pydata.org/bokeh/release/bokeh-widgets-0.12.2.min.css\");\n",
       "      Bokeh.embed.inject_css(\"https://cdn.pydata.org/bokeh/release/bokeh-widgets-0.12.2.min.css\");\n",
       "    }\n",
       "  ];\n",
       "\n",
       "  function run_inline_js() {\n",
       "    \n",
       "    if ((window.Bokeh !== undefined) || (force === \"1\")) {\n",
       "      for (var i = 0; i < inline_js.length; i++) {\n",
       "        inline_js[i](window.Bokeh);\n",
       "      }if (force === \"1\") {\n",
       "        display_loaded();\n",
       "      }} else if (Date.now() < window._bokeh_timeout) {\n",
       "      setTimeout(run_inline_js, 100);\n",
       "    } else if (!window._bokeh_failed_load) {\n",
       "      console.log(\"Bokeh: BokehJS failed to load within specified timeout.\");\n",
       "      window._bokeh_failed_load = true;\n",
       "    } else if (!force) {\n",
       "      var cell = $(\"#42c3d64b-f050-4f45-86db-5b8dc09a74d3\").parents('.cell').data().cell;\n",
       "      cell.output_area.append_execute_result(NB_LOAD_WARNING)\n",
       "    }\n",
       "\n",
       "  }\n",
       "\n",
       "  if (window._bokeh_is_loading === 0) {\n",
       "    console.log(\"Bokeh: BokehJS loaded, going straight to plotting\");\n",
       "    run_inline_js();\n",
       "  } else {\n",
       "    load_libs(js_urls, function() {\n",
       "      console.log(\"Bokeh: BokehJS plotting callback run at\", now());\n",
       "      run_inline_js();\n",
       "    });\n",
       "  }\n",
       "}(this));"
      ]
     },
     "metadata": {},
     "output_type": "display_data"
    }
   ],
   "source": [
    "import pandas as pd\n",
    "import numpy as np\n",
    "import matplotlib.pyplot as plt\n",
    "import re\n",
    "import tensorflow \n",
    "import keras\n",
    "import itertools\n",
    "\n",
    "from sklearn import metrics\n",
    "from sklearn.preprocessing import StandardScaler\n",
    "from sklearn.feature_extraction import FeatureHasher, DictVectorizer\n",
    "from sklearn.pipeline import Pipeline\n",
    "from sklearn.pipeline import FeatureUnion\n",
    "from sklearn.grid_search import GridSearchCV\n",
    "from sklearn.metrics import confusion_matrix\n",
    "from sklearn.metrics import classification_report\n",
    "from sklearn.cross_validation import train_test_split\n",
    "from sklearn.linear_model import LogisticRegression\n",
    "from sklearn.base import BaseEstimator, TransformerMixin\n",
    "from bokeh.charts import Bar, output_file, show, output_notebook\n",
    "from keras.models import Sequential\n",
    "from keras.layers import Dense, Activation\n",
    "from sklearn.preprocessing import LabelBinarizer\n",
    "from sklearn.ensemble import RandomForestRegressor\n",
    "from sklearn.tree import DecisionTreeRegressor\n",
    "from IPython.core.display import Image, display\n",
    "from sklearn.externals.six import StringIO\n",
    "from IPython.display import Image  \n",
    "from sklearn import tree\n",
    "\n",
    "output_notebook()\n",
    "\n",
    "\n",
    "%matplotlib inline"
   ]
  },
  {
   "cell_type": "markdown",
   "metadata": {},
   "source": [
    "### Raw Data\n",
    "\n",
    "Each case in our raw training data is an individual animal, and the features include its characteristics (including name, animal type, age, gender, spay/neuter status, breed, coloring, and final outcome). Apart from age, all of the fields are categorical variables, so we’ll be creating binary variables for the majority of the fields (and their intersections). There are few missing values, and some cases where a field is marked as “Unknown” (appears in Name, Breed, and Gender). Overall, we are trying to predict the animal’s “final outcome”, of which there are five possibilities.\n"
   ]
  },
  {
   "cell_type": "code",
   "execution_count": 3,
   "metadata": {
    "collapsed": true
   },
   "outputs": [],
   "source": [
    "# Load the data\n",
    "data = pd.read_csv('../data/train.csv')\n",
    "breeds = pd.read_csv('../data/breeds.csv')\n",
    "breeds['Breed'] = breeds['Breed'].str.strip()\n",
    "top_breed_list = []\n",
    "for b in breeds['Breed']:\n",
    "    top_breed_list.append(b.strip())\n",
    "data['OutcomeSubtype'] = data['OutcomeSubtype'].fillna('')\n",
    "data['Female'] = 'Female' in data['SexuponOutcome']\n",
    "data['AgeuponOutcome'].fillna('', inplace = True)\n",
    "\n",
    "#Create a continuous variable for age, making sure\n",
    "#that all listed ages are on the same scale (months)\n",
    "def ageConvert(age):\n",
    "    regexyear = '(\\d+) year'\n",
    "    regexmnth = '(\\d+) month'\n",
    "    regexwk = '(\\d+) week'\n",
    "    regexday = '(\\d+) day'\n",
    "    if re.match(regexyear, age):\n",
    "        const = int(re.match(regexyear, age).groups()[0])\n",
    "        return const*52\n",
    "    elif re.match(regexmnth, age):\n",
    "        const = int(re.match(regexmnth, age).groups()[0])\n",
    "        return const*4.5 # a month is roughly 4.5 weeks\n",
    "    elif re.match(regexwk, age):\n",
    "        return int(re.match(regexwk, age).groups()[0])\n",
    "    elif re.match(regexday, age):\n",
    "        const = int(re.match(regexday, age).groups()[0])\n",
    "        return const/7 #7 days in a week\n",
    "    else:\n",
    "        return None\n",
    "    \n",
    "data['ConvertedAge']=data['AgeuponOutcome'].apply(ageConvert)\n",
    "\n",
    "\n",
    "#Separate SexuponOutcome into Male/Female and into Intact/Spayed-Neutered\n",
    "def female(i):\n",
    "    i = str(i)\n",
    "    if i.find('Female') >= 0: return 'Female'\n",
    "    if i.find('Unknown') >= 0: return 'Unknown'\n",
    "    return 'Male'\n",
    "data['Female'] = data.SexuponOutcome.apply(female)\n",
    "\n",
    "def intact(i):\n",
    "    i = str(i)\n",
    "    if i.find('Intact') >= 0: return 'Intact'\n",
    "    if i.find('Unknown') >= 0: return 'Unknown'\n",
    "    return 'Spayed/Neutered'\n",
    "data['Intact'] = data.SexuponOutcome.apply(intact)\n",
    "\n",
    "def mixed_breed(i):\n",
    "    i = str(i)\n",
    "    if i.find('Mix') >= 0: return 'Mixed Breed'\n",
    "    if i.find('/') >= 0: return 'Known Breed Combo'\n",
    "    return 'Nonmixed'\n",
    "data['MixedBreed'] = data.Breed.apply(mixed_breed)\n",
    "\n",
    "def top_breed(i):\n",
    "    i = str(i)\n",
    "    if any(word in i for word in top_breed_list):\n",
    "        return int(1)\n",
    "    else:\n",
    "        return int(0)\n",
    "data['TopBreed'] = data.Breed.apply(top_breed)\n",
    "\n",
    "def breed_rank(i):\n",
    "    i = str(i)\n",
    "    ranks = []\n",
    "    for word in top_breed_list:\n",
    "        if word in i:\n",
    "            ranks.append(int(breeds.loc[breeds['Breed'] == word]['2007']))\n",
    "    if len(ranks) > 0:\n",
    "        return np.mean(ranks)\n",
    "    else:\n",
    "        return 51.0\n",
    "data['BreedRank'] = data.Breed.apply(breed_rank)\n",
    "\n",
    "def pit_bull(i):\n",
    "    i = str(i)\n",
    "    if i.find(\"Pit Bull\") >=0: return int(1)\n",
    "    else: return int(0)\n",
    "data['PitBull'] = data.Breed.apply(pit_bull)\n",
    "\n",
    "def black_cat(i):\n",
    "    i = str(i)\n",
    "    if i == \"Black\": return int(1)\n",
    "    else: return int(0)\n",
    "data['BlackCat'] = data.Color.apply(black_cat)\n",
    "\n",
    "def naming(i):\n",
    "    if pd.isnull(i): return 'Unnamed'\n",
    "    return 'Named'\n",
    "data['Named'] = data.Name.apply(naming)\n",
    "\n",
    "#Change all breed and color strings so that they are ordered consistently\n",
    "#E.G. all \"brown/black\" and \"black/brown\" should become \"black, brown\"\n",
    "def reorder(i):\n",
    "    i = str(i)\n",
    "    if i.find(\" \") >= 0: i = i.replace(\" \", \"-\")\n",
    "    if i.find(\"/\") >= 0: i = i.replace(\"/\", \" \")\n",
    "    i = i.split()\n",
    "    i = sorted(i)\n",
    "    i = ' '.join(i)\n",
    "    return i\n",
    "\n",
    "data['OrderedColor'] = data.Color.apply(reorder)\n",
    "data['OrderedBreed'] = data.Breed.apply(reorder)\n"
   ]
  },
  {
   "cell_type": "code",
   "execution_count": 4,
   "metadata": {
    "collapsed": false,
    "scrolled": false
   },
   "outputs": [],
   "source": [
    "#Importing this because multiple deprecation warnings cluttering the output\n",
    "import warnings\n",
    "warnings.filterwarnings('ignore')\n",
    "\n",
    "continuous = ['ConvertedAge', 'BreedRank']\n",
    "discrete = [\n",
    "    'AnimalType',\n",
    "    'Female',\n",
    "    'Intact',\n",
    "    'MixedBreed',\n",
    "    'Named',\n",
    "    'TopBreed',\n",
    "    'PitBull',\n",
    "    'BlackCat'\n",
    "]\n",
    "target = 'OutcomeType'\n",
    "\n",
    "#For those missing an age, fill with the median age by animal type\n",
    "data[\"ConvertedAge\"] = data.groupby(\"AnimalType\").transform(lambda x: x.fillna(x.median()))\n",
    "data[continuous].describe().T\n",
    "\n",
    "#Turn categorical variables into binaries\n",
    "data2 = pd.concat([data[target], data[continuous], pd.get_dummies(data[discrete])], axis=1)\n",
    "\n",
    "discrete = ['AnimalType_Cat', 'AnimalType_Dog', 'Female_Female', 'Female_Male', 'Female_Unknown',\n",
    "           'Intact_Intact', 'Intact_Spayed/Neutered', 'Intact_Unknown', 'MixedBreed_Known Breed Combo',\n",
    "           'MixedBreed_Mixed Breed', 'MixedBreed_Nonmixed', 'Named_Named', 'Named_Unnamed']\n",
    "\n",
    "\n",
    "predictors = continuous + discrete\n",
    "target = 'OutcomeType'\n",
    "\n",
    "\n",
    "# Train/test split on the full dataset\n",
    "X = data2[predictors]\n",
    "y = data2[[target]]\n",
    "X_train, X_dev, y_train, y_dev = train_test_split(X, y, random_state=2)\n",
    "\n",
    "#Normalize the continuous variables\n",
    "ss = StandardScaler()\n",
    "ss.fit(X_train[continuous])   # Compute mean and std of training data\n",
    "X_train[continuous] = ss.transform(X_train[continuous])  # Use that mean and std to normalize columns of training data\n",
    "X_dev[continuous] = ss.transform(X_dev[continuous]) "
   ]
  },
  {
   "cell_type": "code",
   "execution_count": 5,
   "metadata": {
    "collapsed": false,
    "scrolled": true
   },
   "outputs": [
    {
     "name": "stdout",
     "output_type": "stream",
     "text": [
      "                count        mean         std  min   25%   50%    75%     max\n",
      "ConvertedAge  26729.0  113.370253  154.064766  0.0   9.0  52.0  156.0  1040.0\n",
      "BreedRank     26729.0   35.975981   20.246237  1.0  12.0  51.0   51.0    51.0\n",
      "                count        mean         std  min  25%   50%    75%     max\n",
      "ConvertedAge  26729.0  113.370253  154.064766  0.0  9.0  52.0  156.0  1040.0\n"
     ]
    }
   ],
   "source": [
    "#Define continuous and categorical variables\n",
    "\n",
    "continuous = {'dog':['ConvertedAge', 'BreedRank'], 'cat':['ConvertedAge']}\n",
    "discrete = {'dog':[\n",
    "    'AnimalType',\n",
    "    'Female',\n",
    "    'Intact',\n",
    "    'MixedBreed',\n",
    "    'Named',\n",
    "    'TopBreed',\n",
    "    'PitBull'\n",
    "], 'cat': [\n",
    "    'AnimalType',\n",
    "    'Female',\n",
    "    'Intact',\n",
    "    'MixedBreed',\n",
    "    'Named',\n",
    "    'BlackCat'\n",
    "]}\n",
    "\n",
    "\n",
    "pred = {'dog': continuous['dog'] + discrete['dog'], 'cat':continuous['cat']+discrete['cat']}\n",
    "target = 'OutcomeType'\n",
    "\n",
    "#For those missing an age, fill with the median age by animal type\n",
    "data[\"ConvertedAge\"] = data.groupby(\"AnimalType\").transform(lambda x: x.fillna(x.median()))\n",
    "print data[continuous['dog']].describe().T\n",
    "print data[continuous['cat']].describe().T"
   ]
  },
  {
   "cell_type": "code",
   "execution_count": 6,
   "metadata": {
    "collapsed": false
   },
   "outputs": [
    {
     "name": "stdout",
     "output_type": "stream",
     "text": [
      "(26729, 18)\n",
      "(26729, 16)\n"
     ]
    }
   ],
   "source": [
    "#Turn categorical variables into binaries, eliminating unconverted columns\n",
    "data2_dog = pd.concat([data[target], data[continuous['dog']], pd.get_dummies(data[discrete['dog']])], axis=1)\n",
    "data2_cat = pd.concat([data[target], data[continuous['cat']], pd.get_dummies(data[discrete['cat']])], axis=1)\n",
    "print data2_dog.shape\n",
    "print data2_cat.shape"
   ]
  },
  {
   "cell_type": "code",
   "execution_count": 7,
   "metadata": {
    "collapsed": false
   },
   "outputs": [
    {
     "name": "stdout",
     "output_type": "stream",
     "text": [
      "(15595, 17)\n",
      "(11134, 15)\n"
     ]
    }
   ],
   "source": [
    "#Split the data into cat and dog data sets\n",
    "data2_dog = pd.concat([data[target], data[continuous['dog']], pd.get_dummies(data[discrete['dog']])], axis=1)\n",
    "data2_cat = pd.concat([data[target], data[continuous['cat']], pd.get_dummies(data[discrete['cat']])], axis=1)\n",
    "\n",
    "discrete_dog = ['AnimalType_Cat', 'AnimalType_Dog', 'Female_Female', 'Female_Male', 'Female_Unknown',\n",
    "           'Intact_Intact', 'Intact_Spayed/Neutered', 'Intact_Unknown', 'MixedBreed_Known Breed Combo',\n",
    "           'MixedBreed_Mixed Breed', 'MixedBreed_Nonmixed', 'Named_Named', 'Named_Unnamed', 'TopBreed', 'PitBull']\n",
    "\n",
    "discrete_cat = ['AnimalType_Cat', 'AnimalType_Dog', 'Female_Female', 'Female_Male', 'Female_Unknown',\n",
    "           'Intact_Intact', 'Intact_Spayed/Neutered', 'Intact_Unknown', 'MixedBreed_Known Breed Combo',\n",
    "           'MixedBreed_Mixed Breed', 'MixedBreed_Nonmixed', 'Named_Named', 'Named_Unnamed', 'BlackCat']\n",
    "\n",
    "predictors_dog = continuous['dog'] + discrete_dog\n",
    "predictors_cat = continuous['cat'] + discrete_cat\n",
    "\n",
    "# Train/test split\n",
    "X_dog = data2_dog[data2_dog['AnimalType_Dog'] == 1][predictors_dog]\n",
    "y_dog = data2_dog[data2_dog['AnimalType_Dog'] == 1][[target]]\n",
    "X_dog_train, X_dog_dev, y_dog_train, y_dog_dev = train_test_split(X_dog, y_dog, random_state=2)\n",
    "\n",
    "X_cat = data2_cat[data2_cat['AnimalType_Cat'] == 1][predictors_cat]\n",
    "y_cat = data2_cat[data2_cat['AnimalType_Cat'] == 1][[target]]\n",
    "X_cat_train, X_cat_dev, y_cat_train, y_cat_dev = train_test_split(X_cat, y_cat, random_state=2)\n",
    "\n",
    "#Normalize \n",
    "ss_dog = StandardScaler()\n",
    "ss_dog.fit(X_dog_train[continuous['dog']])   # Compute mean and std of training data\n",
    "X_dog_train[continuous['dog']] = ss_dog.transform(X_dog_train[continuous['dog']])  # Use that mean and std to normalize columns of training data\n",
    "X_dog_dev[continuous['dog']] = ss_dog.transform(X_dog_dev[continuous['dog']]) \n",
    "print X_dog.shape\n",
    "\n",
    "ss_cat = StandardScaler()\n",
    "ss_cat.fit(X_cat_train[continuous['cat']])   # Compute mean and std of training data\n",
    "X_cat_train[continuous['cat']] = ss_cat.transform(X_cat_train[continuous['cat']])  # Use that mean and std to normalize columns of training data\n",
    "X_cat_dev[continuous['cat']] = ss_cat.transform(X_cat_dev[continuous['cat']]) \n",
    "print X_cat.shape"
   ]
  },
  {
   "cell_type": "markdown",
   "metadata": {},
   "source": [
    "### Exploratory Analysis"
   ]
  },
  {
   "cell_type": "markdown",
   "metadata": {},
   "source": [
    "#### Visualizing Features\n",
    "\n",
    "- We have approximately the same number of cats and dogs.\n",
    "- The majority of animals are adopted or transferred; there are comparatively few cases of death or euthanasia.\n",
    "- As we would expect, the majority of cases would be considered mixed breed. Also expected is that there are few animals beyond 15 years old.\n",
    "- A large majority of animals are named (though whether by the shelter or a prior owner is unknown)."
   ]
  },
  {
   "cell_type": "code",
   "execution_count": 7,
   "metadata": {
    "collapsed": false
   },
   "outputs": [
    {
     "data": {
      "text/plain": [
       "<matplotlib.axes._subplots.AxesSubplot at 0xec2db00>"
      ]
     },
     "execution_count": 7,
     "metadata": {},
     "output_type": "execute_result"
    },
    {
     "data": {
      "image/png": "[encoded data removed]",
      "text/plain": [
       "<matplotlib.figure.Figure at 0xe5993c8>"
      ]
     },
     "metadata": {},
     "output_type": "display_data"
    }
   ],
   "source": [
    "#Animal types\n",
    "animal_type = data['AnimalType'].value_counts() \n",
    "animal_type.plot(kind='bar',color='#34ABD8',rot=0)"
   ]
  },
  {
   "cell_type": "code",
   "execution_count": 8,
   "metadata": {
    "collapsed": false,
    "scrolled": false
   },
   "outputs": [
    {
     "data": {
      "text/plain": [
       "<matplotlib.axes._subplots.AxesSubplot at 0xe12e240>"
      ]
     },
     "execution_count": 8,
     "metadata": {},
     "output_type": "execute_result"
    },
    {
     "data": {
      "image/png": "[encoded data removed]",
      "text/plain": [
       "<matplotlib.figure.Figure at 0xe143940>"
      ]
     },
     "metadata": {},
     "output_type": "display_data"
    }
   ],
   "source": [
    "#Outcome types\n",
    "outcome_type = data['OutcomeType'].value_counts() \n",
    "outcome_type.plot(kind='bar',color='#34ABD8',rot=0)"
   ]
  },
  {
   "cell_type": "code",
   "execution_count": 8,
   "metadata": {
    "collapsed": false
   },
   "outputs": [
    {
     "data": {
      "text/html": [
       "\n",
       "\n",
       "    <div class=\"bk-root\">\n",
       "        <div class=\"plotdiv\" id=\"4922f8ad-09a9-492a-b4c6-6431fa27a9ac\"></div>\n",
       "    </div>\n",
       "<script type=\"text/javascript\">\n",
       "  \n",
       "  (function(global) {\n",
       "    function now() {\n",
       "      return new Date();\n",
       "    }\n",
       "  \n",
       "    var force = \"\";\n",
       "  \n",
       "    if (typeof (window._bokeh_onload_callbacks) === \"undefined\" || force !== \"\") {\n",
       "      window._bokeh_onload_callbacks = [];\n",
       "      window._bokeh_is_loading = undefined;\n",
       "    }\n",
       "  \n",
       "  \n",
       "    \n",
       "    if (typeof (window._bokeh_timeout) === \"undefined\" || force !== \"\") {\n",
       "      window._bokeh_timeout = Date.now() + 0;\n",
       "      window._bokeh_failed_load = false;\n",
       "    }\n",
       "  \n",
       "    var NB_LOAD_WARNING = {'data': {'text/html':\n",
       "       \"<div style='background-color: #fdd'>\\n\"+\n",
       "       \"<p>\\n\"+\n",
       "       \"BokehJS does not appear to have successfully loaded. If loading BokehJS from CDN, this \\n\"+\n",
       "       \"may be due to a slow or bad network connection. Possible fixes:\\n\"+\n",
       "       \"</p>\\n\"+\n",
       "       \"<ul>\\n\"+\n",
       "       \"<li>re-rerun `output_notebook()` to attempt to load from CDN again, or</li>\\n\"+\n",
       "       \"<li>use INLINE resources instead, as so:</li>\\n\"+\n",
       "       \"</ul>\\n\"+\n",
       "       \"<code>\\n\"+\n",
       "       \"from bokeh.resources import INLINE\\n\"+\n",
       "       \"output_notebook(resources=INLINE)\\n\"+\n",
       "       \"</code>\\n\"+\n",
       "       \"</div>\"}};\n",
       "  \n",
       "    function display_loaded() {\n",
       "      if (window.Bokeh !== undefined) {\n",
       "        Bokeh.$(\"#4922f8ad-09a9-492a-b4c6-6431fa27a9ac\").text(\"BokehJS successfully loaded.\");\n",
       "      } else if (Date.now() < window._bokeh_timeout) {\n",
       "        setTimeout(display_loaded, 100)\n",
       "      }\n",
       "    }\n",
       "  \n",
       "    function run_callbacks() {\n",
       "      window._bokeh_onload_callbacks.forEach(function(callback) { callback() });\n",
       "      delete window._bokeh_onload_callbacks\n",
       "      console.info(\"Bokeh: all callbacks have finished\");\n",
       "    }\n",
       "  \n",
       "    function load_libs(js_urls, callback) {\n",
       "      window._bokeh_onload_callbacks.push(callback);\n",
       "      if (window._bokeh_is_loading > 0) {\n",
       "        console.log(\"Bokeh: BokehJS is being loaded, scheduling callback at\", now());\n",
       "        return null;\n",
       "      }\n",
       "      if (js_urls == null || js_urls.length === 0) {\n",
       "        run_callbacks();\n",
       "        return null;\n",
       "      }\n",
       "      console.log(\"Bokeh: BokehJS not loaded, scheduling load and callback at\", now());\n",
       "      window._bokeh_is_loading = js_urls.length;\n",
       "      for (var i = 0; i < js_urls.length; i++) {\n",
       "        var url = js_urls[i];\n",
       "        var s = document.createElement('script');\n",
       "        s.src = url;\n",
       "        s.async = false;\n",
       "        s.onreadystatechange = s.onload = function() {\n",
       "          window._bokeh_is_loading--;\n",
       "          if (window._bokeh_is_loading === 0) {\n",
       "            console.log(\"Bokeh: all BokehJS libraries loaded\");\n",
       "            run_callbacks()\n",
       "          }\n",
       "        };\n",
       "        s.onerror = function() {\n",
       "          console.warn(\"failed to load library \" + url);\n",
       "        };\n",
       "        console.log(\"Bokeh: injecting script tag for BokehJS library: \", url);\n",
       "        document.getElementsByTagName(\"head\")[0].appendChild(s);\n",
       "      }\n",
       "    };var element = document.getElementById(\"4922f8ad-09a9-492a-b4c6-6431fa27a9ac\");\n",
       "    if (element == null) {\n",
       "      console.log(\"Bokeh: ERROR: autoload.js configured with elementid '4922f8ad-09a9-492a-b4c6-6431fa27a9ac' but no matching script tag was found. \")\n",
       "      return false;\n",
       "    }\n",
       "  \n",
       "    var js_urls = [];\n",
       "  \n",
       "    var inline_js = [\n",
       "      function(Bokeh) {\n",
       "        Bokeh.$(function() {\n",
       "            var docs_json = {\"9a0b54cb-fccc-4d3f-8f7d-1b1d46041179\":{\"roots\":{\"references\":[{\"attributes\":{\"callback\":null,\"column_names\":[\"line_color\",\"line_alpha\",\"color\",\"fill_alpha\",\"height\",\"width\",\"y\",\"x\",\"label\"],\"data\":{\"Intact\":[\"Intact\"],\"OutcomeType\":[\"Return_to_owner\"],\"chart_index\":[{\"Intact\":\"Intact\",\"OutcomeType\":\"Return_to_owner\"}],\"color\":[\"#f22c40\"],\"fill_alpha\":[0.8],\"height\":[778.0],\"label\":[{\"Intact\":\"Intact\",\"OutcomeType\":\"Return_to_owner\"}],\"line_alpha\":[1.0],\"line_color\":[\"white\"],\"width\":[0.8],\"x\":[\"Return_to_owner\"],\"y\":[4385.0]}},\"id\":\"f9b32d80-ceaf-4f9f-ac07-52dd347b1708\",\"type\":\"ColumnDataSource\"},{\"attributes\":{\"data_source\":{\"id\":\"8da0764c-513d-497f-b263-4e5c12e980af\",\"type\":\"ColumnDataSource\"},\"glyph\":{\"id\":\"8e0ddfb8-a8d9-46de-95d5-c37b933e7fc5\",\"type\":\"Rect\"},\"hover_glyph\":null,\"nonselection_glyph\":null,\"selection_glyph\":null},\"id\":\"5e783492-abc5-4a7d-999d-88eee3e77301\",\"type\":\"GlyphRenderer\"},{\"attributes\":{\"fill_alpha\":{\"field\":\"fill_alpha\"},\"fill_color\":{\"field\":\"color\"},\"height\":{\"field\":\"height\",\"units\":\"data\"},\"line_color\":{\"field\":\"line_color\"},\"width\":{\"field\":\"width\",\"units\":\"data\"},\"x\":{\"field\":\"x\"},\"y\":{\"field\":\"y\"}},\"id\":\"6bdba10c-318f-4e87-a1e4-4f72814329db\",\"type\":\"Rect\"},{\"attributes\":{\"plot\":{\"id\":\"593b34b7-5b9a-4f48-a4be-79490897ac05\",\"subtype\":\"Chart\",\"type\":\"Plot\"}},\"id\":\"97e58cd9-daa6-4659-9022-577848d5dd96\",\"type\":\"PanTool\"},{\"attributes\":{\"callback\":null,\"column_names\":[\"line_color\",\"line_alpha\",\"color\",\"fill_alpha\",\"height\",\"width\",\"y\",\"x\",\"label\"],\"data\":{\"Intact\":[\"Spayed/Neutered\"],\"OutcomeType\":[\"Euthanasia\"],\"chart_index\":[{\"Intact\":\"Spayed/Neutered\",\"OutcomeType\":\"Euthanasia\"}],\"color\":[\"#5ab738\"],\"fill_alpha\":[0.8],\"height\":[576.0],\"label\":[{\"Intact\":\"Spayed/Neutered\",\"OutcomeType\":\"Euthanasia\"}],\"line_alpha\":[1.0],\"line_color\":[\"white\"],\"width\":[0.8],\"x\":[\"Euthanasia\"],\"y\":[288.0]}},\"id\":\"761c0a07-c46b-4650-960a-dd633c2c1edf\",\"type\":\"ColumnDataSource\"},{\"attributes\":{},\"id\":\"613f2c3c-a254-4740-bad8-39ebdeb4609d\",\"type\":\"CategoricalTickFormatter\"},{\"attributes\":{\"fill_alpha\":{\"field\":\"fill_alpha\"},\"fill_color\":{\"field\":\"color\"},\"height\":{\"field\":\"height\",\"units\":\"data\"},\"line_color\":{\"field\":\"line_color\"},\"width\":{\"field\":\"width\",\"units\":\"data\"},\"x\":{\"field\":\"x\"},\"y\":{\"field\":\"y\"}},\"id\":\"273bf091-4f31-4d14-bc4d-2b14aca29ca5\",\"type\":\"Rect\"},{\"attributes\":{\"data_source\":{\"id\":\"30d2f4f8-d627-4bba-9e98-a90b351b3479\",\"type\":\"ColumnDataSource\"},\"glyph\":{\"id\":\"5e0885f6-058a-46cb-8506-a74514cf0281\",\"type\":\"Rect\"},\"hover_glyph\":null,\"nonselection_glyph\":null,\"selection_glyph\":null},\"id\":\"ac55b0de-b01d-4dc0-b3bd-6f797afc0898\",\"type\":\"GlyphRenderer\"},{\"attributes\":{\"plot\":{\"id\":\"593b34b7-5b9a-4f48-a4be-79490897ac05\",\"subtype\":\"Chart\",\"type\":\"Plot\"}},\"id\":\"7023fbdc-d2fb-4d08-b989-ddcebd5fac06\",\"type\":\"SaveTool\"},{\"attributes\":{\"data_source\":{\"id\":\"7bf879fb-d6c0-4a16-812b-caf856e41ba7\",\"type\":\"ColumnDataSource\"},\"glyph\":{\"id\":\"14d432f1-609b-405e-a07f-a6e9d21ff28c\",\"type\":\"Rect\"},\"hover_glyph\":null,\"nonselection_glyph\":null,\"selection_glyph\":null},\"id\":\"8e5505b0-28d2-45ba-b1ce-357bfedac3ec\",\"type\":\"GlyphRenderer\"},{\"attributes\":{\"callback\":null,\"factors\":[\"Adoption\",\"Died\",\"Euthanasia\",\"Return_to_owner\",\"Transfer\"]},\"id\":\"34ff4843-644f-48cc-9ae9-5a0ecdabb2ae\",\"type\":\"FactorRange\"},{\"attributes\":{\"overlay\":{\"id\":\"c6e6851c-4219-4757-9103-c12cb159e0b4\",\"type\":\"BoxAnnotation\"},\"plot\":{\"id\":\"593b34b7-5b9a-4f48-a4be-79490897ac05\",\"subtype\":\"Chart\",\"type\":\"Plot\"}},\"id\":\"7de92feb-88a8-4662-8181-dd2f3aa89613\",\"type\":\"BoxZoomTool\"},{\"attributes\":{\"plot\":null,\"text\":\"Outcomes by Intact Status\"},\"id\":\"10576dbd-c613-4d60-b8a0-e19e45d6efc4\",\"type\":\"Title\"},{\"attributes\":{\"data_source\":{\"id\":\"a14d45ab-9450-4f0e-b022-4c12c361515e\",\"type\":\"ColumnDataSource\"},\"glyph\":{\"id\":\"e8caa505-dbcb-4f78-b353-4db3929b734b\",\"type\":\"Rect\"},\"hover_glyph\":null,\"nonselection_glyph\":null,\"selection_glyph\":null},\"id\":\"18537667-c515-42e0-8908-d2afc18944e1\",\"type\":\"GlyphRenderer\"},{\"attributes\":{\"data_source\":{\"id\":\"01194d26-f0ff-4404-ba05-5b535a042fea\",\"type\":\"ColumnDataSource\"},\"glyph\":{\"id\":\"4b6ea996-5f04-41ea-884a-b655aef9f50d\",\"type\":\"Rect\"},\"hover_glyph\":null,\"nonselection_glyph\":null,\"selection_glyph\":null},\"id\":\"51504c7c-2522-4aa4-8b7f-3af6194fc26f\",\"type\":\"GlyphRenderer\"},{\"attributes\":{\"fill_alpha\":{\"field\":\"fill_alpha\"},\"fill_color\":{\"field\":\"color\"},\"height\":{\"field\":\"height\",\"units\":\"data\"},\"line_color\":{\"field\":\"line_color\"},\"width\":{\"field\":\"width\",\"units\":\"data\"},\"x\":{\"field\":\"x\"},\"y\":{\"field\":\"y\"}},\"id\":\"74658da0-d682-4c3d-a1b7-9b14bcb50d7e\",\"type\":\"Rect\"},{\"attributes\":{\"callback\":null,\"column_names\":[\"line_color\",\"line_alpha\",\"color\",\"fill_alpha\",\"height\",\"width\",\"y\",\"x\",\"label\"],\"data\":{\"Intact\":[\"Unknown\"],\"OutcomeType\":[\"Return_to_owner\"],\"chart_index\":[{\"Intact\":\"Unknown\",\"OutcomeType\":\"Return_to_owner\"}],\"color\":[\"#407ee7\"],\"fill_alpha\":[0.8],\"height\":[12.0],\"label\":[{\"Intact\":\"Unknown\",\"OutcomeType\":\"Return_to_owner\"}],\"line_alpha\":[1.0],\"line_color\":[\"white\"],\"width\":[0.8],\"x\":[\"Return_to_owner\"],\"y\":[4780.0]}},\"id\":\"52fe6150-2e9b-423f-a05d-8b82557221fc\",\"type\":\"ColumnDataSource\"},{\"attributes\":{\"fill_alpha\":{\"field\":\"fill_alpha\"},\"fill_color\":{\"field\":\"color\"},\"height\":{\"field\":\"height\",\"units\":\"data\"},\"line_color\":{\"field\":\"line_color\"},\"width\":{\"field\":\"width\",\"units\":\"data\"},\"x\":{\"field\":\"x\"},\"y\":{\"field\":\"y\"}},\"id\":\"14d432f1-609b-405e-a07f-a6e9d21ff28c\",\"type\":\"Rect\"},{\"attributes\":{\"fill_alpha\":{\"field\":\"fill_alpha\"},\"fill_color\":{\"field\":\"color\"},\"height\":{\"field\":\"height\",\"units\":\"data\"},\"line_color\":{\"field\":\"line_color\"},\"width\":{\"field\":\"width\",\"units\":\"data\"},\"x\":{\"field\":\"x\"},\"y\":{\"field\":\"y\"}},\"id\":\"9a78660a-2dfb-49f3-a466-07639a98f9f5\",\"type\":\"Rect\"},{\"attributes\":{\"fill_alpha\":{\"field\":\"fill_alpha\"},\"fill_color\":{\"field\":\"color\"},\"height\":{\"field\":\"height\",\"units\":\"data\"},\"line_color\":{\"field\":\"line_color\"},\"width\":{\"field\":\"width\",\"units\":\"data\"},\"x\":{\"field\":\"x\"},\"y\":{\"field\":\"y\"}},\"id\":\"93832ac1-e26f-42f0-8a4c-d831f7bafa21\",\"type\":\"Rect\"},{\"attributes\":{},\"id\":\"282bdf91-4464-4440-abca-9c3c202f767e\",\"type\":\"BasicTickFormatter\"},{\"attributes\":{\"legends\":[[\"Spayed/Neutered\",[{\"id\":\"ef32eeef-57e5-4f4b-a7c8-85f97c3d37ad\",\"type\":\"GlyphRenderer\"}]],[\"Intact\",[{\"id\":\"53941c5b-6d8f-48f5-ae5f-37591d6f3d10\",\"type\":\"GlyphRenderer\"}]],[\"Unknown\",[{\"id\":\"ac55b0de-b01d-4dc0-b3bd-6f797afc0898\",\"type\":\"GlyphRenderer\"}]]],\"plot\":{\"id\":\"593b34b7-5b9a-4f48-a4be-79490897ac05\",\"subtype\":\"Chart\",\"type\":\"Plot\"}},\"id\":\"88049884-4c0b-4976-b393-0f650e4e6cc0\",\"type\":\"Legend\"},{\"attributes\":{\"callback\":null,\"column_names\":[\"line_color\",\"line_alpha\",\"color\",\"fill_alpha\",\"height\",\"width\",\"y\",\"x\",\"label\"],\"data\":{\"Intact\":[\"Intact\"],\"OutcomeType\":[\"Euthanasia\"],\"chart_index\":[{\"Intact\":\"Intact\",\"OutcomeType\":\"Euthanasia\"}],\"color\":[\"#f22c40\"],\"fill_alpha\":[0.8],\"height\":[878.0],\"label\":[{\"Intact\":\"Intact\",\"OutcomeType\":\"Euthanasia\"}],\"line_alpha\":[1.0],\"line_color\":[\"white\"],\"width\":[0.8],\"x\":[\"Euthanasia\"],\"y\":[1015.0]}},\"id\":\"b0098053-9812-499a-826b-5ca19f31ef65\",\"type\":\"ColumnDataSource\"},{\"attributes\":{\"fill_alpha\":{\"field\":\"fill_alpha\"},\"fill_color\":{\"field\":\"color\"},\"height\":{\"field\":\"height\",\"units\":\"data\"},\"line_color\":{\"field\":\"line_color\"},\"width\":{\"field\":\"width\",\"units\":\"data\"},\"x\":{\"field\":\"x\"},\"y\":{\"field\":\"y\"}},\"id\":\"5e0885f6-058a-46cb-8506-a74514cf0281\",\"type\":\"Rect\"},{\"attributes\":{\"callback\":null,\"column_names\":[\"line_color\",\"line_alpha\",\"color\",\"fill_alpha\",\"height\",\"width\",\"y\",\"x\",\"label\"],\"data\":{\"Intact\":[\"Spayed/Neutered\"],\"OutcomeType\":[\"Return_to_owner\"],\"chart_index\":[{\"Intact\":\"Spayed/Neutered\",\"OutcomeType\":\"Return_to_owner\"}],\"color\":[\"#5ab738\"],\"fill_alpha\":[0.8],\"height\":[3996.0],\"label\":[{\"Intact\":\"Spayed/Neutered\",\"OutcomeType\":\"Return_to_owner\"}],\"line_alpha\":[1.0],\"line_color\":[\"white\"],\"width\":[0.8],\"x\":[\"Return_to_owner\"],\"y\":[1998.0]}},\"id\":\"22c6a00e-41ca-4a12-98f9-dda7deb50455\",\"type\":\"ColumnDataSource\"},{\"attributes\":{\"below\":[{\"id\":\"e5d1b026-838e-4c85-b971-4c4f202837d8\",\"type\":\"CategoricalAxis\"}],\"left\":[{\"id\":\"880e7383-028c-4155-833b-53e56bbac416\",\"type\":\"LinearAxis\"}],\"renderers\":[{\"id\":\"c6e6851c-4219-4757-9103-c12cb159e0b4\",\"type\":\"BoxAnnotation\"},{\"id\":\"ef32eeef-57e5-4f4b-a7c8-85f97c3d37ad\",\"type\":\"GlyphRenderer\"},{\"id\":\"58168d94-57a0-49bc-9a0c-a20aacc05793\",\"type\":\"GlyphRenderer\"},{\"id\":\"1aa88588-b429-4779-bdba-ca06974d133a\",\"type\":\"GlyphRenderer\"},{\"id\":\"53941c5b-6d8f-48f5-ae5f-37591d6f3d10\",\"type\":\"GlyphRenderer\"},{\"id\":\"18537667-c515-42e0-8908-d2afc18944e1\",\"type\":\"GlyphRenderer\"},{\"id\":\"ac55b0de-b01d-4dc0-b3bd-6f797afc0898\",\"type\":\"GlyphRenderer\"},{\"id\":\"2f8240bc-40cd-4e94-8903-acdfe67f5867\",\"type\":\"GlyphRenderer\"},{\"id\":\"6c755922-c644-4c1c-8d7c-1dd4166a3396\",\"type\":\"GlyphRenderer\"},{\"id\":\"b964bbe5-6732-4988-9b39-0f3fa77b516a\",\"type\":\"GlyphRenderer\"},{\"id\":\"51504c7c-2522-4aa4-8b7f-3af6194fc26f\",\"type\":\"GlyphRenderer\"},{\"id\":\"5e783492-abc5-4a7d-999d-88eee3e77301\",\"type\":\"GlyphRenderer\"},{\"id\":\"40a9820f-0f5f-4f5b-8980-c3305582b299\",\"type\":\"GlyphRenderer\"},{\"id\":\"8e5505b0-28d2-45ba-b1ce-357bfedac3ec\",\"type\":\"GlyphRenderer\"},{\"id\":\"98cd09e3-1bdd-4999-99e0-7a6344b1fed2\",\"type\":\"GlyphRenderer\"},{\"id\":\"88049884-4c0b-4976-b393-0f650e4e6cc0\",\"type\":\"Legend\"},{\"id\":\"e5d1b026-838e-4c85-b971-4c4f202837d8\",\"type\":\"CategoricalAxis\"},{\"id\":\"880e7383-028c-4155-833b-53e56bbac416\",\"type\":\"LinearAxis\"},{\"id\":\"7cf07627-31b0-4392-a662-2bd980c6e9a5\",\"type\":\"Grid\"}],\"title\":{\"id\":\"10576dbd-c613-4d60-b8a0-e19e45d6efc4\",\"type\":\"Title\"},\"tool_events\":{\"id\":\"4b083dab-c1e5-481a-a1ac-18b044d9669e\",\"type\":\"ToolEvents\"},\"toolbar\":{\"id\":\"1eba0102-5dd3-4e0d-ab7e-02c0fb591d26\",\"type\":\"Toolbar\"},\"x_mapper_type\":\"auto\",\"x_range\":{\"id\":\"34ff4843-644f-48cc-9ae9-5a0ecdabb2ae\",\"type\":\"FactorRange\"},\"y_mapper_type\":\"auto\",\"y_range\":{\"id\":\"90b69e26-fad1-4e29-843d-8fbf757c6f15\",\"type\":\"Range1d\"}},\"id\":\"593b34b7-5b9a-4f48-a4be-79490897ac05\",\"subtype\":\"Chart\",\"type\":\"Plot\"},{\"attributes\":{\"axis_label\":\"Outcometype\",\"formatter\":{\"id\":\"613f2c3c-a254-4740-bad8-39ebdeb4609d\",\"type\":\"CategoricalTickFormatter\"},\"major_label_orientation\":0.7853981633974483,\"plot\":{\"id\":\"593b34b7-5b9a-4f48-a4be-79490897ac05\",\"subtype\":\"Chart\",\"type\":\"Plot\"},\"ticker\":{\"id\":\"56be16cd-b71a-42bc-8954-3874144ae20e\",\"type\":\"CategoricalTicker\"}},\"id\":\"e5d1b026-838e-4c85-b971-4c4f202837d8\",\"type\":\"CategoricalAxis\"},{\"attributes\":{\"fill_alpha\":{\"field\":\"fill_alpha\"},\"fill_color\":{\"field\":\"color\"},\"height\":{\"field\":\"height\",\"units\":\"data\"},\"line_color\":{\"field\":\"line_color\"},\"width\":{\"field\":\"width\",\"units\":\"data\"},\"x\":{\"field\":\"x\"},\"y\":{\"field\":\"y\"}},\"id\":\"0445eb5c-c9d9-402c-a59a-9a99cfc88b13\",\"type\":\"Rect\"},{\"attributes\":{\"callback\":null,\"column_names\":[\"line_color\",\"line_alpha\",\"color\",\"fill_alpha\",\"height\",\"width\",\"y\",\"x\",\"label\"],\"data\":{\"Intact\":[\"Unknown\"],\"OutcomeType\":[\"Died\"],\"chart_index\":[{\"Intact\":\"Unknown\",\"OutcomeType\":\"Died\"}],\"color\":[\"#407ee7\"],\"fill_alpha\":[0.8],\"height\":[25.0],\"label\":[{\"Intact\":\"Unknown\",\"OutcomeType\":\"Died\"}],\"line_alpha\":[1.0],\"line_color\":[\"white\"],\"width\":[0.8],\"x\":[\"Died\"],\"y\":[147.5]}},\"id\":\"a13b36ff-8b6b-4a43-8421-f8c788ba9fc9\",\"type\":\"ColumnDataSource\"},{\"attributes\":{\"callback\":null,\"column_names\":[\"line_color\",\"line_alpha\",\"color\",\"fill_alpha\",\"height\",\"width\",\"y\",\"x\",\"label\"],\"data\":{\"Intact\":[\"Spayed/Neutered\"],\"OutcomeType\":[\"Transfer\"],\"chart_index\":[{\"Intact\":\"Spayed/Neutered\",\"OutcomeType\":\"Transfer\"}],\"color\":[\"#5ab738\"],\"fill_alpha\":[0.8],\"height\":[3583.0],\"label\":[{\"Intact\":\"Spayed/Neutered\",\"OutcomeType\":\"Transfer\"}],\"line_alpha\":[1.0],\"line_color\":[\"white\"],\"width\":[0.8],\"x\":[\"Transfer\"],\"y\":[6675.5]}},\"id\":\"a14d45ab-9450-4f0e-b022-4c12c361515e\",\"type\":\"ColumnDataSource\"},{\"attributes\":{\"fill_alpha\":{\"field\":\"fill_alpha\"},\"fill_color\":{\"field\":\"color\"},\"height\":{\"field\":\"height\",\"units\":\"data\"},\"line_color\":{\"field\":\"line_color\"},\"width\":{\"field\":\"width\",\"units\":\"data\"},\"x\":{\"field\":\"x\"},\"y\":{\"field\":\"y\"}},\"id\":\"0b1bce77-8df7-4a78-a0a3-c794044fb1a1\",\"type\":\"Rect\"},{\"attributes\":{},\"id\":\"4b083dab-c1e5-481a-a1ac-18b044d9669e\",\"type\":\"ToolEvents\"},{\"attributes\":{\"data_source\":{\"id\":\"52fe6150-2e9b-423f-a05d-8b82557221fc\",\"type\":\"ColumnDataSource\"},\"glyph\":{\"id\":\"54471221-0c22-46a5-ab5a-bdf3ef576c1d\",\"type\":\"Rect\"},\"hover_glyph\":null,\"nonselection_glyph\":null,\"selection_glyph\":null},\"id\":\"98cd09e3-1bdd-4999-99e0-7a6344b1fed2\",\"type\":\"GlyphRenderer\"},{\"attributes\":{\"data_source\":{\"id\":\"22c6a00e-41ca-4a12-98f9-dda7deb50455\",\"type\":\"ColumnDataSource\"},\"glyph\":{\"id\":\"93832ac1-e26f-42f0-8a4c-d831f7bafa21\",\"type\":\"Rect\"},\"hover_glyph\":null,\"nonselection_glyph\":null,\"selection_glyph\":null},\"id\":\"ef32eeef-57e5-4f4b-a7c8-85f97c3d37ad\",\"type\":\"GlyphRenderer\"},{\"attributes\":{\"callback\":null,\"column_names\":[\"line_color\",\"line_alpha\",\"color\",\"fill_alpha\",\"height\",\"width\",\"y\",\"x\",\"label\"],\"data\":{\"Intact\":[\"Spayed/Neutered\"],\"OutcomeType\":[\"Died\"],\"chart_index\":[{\"Intact\":\"Spayed/Neutered\",\"OutcomeType\":\"Died\"}],\"color\":[\"#5ab738\"],\"fill_alpha\":[0.8],\"height\":[37.0],\"label\":[{\"Intact\":\"Spayed/Neutered\",\"OutcomeType\":\"Died\"}],\"line_alpha\":[1.0],\"line_color\":[\"white\"],\"width\":[0.8],\"x\":[\"Died\"],\"y\":[178.5]}},\"id\":\"7bf879fb-d6c0-4a16-812b-caf856e41ba7\",\"type\":\"ColumnDataSource\"},{\"attributes\":{\"fill_alpha\":{\"field\":\"fill_alpha\"},\"fill_color\":{\"field\":\"color\"},\"height\":{\"field\":\"height\",\"units\":\"data\"},\"line_color\":{\"field\":\"line_color\"},\"width\":{\"field\":\"width\",\"units\":\"data\"},\"x\":{\"field\":\"x\"},\"y\":{\"field\":\"y\"}},\"id\":\"8e0ddfb8-a8d9-46de-95d5-c37b933e7fc5\",\"type\":\"Rect\"},{\"attributes\":{\"callback\":null,\"column_names\":[\"line_color\",\"line_alpha\",\"color\",\"fill_alpha\",\"height\",\"width\",\"y\",\"x\",\"label\"],\"data\":{\"Intact\":[\"Spayed/Neutered\"],\"OutcomeType\":[\"Adoption\"],\"chart_index\":[{\"Intact\":\"Spayed/Neutered\",\"OutcomeType\":\"Adoption\"}],\"color\":[\"#5ab738\"],\"fill_alpha\":[0.8],\"height\":[10408.0],\"label\":[{\"Intact\":\"Spayed/Neutered\",\"OutcomeType\":\"Adoption\"}],\"line_alpha\":[1.0],\"line_color\":[\"white\"],\"width\":[0.8],\"x\":[\"Adoption\"],\"y\":[5204.0]}},\"id\":\"f1531fe7-8207-4369-87d7-d6dafdd141bf\",\"type\":\"ColumnDataSource\"},{\"attributes\":{\"data_source\":{\"id\":\"a3ad668c-457e-4d22-a07f-006ce5972f4c\",\"type\":\"ColumnDataSource\"},\"glyph\":{\"id\":\"0b1bce77-8df7-4a78-a0a3-c794044fb1a1\",\"type\":\"Rect\"},\"hover_glyph\":null,\"nonselection_glyph\":null,\"selection_glyph\":null},\"id\":\"53941c5b-6d8f-48f5-ae5f-37591d6f3d10\",\"type\":\"GlyphRenderer\"},{\"attributes\":{\"fill_alpha\":{\"field\":\"fill_alpha\"},\"fill_color\":{\"field\":\"color\"},\"height\":{\"field\":\"height\",\"units\":\"data\"},\"line_color\":{\"field\":\"line_color\"},\"width\":{\"field\":\"width\",\"units\":\"data\"},\"x\":{\"field\":\"x\"},\"y\":{\"field\":\"y\"}},\"id\":\"ab56c5cf-9f36-40bb-9ed0-ee4f5f445044\",\"type\":\"Rect\"},{\"attributes\":{\"axis_label\":\"Count( Intact )\",\"formatter\":{\"id\":\"282bdf91-4464-4440-abca-9c3c202f767e\",\"type\":\"BasicTickFormatter\"},\"plot\":{\"id\":\"593b34b7-5b9a-4f48-a4be-79490897ac05\",\"subtype\":\"Chart\",\"type\":\"Plot\"},\"ticker\":{\"id\":\"39f68ddb-cb6e-4ffb-af08-a969f9ea706d\",\"type\":\"BasicTicker\"}},\"id\":\"880e7383-028c-4155-833b-53e56bbac416\",\"type\":\"LinearAxis\"},{\"attributes\":{\"bottom_units\":\"screen\",\"fill_alpha\":{\"value\":0.5},\"fill_color\":{\"value\":\"lightgrey\"},\"left_units\":\"screen\",\"level\":\"overlay\",\"line_alpha\":{\"value\":1.0},\"line_color\":{\"value\":\"black\"},\"line_dash\":[4,4],\"line_width\":{\"value\":2},\"plot\":null,\"render_mode\":\"css\",\"right_units\":\"screen\",\"top_units\":\"screen\"},\"id\":\"c6e6851c-4219-4757-9103-c12cb159e0b4\",\"type\":\"BoxAnnotation\"},{\"attributes\":{\"data_source\":{\"id\":\"7df9c5a2-5b80-4c01-946e-2ca5ae6d9cc3\",\"type\":\"ColumnDataSource\"},\"glyph\":{\"id\":\"74658da0-d682-4c3d-a1b7-9b14bcb50d7e\",\"type\":\"Rect\"},\"hover_glyph\":null,\"nonselection_glyph\":null,\"selection_glyph\":null},\"id\":\"b964bbe5-6732-4988-9b39-0f3fa77b516a\",\"type\":\"GlyphRenderer\"},{\"attributes\":{\"callback\":null,\"column_names\":[\"line_color\",\"line_alpha\",\"color\",\"fill_alpha\",\"height\",\"width\",\"y\",\"x\",\"label\"],\"data\":{\"Intact\":[\"Intact\"],\"OutcomeType\":[\"Adoption\"],\"chart_index\":[{\"Intact\":\"Intact\",\"OutcomeType\":\"Adoption\"}],\"color\":[\"#f22c40\"],\"fill_alpha\":[0.8],\"height\":[361.0],\"label\":[{\"Intact\":\"Intact\",\"OutcomeType\":\"Adoption\"}],\"line_alpha\":[1.0],\"line_color\":[\"white\"],\"width\":[0.8],\"x\":[\"Adoption\"],\"y\":[10588.5]}},\"id\":\"01194d26-f0ff-4404-ba05-5b535a042fea\",\"type\":\"ColumnDataSource\"},{\"attributes\":{\"callback\":null,\"column_names\":[\"line_color\",\"line_alpha\",\"color\",\"fill_alpha\",\"height\",\"width\",\"y\",\"x\",\"label\"],\"data\":{\"Intact\":[\"Intact\"],\"OutcomeType\":[\"Transfer\"],\"chart_index\":[{\"Intact\":\"Intact\",\"OutcomeType\":\"Transfer\"}],\"color\":[\"#f22c40\"],\"fill_alpha\":[0.8],\"height\":[4884.0],\"label\":[{\"Intact\":\"Intact\",\"OutcomeType\":\"Transfer\"}],\"line_alpha\":[1.0],\"line_color\":[\"white\"],\"width\":[0.8],\"x\":[\"Transfer\"],\"y\":[2442.0]}},\"id\":\"a3ad668c-457e-4d22-a07f-006ce5972f4c\",\"type\":\"ColumnDataSource\"},{\"attributes\":{\"data_source\":{\"id\":\"761c0a07-c46b-4650-960a-dd633c2c1edf\",\"type\":\"ColumnDataSource\"},\"glyph\":{\"id\":\"9a78660a-2dfb-49f3-a466-07639a98f9f5\",\"type\":\"Rect\"},\"hover_glyph\":null,\"nonselection_glyph\":null,\"selection_glyph\":null},\"id\":\"58168d94-57a0-49bc-9a0c-a20aacc05793\",\"type\":\"GlyphRenderer\"},{\"attributes\":{\"active_drag\":\"auto\",\"active_scroll\":\"auto\",\"active_tap\":\"auto\",\"tools\":[{\"id\":\"97e58cd9-daa6-4659-9022-577848d5dd96\",\"type\":\"PanTool\"},{\"id\":\"9ae0c3d2-98b3-44c9-bfdd-2dddbfdc03ee\",\"type\":\"WheelZoomTool\"},{\"id\":\"7de92feb-88a8-4662-8181-dd2f3aa89613\",\"type\":\"BoxZoomTool\"},{\"id\":\"7023fbdc-d2fb-4d08-b989-ddcebd5fac06\",\"type\":\"SaveTool\"},{\"id\":\"79ee6eb3-7f44-4b51-b4bf-c8e684625df2\",\"type\":\"ResetTool\"},{\"id\":\"adac63a3-1ee5-4079-a075-c19fc1f70aef\",\"type\":\"HelpTool\"}]},\"id\":\"1eba0102-5dd3-4e0d-ab7e-02c0fb591d26\",\"type\":\"Toolbar\"},{\"attributes\":{\"data_source\":{\"id\":\"f9b32d80-ceaf-4f9f-ac07-52dd347b1708\",\"type\":\"ColumnDataSource\"},\"glyph\":{\"id\":\"ab56c5cf-9f36-40bb-9ed0-ee4f5f445044\",\"type\":\"Rect\"},\"hover_glyph\":null,\"nonselection_glyph\":null,\"selection_glyph\":null},\"id\":\"6c755922-c644-4c1c-8d7c-1dd4166a3396\",\"type\":\"GlyphRenderer\"},{\"attributes\":{\"dimension\":1,\"plot\":{\"id\":\"593b34b7-5b9a-4f48-a4be-79490897ac05\",\"subtype\":\"Chart\",\"type\":\"Plot\"},\"ticker\":{\"id\":\"39f68ddb-cb6e-4ffb-af08-a969f9ea706d\",\"type\":\"BasicTicker\"}},\"id\":\"7cf07627-31b0-4392-a662-2bd980c6e9a5\",\"type\":\"Grid\"},{\"attributes\":{\"plot\":{\"id\":\"593b34b7-5b9a-4f48-a4be-79490897ac05\",\"subtype\":\"Chart\",\"type\":\"Plot\"}},\"id\":\"79ee6eb3-7f44-4b51-b4bf-c8e684625df2\",\"type\":\"ResetTool\"},{\"attributes\":{\"fill_alpha\":{\"field\":\"fill_alpha\"},\"fill_color\":{\"field\":\"color\"},\"height\":{\"field\":\"height\",\"units\":\"data\"},\"line_color\":{\"field\":\"line_color\"},\"width\":{\"field\":\"width\",\"units\":\"data\"},\"x\":{\"field\":\"x\"},\"y\":{\"field\":\"y\"}},\"id\":\"e8caa505-dbcb-4f78-b353-4db3929b734b\",\"type\":\"Rect\"},{\"attributes\":{\"callback\":null,\"column_names\":[\"line_color\",\"line_alpha\",\"color\",\"fill_alpha\",\"height\",\"width\",\"y\",\"x\",\"label\"],\"data\":{\"Intact\":[\"Unknown\"],\"OutcomeType\":[\"Euthanasia\"],\"chart_index\":[{\"Intact\":\"Unknown\",\"OutcomeType\":\"Euthanasia\"}],\"color\":[\"#407ee7\"],\"fill_alpha\":[0.8],\"height\":[101.0],\"label\":[{\"Intact\":\"Unknown\",\"OutcomeType\":\"Euthanasia\"}],\"line_alpha\":[1.0],\"line_color\":[\"white\"],\"width\":[0.8],\"x\":[\"Euthanasia\"],\"y\":[1504.5]}},\"id\":\"7df9c5a2-5b80-4c01-946e-2ca5ae6d9cc3\",\"type\":\"ColumnDataSource\"},{\"attributes\":{},\"id\":\"39f68ddb-cb6e-4ffb-af08-a969f9ea706d\",\"type\":\"BasicTicker\"},{\"attributes\":{\"plot\":{\"id\":\"593b34b7-5b9a-4f48-a4be-79490897ac05\",\"subtype\":\"Chart\",\"type\":\"Plot\"}},\"id\":\"9ae0c3d2-98b3-44c9-bfdd-2dddbfdc03ee\",\"type\":\"WheelZoomTool\"},{\"attributes\":{},\"id\":\"56be16cd-b71a-42bc-8954-3874144ae20e\",\"type\":\"CategoricalTicker\"},{\"attributes\":{\"data_source\":{\"id\":\"a13b36ff-8b6b-4a43-8421-f8c788ba9fc9\",\"type\":\"ColumnDataSource\"},\"glyph\":{\"id\":\"0445eb5c-c9d9-402c-a59a-9a99cfc88b13\",\"type\":\"Rect\"},\"hover_glyph\":null,\"nonselection_glyph\":null,\"selection_glyph\":null},\"id\":\"40a9820f-0f5f-4f5b-8980-c3305582b299\",\"type\":\"GlyphRenderer\"},{\"attributes\":{\"plot\":{\"id\":\"593b34b7-5b9a-4f48-a4be-79490897ac05\",\"subtype\":\"Chart\",\"type\":\"Plot\"}},\"id\":\"adac63a3-1ee5-4079-a075-c19fc1f70aef\",\"type\":\"HelpTool\"},{\"attributes\":{\"callback\":null,\"column_names\":[\"line_color\",\"line_alpha\",\"color\",\"fill_alpha\",\"height\",\"width\",\"y\",\"x\",\"label\"],\"data\":{\"Intact\":[\"Unknown\"],\"OutcomeType\":[\"Transfer\"],\"chart_index\":[{\"Intact\":\"Unknown\",\"OutcomeType\":\"Transfer\"}],\"color\":[\"#407ee7\"],\"fill_alpha\":[0.8],\"height\":[955.0],\"label\":[{\"Intact\":\"Unknown\",\"OutcomeType\":\"Transfer\"}],\"line_alpha\":[1.0],\"line_color\":[\"white\"],\"width\":[0.8],\"x\":[\"Transfer\"],\"y\":[8944.5]}},\"id\":\"30d2f4f8-d627-4bba-9e98-a90b351b3479\",\"type\":\"ColumnDataSource\"},{\"attributes\":{\"data_source\":{\"id\":\"f1531fe7-8207-4369-87d7-d6dafdd141bf\",\"type\":\"ColumnDataSource\"},\"glyph\":{\"id\":\"6bdba10c-318f-4e87-a1e4-4f72814329db\",\"type\":\"Rect\"},\"hover_glyph\":null,\"nonselection_glyph\":null,\"selection_glyph\":null},\"id\":\"1aa88588-b429-4779-bdba-ca06974d133a\",\"type\":\"GlyphRenderer\"},{\"attributes\":{\"callback\":null,\"end\":11307.45},\"id\":\"90b69e26-fad1-4e29-843d-8fbf757c6f15\",\"type\":\"Range1d\"},{\"attributes\":{\"fill_alpha\":{\"field\":\"fill_alpha\"},\"fill_color\":{\"field\":\"color\"},\"height\":{\"field\":\"height\",\"units\":\"data\"},\"line_color\":{\"field\":\"line_color\"},\"width\":{\"field\":\"width\",\"units\":\"data\"},\"x\":{\"field\":\"x\"},\"y\":{\"field\":\"y\"}},\"id\":\"54471221-0c22-46a5-ab5a-bdf3ef576c1d\",\"type\":\"Rect\"},{\"attributes\":{\"fill_alpha\":{\"field\":\"fill_alpha\"},\"fill_color\":{\"field\":\"color\"},\"height\":{\"field\":\"height\",\"units\":\"data\"},\"line_color\":{\"field\":\"line_color\"},\"width\":{\"field\":\"width\",\"units\":\"data\"},\"x\":{\"field\":\"x\"},\"y\":{\"field\":\"y\"}},\"id\":\"4b6ea996-5f04-41ea-884a-b655aef9f50d\",\"type\":\"Rect\"},{\"attributes\":{\"data_source\":{\"id\":\"b0098053-9812-499a-826b-5ca19f31ef65\",\"type\":\"ColumnDataSource\"},\"glyph\":{\"id\":\"273bf091-4f31-4d14-bc4d-2b14aca29ca5\",\"type\":\"Rect\"},\"hover_glyph\":null,\"nonselection_glyph\":null,\"selection_glyph\":null},\"id\":\"2f8240bc-40cd-4e94-8903-acdfe67f5867\",\"type\":\"GlyphRenderer\"},{\"attributes\":{\"callback\":null,\"column_names\":[\"line_color\",\"line_alpha\",\"color\",\"fill_alpha\",\"height\",\"width\",\"y\",\"x\",\"label\"],\"data\":{\"Intact\":[\"Intact\"],\"OutcomeType\":[\"Died\"],\"chart_index\":[{\"Intact\":\"Intact\",\"OutcomeType\":\"Died\"}],\"color\":[\"#f22c40\"],\"fill_alpha\":[0.8],\"height\":[135.0],\"label\":[{\"Intact\":\"Intact\",\"OutcomeType\":\"Died\"}],\"line_alpha\":[1.0],\"line_color\":[\"white\"],\"width\":[0.8],\"x\":[\"Died\"],\"y\":[67.5]}},\"id\":\"8da0764c-513d-497f-b263-4e5c12e980af\",\"type\":\"ColumnDataSource\"}],\"root_ids\":[\"593b34b7-5b9a-4f48-a4be-79490897ac05\"]},\"title\":\"Bokeh Application\",\"version\":\"0.12.2\"}};\n",
       "            var render_items = [{\"docid\":\"9a0b54cb-fccc-4d3f-8f7d-1b1d46041179\",\"elementid\":\"4922f8ad-09a9-492a-b4c6-6431fa27a9ac\",\"modelid\":\"593b34b7-5b9a-4f48-a4be-79490897ac05\"}];\n",
       "            \n",
       "            Bokeh.embed.embed_items(docs_json, render_items);\n",
       "        });\n",
       "      },\n",
       "      function(Bokeh) {\n",
       "      }\n",
       "    ];\n",
       "  \n",
       "    function run_inline_js() {\n",
       "      \n",
       "      if ((window.Bokeh !== undefined) || (force === \"1\")) {\n",
       "        for (var i = 0; i < inline_js.length; i++) {\n",
       "          inline_js[i](window.Bokeh);\n",
       "        }if (force === \"1\") {\n",
       "          display_loaded();\n",
       "        }} else if (Date.now() < window._bokeh_timeout) {\n",
       "        setTimeout(run_inline_js, 100);\n",
       "      } else if (!window._bokeh_failed_load) {\n",
       "        console.log(\"Bokeh: BokehJS failed to load within specified timeout.\");\n",
       "        window._bokeh_failed_load = true;\n",
       "      } else if (!force) {\n",
       "        var cell = $(\"#4922f8ad-09a9-492a-b4c6-6431fa27a9ac\").parents('.cell').data().cell;\n",
       "        cell.output_area.append_execute_result(NB_LOAD_WARNING)\n",
       "      }\n",
       "  \n",
       "    }\n",
       "  \n",
       "    if (window._bokeh_is_loading === 0) {\n",
       "      console.log(\"Bokeh: BokehJS loaded, going straight to plotting\");\n",
       "      run_inline_js();\n",
       "    } else {\n",
       "      load_libs(js_urls, function() {\n",
       "        console.log(\"Bokeh: BokehJS plotting callback run at\", now());\n",
       "        run_inline_js();\n",
       "      });\n",
       "    }\n",
       "  }(this));\n",
       "</script>"
      ]
     },
     "metadata": {},
     "output_type": "display_data"
    }
   ],
   "source": [
    "p = Bar(data, label='OutcomeType', values = 'Intact', agg='count', stack='Intact',\n",
    "        title=\"Outcomes by Intact Status\", legend='top_right')\n",
    "show(p)"
   ]
  },
  {
   "cell_type": "code",
   "execution_count": 9,
   "metadata": {
    "collapsed": false
   },
   "outputs": [
    {
     "data": {
      "text/html": [
       "\n",
       "\n",
       "    <div class=\"bk-root\">\n",
       "        <div class=\"plotdiv\" id=\"4f4be143-428a-49c3-a2c1-1d1c2ad6190c\"></div>\n",
       "    </div>\n",
       "<script type=\"text/javascript\">\n",
       "  \n",
       "  (function(global) {\n",
       "    function now() {\n",
       "      return new Date();\n",
       "    }\n",
       "  \n",
       "    var force = \"\";\n",
       "  \n",
       "    if (typeof (window._bokeh_onload_callbacks) === \"undefined\" || force !== \"\") {\n",
       "      window._bokeh_onload_callbacks = [];\n",
       "      window._bokeh_is_loading = undefined;\n",
       "    }\n",
       "  \n",
       "  \n",
       "    \n",
       "    if (typeof (window._bokeh_timeout) === \"undefined\" || force !== \"\") {\n",
       "      window._bokeh_timeout = Date.now() + 0;\n",
       "      window._bokeh_failed_load = false;\n",
       "    }\n",
       "  \n",
       "    var NB_LOAD_WARNING = {'data': {'text/html':\n",
       "       \"<div style='background-color: #fdd'>\\n\"+\n",
       "       \"<p>\\n\"+\n",
       "       \"BokehJS does not appear to have successfully loaded. If loading BokehJS from CDN, this \\n\"+\n",
       "       \"may be due to a slow or bad network connection. Possible fixes:\\n\"+\n",
       "       \"</p>\\n\"+\n",
       "       \"<ul>\\n\"+\n",
       "       \"<li>re-rerun `output_notebook()` to attempt to load from CDN again, or</li>\\n\"+\n",
       "       \"<li>use INLINE resources instead, as so:</li>\\n\"+\n",
       "       \"</ul>\\n\"+\n",
       "       \"<code>\\n\"+\n",
       "       \"from bokeh.resources import INLINE\\n\"+\n",
       "       \"output_notebook(resources=INLINE)\\n\"+\n",
       "       \"</code>\\n\"+\n",
       "       \"</div>\"}};\n",
       "  \n",
       "    function display_loaded() {\n",
       "      if (window.Bokeh !== undefined) {\n",
       "        Bokeh.$(\"#4f4be143-428a-49c3-a2c1-1d1c2ad6190c\").text(\"BokehJS successfully loaded.\");\n",
       "      } else if (Date.now() < window._bokeh_timeout) {\n",
       "        setTimeout(display_loaded, 100)\n",
       "      }\n",
       "    }\n",
       "  \n",
       "    function run_callbacks() {\n",
       "      window._bokeh_onload_callbacks.forEach(function(callback) { callback() });\n",
       "      delete window._bokeh_onload_callbacks\n",
       "      console.info(\"Bokeh: all callbacks have finished\");\n",
       "    }\n",
       "  \n",
       "    function load_libs(js_urls, callback) {\n",
       "      window._bokeh_onload_callbacks.push(callback);\n",
       "      if (window._bokeh_is_loading > 0) {\n",
       "        console.log(\"Bokeh: BokehJS is being loaded, scheduling callback at\", now());\n",
       "        return null;\n",
       "      }\n",
       "      if (js_urls == null || js_urls.length === 0) {\n",
       "        run_callbacks();\n",
       "        return null;\n",
       "      }\n",
       "      console.log(\"Bokeh: BokehJS not loaded, scheduling load and callback at\", now());\n",
       "      window._bokeh_is_loading = js_urls.length;\n",
       "      for (var i = 0; i < js_urls.length; i++) {\n",
       "        var url = js_urls[i];\n",
       "        var s = document.createElement('script');\n",
       "        s.src = url;\n",
       "        s.async = false;\n",
       "        s.onreadystatechange = s.onload = function() {\n",
       "          window._bokeh_is_loading--;\n",
       "          if (window._bokeh_is_loading === 0) {\n",
       "            console.log(\"Bokeh: all BokehJS libraries loaded\");\n",
       "            run_callbacks()\n",
       "          }\n",
       "        };\n",
       "        s.onerror = function() {\n",
       "          console.warn(\"failed to load library \" + url);\n",
       "        };\n",
       "        console.log(\"Bokeh: injecting script tag for BokehJS library: \", url);\n",
       "        document.getElementsByTagName(\"head\")[0].appendChild(s);\n",
       "      }\n",
       "    };var element = document.getElementById(\"4f4be143-428a-49c3-a2c1-1d1c2ad6190c\");\n",
       "    if (element == null) {\n",
       "      console.log(\"Bokeh: ERROR: autoload.js configured with elementid '4f4be143-428a-49c3-a2c1-1d1c2ad6190c' but no matching script tag was found. \")\n",
       "      return false;\n",
       "    }\n",
       "  \n",
       "    var js_urls = [];\n",
       "  \n",
       "    var inline_js = [\n",
       "      function(Bokeh) {\n",
       "        Bokeh.$(function() {\n",
       "            var docs_json = {\"57ba4a1f-1a0f-46c9-9a4b-911349036df7\":{\"roots\":{\"references\":[{\"attributes\":{\"data_source\":{\"id\":\"00a850f1-7f5b-467e-addf-ff4a3ff56251\",\"type\":\"ColumnDataSource\"},\"glyph\":{\"id\":\"2bf00cac-82c4-4377-8cd1-82fd77d40d77\",\"type\":\"Rect\"},\"hover_glyph\":null,\"nonselection_glyph\":null,\"selection_glyph\":null},\"id\":\"4741e5f0-7071-4c9e-94da-939bcc78baeb\",\"type\":\"GlyphRenderer\"},{\"attributes\":{\"fill_alpha\":{\"field\":\"fill_alpha\"},\"fill_color\":{\"field\":\"color\"},\"height\":{\"field\":\"height\",\"units\":\"data\"},\"line_color\":{\"field\":\"line_color\"},\"width\":{\"field\":\"width\",\"units\":\"data\"},\"x\":{\"field\":\"x\"},\"y\":{\"field\":\"y\"}},\"id\":\"be56a663-aa09-4720-b3af-7d8551ed60ba\",\"type\":\"Rect\"},{\"attributes\":{\"data_source\":{\"id\":\"b6764584-73ab-45f4-aa8a-cb7ec883ab58\",\"type\":\"ColumnDataSource\"},\"glyph\":{\"id\":\"c08d1116-5cc7-4b1a-b882-f38a2467d8bb\",\"type\":\"Rect\"},\"hover_glyph\":null,\"nonselection_glyph\":null,\"selection_glyph\":null},\"id\":\"d24454c8-63c6-4c00-860e-54ad0c8fb701\",\"type\":\"GlyphRenderer\"},{\"attributes\":{\"callback\":null,\"column_names\":[\"line_color\",\"line_alpha\",\"color\",\"fill_alpha\",\"height\",\"width\",\"y\",\"x\",\"label\"],\"data\":{\"Female\":[\"Unknown\"],\"OutcomeType\":[\"Euthanasia\"],\"chart_index\":[{\"Female\":\"Unknown\",\"OutcomeType\":\"Euthanasia\"}],\"color\":[\"#407ee7\"],\"fill_alpha\":[0.8],\"height\":[101.0],\"label\":[{\"Female\":\"Unknown\",\"OutcomeType\":\"Euthanasia\"}],\"line_alpha\":[1.0],\"line_color\":[\"white\"],\"width\":[0.8],\"x\":[\"Euthanasia\"],\"y\":[1504.5]}},\"id\":\"40e418de-0f1e-4665-90e9-eb846f1bf501\",\"type\":\"ColumnDataSource\"},{\"attributes\":{\"fill_alpha\":{\"field\":\"fill_alpha\"},\"fill_color\":{\"field\":\"color\"},\"height\":{\"field\":\"height\",\"units\":\"data\"},\"line_color\":{\"field\":\"line_color\"},\"width\":{\"field\":\"width\",\"units\":\"data\"},\"x\":{\"field\":\"x\"},\"y\":{\"field\":\"y\"}},\"id\":\"0edc5d15-a9b0-4d71-bcab-21b4b86a6b1d\",\"type\":\"Rect\"},{\"attributes\":{\"data_source\":{\"id\":\"51f04d1e-fcaf-4164-ab9a-b700a1b637cd\",\"type\":\"ColumnDataSource\"},\"glyph\":{\"id\":\"98b0666c-3e16-41f3-87a1-2bd43b97a78e\",\"type\":\"Rect\"},\"hover_glyph\":null,\"nonselection_glyph\":null,\"selection_glyph\":null},\"id\":\"d84b363e-0aae-496d-99fe-80309b0eca07\",\"type\":\"GlyphRenderer\"},{\"attributes\":{\"data_source\":{\"id\":\"f9c15259-95d1-42cf-b016-ac91403995a8\",\"type\":\"ColumnDataSource\"},\"glyph\":{\"id\":\"c514aefd-140b-4722-9b02-3cc6661d7fbe\",\"type\":\"Rect\"},\"hover_glyph\":null,\"nonselection_glyph\":null,\"selection_glyph\":null},\"id\":\"67101b53-9dbb-4e91-ba91-8ea7100c4f5e\",\"type\":\"GlyphRenderer\"},{\"attributes\":{\"fill_alpha\":{\"field\":\"fill_alpha\"},\"fill_color\":{\"field\":\"color\"},\"height\":{\"field\":\"height\",\"units\":\"data\"},\"line_color\":{\"field\":\"line_color\"},\"width\":{\"field\":\"width\",\"units\":\"data\"},\"x\":{\"field\":\"x\"},\"y\":{\"field\":\"y\"}},\"id\":\"19b46eca-fa4a-456e-aa68-e221aae6a730\",\"type\":\"Rect\"},{\"attributes\":{\"callback\":null,\"factors\":[\"Adoption\",\"Died\",\"Euthanasia\",\"Return_to_owner\",\"Transfer\"]},\"id\":\"196987e4-0e9f-436c-9ff5-73a97121d6b6\",\"type\":\"FactorRange\"},{\"attributes\":{\"plot\":null,\"text\":\"Outcomes by Female\"},\"id\":\"83ea9958-ac91-4b03-bde8-48248533174d\",\"type\":\"Title\"},{\"attributes\":{\"data_source\":{\"id\":\"6066de07-c7e0-4c3f-9eeb-b7e4c4d9361d\",\"type\":\"ColumnDataSource\"},\"glyph\":{\"id\":\"19b46eca-fa4a-456e-aa68-e221aae6a730\",\"type\":\"Rect\"},\"hover_glyph\":null,\"nonselection_glyph\":null,\"selection_glyph\":null},\"id\":\"bedc9533-10f0-420e-950b-d969f4782c11\",\"type\":\"GlyphRenderer\"},{\"attributes\":{},\"id\":\"df6bfa48-857a-4156-b017-3d338a0b7796\",\"type\":\"BasicTicker\"},{\"attributes\":{\"data_source\":{\"id\":\"ecf06123-4307-40a1-a37b-a5c7583a8575\",\"type\":\"ColumnDataSource\"},\"glyph\":{\"id\":\"ec8334b6-5045-4014-ac7c-0f989b58a49d\",\"type\":\"Rect\"},\"hover_glyph\":null,\"nonselection_glyph\":null,\"selection_glyph\":null},\"id\":\"e94d1b5d-045c-4b94-9e5f-e3414ce94e93\",\"type\":\"GlyphRenderer\"},{\"attributes\":{\"callback\":null,\"column_names\":[\"line_color\",\"line_alpha\",\"color\",\"fill_alpha\",\"height\",\"width\",\"y\",\"x\",\"label\"],\"data\":{\"Female\":[\"Male\"],\"OutcomeType\":[\"Euthanasia\"],\"chart_index\":[{\"Female\":\"Male\",\"OutcomeType\":\"Euthanasia\"}],\"color\":[\"#5ab738\"],\"fill_alpha\":[0.8],\"height\":[821.0],\"label\":[{\"Female\":\"Male\",\"OutcomeType\":\"Euthanasia\"}],\"line_alpha\":[1.0],\"line_color\":[\"white\"],\"width\":[0.8],\"x\":[\"Euthanasia\"],\"y\":[1043.5]}},\"id\":\"69ef4529-f977-448b-afea-e5f7fe992290\",\"type\":\"ColumnDataSource\"},{\"attributes\":{\"data_source\":{\"id\":\"40e418de-0f1e-4665-90e9-eb846f1bf501\",\"type\":\"ColumnDataSource\"},\"glyph\":{\"id\":\"2f677bd7-9763-4dd3-91dd-a613ca30ba18\",\"type\":\"Rect\"},\"hover_glyph\":null,\"nonselection_glyph\":null,\"selection_glyph\":null},\"id\":\"d6f33116-8f53-469a-82d4-b967c3595875\",\"type\":\"GlyphRenderer\"},{\"attributes\":{\"axis_label\":\"Count( Female )\",\"formatter\":{\"id\":\"6d299db0-cf75-475a-947b-785c6ca5c26d\",\"type\":\"BasicTickFormatter\"},\"plot\":{\"id\":\"71f47354-7419-4133-88c7-83e509b8af99\",\"subtype\":\"Chart\",\"type\":\"Plot\"},\"ticker\":{\"id\":\"df6bfa48-857a-4156-b017-3d338a0b7796\",\"type\":\"BasicTicker\"}},\"id\":\"b06f81b8-0b47-4503-84b4-ca66f2f63eda\",\"type\":\"LinearAxis\"},{\"attributes\":{\"axis_label\":\"Outcometype\",\"formatter\":{\"id\":\"a4e98d7e-c414-4d3b-a434-b372c4aa0f7a\",\"type\":\"CategoricalTickFormatter\"},\"major_label_orientation\":0.7853981633974483,\"plot\":{\"id\":\"71f47354-7419-4133-88c7-83e509b8af99\",\"subtype\":\"Chart\",\"type\":\"Plot\"},\"ticker\":{\"id\":\"b91db806-68b6-4d36-b09b-2dbd43cec490\",\"type\":\"CategoricalTicker\"}},\"id\":\"4bd0e8b3-83a6-46d7-83db-148f1e481ffa\",\"type\":\"CategoricalAxis\"},{\"attributes\":{\"callback\":null,\"column_names\":[\"line_color\",\"line_alpha\",\"color\",\"fill_alpha\",\"height\",\"width\",\"y\",\"x\",\"label\"],\"data\":{\"Female\":[\"Male\"],\"OutcomeType\":[\"Died\"],\"chart_index\":[{\"Female\":\"Male\",\"OutcomeType\":\"Died\"}],\"color\":[\"#5ab738\"],\"fill_alpha\":[0.8],\"height\":[98.0],\"label\":[{\"Female\":\"Male\",\"OutcomeType\":\"Died\"}],\"line_alpha\":[1.0],\"line_color\":[\"white\"],\"width\":[0.8],\"x\":[\"Died\"],\"y\":[49.0]}},\"id\":\"f9c15259-95d1-42cf-b016-ac91403995a8\",\"type\":\"ColumnDataSource\"},{\"attributes\":{},\"id\":\"8addf710-6bca-4075-89ad-d32da4f0cfc8\",\"type\":\"ToolEvents\"},{\"attributes\":{\"data_source\":{\"id\":\"d35e927a-dfee-4992-962d-f5b073d5e0e9\",\"type\":\"ColumnDataSource\"},\"glyph\":{\"id\":\"647e41f3-b3ba-4db7-ba3a-44736ac245ef\",\"type\":\"Rect\"},\"hover_glyph\":null,\"nonselection_glyph\":null,\"selection_glyph\":null},\"id\":\"c02f7cc0-678a-4765-abd0-6b37418e3edf\",\"type\":\"GlyphRenderer\"},{\"attributes\":{\"fill_alpha\":{\"field\":\"fill_alpha\"},\"fill_color\":{\"field\":\"color\"},\"height\":{\"field\":\"height\",\"units\":\"data\"},\"line_color\":{\"field\":\"line_color\"},\"width\":{\"field\":\"width\",\"units\":\"data\"},\"x\":{\"field\":\"x\"},\"y\":{\"field\":\"y\"}},\"id\":\"2bf00cac-82c4-4377-8cd1-82fd77d40d77\",\"type\":\"Rect\"},{\"attributes\":{\"data_source\":{\"id\":\"7a705999-8c0e-4843-a9e3-1b29cfa464d0\",\"type\":\"ColumnDataSource\"},\"glyph\":{\"id\":\"59a794d6-4b7f-4075-8ff9-5f598bcddb25\",\"type\":\"Rect\"},\"hover_glyph\":null,\"nonselection_glyph\":null,\"selection_glyph\":null},\"id\":\"70defc2f-4588-4f3f-95b2-6fb4a13e0d35\",\"type\":\"GlyphRenderer\"},{\"attributes\":{\"bottom_units\":\"screen\",\"fill_alpha\":{\"value\":0.5},\"fill_color\":{\"value\":\"lightgrey\"},\"left_units\":\"screen\",\"level\":\"overlay\",\"line_alpha\":{\"value\":1.0},\"line_color\":{\"value\":\"black\"},\"line_dash\":[4,4],\"line_width\":{\"value\":2},\"plot\":null,\"render_mode\":\"css\",\"right_units\":\"screen\",\"top_units\":\"screen\"},\"id\":\"9b6c09f3-e24a-44d9-901b-835b16c0d4e5\",\"type\":\"BoxAnnotation\"},{\"attributes\":{\"plot\":{\"id\":\"71f47354-7419-4133-88c7-83e509b8af99\",\"subtype\":\"Chart\",\"type\":\"Plot\"}},\"id\":\"a85f8e78-ca29-4a60-867e-ec109a78871e\",\"type\":\"SaveTool\"},{\"attributes\":{\"data_source\":{\"id\":\"ea8ace43-0e3e-40cd-af54-d81a7d53847a\",\"type\":\"ColumnDataSource\"},\"glyph\":{\"id\":\"0edc5d15-a9b0-4d71-bcab-21b4b86a6b1d\",\"type\":\"Rect\"},\"hover_glyph\":null,\"nonselection_glyph\":null,\"selection_glyph\":null},\"id\":\"bf486b8d-36fe-4e18-8f93-2ee31f828722\",\"type\":\"GlyphRenderer\"},{\"attributes\":{},\"id\":\"b91db806-68b6-4d36-b09b-2dbd43cec490\",\"type\":\"CategoricalTicker\"},{\"attributes\":{\"callback\":null,\"column_names\":[\"line_color\",\"line_alpha\",\"color\",\"fill_alpha\",\"height\",\"width\",\"y\",\"x\",\"label\"],\"data\":{\"Female\":[\"Unknown\"],\"OutcomeType\":[\"Return_to_owner\"],\"chart_index\":[{\"Female\":\"Unknown\",\"OutcomeType\":\"Return_to_owner\"}],\"color\":[\"#407ee7\"],\"fill_alpha\":[0.8],\"height\":[12.0],\"label\":[{\"Female\":\"Unknown\",\"OutcomeType\":\"Return_to_owner\"}],\"line_alpha\":[1.0],\"line_color\":[\"white\"],\"width\":[0.8],\"x\":[\"Return_to_owner\"],\"y\":[4780.0]}},\"id\":\"b6764584-73ab-45f4-aa8a-cb7ec883ab58\",\"type\":\"ColumnDataSource\"},{\"attributes\":{\"fill_alpha\":{\"field\":\"fill_alpha\"},\"fill_color\":{\"field\":\"color\"},\"height\":{\"field\":\"height\",\"units\":\"data\"},\"line_color\":{\"field\":\"line_color\"},\"width\":{\"field\":\"width\",\"units\":\"data\"},\"x\":{\"field\":\"x\"},\"y\":{\"field\":\"y\"}},\"id\":\"ec8334b6-5045-4014-ac7c-0f989b58a49d\",\"type\":\"Rect\"},{\"attributes\":{\"data_source\":{\"id\":\"e4807b6a-f2a8-45fa-b7ef-c97401e81db3\",\"type\":\"ColumnDataSource\"},\"glyph\":{\"id\":\"454101fe-553d-42c7-ba38-996507fa4e7e\",\"type\":\"Rect\"},\"hover_glyph\":null,\"nonselection_glyph\":null,\"selection_glyph\":null},\"id\":\"b9d417e5-c5b2-429e-a1f1-0f5f9f29e429\",\"type\":\"GlyphRenderer\"},{\"attributes\":{\"callback\":null,\"column_names\":[\"line_color\",\"line_alpha\",\"color\",\"fill_alpha\",\"height\",\"width\",\"y\",\"x\",\"label\"],\"data\":{\"Female\":[\"Female\"],\"OutcomeType\":[\"Adoption\"],\"chart_index\":[{\"Female\":\"Female\",\"OutcomeType\":\"Adoption\"}],\"color\":[\"#f22c40\"],\"fill_alpha\":[0.8],\"height\":[5389.0],\"label\":[{\"Female\":\"Female\",\"OutcomeType\":\"Adoption\"}],\"line_alpha\":[1.0],\"line_color\":[\"white\"],\"width\":[0.8],\"x\":[\"Adoption\"],\"y\":[8074.5]}},\"id\":\"e4807b6a-f2a8-45fa-b7ef-c97401e81db3\",\"type\":\"ColumnDataSource\"},{\"attributes\":{\"fill_alpha\":{\"field\":\"fill_alpha\"},\"fill_color\":{\"field\":\"color\"},\"height\":{\"field\":\"height\",\"units\":\"data\"},\"line_color\":{\"field\":\"line_color\"},\"width\":{\"field\":\"width\",\"units\":\"data\"},\"x\":{\"field\":\"x\"},\"y\":{\"field\":\"y\"}},\"id\":\"98b0666c-3e16-41f3-87a1-2bd43b97a78e\",\"type\":\"Rect\"},{\"attributes\":{\"plot\":{\"id\":\"71f47354-7419-4133-88c7-83e509b8af99\",\"subtype\":\"Chart\",\"type\":\"Plot\"}},\"id\":\"e96c3315-734b-4152-a0c6-ed112a2a56b5\",\"type\":\"PanTool\"},{\"attributes\":{\"callback\":null,\"column_names\":[\"line_color\",\"line_alpha\",\"color\",\"fill_alpha\",\"height\",\"width\",\"y\",\"x\",\"label\"],\"data\":{\"Female\":[\"Female\"],\"OutcomeType\":[\"Return_to_owner\"],\"chart_index\":[{\"Female\":\"Female\",\"OutcomeType\":\"Return_to_owner\"}],\"color\":[\"#f22c40\"],\"fill_alpha\":[0.8],\"height\":[2049.0],\"label\":[{\"Female\":\"Female\",\"OutcomeType\":\"Return_to_owner\"}],\"line_alpha\":[1.0],\"line_color\":[\"white\"],\"width\":[0.8],\"x\":[\"Return_to_owner\"],\"y\":[3749.5]}},\"id\":\"d35e927a-dfee-4992-962d-f5b073d5e0e9\",\"type\":\"ColumnDataSource\"},{\"attributes\":{\"callback\":null,\"column_names\":[\"line_color\",\"line_alpha\",\"color\",\"fill_alpha\",\"height\",\"width\",\"y\",\"x\",\"label\"],\"data\":{\"Female\":[\"Unknown\"],\"OutcomeType\":[\"Transfer\"],\"chart_index\":[{\"Female\":\"Unknown\",\"OutcomeType\":\"Transfer\"}],\"color\":[\"#407ee7\"],\"fill_alpha\":[0.8],\"height\":[955.0],\"label\":[{\"Female\":\"Unknown\",\"OutcomeType\":\"Transfer\"}],\"line_alpha\":[1.0],\"line_color\":[\"white\"],\"width\":[0.8],\"x\":[\"Transfer\"],\"y\":[8944.5]}},\"id\":\"a8e81a48-6fba-4390-bab8-b90c9fcf6e60\",\"type\":\"ColumnDataSource\"},{\"attributes\":{\"plot\":{\"id\":\"71f47354-7419-4133-88c7-83e509b8af99\",\"subtype\":\"Chart\",\"type\":\"Plot\"}},\"id\":\"706f2ed3-7f20-40eb-b44e-7f2988414eae\",\"type\":\"HelpTool\"},{\"attributes\":{\"data_source\":{\"id\":\"45369c1f-cb3f-4244-81bc-05085f272acf\",\"type\":\"ColumnDataSource\"},\"glyph\":{\"id\":\"c1c2408f-b8cb-4cbd-b1d1-cbbcb606859c\",\"type\":\"Rect\"},\"hover_glyph\":null,\"nonselection_glyph\":null,\"selection_glyph\":null},\"id\":\"f0154c32-6cbf-459a-9369-b71c8283cabb\",\"type\":\"GlyphRenderer\"},{\"attributes\":{\"callback\":null,\"column_names\":[\"line_color\",\"line_alpha\",\"color\",\"fill_alpha\",\"height\",\"width\",\"y\",\"x\",\"label\"],\"data\":{\"Female\":[\"Male\"],\"OutcomeType\":[\"Transfer\"],\"chart_index\":[{\"Female\":\"Male\",\"OutcomeType\":\"Transfer\"}],\"color\":[\"#5ab738\"],\"fill_alpha\":[0.8],\"height\":[4281.0],\"label\":[{\"Female\":\"Male\",\"OutcomeType\":\"Transfer\"}],\"line_alpha\":[1.0],\"line_color\":[\"white\"],\"width\":[0.8],\"x\":[\"Transfer\"],\"y\":[2140.5]}},\"id\":\"ea8ace43-0e3e-40cd-af54-d81a7d53847a\",\"type\":\"ColumnDataSource\"},{\"attributes\":{\"fill_alpha\":{\"field\":\"fill_alpha\"},\"fill_color\":{\"field\":\"color\"},\"height\":{\"field\":\"height\",\"units\":\"data\"},\"line_color\":{\"field\":\"line_color\"},\"width\":{\"field\":\"width\",\"units\":\"data\"},\"x\":{\"field\":\"x\"},\"y\":{\"field\":\"y\"}},\"id\":\"aff3deeb-3982-43aa-be36-a0c9b3f50b05\",\"type\":\"Rect\"},{\"attributes\":{\"fill_alpha\":{\"field\":\"fill_alpha\"},\"fill_color\":{\"field\":\"color\"},\"height\":{\"field\":\"height\",\"units\":\"data\"},\"line_color\":{\"field\":\"line_color\"},\"width\":{\"field\":\"width\",\"units\":\"data\"},\"x\":{\"field\":\"x\"},\"y\":{\"field\":\"y\"}},\"id\":\"647e41f3-b3ba-4db7-ba3a-44736ac245ef\",\"type\":\"Rect\"},{\"attributes\":{\"fill_alpha\":{\"field\":\"fill_alpha\"},\"fill_color\":{\"field\":\"color\"},\"height\":{\"field\":\"height\",\"units\":\"data\"},\"line_color\":{\"field\":\"line_color\"},\"width\":{\"field\":\"width\",\"units\":\"data\"},\"x\":{\"field\":\"x\"},\"y\":{\"field\":\"y\"}},\"id\":\"c08d1116-5cc7-4b1a-b882-f38a2467d8bb\",\"type\":\"Rect\"},{\"attributes\":{\"plot\":{\"id\":\"71f47354-7419-4133-88c7-83e509b8af99\",\"subtype\":\"Chart\",\"type\":\"Plot\"}},\"id\":\"75daa611-1ace-45fd-b0b8-3da0a128b137\",\"type\":\"WheelZoomTool\"},{\"attributes\":{\"callback\":null,\"column_names\":[\"line_color\",\"line_alpha\",\"color\",\"fill_alpha\",\"height\",\"width\",\"y\",\"x\",\"label\"],\"data\":{\"Female\":[\"Unknown\"],\"OutcomeType\":[\"Died\"],\"chart_index\":[{\"Female\":\"Unknown\",\"OutcomeType\":\"Died\"}],\"color\":[\"#407ee7\"],\"fill_alpha\":[0.8],\"height\":[25.0],\"label\":[{\"Female\":\"Unknown\",\"OutcomeType\":\"Died\"}],\"line_alpha\":[1.0],\"line_color\":[\"white\"],\"width\":[0.8],\"x\":[\"Died\"],\"y\":[110.5]}},\"id\":\"00a850f1-7f5b-467e-addf-ff4a3ff56251\",\"type\":\"ColumnDataSource\"},{\"attributes\":{\"data_source\":{\"id\":\"69ef4529-f977-448b-afea-e5f7fe992290\",\"type\":\"ColumnDataSource\"},\"glyph\":{\"id\":\"aff3deeb-3982-43aa-be36-a0c9b3f50b05\",\"type\":\"Rect\"},\"hover_glyph\":null,\"nonselection_glyph\":null,\"selection_glyph\":null},\"id\":\"dad33588-a664-49e3-a410-55152b0778fb\",\"type\":\"GlyphRenderer\"},{\"attributes\":{\"active_drag\":\"auto\",\"active_scroll\":\"auto\",\"active_tap\":\"auto\",\"tools\":[{\"id\":\"e96c3315-734b-4152-a0c6-ed112a2a56b5\",\"type\":\"PanTool\"},{\"id\":\"75daa611-1ace-45fd-b0b8-3da0a128b137\",\"type\":\"WheelZoomTool\"},{\"id\":\"e7ca622b-876c-444d-8886-b38dab700b22\",\"type\":\"BoxZoomTool\"},{\"id\":\"a85f8e78-ca29-4a60-867e-ec109a78871e\",\"type\":\"SaveTool\"},{\"id\":\"dedf5e5b-a822-4116-b5f3-9fe5c1a9f30e\",\"type\":\"ResetTool\"},{\"id\":\"706f2ed3-7f20-40eb-b44e-7f2988414eae\",\"type\":\"HelpTool\"}]},\"id\":\"0413f3b1-053a-4b13-9b4c-948e107318d0\",\"type\":\"Toolbar\"},{\"attributes\":{\"overlay\":{\"id\":\"9b6c09f3-e24a-44d9-901b-835b16c0d4e5\",\"type\":\"BoxAnnotation\"},\"plot\":{\"id\":\"71f47354-7419-4133-88c7-83e509b8af99\",\"subtype\":\"Chart\",\"type\":\"Plot\"}},\"id\":\"e7ca622b-876c-444d-8886-b38dab700b22\",\"type\":\"BoxZoomTool\"},{\"attributes\":{\"callback\":null,\"column_names\":[\"line_color\",\"line_alpha\",\"color\",\"fill_alpha\",\"height\",\"width\",\"y\",\"x\",\"label\"],\"data\":{\"Female\":[\"Female\"],\"OutcomeType\":[\"Transfer\"],\"chart_index\":[{\"Female\":\"Female\",\"OutcomeType\":\"Transfer\"}],\"color\":[\"#f22c40\"],\"fill_alpha\":[0.8],\"height\":[4186.0],\"label\":[{\"Female\":\"Female\",\"OutcomeType\":\"Transfer\"}],\"line_alpha\":[1.0],\"line_color\":[\"white\"],\"width\":[0.8],\"x\":[\"Transfer\"],\"y\":[6374.0]}},\"id\":\"7a705999-8c0e-4843-a9e3-1b29cfa464d0\",\"type\":\"ColumnDataSource\"},{\"attributes\":{\"data_source\":{\"id\":\"a8e81a48-6fba-4390-bab8-b90c9fcf6e60\",\"type\":\"ColumnDataSource\"},\"glyph\":{\"id\":\"be56a663-aa09-4720-b3af-7d8551ed60ba\",\"type\":\"Rect\"},\"hover_glyph\":null,\"nonselection_glyph\":null,\"selection_glyph\":null},\"id\":\"b28c9e82-2817-497e-b5e0-c6d82f2d9dd9\",\"type\":\"GlyphRenderer\"},{\"attributes\":{\"fill_alpha\":{\"field\":\"fill_alpha\"},\"fill_color\":{\"field\":\"color\"},\"height\":{\"field\":\"height\",\"units\":\"data\"},\"line_color\":{\"field\":\"line_color\"},\"width\":{\"field\":\"width\",\"units\":\"data\"},\"x\":{\"field\":\"x\"},\"y\":{\"field\":\"y\"}},\"id\":\"c1c2408f-b8cb-4cbd-b1d1-cbbcb606859c\",\"type\":\"Rect\"},{\"attributes\":{\"plot\":{\"id\":\"71f47354-7419-4133-88c7-83e509b8af99\",\"subtype\":\"Chart\",\"type\":\"Plot\"}},\"id\":\"dedf5e5b-a822-4116-b5f3-9fe5c1a9f30e\",\"type\":\"ResetTool\"},{\"attributes\":{},\"id\":\"6d299db0-cf75-475a-947b-785c6ca5c26d\",\"type\":\"BasicTickFormatter\"},{\"attributes\":{\"fill_alpha\":{\"field\":\"fill_alpha\"},\"fill_color\":{\"field\":\"color\"},\"height\":{\"field\":\"height\",\"units\":\"data\"},\"line_color\":{\"field\":\"line_color\"},\"width\":{\"field\":\"width\",\"units\":\"data\"},\"x\":{\"field\":\"x\"},\"y\":{\"field\":\"y\"}},\"id\":\"c514aefd-140b-4722-9b02-3cc6661d7fbe\",\"type\":\"Rect\"},{\"attributes\":{\"callback\":null,\"end\":11307.45},\"id\":\"697a52af-cf89-483a-9825-a6486d36c481\",\"type\":\"Range1d\"},{\"attributes\":{\"fill_alpha\":{\"field\":\"fill_alpha\"},\"fill_color\":{\"field\":\"color\"},\"height\":{\"field\":\"height\",\"units\":\"data\"},\"line_color\":{\"field\":\"line_color\"},\"width\":{\"field\":\"width\",\"units\":\"data\"},\"x\":{\"field\":\"x\"},\"y\":{\"field\":\"y\"}},\"id\":\"59a794d6-4b7f-4075-8ff9-5f598bcddb25\",\"type\":\"Rect\"},{\"attributes\":{\"fill_alpha\":{\"field\":\"fill_alpha\"},\"fill_color\":{\"field\":\"color\"},\"height\":{\"field\":\"height\",\"units\":\"data\"},\"line_color\":{\"field\":\"line_color\"},\"width\":{\"field\":\"width\",\"units\":\"data\"},\"x\":{\"field\":\"x\"},\"y\":{\"field\":\"y\"}},\"id\":\"454101fe-553d-42c7-ba38-996507fa4e7e\",\"type\":\"Rect\"},{\"attributes\":{\"callback\":null,\"column_names\":[\"line_color\",\"line_alpha\",\"color\",\"fill_alpha\",\"height\",\"width\",\"y\",\"x\",\"label\"],\"data\":{\"Female\":[\"Female\"],\"OutcomeType\":[\"Died\"],\"chart_index\":[{\"Female\":\"Female\",\"OutcomeType\":\"Died\"}],\"color\":[\"#f22c40\"],\"fill_alpha\":[0.8],\"height\":[74.0],\"label\":[{\"Female\":\"Female\",\"OutcomeType\":\"Died\"}],\"line_alpha\":[1.0],\"line_color\":[\"white\"],\"width\":[0.8],\"x\":[\"Died\"],\"y\":[160.0]}},\"id\":\"ecf06123-4307-40a1-a37b-a5c7583a8575\",\"type\":\"ColumnDataSource\"},{\"attributes\":{\"callback\":null,\"column_names\":[\"line_color\",\"line_alpha\",\"color\",\"fill_alpha\",\"height\",\"width\",\"y\",\"x\",\"label\"],\"data\":{\"Female\":[\"Male\"],\"OutcomeType\":[\"Return_to_owner\"],\"chart_index\":[{\"Female\":\"Male\",\"OutcomeType\":\"Return_to_owner\"}],\"color\":[\"#5ab738\"],\"fill_alpha\":[0.8],\"height\":[2725.0],\"label\":[{\"Female\":\"Male\",\"OutcomeType\":\"Return_to_owner\"}],\"line_alpha\":[1.0],\"line_color\":[\"white\"],\"width\":[0.8],\"x\":[\"Return_to_owner\"],\"y\":[1362.5]}},\"id\":\"51f04d1e-fcaf-4164-ab9a-b700a1b637cd\",\"type\":\"ColumnDataSource\"},{\"attributes\":{\"dimension\":1,\"plot\":{\"id\":\"71f47354-7419-4133-88c7-83e509b8af99\",\"subtype\":\"Chart\",\"type\":\"Plot\"},\"ticker\":{\"id\":\"df6bfa48-857a-4156-b017-3d338a0b7796\",\"type\":\"BasicTicker\"}},\"id\":\"ad5eee9b-bda7-4889-9fc6-6501f715e1d7\",\"type\":\"Grid\"},{\"attributes\":{\"callback\":null,\"column_names\":[\"line_color\",\"line_alpha\",\"color\",\"fill_alpha\",\"height\",\"width\",\"y\",\"x\",\"label\"],\"data\":{\"Female\":[\"Female\"],\"OutcomeType\":[\"Euthanasia\"],\"chart_index\":[{\"Female\":\"Female\",\"OutcomeType\":\"Euthanasia\"}],\"color\":[\"#f22c40\"],\"fill_alpha\":[0.8],\"height\":[633.0],\"label\":[{\"Female\":\"Female\",\"OutcomeType\":\"Euthanasia\"}],\"line_alpha\":[1.0],\"line_color\":[\"white\"],\"width\":[0.8],\"x\":[\"Euthanasia\"],\"y\":[316.5]}},\"id\":\"45369c1f-cb3f-4244-81bc-05085f272acf\",\"type\":\"ColumnDataSource\"},{\"attributes\":{\"below\":[{\"id\":\"4bd0e8b3-83a6-46d7-83db-148f1e481ffa\",\"type\":\"CategoricalAxis\"}],\"left\":[{\"id\":\"b06f81b8-0b47-4503-84b4-ca66f2f63eda\",\"type\":\"LinearAxis\"}],\"renderers\":[{\"id\":\"9b6c09f3-e24a-44d9-901b-835b16c0d4e5\",\"type\":\"BoxAnnotation\"},{\"id\":\"d84b363e-0aae-496d-99fe-80309b0eca07\",\"type\":\"GlyphRenderer\"},{\"id\":\"f0154c32-6cbf-459a-9369-b71c8283cabb\",\"type\":\"GlyphRenderer\"},{\"id\":\"bedc9533-10f0-420e-950b-d969f4782c11\",\"type\":\"GlyphRenderer\"},{\"id\":\"bf486b8d-36fe-4e18-8f93-2ee31f828722\",\"type\":\"GlyphRenderer\"},{\"id\":\"70defc2f-4588-4f3f-95b2-6fb4a13e0d35\",\"type\":\"GlyphRenderer\"},{\"id\":\"b28c9e82-2817-497e-b5e0-c6d82f2d9dd9\",\"type\":\"GlyphRenderer\"},{\"id\":\"b9d417e5-c5b2-429e-a1f1-0f5f9f29e429\",\"type\":\"GlyphRenderer\"},{\"id\":\"dad33588-a664-49e3-a410-55152b0778fb\",\"type\":\"GlyphRenderer\"},{\"id\":\"c02f7cc0-678a-4765-abd0-6b37418e3edf\",\"type\":\"GlyphRenderer\"},{\"id\":\"d6f33116-8f53-469a-82d4-b967c3595875\",\"type\":\"GlyphRenderer\"},{\"id\":\"67101b53-9dbb-4e91-ba91-8ea7100c4f5e\",\"type\":\"GlyphRenderer\"},{\"id\":\"4741e5f0-7071-4c9e-94da-939bcc78baeb\",\"type\":\"GlyphRenderer\"},{\"id\":\"e94d1b5d-045c-4b94-9e5f-e3414ce94e93\",\"type\":\"GlyphRenderer\"},{\"id\":\"d24454c8-63c6-4c00-860e-54ad0c8fb701\",\"type\":\"GlyphRenderer\"},{\"id\":\"95a1ae03-b83e-4322-884b-1471d4cc1bfc\",\"type\":\"Legend\"},{\"id\":\"4bd0e8b3-83a6-46d7-83db-148f1e481ffa\",\"type\":\"CategoricalAxis\"},{\"id\":\"b06f81b8-0b47-4503-84b4-ca66f2f63eda\",\"type\":\"LinearAxis\"},{\"id\":\"ad5eee9b-bda7-4889-9fc6-6501f715e1d7\",\"type\":\"Grid\"}],\"title\":{\"id\":\"83ea9958-ac91-4b03-bde8-48248533174d\",\"type\":\"Title\"},\"tool_events\":{\"id\":\"8addf710-6bca-4075-89ad-d32da4f0cfc8\",\"type\":\"ToolEvents\"},\"toolbar\":{\"id\":\"0413f3b1-053a-4b13-9b4c-948e107318d0\",\"type\":\"Toolbar\"},\"x_mapper_type\":\"auto\",\"x_range\":{\"id\":\"196987e4-0e9f-436c-9ff5-73a97121d6b6\",\"type\":\"FactorRange\"},\"y_mapper_type\":\"auto\",\"y_range\":{\"id\":\"697a52af-cf89-483a-9825-a6486d36c481\",\"type\":\"Range1d\"}},\"id\":\"71f47354-7419-4133-88c7-83e509b8af99\",\"subtype\":\"Chart\",\"type\":\"Plot\"},{\"attributes\":{\"legends\":[[\"Male\",[{\"id\":\"d84b363e-0aae-496d-99fe-80309b0eca07\",\"type\":\"GlyphRenderer\"}]],[\"Female\",[{\"id\":\"f0154c32-6cbf-459a-9369-b71c8283cabb\",\"type\":\"GlyphRenderer\"}]],[\"Unknown\",[{\"id\":\"b28c9e82-2817-497e-b5e0-c6d82f2d9dd9\",\"type\":\"GlyphRenderer\"}]]],\"plot\":{\"id\":\"71f47354-7419-4133-88c7-83e509b8af99\",\"subtype\":\"Chart\",\"type\":\"Plot\"}},\"id\":\"95a1ae03-b83e-4322-884b-1471d4cc1bfc\",\"type\":\"Legend\"},{\"attributes\":{\"callback\":null,\"column_names\":[\"line_color\",\"line_alpha\",\"color\",\"fill_alpha\",\"height\",\"width\",\"y\",\"x\",\"label\"],\"data\":{\"Female\":[\"Male\"],\"OutcomeType\":[\"Adoption\"],\"chart_index\":[{\"Female\":\"Male\",\"OutcomeType\":\"Adoption\"}],\"color\":[\"#5ab738\"],\"fill_alpha\":[0.8],\"height\":[5380.0],\"label\":[{\"Female\":\"Male\",\"OutcomeType\":\"Adoption\"}],\"line_alpha\":[1.0],\"line_color\":[\"white\"],\"width\":[0.8],\"x\":[\"Adoption\"],\"y\":[2690.0]}},\"id\":\"6066de07-c7e0-4c3f-9eeb-b7e4c4d9361d\",\"type\":\"ColumnDataSource\"},{\"attributes\":{},\"id\":\"a4e98d7e-c414-4d3b-a434-b372c4aa0f7a\",\"type\":\"CategoricalTickFormatter\"},{\"attributes\":{\"fill_alpha\":{\"field\":\"fill_alpha\"},\"fill_color\":{\"field\":\"color\"},\"height\":{\"field\":\"height\",\"units\":\"data\"},\"line_color\":{\"field\":\"line_color\"},\"width\":{\"field\":\"width\",\"units\":\"data\"},\"x\":{\"field\":\"x\"},\"y\":{\"field\":\"y\"}},\"id\":\"2f677bd7-9763-4dd3-91dd-a613ca30ba18\",\"type\":\"Rect\"}],\"root_ids\":[\"71f47354-7419-4133-88c7-83e509b8af99\"]},\"title\":\"Bokeh Application\",\"version\":\"0.12.2\"}};\n",
       "            var render_items = [{\"docid\":\"57ba4a1f-1a0f-46c9-9a4b-911349036df7\",\"elementid\":\"4f4be143-428a-49c3-a2c1-1d1c2ad6190c\",\"modelid\":\"71f47354-7419-4133-88c7-83e509b8af99\"}];\n",
       "            \n",
       "            Bokeh.embed.embed_items(docs_json, render_items);\n",
       "        });\n",
       "      },\n",
       "      function(Bokeh) {\n",
       "      }\n",
       "    ];\n",
       "  \n",
       "    function run_inline_js() {\n",
       "      \n",
       "      if ((window.Bokeh !== undefined) || (force === \"1\")) {\n",
       "        for (var i = 0; i < inline_js.length; i++) {\n",
       "          inline_js[i](window.Bokeh);\n",
       "        }if (force === \"1\") {\n",
       "          display_loaded();\n",
       "        }} else if (Date.now() < window._bokeh_timeout) {\n",
       "        setTimeout(run_inline_js, 100);\n",
       "      } else if (!window._bokeh_failed_load) {\n",
       "        console.log(\"Bokeh: BokehJS failed to load within specified timeout.\");\n",
       "        window._bokeh_failed_load = true;\n",
       "      } else if (!force) {\n",
       "        var cell = $(\"#4f4be143-428a-49c3-a2c1-1d1c2ad6190c\").parents('.cell').data().cell;\n",
       "        cell.output_area.append_execute_result(NB_LOAD_WARNING)\n",
       "      }\n",
       "  \n",
       "    }\n",
       "  \n",
       "    if (window._bokeh_is_loading === 0) {\n",
       "      console.log(\"Bokeh: BokehJS loaded, going straight to plotting\");\n",
       "      run_inline_js();\n",
       "    } else {\n",
       "      load_libs(js_urls, function() {\n",
       "        console.log(\"Bokeh: BokehJS plotting callback run at\", now());\n",
       "        run_inline_js();\n",
       "      });\n",
       "    }\n",
       "  }(this));\n",
       "</script>"
      ]
     },
     "metadata": {},
     "output_type": "display_data"
    }
   ],
   "source": [
    "p = Bar(data, label='OutcomeType', values = 'Female', agg='count', stack='Female',\n",
    "        title=\"Outcomes by Female\", legend='top_right')\n",
    "show(p)"
   ]
  },
  {
   "cell_type": "code",
   "execution_count": 10,
   "metadata": {
    "collapsed": false
   },
   "outputs": [
    {
     "data": {
      "text/html": [
       "\n",
       "\n",
       "    <div class=\"bk-root\">\n",
       "        <div class=\"plotdiv\" id=\"2e8bfebb-c3c5-4bfb-bd0b-c5fa82614454\"></div>\n",
       "    </div>\n",
       "<script type=\"text/javascript\">\n",
       "  \n",
       "  (function(global) {\n",
       "    function now() {\n",
       "      return new Date();\n",
       "    }\n",
       "  \n",
       "    var force = \"\";\n",
       "  \n",
       "    if (typeof (window._bokeh_onload_callbacks) === \"undefined\" || force !== \"\") {\n",
       "      window._bokeh_onload_callbacks = [];\n",
       "      window._bokeh_is_loading = undefined;\n",
       "    }\n",
       "  \n",
       "  \n",
       "    \n",
       "    if (typeof (window._bokeh_timeout) === \"undefined\" || force !== \"\") {\n",
       "      window._bokeh_timeout = Date.now() + 0;\n",
       "      window._bokeh_failed_load = false;\n",
       "    }\n",
       "  \n",
       "    var NB_LOAD_WARNING = {'data': {'text/html':\n",
       "       \"<div style='background-color: #fdd'>\\n\"+\n",
       "       \"<p>\\n\"+\n",
       "       \"BokehJS does not appear to have successfully loaded. If loading BokehJS from CDN, this \\n\"+\n",
       "       \"may be due to a slow or bad network connection. Possible fixes:\\n\"+\n",
       "       \"</p>\\n\"+\n",
       "       \"<ul>\\n\"+\n",
       "       \"<li>re-rerun `output_notebook()` to attempt to load from CDN again, or</li>\\n\"+\n",
       "       \"<li>use INLINE resources instead, as so:</li>\\n\"+\n",
       "       \"</ul>\\n\"+\n",
       "       \"<code>\\n\"+\n",
       "       \"from bokeh.resources import INLINE\\n\"+\n",
       "       \"output_notebook(resources=INLINE)\\n\"+\n",
       "       \"</code>\\n\"+\n",
       "       \"</div>\"}};\n",
       "  \n",
       "    function display_loaded() {\n",
       "      if (window.Bokeh !== undefined) {\n",
       "        Bokeh.$(\"#2e8bfebb-c3c5-4bfb-bd0b-c5fa82614454\").text(\"BokehJS successfully loaded.\");\n",
       "      } else if (Date.now() < window._bokeh_timeout) {\n",
       "        setTimeout(display_loaded, 100)\n",
       "      }\n",
       "    }\n",
       "  \n",
       "    function run_callbacks() {\n",
       "      window._bokeh_onload_callbacks.forEach(function(callback) { callback() });\n",
       "      delete window._bokeh_onload_callbacks\n",
       "      console.info(\"Bokeh: all callbacks have finished\");\n",
       "    }\n",
       "  \n",
       "    function load_libs(js_urls, callback) {\n",
       "      window._bokeh_onload_callbacks.push(callback);\n",
       "      if (window._bokeh_is_loading > 0) {\n",
       "        console.log(\"Bokeh: BokehJS is being loaded, scheduling callback at\", now());\n",
       "        return null;\n",
       "      }\n",
       "      if (js_urls == null || js_urls.length === 0) {\n",
       "        run_callbacks();\n",
       "        return null;\n",
       "      }\n",
       "      console.log(\"Bokeh: BokehJS not loaded, scheduling load and callback at\", now());\n",
       "      window._bokeh_is_loading = js_urls.length;\n",
       "      for (var i = 0; i < js_urls.length; i++) {\n",
       "        var url = js_urls[i];\n",
       "        var s = document.createElement('script');\n",
       "        s.src = url;\n",
       "        s.async = false;\n",
       "        s.onreadystatechange = s.onload = function() {\n",
       "          window._bokeh_is_loading--;\n",
       "          if (window._bokeh_is_loading === 0) {\n",
       "            console.log(\"Bokeh: all BokehJS libraries loaded\");\n",
       "            run_callbacks()\n",
       "          }\n",
       "        };\n",
       "        s.onerror = function() {\n",
       "          console.warn(\"failed to load library \" + url);\n",
       "        };\n",
       "        console.log(\"Bokeh: injecting script tag for BokehJS library: \", url);\n",
       "        document.getElementsByTagName(\"head\")[0].appendChild(s);\n",
       "      }\n",
       "    };var element = document.getElementById(\"2e8bfebb-c3c5-4bfb-bd0b-c5fa82614454\");\n",
       "    if (element == null) {\n",
       "      console.log(\"Bokeh: ERROR: autoload.js configured with elementid '2e8bfebb-c3c5-4bfb-bd0b-c5fa82614454' but no matching script tag was found. \")\n",
       "      return false;\n",
       "    }\n",
       "  \n",
       "    var js_urls = [];\n",
       "  \n",
       "    var inline_js = [\n",
       "      function(Bokeh) {\n",
       "        Bokeh.$(function() {\n",
       "            var docs_json = {\"19d6f36b-9b10-4135-9ff8-49435208e67d\":{\"roots\":{\"references\":[{\"attributes\":{\"data_source\":{\"id\":\"66aa46e5-e355-4529-a147-10041ed93504\",\"type\":\"ColumnDataSource\"},\"glyph\":{\"id\":\"5e48ce95-1be2-4ba9-aded-70cae8add524\",\"type\":\"Rect\"},\"hover_glyph\":null,\"nonselection_glyph\":null,\"selection_glyph\":null},\"id\":\"a174e8dc-9603-4840-9235-d8f57d4bb05b\",\"type\":\"GlyphRenderer\"},{\"attributes\":{\"fill_alpha\":{\"field\":\"fill_alpha\"},\"fill_color\":{\"field\":\"color\"},\"height\":{\"field\":\"height\",\"units\":\"data\"},\"line_color\":{\"field\":\"line_color\"},\"width\":{\"field\":\"width\",\"units\":\"data\"},\"x\":{\"field\":\"x\"},\"y\":{\"field\":\"y\"}},\"id\":\"c31abbdf-3578-4cb6-8220-582dc3e18953\",\"type\":\"Rect\"},{\"attributes\":{\"plot\":{\"id\":\"4b4e29f9-e6a6-4c6c-900c-72c65e81411f\",\"subtype\":\"Chart\",\"type\":\"Plot\"}},\"id\":\"2a8da675-45d2-4324-ad70-9f458dcad2ed\",\"type\":\"SaveTool\"},{\"attributes\":{\"fill_alpha\":{\"field\":\"fill_alpha\"},\"fill_color\":{\"field\":\"color\"},\"height\":{\"field\":\"height\",\"units\":\"data\"},\"line_color\":{\"field\":\"line_color\"},\"width\":{\"field\":\"width\",\"units\":\"data\"},\"x\":{\"field\":\"x\"},\"y\":{\"field\":\"y\"}},\"id\":\"7d99c1a1-42e4-4574-aba8-6880ed0bfc55\",\"type\":\"Rect\"},{\"attributes\":{\"data_source\":{\"id\":\"363db02e-9dc1-4dae-bc12-51cafc424669\",\"type\":\"ColumnDataSource\"},\"glyph\":{\"id\":\"aca80a23-0692-4a36-a103-1638b66fa97e\",\"type\":\"Rect\"},\"hover_glyph\":null,\"nonselection_glyph\":null,\"selection_glyph\":null},\"id\":\"97db6dda-c43d-4b9f-9f50-3e729b214248\",\"type\":\"GlyphRenderer\"},{\"attributes\":{\"data_source\":{\"id\":\"e895eea5-178f-4477-afec-0e412809c157\",\"type\":\"ColumnDataSource\"},\"glyph\":{\"id\":\"1081ebff-cc33-4050-8689-4a573896ae4f\",\"type\":\"Rect\"},\"hover_glyph\":null,\"nonselection_glyph\":null,\"selection_glyph\":null},\"id\":\"c91dbd43-e929-4edd-a13e-719475303053\",\"type\":\"GlyphRenderer\"},{\"attributes\":{\"data_source\":{\"id\":\"9d088f6b-a5b7-42b7-b1bc-cfc52acdf543\",\"type\":\"ColumnDataSource\"},\"glyph\":{\"id\":\"94be0cbe-8fd7-42e9-972f-611d342dc5bc\",\"type\":\"Rect\"},\"hover_glyph\":null,\"nonselection_glyph\":null,\"selection_glyph\":null},\"id\":\"de7c9b0a-0b59-4d78-af57-475581b1b3e6\",\"type\":\"GlyphRenderer\"},{\"attributes\":{\"overlay\":{\"id\":\"ee8b00ae-a4c4-4550-86e3-968c9fe1ea80\",\"type\":\"BoxAnnotation\"},\"plot\":{\"id\":\"4b4e29f9-e6a6-4c6c-900c-72c65e81411f\",\"subtype\":\"Chart\",\"type\":\"Plot\"}},\"id\":\"31bd2b67-dc91-4c9d-b443-2b89cc565db9\",\"type\":\"BoxZoomTool\"},{\"attributes\":{\"data_source\":{\"id\":\"1b6b6d5f-b96d-4fa0-963b-78e20d77e7c3\",\"type\":\"ColumnDataSource\"},\"glyph\":{\"id\":\"2bc7f768-dca7-420a-9fe5-bf65503b8424\",\"type\":\"Rect\"},\"hover_glyph\":null,\"nonselection_glyph\":null,\"selection_glyph\":null},\"id\":\"32bf935a-6781-4fec-8ace-be1ff92e635d\",\"type\":\"GlyphRenderer\"},{\"attributes\":{\"data_source\":{\"id\":\"aa95ee0b-208e-476a-8439-6bee69f5ba47\",\"type\":\"ColumnDataSource\"},\"glyph\":{\"id\":\"ba45caae-07b6-469f-b713-9f4a18c2ef16\",\"type\":\"Rect\"},\"hover_glyph\":null,\"nonselection_glyph\":null,\"selection_glyph\":null},\"id\":\"9cd916f2-5ad5-4d29-a880-b7a718f193a7\",\"type\":\"GlyphRenderer\"},{\"attributes\":{\"fill_alpha\":{\"field\":\"fill_alpha\"},\"fill_color\":{\"field\":\"color\"},\"height\":{\"field\":\"height\",\"units\":\"data\"},\"line_color\":{\"field\":\"line_color\"},\"width\":{\"field\":\"width\",\"units\":\"data\"},\"x\":{\"field\":\"x\"},\"y\":{\"field\":\"y\"}},\"id\":\"2bc7f768-dca7-420a-9fe5-bf65503b8424\",\"type\":\"Rect\"},{\"attributes\":{\"plot\":{\"id\":\"4b4e29f9-e6a6-4c6c-900c-72c65e81411f\",\"subtype\":\"Chart\",\"type\":\"Plot\"}},\"id\":\"f916a67d-147b-4cd4-a651-a7df850d57d2\",\"type\":\"HelpTool\"},{\"attributes\":{\"plot\":{\"id\":\"4b4e29f9-e6a6-4c6c-900c-72c65e81411f\",\"subtype\":\"Chart\",\"type\":\"Plot\"}},\"id\":\"0d00d368-8091-48b8-b4a1-b6adc1aed31b\",\"type\":\"PanTool\"},{\"attributes\":{\"fill_alpha\":{\"field\":\"fill_alpha\"},\"fill_color\":{\"field\":\"color\"},\"height\":{\"field\":\"height\",\"units\":\"data\"},\"line_color\":{\"field\":\"line_color\"},\"width\":{\"field\":\"width\",\"units\":\"data\"},\"x\":{\"field\":\"x\"},\"y\":{\"field\":\"y\"}},\"id\":\"5e48ce95-1be2-4ba9-aded-70cae8add524\",\"type\":\"Rect\"},{\"attributes\":{},\"id\":\"9be8c0f8-5375-4dbb-8ece-55f64dcb51c7\",\"type\":\"BasicTickFormatter\"},{\"attributes\":{\"axis_label\":\"Count( Mixedbreed )\",\"formatter\":{\"id\":\"9be8c0f8-5375-4dbb-8ece-55f64dcb51c7\",\"type\":\"BasicTickFormatter\"},\"plot\":{\"id\":\"4b4e29f9-e6a6-4c6c-900c-72c65e81411f\",\"subtype\":\"Chart\",\"type\":\"Plot\"},\"ticker\":{\"id\":\"5e679c7e-b6d4-48f2-a2a9-c018add182e8\",\"type\":\"BasicTicker\"}},\"id\":\"9351e176-5c37-4928-a0d1-0ac9081e2d23\",\"type\":\"LinearAxis\"},{\"attributes\":{\"legends\":[[\"Mixed Breed\",[{\"id\":\"d45c9fe8-7fde-476b-917b-84ec91fa382a\",\"type\":\"GlyphRenderer\"}]],[\"Known Breed Combo\",[{\"id\":\"c2999400-8151-4ad4-b21d-7f660c1494ef\",\"type\":\"GlyphRenderer\"}]],[\"Nonmixed\",[{\"id\":\"dc55d0b1-70fa-4d66-a23d-77334b6b847e\",\"type\":\"GlyphRenderer\"}]]],\"plot\":{\"id\":\"4b4e29f9-e6a6-4c6c-900c-72c65e81411f\",\"subtype\":\"Chart\",\"type\":\"Plot\"}},\"id\":\"49996c82-103e-4ede-a05a-f72e244777f8\",\"type\":\"Legend\"},{\"attributes\":{\"callback\":null,\"column_names\":[\"line_color\",\"line_alpha\",\"color\",\"fill_alpha\",\"height\",\"width\",\"y\",\"x\",\"label\"],\"data\":{\"MixedBreed\":[\"Mixed Breed\"],\"OutcomeType\":[\"Return_to_owner\"],\"chart_index\":[{\"MixedBreed\":\"Mixed Breed\",\"OutcomeType\":\"Return_to_owner\"}],\"color\":[\"#5ab738\"],\"fill_alpha\":[0.8],\"height\":[3710.0],\"label\":[{\"MixedBreed\":\"Mixed Breed\",\"OutcomeType\":\"Return_to_owner\"}],\"line_alpha\":[1.0],\"line_color\":[\"white\"],\"width\":[0.8],\"x\":[\"Return_to_owner\"],\"y\":[1855.0]}},\"id\":\"d2749d5d-246d-4b7f-a183-afc2665ccc1d\",\"type\":\"ColumnDataSource\"},{\"attributes\":{\"data_source\":{\"id\":\"85a4d53f-3a00-4921-9d29-ed5896870aff\",\"type\":\"ColumnDataSource\"},\"glyph\":{\"id\":\"74ebf55f-52e7-4f72-93b4-ad7d6fc6d079\",\"type\":\"Rect\"},\"hover_glyph\":null,\"nonselection_glyph\":null,\"selection_glyph\":null},\"id\":\"9a6c2156-98a3-4522-9d31-0eac1b254fa5\",\"type\":\"GlyphRenderer\"},{\"attributes\":{\"callback\":null,\"column_names\":[\"line_color\",\"line_alpha\",\"color\",\"fill_alpha\",\"height\",\"width\",\"y\",\"x\",\"label\"],\"data\":{\"MixedBreed\":[\"Nonmixed\"],\"OutcomeType\":[\"Adoption\"],\"chart_index\":[{\"MixedBreed\":\"Nonmixed\",\"OutcomeType\":\"Adoption\"}],\"color\":[\"#407ee7\"],\"fill_alpha\":[0.8],\"height\":[443.0],\"label\":[{\"MixedBreed\":\"Nonmixed\",\"OutcomeType\":\"Adoption\"}],\"line_alpha\":[1.0],\"line_color\":[\"white\"],\"width\":[0.8],\"x\":[\"Adoption\"],\"y\":[9013.5]}},\"id\":\"f67a6bb2-3ffd-4cd1-843e-966725a6123f\",\"type\":\"ColumnDataSource\"},{\"attributes\":{\"fill_alpha\":{\"field\":\"fill_alpha\"},\"fill_color\":{\"field\":\"color\"},\"height\":{\"field\":\"height\",\"units\":\"data\"},\"line_color\":{\"field\":\"line_color\"},\"width\":{\"field\":\"width\",\"units\":\"data\"},\"x\":{\"field\":\"x\"},\"y\":{\"field\":\"y\"}},\"id\":\"aca80a23-0692-4a36-a103-1638b66fa97e\",\"type\":\"Rect\"},{\"attributes\":{\"callback\":null,\"column_names\":[\"line_color\",\"line_alpha\",\"color\",\"fill_alpha\",\"height\",\"width\",\"y\",\"x\",\"label\"],\"data\":{\"MixedBreed\":[\"Nonmixed\"],\"OutcomeType\":[\"Euthanasia\"],\"chart_index\":[{\"MixedBreed\":\"Nonmixed\",\"OutcomeType\":\"Euthanasia\"}],\"color\":[\"#407ee7\"],\"fill_alpha\":[0.8],\"height\":[64.0],\"label\":[{\"MixedBreed\":\"Nonmixed\",\"OutcomeType\":\"Euthanasia\"}],\"line_alpha\":[1.0],\"line_color\":[\"white\"],\"width\":[0.8],\"x\":[\"Euthanasia\"],\"y\":[1523.0]}},\"id\":\"1b6b6d5f-b96d-4fa0-963b-78e20d77e7c3\",\"type\":\"ColumnDataSource\"},{\"attributes\":{\"data_source\":{\"id\":\"3f0a2a94-6087-48a1-a1f6-c814ed134d75\",\"type\":\"ColumnDataSource\"},\"glyph\":{\"id\":\"75d9c7ea-a337-40b2-b522-3f0a8b1ee057\",\"type\":\"Rect\"},\"hover_glyph\":null,\"nonselection_glyph\":null,\"selection_glyph\":null},\"id\":\"090a60c7-6afb-4c62-98eb-159af76df125\",\"type\":\"GlyphRenderer\"},{\"attributes\":{\"callback\":null,\"column_names\":[\"line_color\",\"line_alpha\",\"color\",\"fill_alpha\",\"height\",\"width\",\"y\",\"x\",\"label\"],\"data\":{\"MixedBreed\":[\"Mixed Breed\"],\"OutcomeType\":[\"Died\"],\"chart_index\":[{\"MixedBreed\":\"Mixed Breed\",\"OutcomeType\":\"Died\"}],\"color\":[\"#5ab738\"],\"fill_alpha\":[0.8],\"height\":[180.0],\"label\":[{\"MixedBreed\":\"Mixed Breed\",\"OutcomeType\":\"Died\"}],\"line_alpha\":[1.0],\"line_color\":[\"white\"],\"width\":[0.8],\"x\":[\"Died\"],\"y\":[90.0]}},\"id\":\"8090f4df-1b58-46da-a5a0-22b0b4353525\",\"type\":\"ColumnDataSource\"},{\"attributes\":{\"plot\":{\"id\":\"4b4e29f9-e6a6-4c6c-900c-72c65e81411f\",\"subtype\":\"Chart\",\"type\":\"Plot\"}},\"id\":\"af1ce534-813b-4af1-b1c0-ab6fa9fa3d2b\",\"type\":\"WheelZoomTool\"},{\"attributes\":{\"callback\":null,\"column_names\":[\"line_color\",\"line_alpha\",\"color\",\"fill_alpha\",\"height\",\"width\",\"y\",\"x\",\"label\"],\"data\":{\"MixedBreed\":[\"Known Breed Combo\"],\"OutcomeType\":[\"Euthanasia\"],\"chart_index\":[{\"MixedBreed\":\"Known Breed Combo\",\"OutcomeType\":\"Euthanasia\"}],\"color\":[\"#f22c40\"],\"fill_alpha\":[0.8],\"height\":[127.0],\"label\":[{\"MixedBreed\":\"Known Breed Combo\",\"OutcomeType\":\"Euthanasia\"}],\"line_alpha\":[1.0],\"line_color\":[\"white\"],\"width\":[0.8],\"x\":[\"Euthanasia\"],\"y\":[1427.5]}},\"id\":\"3f0a2a94-6087-48a1-a1f6-c814ed134d75\",\"type\":\"ColumnDataSource\"},{\"attributes\":{\"below\":[{\"id\":\"f80ad60a-9b8a-43ec-aec1-957a8f9f7f1f\",\"type\":\"CategoricalAxis\"}],\"left\":[{\"id\":\"9351e176-5c37-4928-a0d1-0ac9081e2d23\",\"type\":\"LinearAxis\"}],\"renderers\":[{\"id\":\"ee8b00ae-a4c4-4550-86e3-968c9fe1ea80\",\"type\":\"BoxAnnotation\"},{\"id\":\"d45c9fe8-7fde-476b-917b-84ec91fa382a\",\"type\":\"GlyphRenderer\"},{\"id\":\"de7c9b0a-0b59-4d78-af57-475581b1b3e6\",\"type\":\"GlyphRenderer\"},{\"id\":\"bd3e6e4d-cde9-4c79-a76d-ef76e583b2be\",\"type\":\"GlyphRenderer\"},{\"id\":\"8fb5101b-19f9-45e8-9b5c-596e9310d99a\",\"type\":\"GlyphRenderer\"},{\"id\":\"c2999400-8151-4ad4-b21d-7f660c1494ef\",\"type\":\"GlyphRenderer\"},{\"id\":\"dc55d0b1-70fa-4d66-a23d-77334b6b847e\",\"type\":\"GlyphRenderer\"},{\"id\":\"c91dbd43-e929-4edd-a13e-719475303053\",\"type\":\"GlyphRenderer\"},{\"id\":\"9a6c2156-98a3-4522-9d31-0eac1b254fa5\",\"type\":\"GlyphRenderer\"},{\"id\":\"263ed2c9-6df8-45bc-8318-7cee7d031818\",\"type\":\"GlyphRenderer\"},{\"id\":\"090a60c7-6afb-4c62-98eb-159af76df125\",\"type\":\"GlyphRenderer\"},{\"id\":\"a174e8dc-9603-4840-9235-d8f57d4bb05b\",\"type\":\"GlyphRenderer\"},{\"id\":\"003eac26-7c9d-4619-a7ba-90e299e79667\",\"type\":\"GlyphRenderer\"},{\"id\":\"32bf935a-6781-4fec-8ace-be1ff92e635d\",\"type\":\"GlyphRenderer\"},{\"id\":\"9cd916f2-5ad5-4d29-a880-b7a718f193a7\",\"type\":\"GlyphRenderer\"},{\"id\":\"97db6dda-c43d-4b9f-9f50-3e729b214248\",\"type\":\"GlyphRenderer\"},{\"id\":\"49996c82-103e-4ede-a05a-f72e244777f8\",\"type\":\"Legend\"},{\"id\":\"f80ad60a-9b8a-43ec-aec1-957a8f9f7f1f\",\"type\":\"CategoricalAxis\"},{\"id\":\"9351e176-5c37-4928-a0d1-0ac9081e2d23\",\"type\":\"LinearAxis\"},{\"id\":\"4834c9ca-024d-4073-b41a-4f4d35a875a0\",\"type\":\"Grid\"}],\"title\":{\"id\":\"207f56a3-169a-486c-986c-07d578d06a36\",\"type\":\"Title\"},\"tool_events\":{\"id\":\"01bb7eed-3f81-44f3-81b5-b3ed13dda89e\",\"type\":\"ToolEvents\"},\"toolbar\":{\"id\":\"095da9b3-9d25-410b-b832-58e298e5b9b4\",\"type\":\"Toolbar\"},\"x_mapper_type\":\"auto\",\"x_range\":{\"id\":\"65ed3375-0df9-4bec-850b-a282130c6e32\",\"type\":\"FactorRange\"},\"y_mapper_type\":\"auto\",\"y_range\":{\"id\":\"ab3746dc-8a44-4789-9dc9-d19b7055d951\",\"type\":\"Range1d\"}},\"id\":\"4b4e29f9-e6a6-4c6c-900c-72c65e81411f\",\"subtype\":\"Chart\",\"type\":\"Plot\"},{\"attributes\":{\"callback\":null,\"column_names\":[\"line_color\",\"line_alpha\",\"color\",\"fill_alpha\",\"height\",\"width\",\"y\",\"x\",\"label\"],\"data\":{\"MixedBreed\":[\"Known Breed Combo\"],\"OutcomeType\":[\"Return_to_owner\"],\"chart_index\":[{\"MixedBreed\":\"Known Breed Combo\",\"OutcomeType\":\"Return_to_owner\"}],\"color\":[\"#f22c40\"],\"fill_alpha\":[0.8],\"height\":[636.0],\"label\":[{\"MixedBreed\":\"Known Breed Combo\",\"OutcomeType\":\"Return_to_owner\"}],\"line_alpha\":[1.0],\"line_color\":[\"white\"],\"width\":[0.8],\"x\":[\"Return_to_owner\"],\"y\":[4028.0]}},\"id\":\"85a4d53f-3a00-4921-9d29-ed5896870aff\",\"type\":\"ColumnDataSource\"},{\"attributes\":{\"fill_alpha\":{\"field\":\"fill_alpha\"},\"fill_color\":{\"field\":\"color\"},\"height\":{\"field\":\"height\",\"units\":\"data\"},\"line_color\":{\"field\":\"line_color\"},\"width\":{\"field\":\"width\",\"units\":\"data\"},\"x\":{\"field\":\"x\"},\"y\":{\"field\":\"y\"}},\"id\":\"b18e6ff9-f682-4e1f-b1b8-c6b01031a70f\",\"type\":\"Rect\"},{\"attributes\":{\"data_source\":{\"id\":\"55d8009b-570e-410a-9ec4-1fd062f0e775\",\"type\":\"ColumnDataSource\"},\"glyph\":{\"id\":\"7d99c1a1-42e4-4574-aba8-6880ed0bfc55\",\"type\":\"Rect\"},\"hover_glyph\":null,\"nonselection_glyph\":null,\"selection_glyph\":null},\"id\":\"8fb5101b-19f9-45e8-9b5c-596e9310d99a\",\"type\":\"GlyphRenderer\"},{\"attributes\":{\"fill_alpha\":{\"field\":\"fill_alpha\"},\"fill_color\":{\"field\":\"color\"},\"height\":{\"field\":\"height\",\"units\":\"data\"},\"line_color\":{\"field\":\"line_color\"},\"width\":{\"field\":\"width\",\"units\":\"data\"},\"x\":{\"field\":\"x\"},\"y\":{\"field\":\"y\"}},\"id\":\"ba45caae-07b6-469f-b713-9f4a18c2ef16\",\"type\":\"Rect\"},{\"attributes\":{\"fill_alpha\":{\"field\":\"fill_alpha\"},\"fill_color\":{\"field\":\"color\"},\"height\":{\"field\":\"height\",\"units\":\"data\"},\"line_color\":{\"field\":\"line_color\"},\"width\":{\"field\":\"width\",\"units\":\"data\"},\"x\":{\"field\":\"x\"},\"y\":{\"field\":\"y\"}},\"id\":\"94ff217f-c728-440b-b9ea-8d6fc355ebd5\",\"type\":\"Rect\"},{\"attributes\":{\"plot\":null,\"text\":\"Outcomes by Breed Type\"},\"id\":\"207f56a3-169a-486c-986c-07d578d06a36\",\"type\":\"Title\"},{\"attributes\":{\"dimension\":1,\"plot\":{\"id\":\"4b4e29f9-e6a6-4c6c-900c-72c65e81411f\",\"subtype\":\"Chart\",\"type\":\"Plot\"},\"ticker\":{\"id\":\"5e679c7e-b6d4-48f2-a2a9-c018add182e8\",\"type\":\"BasicTicker\"}},\"id\":\"4834c9ca-024d-4073-b41a-4f4d35a875a0\",\"type\":\"Grid\"},{\"attributes\":{\"fill_alpha\":{\"field\":\"fill_alpha\"},\"fill_color\":{\"field\":\"color\"},\"height\":{\"field\":\"height\",\"units\":\"data\"},\"line_color\":{\"field\":\"line_color\"},\"width\":{\"field\":\"width\",\"units\":\"data\"},\"x\":{\"field\":\"x\"},\"y\":{\"field\":\"y\"}},\"id\":\"3ecbe53c-e14a-498a-b3ae-b13a360342f0\",\"type\":\"Rect\"},{\"attributes\":{},\"id\":\"11985f33-3dc9-4d0e-88c1-f4fdf010a6b7\",\"type\":\"CategoricalTicker\"},{\"attributes\":{\"callback\":null,\"column_names\":[\"line_color\",\"line_alpha\",\"color\",\"fill_alpha\",\"height\",\"width\",\"y\",\"x\",\"label\"],\"data\":{\"MixedBreed\":[\"Mixed Breed\"],\"OutcomeType\":[\"Euthanasia\"],\"chart_index\":[{\"MixedBreed\":\"Mixed Breed\",\"OutcomeType\":\"Euthanasia\"}],\"color\":[\"#5ab738\"],\"fill_alpha\":[0.8],\"height\":[1364.0],\"label\":[{\"MixedBreed\":\"Mixed Breed\",\"OutcomeType\":\"Euthanasia\"}],\"line_alpha\":[1.0],\"line_color\":[\"white\"],\"width\":[0.8],\"x\":[\"Euthanasia\"],\"y\":[682.0]}},\"id\":\"9d088f6b-a5b7-42b7-b1bc-cfc52acdf543\",\"type\":\"ColumnDataSource\"},{\"attributes\":{\"data_source\":{\"id\":\"f67a6bb2-3ffd-4cd1-843e-966725a6123f\",\"type\":\"ColumnDataSource\"},\"glyph\":{\"id\":\"cab600f3-1eaa-442f-9322-434f8d45cc26\",\"type\":\"Rect\"},\"hover_glyph\":null,\"nonselection_glyph\":null,\"selection_glyph\":null},\"id\":\"dc55d0b1-70fa-4d66-a23d-77334b6b847e\",\"type\":\"GlyphRenderer\"},{\"attributes\":{\"callback\":null,\"factors\":[\"Adoption\",\"Died\",\"Euthanasia\",\"Return_to_owner\",\"Transfer\"]},\"id\":\"65ed3375-0df9-4bec-850b-a282130c6e32\",\"type\":\"FactorRange\"},{\"attributes\":{\"axis_label\":\"Outcometype\",\"formatter\":{\"id\":\"c0ba9de4-2cab-4f4c-baa1-ddc5be952733\",\"type\":\"CategoricalTickFormatter\"},\"major_label_orientation\":0.7853981633974483,\"plot\":{\"id\":\"4b4e29f9-e6a6-4c6c-900c-72c65e81411f\",\"subtype\":\"Chart\",\"type\":\"Plot\"},\"ticker\":{\"id\":\"11985f33-3dc9-4d0e-88c1-f4fdf010a6b7\",\"type\":\"CategoricalTicker\"}},\"id\":\"f80ad60a-9b8a-43ec-aec1-957a8f9f7f1f\",\"type\":\"CategoricalAxis\"},{\"attributes\":{\"callback\":null,\"column_names\":[\"line_color\",\"line_alpha\",\"color\",\"fill_alpha\",\"height\",\"width\",\"y\",\"x\",\"label\"],\"data\":{\"MixedBreed\":[\"Known Breed Combo\"],\"OutcomeType\":[\"Transfer\"],\"chart_index\":[{\"MixedBreed\":\"Known Breed Combo\",\"OutcomeType\":\"Transfer\"}],\"color\":[\"#f22c40\"],\"fill_alpha\":[0.8],\"height\":[734.0],\"label\":[{\"MixedBreed\":\"Known Breed Combo\",\"OutcomeType\":\"Transfer\"}],\"line_alpha\":[1.0],\"line_color\":[\"white\"],\"width\":[0.8],\"x\":[\"Transfer\"],\"y\":[8619.0]}},\"id\":\"0732a850-b554-44b1-9a41-474a5f77887e\",\"type\":\"ColumnDataSource\"},{\"attributes\":{},\"id\":\"01bb7eed-3f81-44f3-81b5-b3ed13dda89e\",\"type\":\"ToolEvents\"},{\"attributes\":{\"data_source\":{\"id\":\"d2749d5d-246d-4b7f-a183-afc2665ccc1d\",\"type\":\"ColumnDataSource\"},\"glyph\":{\"id\":\"3ecbe53c-e14a-498a-b3ae-b13a360342f0\",\"type\":\"Rect\"},\"hover_glyph\":null,\"nonselection_glyph\":null,\"selection_glyph\":null},\"id\":\"d45c9fe8-7fde-476b-917b-84ec91fa382a\",\"type\":\"GlyphRenderer\"},{\"attributes\":{\"bottom_units\":\"screen\",\"fill_alpha\":{\"value\":0.5},\"fill_color\":{\"value\":\"lightgrey\"},\"left_units\":\"screen\",\"level\":\"overlay\",\"line_alpha\":{\"value\":1.0},\"line_color\":{\"value\":\"black\"},\"line_dash\":[4,4],\"line_width\":{\"value\":2},\"plot\":null,\"render_mode\":\"css\",\"right_units\":\"screen\",\"top_units\":\"screen\"},\"id\":\"ee8b00ae-a4c4-4550-86e3-968c9fe1ea80\",\"type\":\"BoxAnnotation\"},{\"attributes\":{\"callback\":null,\"column_names\":[\"line_color\",\"line_alpha\",\"color\",\"fill_alpha\",\"height\",\"width\",\"y\",\"x\",\"label\"],\"data\":{\"MixedBreed\":[\"Mixed Breed\"],\"OutcomeType\":[\"Transfer\"],\"chart_index\":[{\"MixedBreed\":\"Mixed Breed\",\"OutcomeType\":\"Transfer\"}],\"color\":[\"#5ab738\"],\"fill_alpha\":[0.8],\"height\":[8252.0],\"label\":[{\"MixedBreed\":\"Mixed Breed\",\"OutcomeType\":\"Transfer\"}],\"line_alpha\":[1.0],\"line_color\":[\"white\"],\"width\":[0.8],\"x\":[\"Transfer\"],\"y\":[4126.0]}},\"id\":\"55d8009b-570e-410a-9ec4-1fd062f0e775\",\"type\":\"ColumnDataSource\"},{\"attributes\":{\"callback\":null,\"column_names\":[\"line_color\",\"line_alpha\",\"color\",\"fill_alpha\",\"height\",\"width\",\"y\",\"x\",\"label\"],\"data\":{\"MixedBreed\":[\"Mixed Breed\"],\"OutcomeType\":[\"Adoption\"],\"chart_index\":[{\"MixedBreed\":\"Mixed Breed\",\"OutcomeType\":\"Adoption\"}],\"color\":[\"#5ab738\"],\"fill_alpha\":[0.8],\"height\":[8792.0],\"label\":[{\"MixedBreed\":\"Mixed Breed\",\"OutcomeType\":\"Adoption\"}],\"line_alpha\":[1.0],\"line_color\":[\"white\"],\"width\":[0.8],\"x\":[\"Adoption\"],\"y\":[4396.0]}},\"id\":\"746986bf-9d60-48aa-b5dc-b0703633d5d8\",\"type\":\"ColumnDataSource\"},{\"attributes\":{\"callback\":null,\"column_names\":[\"line_color\",\"line_alpha\",\"color\",\"fill_alpha\",\"height\",\"width\",\"y\",\"x\",\"label\"],\"data\":{\"MixedBreed\":[\"Nonmixed\"],\"OutcomeType\":[\"Transfer\"],\"chart_index\":[{\"MixedBreed\":\"Nonmixed\",\"OutcomeType\":\"Transfer\"}],\"color\":[\"#407ee7\"],\"fill_alpha\":[0.8],\"height\":[436.0],\"label\":[{\"MixedBreed\":\"Nonmixed\",\"OutcomeType\":\"Transfer\"}],\"line_alpha\":[1.0],\"line_color\":[\"white\"],\"width\":[0.8],\"x\":[\"Transfer\"],\"y\":[9204.0]}},\"id\":\"66aa46e5-e355-4529-a147-10041ed93504\",\"type\":\"ColumnDataSource\"},{\"attributes\":{\"callback\":null,\"end\":11307.45},\"id\":\"ab3746dc-8a44-4789-9dc9-d19b7055d951\",\"type\":\"Range1d\"},{\"attributes\":{},\"id\":\"5e679c7e-b6d4-48f2-a2a9-c018add182e8\",\"type\":\"BasicTicker\"},{\"attributes\":{\"data_source\":{\"id\":\"8090f4df-1b58-46da-a5a0-22b0b4353525\",\"type\":\"ColumnDataSource\"},\"glyph\":{\"id\":\"c31abbdf-3578-4cb6-8220-582dc3e18953\",\"type\":\"Rect\"},\"hover_glyph\":null,\"nonselection_glyph\":null,\"selection_glyph\":null},\"id\":\"003eac26-7c9d-4619-a7ba-90e299e79667\",\"type\":\"GlyphRenderer\"},{\"attributes\":{\"fill_alpha\":{\"field\":\"fill_alpha\"},\"fill_color\":{\"field\":\"color\"},\"height\":{\"field\":\"height\",\"units\":\"data\"},\"line_color\":{\"field\":\"line_color\"},\"width\":{\"field\":\"width\",\"units\":\"data\"},\"x\":{\"field\":\"x\"},\"y\":{\"field\":\"y\"}},\"id\":\"176a4cc9-ee1b-4b9a-9273-6a213174b5d5\",\"type\":\"Rect\"},{\"attributes\":{\"data_source\":{\"id\":\"0732a850-b554-44b1-9a41-474a5f77887e\",\"type\":\"ColumnDataSource\"},\"glyph\":{\"id\":\"176a4cc9-ee1b-4b9a-9273-6a213174b5d5\",\"type\":\"Rect\"},\"hover_glyph\":null,\"nonselection_glyph\":null,\"selection_glyph\":null},\"id\":\"c2999400-8151-4ad4-b21d-7f660c1494ef\",\"type\":\"GlyphRenderer\"},{\"attributes\":{\"callback\":null,\"column_names\":[\"line_color\",\"line_alpha\",\"color\",\"fill_alpha\",\"height\",\"width\",\"y\",\"x\",\"label\"],\"data\":{\"MixedBreed\":[\"Nonmixed\"],\"OutcomeType\":[\"Died\"],\"chart_index\":[{\"MixedBreed\":\"Nonmixed\",\"OutcomeType\":\"Died\"}],\"color\":[\"#407ee7\"],\"fill_alpha\":[0.8],\"height\":[8.0],\"label\":[{\"MixedBreed\":\"Nonmixed\",\"OutcomeType\":\"Died\"}],\"line_alpha\":[1.0],\"line_color\":[\"white\"],\"width\":[0.8],\"x\":[\"Died\"],\"y\":[184.0]}},\"id\":\"aa95ee0b-208e-476a-8439-6bee69f5ba47\",\"type\":\"ColumnDataSource\"},{\"attributes\":{\"callback\":null,\"column_names\":[\"line_color\",\"line_alpha\",\"color\",\"fill_alpha\",\"height\",\"width\",\"y\",\"x\",\"label\"],\"data\":{\"MixedBreed\":[\"Nonmixed\"],\"OutcomeType\":[\"Return_to_owner\"],\"chart_index\":[{\"MixedBreed\":\"Nonmixed\",\"OutcomeType\":\"Return_to_owner\"}],\"color\":[\"#407ee7\"],\"fill_alpha\":[0.8],\"height\":[440.0],\"label\":[{\"MixedBreed\":\"Nonmixed\",\"OutcomeType\":\"Return_to_owner\"}],\"line_alpha\":[1.0],\"line_color\":[\"white\"],\"width\":[0.8],\"x\":[\"Return_to_owner\"],\"y\":[4566.0]}},\"id\":\"7d1fa40d-55f6-4a04-a6c3-f5eb40d9a139\",\"type\":\"ColumnDataSource\"},{\"attributes\":{\"data_source\":{\"id\":\"7d1fa40d-55f6-4a04-a6c3-f5eb40d9a139\",\"type\":\"ColumnDataSource\"},\"glyph\":{\"id\":\"b18e6ff9-f682-4e1f-b1b8-c6b01031a70f\",\"type\":\"Rect\"},\"hover_glyph\":null,\"nonselection_glyph\":null,\"selection_glyph\":null},\"id\":\"263ed2c9-6df8-45bc-8318-7cee7d031818\",\"type\":\"GlyphRenderer\"},{\"attributes\":{\"data_source\":{\"id\":\"746986bf-9d60-48aa-b5dc-b0703633d5d8\",\"type\":\"ColumnDataSource\"},\"glyph\":{\"id\":\"94ff217f-c728-440b-b9ea-8d6fc355ebd5\",\"type\":\"Rect\"},\"hover_glyph\":null,\"nonselection_glyph\":null,\"selection_glyph\":null},\"id\":\"bd3e6e4d-cde9-4c79-a76d-ef76e583b2be\",\"type\":\"GlyphRenderer\"},{\"attributes\":{\"fill_alpha\":{\"field\":\"fill_alpha\"},\"fill_color\":{\"field\":\"color\"},\"height\":{\"field\":\"height\",\"units\":\"data\"},\"line_color\":{\"field\":\"line_color\"},\"width\":{\"field\":\"width\",\"units\":\"data\"},\"x\":{\"field\":\"x\"},\"y\":{\"field\":\"y\"}},\"id\":\"1081ebff-cc33-4050-8689-4a573896ae4f\",\"type\":\"Rect\"},{\"attributes\":{\"callback\":null,\"column_names\":[\"line_color\",\"line_alpha\",\"color\",\"fill_alpha\",\"height\",\"width\",\"y\",\"x\",\"label\"],\"data\":{\"MixedBreed\":[\"Known Breed Combo\"],\"OutcomeType\":[\"Died\"],\"chart_index\":[{\"MixedBreed\":\"Known Breed Combo\",\"OutcomeType\":\"Died\"}],\"color\":[\"#f22c40\"],\"fill_alpha\":[0.8],\"height\":[9.0],\"label\":[{\"MixedBreed\":\"Known Breed Combo\",\"OutcomeType\":\"Died\"}],\"line_alpha\":[1.0],\"line_color\":[\"white\"],\"width\":[0.8],\"x\":[\"Died\"],\"y\":[192.5]}},\"id\":\"363db02e-9dc1-4dae-bc12-51cafc424669\",\"type\":\"ColumnDataSource\"},{\"attributes\":{\"fill_alpha\":{\"field\":\"fill_alpha\"},\"fill_color\":{\"field\":\"color\"},\"height\":{\"field\":\"height\",\"units\":\"data\"},\"line_color\":{\"field\":\"line_color\"},\"width\":{\"field\":\"width\",\"units\":\"data\"},\"x\":{\"field\":\"x\"},\"y\":{\"field\":\"y\"}},\"id\":\"94be0cbe-8fd7-42e9-972f-611d342dc5bc\",\"type\":\"Rect\"},{\"attributes\":{\"fill_alpha\":{\"field\":\"fill_alpha\"},\"fill_color\":{\"field\":\"color\"},\"height\":{\"field\":\"height\",\"units\":\"data\"},\"line_color\":{\"field\":\"line_color\"},\"width\":{\"field\":\"width\",\"units\":\"data\"},\"x\":{\"field\":\"x\"},\"y\":{\"field\":\"y\"}},\"id\":\"74ebf55f-52e7-4f72-93b4-ad7d6fc6d079\",\"type\":\"Rect\"},{\"attributes\":{\"callback\":null,\"column_names\":[\"line_color\",\"line_alpha\",\"color\",\"fill_alpha\",\"height\",\"width\",\"y\",\"x\",\"label\"],\"data\":{\"MixedBreed\":[\"Known Breed Combo\"],\"OutcomeType\":[\"Adoption\"],\"chart_index\":[{\"MixedBreed\":\"Known Breed Combo\",\"OutcomeType\":\"Adoption\"}],\"color\":[\"#f22c40\"],\"fill_alpha\":[0.8],\"height\":[1534.0],\"label\":[{\"MixedBreed\":\"Known Breed Combo\",\"OutcomeType\":\"Adoption\"}],\"line_alpha\":[1.0],\"line_color\":[\"white\"],\"width\":[0.8],\"x\":[\"Adoption\"],\"y\":[10002.0]}},\"id\":\"e895eea5-178f-4477-afec-0e412809c157\",\"type\":\"ColumnDataSource\"},{\"attributes\":{\"fill_alpha\":{\"field\":\"fill_alpha\"},\"fill_color\":{\"field\":\"color\"},\"height\":{\"field\":\"height\",\"units\":\"data\"},\"line_color\":{\"field\":\"line_color\"},\"width\":{\"field\":\"width\",\"units\":\"data\"},\"x\":{\"field\":\"x\"},\"y\":{\"field\":\"y\"}},\"id\":\"75d9c7ea-a337-40b2-b522-3f0a8b1ee057\",\"type\":\"Rect\"},{\"attributes\":{\"plot\":{\"id\":\"4b4e29f9-e6a6-4c6c-900c-72c65e81411f\",\"subtype\":\"Chart\",\"type\":\"Plot\"}},\"id\":\"82223950-a757-46ec-b253-7fc0531d9bae\",\"type\":\"ResetTool\"},{\"attributes\":{},\"id\":\"c0ba9de4-2cab-4f4c-baa1-ddc5be952733\",\"type\":\"CategoricalTickFormatter\"},{\"attributes\":{\"active_drag\":\"auto\",\"active_scroll\":\"auto\",\"active_tap\":\"auto\",\"tools\":[{\"id\":\"0d00d368-8091-48b8-b4a1-b6adc1aed31b\",\"type\":\"PanTool\"},{\"id\":\"af1ce534-813b-4af1-b1c0-ab6fa9fa3d2b\",\"type\":\"WheelZoomTool\"},{\"id\":\"31bd2b67-dc91-4c9d-b443-2b89cc565db9\",\"type\":\"BoxZoomTool\"},{\"id\":\"2a8da675-45d2-4324-ad70-9f458dcad2ed\",\"type\":\"SaveTool\"},{\"id\":\"82223950-a757-46ec-b253-7fc0531d9bae\",\"type\":\"ResetTool\"},{\"id\":\"f916a67d-147b-4cd4-a651-a7df850d57d2\",\"type\":\"HelpTool\"}]},\"id\":\"095da9b3-9d25-410b-b832-58e298e5b9b4\",\"type\":\"Toolbar\"},{\"attributes\":{\"fill_alpha\":{\"field\":\"fill_alpha\"},\"fill_color\":{\"field\":\"color\"},\"height\":{\"field\":\"height\",\"units\":\"data\"},\"line_color\":{\"field\":\"line_color\"},\"width\":{\"field\":\"width\",\"units\":\"data\"},\"x\":{\"field\":\"x\"},\"y\":{\"field\":\"y\"}},\"id\":\"cab600f3-1eaa-442f-9322-434f8d45cc26\",\"type\":\"Rect\"}],\"root_ids\":[\"4b4e29f9-e6a6-4c6c-900c-72c65e81411f\"]},\"title\":\"Bokeh Application\",\"version\":\"0.12.2\"}};\n",
       "            var render_items = [{\"docid\":\"19d6f36b-9b10-4135-9ff8-49435208e67d\",\"elementid\":\"2e8bfebb-c3c5-4bfb-bd0b-c5fa82614454\",\"modelid\":\"4b4e29f9-e6a6-4c6c-900c-72c65e81411f\"}];\n",
       "            \n",
       "            Bokeh.embed.embed_items(docs_json, render_items);\n",
       "        });\n",
       "      },\n",
       "      function(Bokeh) {\n",
       "      }\n",
       "    ];\n",
       "  \n",
       "    function run_inline_js() {\n",
       "      \n",
       "      if ((window.Bokeh !== undefined) || (force === \"1\")) {\n",
       "        for (var i = 0; i < inline_js.length; i++) {\n",
       "          inline_js[i](window.Bokeh);\n",
       "        }if (force === \"1\") {\n",
       "          display_loaded();\n",
       "        }} else if (Date.now() < window._bokeh_timeout) {\n",
       "        setTimeout(run_inline_js, 100);\n",
       "      } else if (!window._bokeh_failed_load) {\n",
       "        console.log(\"Bokeh: BokehJS failed to load within specified timeout.\");\n",
       "        window._bokeh_failed_load = true;\n",
       "      } else if (!force) {\n",
       "        var cell = $(\"#2e8bfebb-c3c5-4bfb-bd0b-c5fa82614454\").parents('.cell').data().cell;\n",
       "        cell.output_area.append_execute_result(NB_LOAD_WARNING)\n",
       "      }\n",
       "  \n",
       "    }\n",
       "  \n",
       "    if (window._bokeh_is_loading === 0) {\n",
       "      console.log(\"Bokeh: BokehJS loaded, going straight to plotting\");\n",
       "      run_inline_js();\n",
       "    } else {\n",
       "      load_libs(js_urls, function() {\n",
       "        console.log(\"Bokeh: BokehJS plotting callback run at\", now());\n",
       "        run_inline_js();\n",
       "      });\n",
       "    }\n",
       "  }(this));\n",
       "</script>"
      ]
     },
     "metadata": {},
     "output_type": "display_data"
    }
   ],
   "source": [
    "p = Bar(data, label='OutcomeType', values = 'MixedBreed', agg='count', stack='MixedBreed',\n",
    "        title=\"Outcomes by Breed Type\", legend='top_right')\n",
    "show(p)"
   ]
  },
  {
   "cell_type": "code",
   "execution_count": 12,
   "metadata": {
    "collapsed": false,
    "scrolled": true
   },
   "outputs": [
    {
     "data": {
      "text/plain": [
       "array([[<matplotlib.axes._subplots.AxesSubplot object at 0x000000000E5FB160>]], dtype=object)"
      ]
     },
     "execution_count": 12,
     "metadata": {},
     "output_type": "execute_result"
    },
    {
     "data": {
      "image/png": "[encoded data removed]",
      "text/plain": [
       "<matplotlib.figure.Figure at 0xf29fb70>"
      ]
     },
     "metadata": {},
     "output_type": "display_data"
    }
   ],
   "source": [
    "#Age of animals\n",
    "data.hist(column=\"ConvertedAge\", bins=25)"
   ]
  },
  {
   "cell_type": "code",
   "execution_count": 11,
   "metadata": {
    "collapsed": false
   },
   "outputs": [
    {
     "data": {
      "text/html": [
       "\n",
       "\n",
       "    <div class=\"bk-root\">\n",
       "        <div class=\"plotdiv\" id=\"45c431d2-6db0-4f33-9cbf-b981c2bdf68e\"></div>\n",
       "    </div>\n",
       "<script type=\"text/javascript\">\n",
       "  \n",
       "  (function(global) {\n",
       "    function now() {\n",
       "      return new Date();\n",
       "    }\n",
       "  \n",
       "    var force = \"\";\n",
       "  \n",
       "    if (typeof (window._bokeh_onload_callbacks) === \"undefined\" || force !== \"\") {\n",
       "      window._bokeh_onload_callbacks = [];\n",
       "      window._bokeh_is_loading = undefined;\n",
       "    }\n",
       "  \n",
       "  \n",
       "    \n",
       "    if (typeof (window._bokeh_timeout) === \"undefined\" || force !== \"\") {\n",
       "      window._bokeh_timeout = Date.now() + 0;\n",
       "      window._bokeh_failed_load = false;\n",
       "    }\n",
       "  \n",
       "    var NB_LOAD_WARNING = {'data': {'text/html':\n",
       "       \"<div style='background-color: #fdd'>\\n\"+\n",
       "       \"<p>\\n\"+\n",
       "       \"BokehJS does not appear to have successfully loaded. If loading BokehJS from CDN, this \\n\"+\n",
       "       \"may be due to a slow or bad network connection. Possible fixes:\\n\"+\n",
       "       \"</p>\\n\"+\n",
       "       \"<ul>\\n\"+\n",
       "       \"<li>re-rerun `output_notebook()` to attempt to load from CDN again, or</li>\\n\"+\n",
       "       \"<li>use INLINE resources instead, as so:</li>\\n\"+\n",
       "       \"</ul>\\n\"+\n",
       "       \"<code>\\n\"+\n",
       "       \"from bokeh.resources import INLINE\\n\"+\n",
       "       \"output_notebook(resources=INLINE)\\n\"+\n",
       "       \"</code>\\n\"+\n",
       "       \"</div>\"}};\n",
       "  \n",
       "    function display_loaded() {\n",
       "      if (window.Bokeh !== undefined) {\n",
       "        Bokeh.$(\"#45c431d2-6db0-4f33-9cbf-b981c2bdf68e\").text(\"BokehJS successfully loaded.\");\n",
       "      } else if (Date.now() < window._bokeh_timeout) {\n",
       "        setTimeout(display_loaded, 100)\n",
       "      }\n",
       "    }\n",
       "  \n",
       "    function run_callbacks() {\n",
       "      window._bokeh_onload_callbacks.forEach(function(callback) { callback() });\n",
       "      delete window._bokeh_onload_callbacks\n",
       "      console.info(\"Bokeh: all callbacks have finished\");\n",
       "    }\n",
       "  \n",
       "    function load_libs(js_urls, callback) {\n",
       "      window._bokeh_onload_callbacks.push(callback);\n",
       "      if (window._bokeh_is_loading > 0) {\n",
       "        console.log(\"Bokeh: BokehJS is being loaded, scheduling callback at\", now());\n",
       "        return null;\n",
       "      }\n",
       "      if (js_urls == null || js_urls.length === 0) {\n",
       "        run_callbacks();\n",
       "        return null;\n",
       "      }\n",
       "      console.log(\"Bokeh: BokehJS not loaded, scheduling load and callback at\", now());\n",
       "      window._bokeh_is_loading = js_urls.length;\n",
       "      for (var i = 0; i < js_urls.length; i++) {\n",
       "        var url = js_urls[i];\n",
       "        var s = document.createElement('script');\n",
       "        s.src = url;\n",
       "        s.async = false;\n",
       "        s.onreadystatechange = s.onload = function() {\n",
       "          window._bokeh_is_loading--;\n",
       "          if (window._bokeh_is_loading === 0) {\n",
       "            console.log(\"Bokeh: all BokehJS libraries loaded\");\n",
       "            run_callbacks()\n",
       "          }\n",
       "        };\n",
       "        s.onerror = function() {\n",
       "          console.warn(\"failed to load library \" + url);\n",
       "        };\n",
       "        console.log(\"Bokeh: injecting script tag for BokehJS library: \", url);\n",
       "        document.getElementsByTagName(\"head\")[0].appendChild(s);\n",
       "      }\n",
       "    };var element = document.getElementById(\"45c431d2-6db0-4f33-9cbf-b981c2bdf68e\");\n",
       "    if (element == null) {\n",
       "      console.log(\"Bokeh: ERROR: autoload.js configured with elementid '45c431d2-6db0-4f33-9cbf-b981c2bdf68e' but no matching script tag was found. \")\n",
       "      return false;\n",
       "    }\n",
       "  \n",
       "    var js_urls = [];\n",
       "  \n",
       "    var inline_js = [\n",
       "      function(Bokeh) {\n",
       "        Bokeh.$(function() {\n",
       "            var docs_json = {\"0af3d498-0854-462e-a347-8b4fd7ff1aa7\":{\"roots\":{\"references\":[{\"attributes\":{\"plot\":{\"id\":\"d30da19a-27e6-4fd6-aaf6-b0f32c021e51\",\"subtype\":\"Chart\",\"type\":\"Plot\"}},\"id\":\"e1e6d66e-99ef-4009-8e35-640e06a4dc75\",\"type\":\"WheelZoomTool\"},{\"attributes\":{\"overlay\":{\"id\":\"60d60654-cb98-4439-8044-5326adb8b87b\",\"type\":\"BoxAnnotation\"},\"plot\":{\"id\":\"d30da19a-27e6-4fd6-aaf6-b0f32c021e51\",\"subtype\":\"Chart\",\"type\":\"Plot\"}},\"id\":\"85478093-7e57-4740-a488-29007a407e20\",\"type\":\"BoxZoomTool\"},{\"attributes\":{\"fill_alpha\":{\"field\":\"fill_alpha\"},\"fill_color\":{\"field\":\"color\"},\"height\":{\"field\":\"height\",\"units\":\"data\"},\"line_color\":{\"field\":\"line_color\"},\"width\":{\"field\":\"width\",\"units\":\"data\"},\"x\":{\"field\":\"x\"},\"y\":{\"field\":\"y\"}},\"id\":\"89340632-8094-4299-85d5-1ef101d518c1\",\"type\":\"Rect\"},{\"attributes\":{\"data_source\":{\"id\":\"108b0202-7868-4de2-8bb5-ec8f240aecd8\",\"type\":\"ColumnDataSource\"},\"glyph\":{\"id\":\"f981ce16-e802-4381-a322-4d0f28fb0e75\",\"type\":\"Rect\"},\"hover_glyph\":null,\"nonselection_glyph\":null,\"selection_glyph\":null},\"id\":\"f17e5ab8-3632-486b-98db-a84048e4ff53\",\"type\":\"GlyphRenderer\"},{\"attributes\":{\"fill_alpha\":{\"field\":\"fill_alpha\"},\"fill_color\":{\"field\":\"color\"},\"height\":{\"field\":\"height\",\"units\":\"data\"},\"line_color\":{\"field\":\"line_color\"},\"width\":{\"field\":\"width\",\"units\":\"data\"},\"x\":{\"field\":\"x\"},\"y\":{\"field\":\"y\"}},\"id\":\"3dfc3cd8-1b70-4a20-a239-d2153d50f1de\",\"type\":\"Rect\"},{\"attributes\":{},\"id\":\"04f448b6-e983-4522-a06d-39240cd9e043\",\"type\":\"BasicTickFormatter\"},{\"attributes\":{\"plot\":{\"id\":\"d30da19a-27e6-4fd6-aaf6-b0f32c021e51\",\"subtype\":\"Chart\",\"type\":\"Plot\"}},\"id\":\"29913388-3b1e-4137-837c-39b8e2f65c6e\",\"type\":\"HelpTool\"},{\"attributes\":{},\"id\":\"d05afc14-ee07-4bc9-b82b-1bca79ef7d04\",\"type\":\"BasicTicker\"},{\"attributes\":{\"callback\":null,\"factors\":[\"Adoption\",\"Died\",\"Euthanasia\",\"Return_to_owner\",\"Transfer\"]},\"id\":\"a7477190-b368-474d-9e12-1da1ab24d20d\",\"type\":\"FactorRange\"},{\"attributes\":{\"axis_label\":\"Outcometype\",\"formatter\":{\"id\":\"c96716be-6a35-4e64-a588-d544f18ba58c\",\"type\":\"CategoricalTickFormatter\"},\"major_label_orientation\":0.7853981633974483,\"plot\":{\"id\":\"d30da19a-27e6-4fd6-aaf6-b0f32c021e51\",\"subtype\":\"Chart\",\"type\":\"Plot\"},\"ticker\":{\"id\":\"5645307c-cd0a-4bc2-b27a-8dad6ef8ca1b\",\"type\":\"CategoricalTicker\"}},\"id\":\"1c96a13a-c591-4d07-ac70-24386cf4f08c\",\"type\":\"CategoricalAxis\"},{\"attributes\":{\"axis_label\":\"Count( Named )\",\"formatter\":{\"id\":\"04f448b6-e983-4522-a06d-39240cd9e043\",\"type\":\"BasicTickFormatter\"},\"plot\":{\"id\":\"d30da19a-27e6-4fd6-aaf6-b0f32c021e51\",\"subtype\":\"Chart\",\"type\":\"Plot\"},\"ticker\":{\"id\":\"d05afc14-ee07-4bc9-b82b-1bca79ef7d04\",\"type\":\"BasicTicker\"}},\"id\":\"7bae924e-9394-4fbb-bf51-54bbf4535bb3\",\"type\":\"LinearAxis\"},{\"attributes\":{\"data_source\":{\"id\":\"e60974ac-cfdf-45da-8fd1-705dccfa89c7\",\"type\":\"ColumnDataSource\"},\"glyph\":{\"id\":\"9349a812-7fe2-4222-a543-ee97d22ccbaa\",\"type\":\"Rect\"},\"hover_glyph\":null,\"nonselection_glyph\":null,\"selection_glyph\":null},\"id\":\"36d662ab-cf2b-4b85-96c0-888bc6bbbe95\",\"type\":\"GlyphRenderer\"},{\"attributes\":{\"data_source\":{\"id\":\"081a9b11-c551-4345-a412-65dc685656a6\",\"type\":\"ColumnDataSource\"},\"glyph\":{\"id\":\"b879ef48-cebb-4a70-9ca6-de7e0df76312\",\"type\":\"Rect\"},\"hover_glyph\":null,\"nonselection_glyph\":null,\"selection_glyph\":null},\"id\":\"75e154e1-99e1-492b-9309-78022f265158\",\"type\":\"GlyphRenderer\"},{\"attributes\":{\"data_source\":{\"id\":\"0ab7e468-ee46-42d6-876b-c4131ef182ec\",\"type\":\"ColumnDataSource\"},\"glyph\":{\"id\":\"89340632-8094-4299-85d5-1ef101d518c1\",\"type\":\"Rect\"},\"hover_glyph\":null,\"nonselection_glyph\":null,\"selection_glyph\":null},\"id\":\"6dbceaf3-bbac-4194-ba44-31ab440a4c57\",\"type\":\"GlyphRenderer\"},{\"attributes\":{\"fill_alpha\":{\"field\":\"fill_alpha\"},\"fill_color\":{\"field\":\"color\"},\"height\":{\"field\":\"height\",\"units\":\"data\"},\"line_color\":{\"field\":\"line_color\"},\"width\":{\"field\":\"width\",\"units\":\"data\"},\"x\":{\"field\":\"x\"},\"y\":{\"field\":\"y\"}},\"id\":\"426e7422-ff91-4270-93a5-e730f3dce001\",\"type\":\"Rect\"},{\"attributes\":{\"callback\":null,\"column_names\":[\"line_color\",\"line_alpha\",\"color\",\"fill_alpha\",\"height\",\"width\",\"y\",\"x\",\"label\"],\"data\":{\"Named\":[\"Unnamed\"],\"OutcomeType\":[\"Euthanasia\"],\"chart_index\":[{\"Named\":\"Unnamed\",\"OutcomeType\":\"Euthanasia\"}],\"color\":[\"#5ab738\"],\"fill_alpha\":[0.8],\"height\":[815.0],\"label\":[{\"Named\":\"Unnamed\",\"OutcomeType\":\"Euthanasia\"}],\"line_alpha\":[1.0],\"line_color\":[\"white\"],\"width\":[0.8],\"x\":[\"Euthanasia\"],\"y\":[1147.5]}},\"id\":\"0ab7e468-ee46-42d6-876b-c4131ef182ec\",\"type\":\"ColumnDataSource\"},{\"attributes\":{\"fill_alpha\":{\"field\":\"fill_alpha\"},\"fill_color\":{\"field\":\"color\"},\"height\":{\"field\":\"height\",\"units\":\"data\"},\"line_color\":{\"field\":\"line_color\"},\"width\":{\"field\":\"width\",\"units\":\"data\"},\"x\":{\"field\":\"x\"},\"y\":{\"field\":\"y\"}},\"id\":\"7a4715f7-6870-405a-88c3-514c3a5f2eeb\",\"type\":\"Rect\"},{\"attributes\":{\"active_drag\":\"auto\",\"active_scroll\":\"auto\",\"active_tap\":\"auto\",\"tools\":[{\"id\":\"92606381-285c-42aa-89bf-523fb0944d47\",\"type\":\"PanTool\"},{\"id\":\"e1e6d66e-99ef-4009-8e35-640e06a4dc75\",\"type\":\"WheelZoomTool\"},{\"id\":\"85478093-7e57-4740-a488-29007a407e20\",\"type\":\"BoxZoomTool\"},{\"id\":\"c21ff930-7e43-4387-a230-766cb574b34a\",\"type\":\"SaveTool\"},{\"id\":\"75bc536a-1028-40f7-bb17-4073917bf1a7\",\"type\":\"ResetTool\"},{\"id\":\"29913388-3b1e-4137-837c-39b8e2f65c6e\",\"type\":\"HelpTool\"}]},\"id\":\"b8179685-20da-4a41-98d7-0a320ca8fa7c\",\"type\":\"Toolbar\"},{\"attributes\":{\"plot\":{\"id\":\"d30da19a-27e6-4fd6-aaf6-b0f32c021e51\",\"subtype\":\"Chart\",\"type\":\"Plot\"}},\"id\":\"c21ff930-7e43-4387-a230-766cb574b34a\",\"type\":\"SaveTool\"},{\"attributes\":{\"data_source\":{\"id\":\"87f2759f-c844-4105-85d3-47f8a431e5a9\",\"type\":\"ColumnDataSource\"},\"glyph\":{\"id\":\"2828dee7-c0b7-4640-af92-de315d676ad8\",\"type\":\"Rect\"},\"hover_glyph\":null,\"nonselection_glyph\":null,\"selection_glyph\":null},\"id\":\"cc40d051-0725-4920-b952-860cd2f83a4f\",\"type\":\"GlyphRenderer\"},{\"attributes\":{\"callback\":null,\"column_names\":[\"line_color\",\"line_alpha\",\"color\",\"fill_alpha\",\"height\",\"width\",\"y\",\"x\",\"label\"],\"data\":{\"Named\":[\"Unnamed\"],\"OutcomeType\":[\"Died\"],\"chart_index\":[{\"Named\":\"Unnamed\",\"OutcomeType\":\"Died\"}],\"color\":[\"#5ab738\"],\"fill_alpha\":[0.8],\"height\":[120.0],\"label\":[{\"Named\":\"Unnamed\",\"OutcomeType\":\"Died\"}],\"line_alpha\":[1.0],\"line_color\":[\"white\"],\"width\":[0.8],\"x\":[\"Died\"],\"y\":[137.0]}},\"id\":\"fb1ba0d4-0220-4494-89dd-0f732743bdea\",\"type\":\"ColumnDataSource\"},{\"attributes\":{\"callback\":null,\"column_names\":[\"line_color\",\"line_alpha\",\"color\",\"fill_alpha\",\"height\",\"width\",\"y\",\"x\",\"label\"],\"data\":{\"Named\":[\"Unnamed\"],\"OutcomeType\":[\"Transfer\"],\"chart_index\":[{\"Named\":\"Unnamed\",\"OutcomeType\":\"Transfer\"}],\"color\":[\"#5ab738\"],\"fill_alpha\":[0.8],\"height\":[4925.0],\"label\":[{\"Named\":\"Unnamed\",\"OutcomeType\":\"Transfer\"}],\"line_alpha\":[1.0],\"line_color\":[\"white\"],\"width\":[0.8],\"x\":[\"Transfer\"],\"y\":[2462.5]}},\"id\":\"108b0202-7868-4de2-8bb5-ec8f240aecd8\",\"type\":\"ColumnDataSource\"},{\"attributes\":{\"data_source\":{\"id\":\"85853d0a-e0dc-4dc0-9234-0bb59ecf1552\",\"type\":\"ColumnDataSource\"},\"glyph\":{\"id\":\"7a4715f7-6870-405a-88c3-514c3a5f2eeb\",\"type\":\"Rect\"},\"hover_glyph\":null,\"nonselection_glyph\":null,\"selection_glyph\":null},\"id\":\"c1e592ee-0de8-42d0-a2f3-b09a161a954e\",\"type\":\"GlyphRenderer\"},{\"attributes\":{\"callback\":null,\"column_names\":[\"line_color\",\"line_alpha\",\"color\",\"fill_alpha\",\"height\",\"width\",\"y\",\"x\",\"label\"],\"data\":{\"Named\":[\"Unnamed\"],\"OutcomeType\":[\"Return_to_owner\"],\"chart_index\":[{\"Named\":\"Unnamed\",\"OutcomeType\":\"Return_to_owner\"}],\"color\":[\"#5ab738\"],\"fill_alpha\":[0.8],\"height\":[153.0],\"label\":[{\"Named\":\"Unnamed\",\"OutcomeType\":\"Return_to_owner\"}],\"line_alpha\":[1.0],\"line_color\":[\"white\"],\"width\":[0.8],\"x\":[\"Return_to_owner\"],\"y\":[4709.5]}},\"id\":\"081a9b11-c551-4345-a412-65dc685656a6\",\"type\":\"ColumnDataSource\"},{\"attributes\":{\"callback\":null,\"column_names\":[\"line_color\",\"line_alpha\",\"color\",\"fill_alpha\",\"height\",\"width\",\"y\",\"x\",\"label\"],\"data\":{\"Named\":[\"Named\"],\"OutcomeType\":[\"Euthanasia\"],\"chart_index\":[{\"Named\":\"Named\",\"OutcomeType\":\"Euthanasia\"}],\"color\":[\"#f22c40\"],\"fill_alpha\":[0.8],\"height\":[740.0],\"label\":[{\"Named\":\"Named\",\"OutcomeType\":\"Euthanasia\"}],\"line_alpha\":[1.0],\"line_color\":[\"white\"],\"width\":[0.8],\"x\":[\"Euthanasia\"],\"y\":[370.0]}},\"id\":\"bf68a40b-434e-4416-8948-01da85eaef57\",\"type\":\"ColumnDataSource\"},{\"attributes\":{\"fill_alpha\":{\"field\":\"fill_alpha\"},\"fill_color\":{\"field\":\"color\"},\"height\":{\"field\":\"height\",\"units\":\"data\"},\"line_color\":{\"field\":\"line_color\"},\"width\":{\"field\":\"width\",\"units\":\"data\"},\"x\":{\"field\":\"x\"},\"y\":{\"field\":\"y\"}},\"id\":\"8fbbbee4-94ff-4519-a0bd-c611c1245bed\",\"type\":\"Rect\"},{\"attributes\":{\"dimension\":1,\"plot\":{\"id\":\"d30da19a-27e6-4fd6-aaf6-b0f32c021e51\",\"subtype\":\"Chart\",\"type\":\"Plot\"},\"ticker\":{\"id\":\"d05afc14-ee07-4bc9-b82b-1bca79ef7d04\",\"type\":\"BasicTicker\"}},\"id\":\"cf89fb0a-2f0d-4385-a96f-8029086e4d93\",\"type\":\"Grid\"},{\"attributes\":{\"below\":[{\"id\":\"1c96a13a-c591-4d07-ac70-24386cf4f08c\",\"type\":\"CategoricalAxis\"}],\"left\":[{\"id\":\"7bae924e-9394-4fbb-bf51-54bbf4535bb3\",\"type\":\"LinearAxis\"}],\"renderers\":[{\"id\":\"60d60654-cb98-4439-8044-5326adb8b87b\",\"type\":\"BoxAnnotation\"},{\"id\":\"cc40d051-0725-4920-b952-860cd2f83a4f\",\"type\":\"GlyphRenderer\"},{\"id\":\"5a520f75-f265-434e-bf93-39eccd481afb\",\"type\":\"GlyphRenderer\"},{\"id\":\"36d662ab-cf2b-4b85-96c0-888bc6bbbe95\",\"type\":\"GlyphRenderer\"},{\"id\":\"f17e5ab8-3632-486b-98db-a84048e4ff53\",\"type\":\"GlyphRenderer\"},{\"id\":\"c1e592ee-0de8-42d0-a2f3-b09a161a954e\",\"type\":\"GlyphRenderer\"},{\"id\":\"3f2823a2-22b9-41ef-8c2c-95f6948017f9\",\"type\":\"GlyphRenderer\"},{\"id\":\"6dbceaf3-bbac-4194-ba44-31ab440a4c57\",\"type\":\"GlyphRenderer\"},{\"id\":\"75e154e1-99e1-492b-9309-78022f265158\",\"type\":\"GlyphRenderer\"},{\"id\":\"0506cee0-165e-4817-8cda-3ededa8b55c5\",\"type\":\"GlyphRenderer\"},{\"id\":\"fb6caa46-49c6-4988-9296-ec51597587f6\",\"type\":\"GlyphRenderer\"},{\"id\":\"bd8408f1-0508-449d-ad80-d8d6bb27345d\",\"type\":\"Legend\"},{\"id\":\"1c96a13a-c591-4d07-ac70-24386cf4f08c\",\"type\":\"CategoricalAxis\"},{\"id\":\"7bae924e-9394-4fbb-bf51-54bbf4535bb3\",\"type\":\"LinearAxis\"},{\"id\":\"cf89fb0a-2f0d-4385-a96f-8029086e4d93\",\"type\":\"Grid\"}],\"title\":{\"id\":\"aaa58a0f-c5b1-493a-b0ba-911152037422\",\"type\":\"Title\"},\"tool_events\":{\"id\":\"1c290f61-7777-4b4a-a35b-6b847e7d3633\",\"type\":\"ToolEvents\"},\"toolbar\":{\"id\":\"b8179685-20da-4a41-98d7-0a320ca8fa7c\",\"type\":\"Toolbar\"},\"x_mapper_type\":\"auto\",\"x_range\":{\"id\":\"a7477190-b368-474d-9e12-1da1ab24d20d\",\"type\":\"FactorRange\"},\"y_mapper_type\":\"auto\",\"y_range\":{\"id\":\"6e5e35bc-4dd2-43b4-9336-f4b0b8dc4f50\",\"type\":\"Range1d\"}},\"id\":\"d30da19a-27e6-4fd6-aaf6-b0f32c021e51\",\"subtype\":\"Chart\",\"type\":\"Plot\"},{\"attributes\":{\"callback\":null,\"column_names\":[\"line_color\",\"line_alpha\",\"color\",\"fill_alpha\",\"height\",\"width\",\"y\",\"x\",\"label\"],\"data\":{\"Named\":[\"Named\"],\"OutcomeType\":[\"Transfer\"],\"chart_index\":[{\"Named\":\"Named\",\"OutcomeType\":\"Transfer\"}],\"color\":[\"#f22c40\"],\"fill_alpha\":[0.8],\"height\":[4497.0],\"label\":[{\"Named\":\"Named\",\"OutcomeType\":\"Transfer\"}],\"line_alpha\":[1.0],\"line_color\":[\"white\"],\"width\":[0.8],\"x\":[\"Transfer\"],\"y\":[7173.5]}},\"id\":\"85853d0a-e0dc-4dc0-9234-0bb59ecf1552\",\"type\":\"ColumnDataSource\"},{\"attributes\":{\"callback\":null,\"end\":11307.45},\"id\":\"6e5e35bc-4dd2-43b4-9336-f4b0b8dc4f50\",\"type\":\"Range1d\"},{\"attributes\":{\"data_source\":{\"id\":\"36c2996a-e9e2-4676-8bf0-2e871f01c145\",\"type\":\"ColumnDataSource\"},\"glyph\":{\"id\":\"8d4634f9-49af-4041-bb9e-a6de3a16cbb3\",\"type\":\"Rect\"},\"hover_glyph\":null,\"nonselection_glyph\":null,\"selection_glyph\":null},\"id\":\"0506cee0-165e-4817-8cda-3ededa8b55c5\",\"type\":\"GlyphRenderer\"},{\"attributes\":{\"fill_alpha\":{\"field\":\"fill_alpha\"},\"fill_color\":{\"field\":\"color\"},\"height\":{\"field\":\"height\",\"units\":\"data\"},\"line_color\":{\"field\":\"line_color\"},\"width\":{\"field\":\"width\",\"units\":\"data\"},\"x\":{\"field\":\"x\"},\"y\":{\"field\":\"y\"}},\"id\":\"f981ce16-e802-4381-a322-4d0f28fb0e75\",\"type\":\"Rect\"},{\"attributes\":{\"fill_alpha\":{\"field\":\"fill_alpha\"},\"fill_color\":{\"field\":\"color\"},\"height\":{\"field\":\"height\",\"units\":\"data\"},\"line_color\":{\"field\":\"line_color\"},\"width\":{\"field\":\"width\",\"units\":\"data\"},\"x\":{\"field\":\"x\"},\"y\":{\"field\":\"y\"}},\"id\":\"9349a812-7fe2-4222-a543-ee97d22ccbaa\",\"type\":\"Rect\"},{\"attributes\":{\"fill_alpha\":{\"field\":\"fill_alpha\"},\"fill_color\":{\"field\":\"color\"},\"height\":{\"field\":\"height\",\"units\":\"data\"},\"line_color\":{\"field\":\"line_color\"},\"width\":{\"field\":\"width\",\"units\":\"data\"},\"x\":{\"field\":\"x\"},\"y\":{\"field\":\"y\"}},\"id\":\"8d4634f9-49af-4041-bb9e-a6de3a16cbb3\",\"type\":\"Rect\"},{\"attributes\":{},\"id\":\"1c290f61-7777-4b4a-a35b-6b847e7d3633\",\"type\":\"ToolEvents\"},{\"attributes\":{\"plot\":{\"id\":\"d30da19a-27e6-4fd6-aaf6-b0f32c021e51\",\"subtype\":\"Chart\",\"type\":\"Plot\"}},\"id\":\"75bc536a-1028-40f7-bb17-4073917bf1a7\",\"type\":\"ResetTool\"},{\"attributes\":{\"data_source\":{\"id\":\"fb1ba0d4-0220-4494-89dd-0f732743bdea\",\"type\":\"ColumnDataSource\"},\"glyph\":{\"id\":\"3dfc3cd8-1b70-4a20-a239-d2153d50f1de\",\"type\":\"Rect\"},\"hover_glyph\":null,\"nonselection_glyph\":null,\"selection_glyph\":null},\"id\":\"fb6caa46-49c6-4988-9296-ec51597587f6\",\"type\":\"GlyphRenderer\"},{\"attributes\":{\"data_source\":{\"id\":\"bf68a40b-434e-4416-8948-01da85eaef57\",\"type\":\"ColumnDataSource\"},\"glyph\":{\"id\":\"426e7422-ff91-4270-93a5-e730f3dce001\",\"type\":\"Rect\"},\"hover_glyph\":null,\"nonselection_glyph\":null,\"selection_glyph\":null},\"id\":\"5a520f75-f265-434e-bf93-39eccd481afb\",\"type\":\"GlyphRenderer\"},{\"attributes\":{\"plot\":null,\"text\":\"Outcomes by Name Status\"},\"id\":\"aaa58a0f-c5b1-493a-b0ba-911152037422\",\"type\":\"Title\"},{\"attributes\":{\"callback\":null,\"column_names\":[\"line_color\",\"line_alpha\",\"color\",\"fill_alpha\",\"height\",\"width\",\"y\",\"x\",\"label\"],\"data\":{\"Named\":[\"Named\"],\"OutcomeType\":[\"Return_to_owner\"],\"chart_index\":[{\"Named\":\"Named\",\"OutcomeType\":\"Return_to_owner\"}],\"color\":[\"#f22c40\"],\"fill_alpha\":[0.8],\"height\":[4633.0],\"label\":[{\"Named\":\"Named\",\"OutcomeType\":\"Return_to_owner\"}],\"line_alpha\":[1.0],\"line_color\":[\"white\"],\"width\":[0.8],\"x\":[\"Return_to_owner\"],\"y\":[2316.5]}},\"id\":\"87f2759f-c844-4105-85d3-47f8a431e5a9\",\"type\":\"ColumnDataSource\"},{\"attributes\":{\"fill_alpha\":{\"field\":\"fill_alpha\"},\"fill_color\":{\"field\":\"color\"},\"height\":{\"field\":\"height\",\"units\":\"data\"},\"line_color\":{\"field\":\"line_color\"},\"width\":{\"field\":\"width\",\"units\":\"data\"},\"x\":{\"field\":\"x\"},\"y\":{\"field\":\"y\"}},\"id\":\"2828dee7-c0b7-4640-af92-de315d676ad8\",\"type\":\"Rect\"},{\"attributes\":{\"callback\":null,\"column_names\":[\"line_color\",\"line_alpha\",\"color\",\"fill_alpha\",\"height\",\"width\",\"y\",\"x\",\"label\"],\"data\":{\"Named\":[\"Named\"],\"OutcomeType\":[\"Died\"],\"chart_index\":[{\"Named\":\"Named\",\"OutcomeType\":\"Died\"}],\"color\":[\"#f22c40\"],\"fill_alpha\":[0.8],\"height\":[77.0],\"label\":[{\"Named\":\"Named\",\"OutcomeType\":\"Died\"}],\"line_alpha\":[1.0],\"line_color\":[\"white\"],\"width\":[0.8],\"x\":[\"Died\"],\"y\":[38.5]}},\"id\":\"36c2996a-e9e2-4676-8bf0-2e871f01c145\",\"type\":\"ColumnDataSource\"},{\"attributes\":{\"legends\":[[\"Named\",[{\"id\":\"cc40d051-0725-4920-b952-860cd2f83a4f\",\"type\":\"GlyphRenderer\"}]],[\"Unnamed\",[{\"id\":\"f17e5ab8-3632-486b-98db-a84048e4ff53\",\"type\":\"GlyphRenderer\"}]]],\"plot\":{\"id\":\"d30da19a-27e6-4fd6-aaf6-b0f32c021e51\",\"subtype\":\"Chart\",\"type\":\"Plot\"}},\"id\":\"bd8408f1-0508-449d-ad80-d8d6bb27345d\",\"type\":\"Legend\"},{\"attributes\":{\"data_source\":{\"id\":\"7d571418-f8af-4016-91fe-017b81d5c32e\",\"type\":\"ColumnDataSource\"},\"glyph\":{\"id\":\"8fbbbee4-94ff-4519-a0bd-c611c1245bed\",\"type\":\"Rect\"},\"hover_glyph\":null,\"nonselection_glyph\":null,\"selection_glyph\":null},\"id\":\"3f2823a2-22b9-41ef-8c2c-95f6948017f9\",\"type\":\"GlyphRenderer\"},{\"attributes\":{\"callback\":null,\"column_names\":[\"line_color\",\"line_alpha\",\"color\",\"fill_alpha\",\"height\",\"width\",\"y\",\"x\",\"label\"],\"data\":{\"Named\":[\"Unnamed\"],\"OutcomeType\":[\"Adoption\"],\"chart_index\":[{\"Named\":\"Unnamed\",\"OutcomeType\":\"Adoption\"}],\"color\":[\"#5ab738\"],\"fill_alpha\":[0.8],\"height\":[1678.0],\"label\":[{\"Named\":\"Unnamed\",\"OutcomeType\":\"Adoption\"}],\"line_alpha\":[1.0],\"line_color\":[\"white\"],\"width\":[0.8],\"x\":[\"Adoption\"],\"y\":[9930.0]}},\"id\":\"7d571418-f8af-4016-91fe-017b81d5c32e\",\"type\":\"ColumnDataSource\"},{\"attributes\":{},\"id\":\"c96716be-6a35-4e64-a588-d544f18ba58c\",\"type\":\"CategoricalTickFormatter\"},{\"attributes\":{\"plot\":{\"id\":\"d30da19a-27e6-4fd6-aaf6-b0f32c021e51\",\"subtype\":\"Chart\",\"type\":\"Plot\"}},\"id\":\"92606381-285c-42aa-89bf-523fb0944d47\",\"type\":\"PanTool\"},{\"attributes\":{\"callback\":null,\"column_names\":[\"line_color\",\"line_alpha\",\"color\",\"fill_alpha\",\"height\",\"width\",\"y\",\"x\",\"label\"],\"data\":{\"Named\":[\"Named\"],\"OutcomeType\":[\"Adoption\"],\"chart_index\":[{\"Named\":\"Named\",\"OutcomeType\":\"Adoption\"}],\"color\":[\"#f22c40\"],\"fill_alpha\":[0.8],\"height\":[9091.0],\"label\":[{\"Named\":\"Named\",\"OutcomeType\":\"Adoption\"}],\"line_alpha\":[1.0],\"line_color\":[\"white\"],\"width\":[0.8],\"x\":[\"Adoption\"],\"y\":[4545.5]}},\"id\":\"e60974ac-cfdf-45da-8fd1-705dccfa89c7\",\"type\":\"ColumnDataSource\"},{\"attributes\":{\"bottom_units\":\"screen\",\"fill_alpha\":{\"value\":0.5},\"fill_color\":{\"value\":\"lightgrey\"},\"left_units\":\"screen\",\"level\":\"overlay\",\"line_alpha\":{\"value\":1.0},\"line_color\":{\"value\":\"black\"},\"line_dash\":[4,4],\"line_width\":{\"value\":2},\"plot\":null,\"render_mode\":\"css\",\"right_units\":\"screen\",\"top_units\":\"screen\"},\"id\":\"60d60654-cb98-4439-8044-5326adb8b87b\",\"type\":\"BoxAnnotation\"},{\"attributes\":{\"fill_alpha\":{\"field\":\"fill_alpha\"},\"fill_color\":{\"field\":\"color\"},\"height\":{\"field\":\"height\",\"units\":\"data\"},\"line_color\":{\"field\":\"line_color\"},\"width\":{\"field\":\"width\",\"units\":\"data\"},\"x\":{\"field\":\"x\"},\"y\":{\"field\":\"y\"}},\"id\":\"b879ef48-cebb-4a70-9ca6-de7e0df76312\",\"type\":\"Rect\"},{\"attributes\":{},\"id\":\"5645307c-cd0a-4bc2-b27a-8dad6ef8ca1b\",\"type\":\"CategoricalTicker\"}],\"root_ids\":[\"d30da19a-27e6-4fd6-aaf6-b0f32c021e51\"]},\"title\":\"Bokeh Application\",\"version\":\"0.12.2\"}};\n",
       "            var render_items = [{\"docid\":\"0af3d498-0854-462e-a347-8b4fd7ff1aa7\",\"elementid\":\"45c431d2-6db0-4f33-9cbf-b981c2bdf68e\",\"modelid\":\"d30da19a-27e6-4fd6-aaf6-b0f32c021e51\"}];\n",
       "            \n",
       "            Bokeh.embed.embed_items(docs_json, render_items);\n",
       "        });\n",
       "      },\n",
       "      function(Bokeh) {\n",
       "      }\n",
       "    ];\n",
       "  \n",
       "    function run_inline_js() {\n",
       "      \n",
       "      if ((window.Bokeh !== undefined) || (force === \"1\")) {\n",
       "        for (var i = 0; i < inline_js.length; i++) {\n",
       "          inline_js[i](window.Bokeh);\n",
       "        }if (force === \"1\") {\n",
       "          display_loaded();\n",
       "        }} else if (Date.now() < window._bokeh_timeout) {\n",
       "        setTimeout(run_inline_js, 100);\n",
       "      } else if (!window._bokeh_failed_load) {\n",
       "        console.log(\"Bokeh: BokehJS failed to load within specified timeout.\");\n",
       "        window._bokeh_failed_load = true;\n",
       "      } else if (!force) {\n",
       "        var cell = $(\"#45c431d2-6db0-4f33-9cbf-b981c2bdf68e\").parents('.cell').data().cell;\n",
       "        cell.output_area.append_execute_result(NB_LOAD_WARNING)\n",
       "      }\n",
       "  \n",
       "    }\n",
       "  \n",
       "    if (window._bokeh_is_loading === 0) {\n",
       "      console.log(\"Bokeh: BokehJS loaded, going straight to plotting\");\n",
       "      run_inline_js();\n",
       "    } else {\n",
       "      load_libs(js_urls, function() {\n",
       "        console.log(\"Bokeh: BokehJS plotting callback run at\", now());\n",
       "        run_inline_js();\n",
       "      });\n",
       "    }\n",
       "  }(this));\n",
       "</script>"
      ]
     },
     "metadata": {},
     "output_type": "display_data"
    }
   ],
   "source": [
    "p = Bar(data, label='OutcomeType', values = 'Named', agg='count', stack='Named',\n",
    "        title=\"Outcomes by Name Status\", legend='top_right')\n",
    "show(p)"
   ]
  },
  {
   "cell_type": "code",
   "execution_count": 14,
   "metadata": {
    "collapsed": false,
    "scrolled": true
   },
   "outputs": [
    {
     "name": "stdout",
     "output_type": "stream",
     "text": [
      "('Unique Breeds', 1143)\n"
     ]
    }
   ],
   "source": [
    "OrderedBreed = data.OrderedBreed.unique()\n",
    "print(\"Unique Breeds\" , (data.OrderedBreed.value_counts() > 0).sum())"
   ]
  },
  {
   "cell_type": "markdown",
   "metadata": {},
   "source": [
    "### Correlations"
   ]
  },
  {
   "cell_type": "code",
   "execution_count": 15,
   "metadata": {
    "collapsed": false
   },
   "outputs": [
    {
     "data": {
      "image/png": "[encoded data removed]",
      "text/plain": [
       "<matplotlib.figure.Figure at 0x12bf2a58>"
      ]
     },
     "metadata": {},
     "output_type": "display_data"
    }
   ],
   "source": [
    "#Plot visualized correlation matrix\n",
    "def plot_corr(data,size=20):\n",
    "    corr = data.corr()\n",
    "    fig, ax = plt.subplots(figsize=(25, 25))\n",
    "    cax = ax.matshow(corr)\n",
    "    fig.colorbar(cax)\n",
    "    plt.xticks(range(len(corr.columns)), corr.columns,rotation='vertical');\n",
    "    plt.yticks(range(len(corr.columns)), corr.columns);\n",
    "    plt.show()\n",
    "plot_corr(data2)"
   ]
  },
  {
   "cell_type": "markdown",
   "metadata": {},
   "source": [
    "Some of the most interesting findings here:  \n",
    "- As we would expect, being spayed/neutered is moderately correlated with being named.\n",
    "- There is a weak positive correlation between being spayed/neutered and being a cat.\n",
    "- Between variables that aren't obviously or artificially related (like being a dog and being a pitbull), there are few relationships that could be characterized as more than moderately correlated."
   ]
  },
  {
   "cell_type": "markdown",
   "metadata": {},
   "source": [
    "#### Should dogs and cats be modeled separately?\n",
    "\n",
    "- It appears that although cats and dogs in this dataset are adopted or transferred at similar rates, dogs have a much higher rate of returning to owner, so it may be advisable to separate the models by animal type."
   ]
  },
  {
   "cell_type": "code",
   "execution_count": 12,
   "metadata": {
    "collapsed": false,
    "scrolled": false
   },
   "outputs": [
    {
     "data": {
      "text/html": [
       "\n",
       "\n",
       "    <div class=\"bk-root\">\n",
       "        <div class=\"plotdiv\" id=\"ed474174-2b3d-4cbc-9f1b-4c8f696d6e23\"></div>\n",
       "    </div>\n",
       "<script type=\"text/javascript\">\n",
       "  \n",
       "  (function(global) {\n",
       "    function now() {\n",
       "      return new Date();\n",
       "    }\n",
       "  \n",
       "    var force = \"\";\n",
       "  \n",
       "    if (typeof (window._bokeh_onload_callbacks) === \"undefined\" || force !== \"\") {\n",
       "      window._bokeh_onload_callbacks = [];\n",
       "      window._bokeh_is_loading = undefined;\n",
       "    }\n",
       "  \n",
       "  \n",
       "    \n",
       "    if (typeof (window._bokeh_timeout) === \"undefined\" || force !== \"\") {\n",
       "      window._bokeh_timeout = Date.now() + 0;\n",
       "      window._bokeh_failed_load = false;\n",
       "    }\n",
       "  \n",
       "    var NB_LOAD_WARNING = {'data': {'text/html':\n",
       "       \"<div style='background-color: #fdd'>\\n\"+\n",
       "       \"<p>\\n\"+\n",
       "       \"BokehJS does not appear to have successfully loaded. If loading BokehJS from CDN, this \\n\"+\n",
       "       \"may be due to a slow or bad network connection. Possible fixes:\\n\"+\n",
       "       \"</p>\\n\"+\n",
       "       \"<ul>\\n\"+\n",
       "       \"<li>re-rerun `output_notebook()` to attempt to load from CDN again, or</li>\\n\"+\n",
       "       \"<li>use INLINE resources instead, as so:</li>\\n\"+\n",
       "       \"</ul>\\n\"+\n",
       "       \"<code>\\n\"+\n",
       "       \"from bokeh.resources import INLINE\\n\"+\n",
       "       \"output_notebook(resources=INLINE)\\n\"+\n",
       "       \"</code>\\n\"+\n",
       "       \"</div>\"}};\n",
       "  \n",
       "    function display_loaded() {\n",
       "      if (window.Bokeh !== undefined) {\n",
       "        Bokeh.$(\"#ed474174-2b3d-4cbc-9f1b-4c8f696d6e23\").text(\"BokehJS successfully loaded.\");\n",
       "      } else if (Date.now() < window._bokeh_timeout) {\n",
       "        setTimeout(display_loaded, 100)\n",
       "      }\n",
       "    }\n",
       "  \n",
       "    function run_callbacks() {\n",
       "      window._bokeh_onload_callbacks.forEach(function(callback) { callback() });\n",
       "      delete window._bokeh_onload_callbacks\n",
       "      console.info(\"Bokeh: all callbacks have finished\");\n",
       "    }\n",
       "  \n",
       "    function load_libs(js_urls, callback) {\n",
       "      window._bokeh_onload_callbacks.push(callback);\n",
       "      if (window._bokeh_is_loading > 0) {\n",
       "        console.log(\"Bokeh: BokehJS is being loaded, scheduling callback at\", now());\n",
       "        return null;\n",
       "      }\n",
       "      if (js_urls == null || js_urls.length === 0) {\n",
       "        run_callbacks();\n",
       "        return null;\n",
       "      }\n",
       "      console.log(\"Bokeh: BokehJS not loaded, scheduling load and callback at\", now());\n",
       "      window._bokeh_is_loading = js_urls.length;\n",
       "      for (var i = 0; i < js_urls.length; i++) {\n",
       "        var url = js_urls[i];\n",
       "        var s = document.createElement('script');\n",
       "        s.src = url;\n",
       "        s.async = false;\n",
       "        s.onreadystatechange = s.onload = function() {\n",
       "          window._bokeh_is_loading--;\n",
       "          if (window._bokeh_is_loading === 0) {\n",
       "            console.log(\"Bokeh: all BokehJS libraries loaded\");\n",
       "            run_callbacks()\n",
       "          }\n",
       "        };\n",
       "        s.onerror = function() {\n",
       "          console.warn(\"failed to load library \" + url);\n",
       "        };\n",
       "        console.log(\"Bokeh: injecting script tag for BokehJS library: \", url);\n",
       "        document.getElementsByTagName(\"head\")[0].appendChild(s);\n",
       "      }\n",
       "    };var element = document.getElementById(\"ed474174-2b3d-4cbc-9f1b-4c8f696d6e23\");\n",
       "    if (element == null) {\n",
       "      console.log(\"Bokeh: ERROR: autoload.js configured with elementid 'ed474174-2b3d-4cbc-9f1b-4c8f696d6e23' but no matching script tag was found. \")\n",
       "      return false;\n",
       "    }\n",
       "  \n",
       "    var js_urls = [];\n",
       "  \n",
       "    var inline_js = [\n",
       "      function(Bokeh) {\n",
       "        Bokeh.$(function() {\n",
       "            var docs_json = {\"d68a70e9-c559-40a1-b0eb-7b6d9fd6cdf0\":{\"roots\":{\"references\":[{\"attributes\":{\"plot\":{\"id\":\"27db1ab2-b9dc-4c5b-a92c-2517e01bdfa0\",\"subtype\":\"Chart\",\"type\":\"Plot\"}},\"id\":\"57686cf4-ccb5-4bf6-983b-ecec1f9b4a96\",\"type\":\"PanTool\"},{\"attributes\":{\"plot\":null,\"text\":\"Outcomes by Animal Type\"},\"id\":\"e80a8ed8-f4b3-4e8a-b9a4-acfab349f13b\",\"type\":\"Title\"},{\"attributes\":{\"data_source\":{\"id\":\"396c260d-fd99-48c7-bb85-e3b8fc1ee4b6\",\"type\":\"ColumnDataSource\"},\"glyph\":{\"id\":\"489b44f1-e1d6-4b02-867f-c6ac6875431c\",\"type\":\"Rect\"},\"hover_glyph\":null,\"nonselection_glyph\":null,\"selection_glyph\":null},\"id\":\"f05cacbd-2e9c-42b5-af8b-6759da73b3e7\",\"type\":\"GlyphRenderer\"},{\"attributes\":{\"axis_label\":\"Count( Animaltype )\",\"formatter\":{\"id\":\"3894ff82-9d6d-44b3-9f89-30e9c2353927\",\"type\":\"BasicTickFormatter\"},\"plot\":{\"id\":\"27db1ab2-b9dc-4c5b-a92c-2517e01bdfa0\",\"subtype\":\"Chart\",\"type\":\"Plot\"},\"ticker\":{\"id\":\"44e46fc9-5490-4262-993a-56be0449b179\",\"type\":\"BasicTicker\"}},\"id\":\"028f2f24-1d9f-4cc1-8196-2192cefb6da6\",\"type\":\"LinearAxis\"},{\"attributes\":{\"fill_alpha\":{\"field\":\"fill_alpha\"},\"fill_color\":{\"field\":\"color\"},\"height\":{\"field\":\"height\",\"units\":\"data\"},\"line_color\":{\"field\":\"line_color\"},\"width\":{\"field\":\"width\",\"units\":\"data\"},\"x\":{\"field\":\"x\"},\"y\":{\"field\":\"y\"}},\"id\":\"a504f778-0b2b-4359-92ee-aaa97587cacf\",\"type\":\"Rect\"},{\"attributes\":{\"plot\":{\"id\":\"27db1ab2-b9dc-4c5b-a92c-2517e01bdfa0\",\"subtype\":\"Chart\",\"type\":\"Plot\"}},\"id\":\"c5205355-98df-41b8-bf62-26cf256089bc\",\"type\":\"HelpTool\"},{\"attributes\":{},\"id\":\"3894ff82-9d6d-44b3-9f89-30e9c2353927\",\"type\":\"BasicTickFormatter\"},{\"attributes\":{\"fill_alpha\":{\"field\":\"fill_alpha\"},\"fill_color\":{\"field\":\"color\"},\"height\":{\"field\":\"height\",\"units\":\"data\"},\"line_color\":{\"field\":\"line_color\"},\"width\":{\"field\":\"width\",\"units\":\"data\"},\"x\":{\"field\":\"x\"},\"y\":{\"field\":\"y\"}},\"id\":\"1a0a4162-cab3-4825-b442-aa0882961af3\",\"type\":\"Rect\"},{\"attributes\":{\"data_source\":{\"id\":\"a37a7712-caef-42d0-804f-b36e8c5c3770\",\"type\":\"ColumnDataSource\"},\"glyph\":{\"id\":\"b6fffcdd-857c-4030-8dfc-b2ac056077a0\",\"type\":\"Rect\"},\"hover_glyph\":null,\"nonselection_glyph\":null,\"selection_glyph\":null},\"id\":\"effcb715-e633-4abc-b8f1-616738f40a8d\",\"type\":\"GlyphRenderer\"},{\"attributes\":{},\"id\":\"96ce9080-68cd-49c1-80cf-74772bea8172\",\"type\":\"ToolEvents\"},{\"attributes\":{\"active_drag\":\"auto\",\"active_scroll\":\"auto\",\"active_tap\":\"auto\",\"tools\":[{\"id\":\"57686cf4-ccb5-4bf6-983b-ecec1f9b4a96\",\"type\":\"PanTool\"},{\"id\":\"1239941c-8249-4aaa-b7d2-72a4c6442f0f\",\"type\":\"WheelZoomTool\"},{\"id\":\"a8bceb45-4727-4be8-939a-1668e0b471f3\",\"type\":\"BoxZoomTool\"},{\"id\":\"3e1303c6-34c8-4a01-b905-443f969170ad\",\"type\":\"SaveTool\"},{\"id\":\"7b6ea040-4ed5-4de9-b1ff-922ae80a1731\",\"type\":\"ResetTool\"},{\"id\":\"c5205355-98df-41b8-bf62-26cf256089bc\",\"type\":\"HelpTool\"}]},\"id\":\"cd3a7246-8997-401e-8f3a-9872ddb2635a\",\"type\":\"Toolbar\"},{\"attributes\":{\"callback\":null,\"end\":11307.45},\"id\":\"7f7c68c5-1b31-473a-9270-6e2328e11b43\",\"type\":\"Range1d\"},{\"attributes\":{\"below\":[{\"id\":\"f1b50de9-0bc8-4f2e-a790-443d79a9fcb6\",\"type\":\"CategoricalAxis\"}],\"left\":[{\"id\":\"028f2f24-1d9f-4cc1-8196-2192cefb6da6\",\"type\":\"LinearAxis\"}],\"renderers\":[{\"id\":\"89a1edd4-8d90-4f0c-b95e-0e285813f3d6\",\"type\":\"BoxAnnotation\"},{\"id\":\"f05cacbd-2e9c-42b5-af8b-6759da73b3e7\",\"type\":\"GlyphRenderer\"},{\"id\":\"5a82bba4-4b77-466e-b821-6c664403881c\",\"type\":\"GlyphRenderer\"},{\"id\":\"5381457a-98e3-48db-b406-c3887ddc3ec8\",\"type\":\"GlyphRenderer\"},{\"id\":\"1d1f6f41-dc8b-40f2-9a8d-edd57d59f345\",\"type\":\"GlyphRenderer\"},{\"id\":\"ffac8e85-10be-4caf-9cba-17ef8ec3552a\",\"type\":\"GlyphRenderer\"},{\"id\":\"effcb715-e633-4abc-b8f1-616738f40a8d\",\"type\":\"GlyphRenderer\"},{\"id\":\"f1649cd7-8d23-4c06-9c3d-a68dc92d0f3a\",\"type\":\"GlyphRenderer\"},{\"id\":\"e7135c02-4723-4779-b08f-e2ab59541402\",\"type\":\"GlyphRenderer\"},{\"id\":\"a5a72d1c-08ea-4484-8403-275b1c8635e6\",\"type\":\"GlyphRenderer\"},{\"id\":\"04798da2-0938-4794-b491-76a9ae2fd939\",\"type\":\"GlyphRenderer\"},{\"id\":\"79657072-7055-4c49-809d-bb07d44d18cf\",\"type\":\"Legend\"},{\"id\":\"f1b50de9-0bc8-4f2e-a790-443d79a9fcb6\",\"type\":\"CategoricalAxis\"},{\"id\":\"028f2f24-1d9f-4cc1-8196-2192cefb6da6\",\"type\":\"LinearAxis\"},{\"id\":\"050819a6-72d7-426e-a745-2e1c5e78f441\",\"type\":\"Grid\"}],\"title\":{\"id\":\"e80a8ed8-f4b3-4e8a-b9a4-acfab349f13b\",\"type\":\"Title\"},\"tool_events\":{\"id\":\"96ce9080-68cd-49c1-80cf-74772bea8172\",\"type\":\"ToolEvents\"},\"toolbar\":{\"id\":\"cd3a7246-8997-401e-8f3a-9872ddb2635a\",\"type\":\"Toolbar\"},\"x_mapper_type\":\"auto\",\"x_range\":{\"id\":\"decc5a80-18d4-4bc3-8d84-d65a03e8c17c\",\"type\":\"FactorRange\"},\"y_mapper_type\":\"auto\",\"y_range\":{\"id\":\"7f7c68c5-1b31-473a-9270-6e2328e11b43\",\"type\":\"Range1d\"}},\"id\":\"27db1ab2-b9dc-4c5b-a92c-2517e01bdfa0\",\"subtype\":\"Chart\",\"type\":\"Plot\"},{\"attributes\":{\"fill_alpha\":{\"field\":\"fill_alpha\"},\"fill_color\":{\"field\":\"color\"},\"height\":{\"field\":\"height\",\"units\":\"data\"},\"line_color\":{\"field\":\"line_color\"},\"width\":{\"field\":\"width\",\"units\":\"data\"},\"x\":{\"field\":\"x\"},\"y\":{\"field\":\"y\"}},\"id\":\"c591f70f-1cdd-4af7-99e2-7641973faaa7\",\"type\":\"Rect\"},{\"attributes\":{\"fill_alpha\":{\"field\":\"fill_alpha\"},\"fill_color\":{\"field\":\"color\"},\"height\":{\"field\":\"height\",\"units\":\"data\"},\"line_color\":{\"field\":\"line_color\"},\"width\":{\"field\":\"width\",\"units\":\"data\"},\"x\":{\"field\":\"x\"},\"y\":{\"field\":\"y\"}},\"id\":\"b6fffcdd-857c-4030-8dfc-b2ac056077a0\",\"type\":\"Rect\"},{\"attributes\":{\"axis_label\":\"Outcometype\",\"formatter\":{\"id\":\"487297f5-26b9-467a-bffe-543127a4f5a2\",\"type\":\"CategoricalTickFormatter\"},\"major_label_orientation\":0.7853981633974483,\"plot\":{\"id\":\"27db1ab2-b9dc-4c5b-a92c-2517e01bdfa0\",\"subtype\":\"Chart\",\"type\":\"Plot\"},\"ticker\":{\"id\":\"6887a6ee-8736-48fe-9694-a085cfb4b76c\",\"type\":\"CategoricalTicker\"}},\"id\":\"f1b50de9-0bc8-4f2e-a790-443d79a9fcb6\",\"type\":\"CategoricalAxis\"},{\"attributes\":{\"dimension\":1,\"plot\":{\"id\":\"27db1ab2-b9dc-4c5b-a92c-2517e01bdfa0\",\"subtype\":\"Chart\",\"type\":\"Plot\"},\"ticker\":{\"id\":\"44e46fc9-5490-4262-993a-56be0449b179\",\"type\":\"BasicTicker\"}},\"id\":\"050819a6-72d7-426e-a745-2e1c5e78f441\",\"type\":\"Grid\"},{\"attributes\":{\"legends\":[[\"Dog\",[{\"id\":\"f05cacbd-2e9c-42b5-af8b-6759da73b3e7\",\"type\":\"GlyphRenderer\"}]],[\"Cat\",[{\"id\":\"5a82bba4-4b77-466e-b821-6c664403881c\",\"type\":\"GlyphRenderer\"}]]],\"plot\":{\"id\":\"27db1ab2-b9dc-4c5b-a92c-2517e01bdfa0\",\"subtype\":\"Chart\",\"type\":\"Plot\"}},\"id\":\"79657072-7055-4c49-809d-bb07d44d18cf\",\"type\":\"Legend\"},{\"attributes\":{\"data_source\":{\"id\":\"8884301c-5a1e-433d-8cd2-1a5de3f6ce91\",\"type\":\"ColumnDataSource\"},\"glyph\":{\"id\":\"c3a03b4c-3493-4b48-8a1b-fdee341a4cec\",\"type\":\"Rect\"},\"hover_glyph\":null,\"nonselection_glyph\":null,\"selection_glyph\":null},\"id\":\"1d1f6f41-dc8b-40f2-9a8d-edd57d59f345\",\"type\":\"GlyphRenderer\"},{\"attributes\":{\"callback\":null,\"column_names\":[\"line_color\",\"line_alpha\",\"color\",\"fill_alpha\",\"height\",\"width\",\"y\",\"x\",\"label\"],\"data\":{\"AnimalType\":[\"Cat\"],\"OutcomeType\":[\"Died\"],\"chart_index\":[{\"AnimalType\":\"Cat\",\"OutcomeType\":\"Died\"}],\"color\":[\"#f22c40\"],\"fill_alpha\":[0.8],\"height\":[147.0],\"label\":[{\"AnimalType\":\"Cat\",\"OutcomeType\":\"Died\"}],\"line_alpha\":[1.0],\"line_color\":[\"white\"],\"width\":[0.8],\"x\":[\"Died\"],\"y\":[73.5]}},\"id\":\"160d6b25-d1d1-45e7-acec-d743d6100932\",\"type\":\"ColumnDataSource\"},{\"attributes\":{\"plot\":{\"id\":\"27db1ab2-b9dc-4c5b-a92c-2517e01bdfa0\",\"subtype\":\"Chart\",\"type\":\"Plot\"}},\"id\":\"7b6ea040-4ed5-4de9-b1ff-922ae80a1731\",\"type\":\"ResetTool\"},{\"attributes\":{\"callback\":null,\"column_names\":[\"line_color\",\"line_alpha\",\"color\",\"fill_alpha\",\"height\",\"width\",\"y\",\"x\",\"label\"],\"data\":{\"AnimalType\":[\"Cat\"],\"OutcomeType\":[\"Euthanasia\"],\"chart_index\":[{\"AnimalType\":\"Cat\",\"OutcomeType\":\"Euthanasia\"}],\"color\":[\"#f22c40\"],\"fill_alpha\":[0.8],\"height\":[710.0],\"label\":[{\"AnimalType\":\"Cat\",\"OutcomeType\":\"Euthanasia\"}],\"line_alpha\":[1.0],\"line_color\":[\"white\"],\"width\":[0.8],\"x\":[\"Euthanasia\"],\"y\":[355.0]}},\"id\":\"0acce08a-a8ca-4be6-a153-af5becdfe140\",\"type\":\"ColumnDataSource\"},{\"attributes\":{\"callback\":null,\"factors\":[\"Adoption\",\"Died\",\"Euthanasia\",\"Return_to_owner\",\"Transfer\"]},\"id\":\"decc5a80-18d4-4bc3-8d84-d65a03e8c17c\",\"type\":\"FactorRange\"},{\"attributes\":{\"callback\":null,\"column_names\":[\"line_color\",\"line_alpha\",\"color\",\"fill_alpha\",\"height\",\"width\",\"y\",\"x\",\"label\"],\"data\":{\"AnimalType\":[\"Dog\"],\"OutcomeType\":[\"Adoption\"],\"chart_index\":[{\"AnimalType\":\"Dog\",\"OutcomeType\":\"Adoption\"}],\"color\":[\"#5ab738\"],\"fill_alpha\":[0.8],\"height\":[6497.0],\"label\":[{\"AnimalType\":\"Dog\",\"OutcomeType\":\"Adoption\"}],\"line_alpha\":[1.0],\"line_color\":[\"white\"],\"width\":[0.8],\"x\":[\"Adoption\"],\"y\":[3248.5]}},\"id\":\"6e4e4135-80b7-4c81-b00f-db9f2010f72e\",\"type\":\"ColumnDataSource\"},{\"attributes\":{\"fill_alpha\":{\"field\":\"fill_alpha\"},\"fill_color\":{\"field\":\"color\"},\"height\":{\"field\":\"height\",\"units\":\"data\"},\"line_color\":{\"field\":\"line_color\"},\"width\":{\"field\":\"width\",\"units\":\"data\"},\"x\":{\"field\":\"x\"},\"y\":{\"field\":\"y\"}},\"id\":\"c02f5150-ece8-4072-95cf-1156098a5bf5\",\"type\":\"Rect\"},{\"attributes\":{\"data_source\":{\"id\":\"160d6b25-d1d1-45e7-acec-d743d6100932\",\"type\":\"ColumnDataSource\"},\"glyph\":{\"id\":\"c591f70f-1cdd-4af7-99e2-7641973faaa7\",\"type\":\"Rect\"},\"hover_glyph\":null,\"nonselection_glyph\":null,\"selection_glyph\":null},\"id\":\"a5a72d1c-08ea-4484-8403-275b1c8635e6\",\"type\":\"GlyphRenderer\"},{\"attributes\":{\"callback\":null,\"column_names\":[\"line_color\",\"line_alpha\",\"color\",\"fill_alpha\",\"height\",\"width\",\"y\",\"x\",\"label\"],\"data\":{\"AnimalType\":[\"Cat\"],\"OutcomeType\":[\"Return_to_owner\"],\"chart_index\":[{\"AnimalType\":\"Cat\",\"OutcomeType\":\"Return_to_owner\"}],\"color\":[\"#f22c40\"],\"fill_alpha\":[0.8],\"height\":[500.0],\"label\":[{\"AnimalType\":\"Cat\",\"OutcomeType\":\"Return_to_owner\"}],\"line_alpha\":[1.0],\"line_color\":[\"white\"],\"width\":[0.8],\"x\":[\"Return_to_owner\"],\"y\":[4536.0]}},\"id\":\"e4625ee2-8b7d-4958-8fa8-37c1efd970da\",\"type\":\"ColumnDataSource\"},{\"attributes\":{\"overlay\":{\"id\":\"89a1edd4-8d90-4f0c-b95e-0e285813f3d6\",\"type\":\"BoxAnnotation\"},\"plot\":{\"id\":\"27db1ab2-b9dc-4c5b-a92c-2517e01bdfa0\",\"subtype\":\"Chart\",\"type\":\"Plot\"}},\"id\":\"a8bceb45-4727-4be8-939a-1668e0b471f3\",\"type\":\"BoxZoomTool\"},{\"attributes\":{\"data_source\":{\"id\":\"13ad19fe-de01-4437-9230-0a00f3227c7e\",\"type\":\"ColumnDataSource\"},\"glyph\":{\"id\":\"e1d1e8ba-11a7-4fc1-859d-39f82d33a1f0\",\"type\":\"Rect\"},\"hover_glyph\":null,\"nonselection_glyph\":null,\"selection_glyph\":null},\"id\":\"e7135c02-4723-4779-b08f-e2ab59541402\",\"type\":\"GlyphRenderer\"},{\"attributes\":{\"fill_alpha\":{\"field\":\"fill_alpha\"},\"fill_color\":{\"field\":\"color\"},\"height\":{\"field\":\"height\",\"units\":\"data\"},\"line_color\":{\"field\":\"line_color\"},\"width\":{\"field\":\"width\",\"units\":\"data\"},\"x\":{\"field\":\"x\"},\"y\":{\"field\":\"y\"}},\"id\":\"29bd39ad-5c82-4c3e-8a64-6e7106753fb7\",\"type\":\"Rect\"},{\"attributes\":{\"callback\":null,\"column_names\":[\"line_color\",\"line_alpha\",\"color\",\"fill_alpha\",\"height\",\"width\",\"y\",\"x\",\"label\"],\"data\":{\"AnimalType\":[\"Dog\"],\"OutcomeType\":[\"Transfer\"],\"chart_index\":[{\"AnimalType\":\"Dog\",\"OutcomeType\":\"Transfer\"}],\"color\":[\"#5ab738\"],\"fill_alpha\":[0.8],\"height\":[3917.0],\"label\":[{\"AnimalType\":\"Dog\",\"OutcomeType\":\"Transfer\"}],\"line_alpha\":[1.0],\"line_color\":[\"white\"],\"width\":[0.8],\"x\":[\"Transfer\"],\"y\":[7463.5]}},\"id\":\"d8bb09ca-b32c-47cf-ac00-cbc3717a2677\",\"type\":\"ColumnDataSource\"},{\"attributes\":{\"data_source\":{\"id\":\"0acce08a-a8ca-4be6-a153-af5becdfe140\",\"type\":\"ColumnDataSource\"},\"glyph\":{\"id\":\"a504f778-0b2b-4359-92ee-aaa97587cacf\",\"type\":\"Rect\"},\"hover_glyph\":null,\"nonselection_glyph\":null,\"selection_glyph\":null},\"id\":\"5a82bba4-4b77-466e-b821-6c664403881c\",\"type\":\"GlyphRenderer\"},{\"attributes\":{},\"id\":\"487297f5-26b9-467a-bffe-543127a4f5a2\",\"type\":\"CategoricalTickFormatter\"},{\"attributes\":{\"fill_alpha\":{\"field\":\"fill_alpha\"},\"fill_color\":{\"field\":\"color\"},\"height\":{\"field\":\"height\",\"units\":\"data\"},\"line_color\":{\"field\":\"line_color\"},\"width\":{\"field\":\"width\",\"units\":\"data\"},\"x\":{\"field\":\"x\"},\"y\":{\"field\":\"y\"}},\"id\":\"489b44f1-e1d6-4b02-867f-c6ac6875431c\",\"type\":\"Rect\"},{\"attributes\":{},\"id\":\"6887a6ee-8736-48fe-9694-a085cfb4b76c\",\"type\":\"CategoricalTicker\"},{\"attributes\":{\"fill_alpha\":{\"field\":\"fill_alpha\"},\"fill_color\":{\"field\":\"color\"},\"height\":{\"field\":\"height\",\"units\":\"data\"},\"line_color\":{\"field\":\"line_color\"},\"width\":{\"field\":\"width\",\"units\":\"data\"},\"x\":{\"field\":\"x\"},\"y\":{\"field\":\"y\"}},\"id\":\"c3a03b4c-3493-4b48-8a1b-fdee341a4cec\",\"type\":\"Rect\"},{\"attributes\":{\"data_source\":{\"id\":\"53237218-410a-4ec6-a9dc-20a37acc4a45\",\"type\":\"ColumnDataSource\"},\"glyph\":{\"id\":\"29bd39ad-5c82-4c3e-8a64-6e7106753fb7\",\"type\":\"Rect\"},\"hover_glyph\":null,\"nonselection_glyph\":null,\"selection_glyph\":null},\"id\":\"04798da2-0938-4794-b491-76a9ae2fd939\",\"type\":\"GlyphRenderer\"},{\"attributes\":{},\"id\":\"44e46fc9-5490-4262-993a-56be0449b179\",\"type\":\"BasicTicker\"},{\"attributes\":{\"data_source\":{\"id\":\"d8bb09ca-b32c-47cf-ac00-cbc3717a2677\",\"type\":\"ColumnDataSource\"},\"glyph\":{\"id\":\"1a0a4162-cab3-4825-b442-aa0882961af3\",\"type\":\"Rect\"},\"hover_glyph\":null,\"nonselection_glyph\":null,\"selection_glyph\":null},\"id\":\"ffac8e85-10be-4caf-9cba-17ef8ec3552a\",\"type\":\"GlyphRenderer\"},{\"attributes\":{\"data_source\":{\"id\":\"6e4e4135-80b7-4c81-b00f-db9f2010f72e\",\"type\":\"ColumnDataSource\"},\"glyph\":{\"id\":\"c02f5150-ece8-4072-95cf-1156098a5bf5\",\"type\":\"Rect\"},\"hover_glyph\":null,\"nonselection_glyph\":null,\"selection_glyph\":null},\"id\":\"5381457a-98e3-48db-b406-c3887ddc3ec8\",\"type\":\"GlyphRenderer\"},{\"attributes\":{\"plot\":{\"id\":\"27db1ab2-b9dc-4c5b-a92c-2517e01bdfa0\",\"subtype\":\"Chart\",\"type\":\"Plot\"}},\"id\":\"3e1303c6-34c8-4a01-b905-443f969170ad\",\"type\":\"SaveTool\"},{\"attributes\":{\"fill_alpha\":{\"field\":\"fill_alpha\"},\"fill_color\":{\"field\":\"color\"},\"height\":{\"field\":\"height\",\"units\":\"data\"},\"line_color\":{\"field\":\"line_color\"},\"width\":{\"field\":\"width\",\"units\":\"data\"},\"x\":{\"field\":\"x\"},\"y\":{\"field\":\"y\"}},\"id\":\"2dd08c76-a35d-4dac-9069-1130fed39d8e\",\"type\":\"Rect\"},{\"attributes\":{\"fill_alpha\":{\"field\":\"fill_alpha\"},\"fill_color\":{\"field\":\"color\"},\"height\":{\"field\":\"height\",\"units\":\"data\"},\"line_color\":{\"field\":\"line_color\"},\"width\":{\"field\":\"width\",\"units\":\"data\"},\"x\":{\"field\":\"x\"},\"y\":{\"field\":\"y\"}},\"id\":\"e1d1e8ba-11a7-4fc1-859d-39f82d33a1f0\",\"type\":\"Rect\"},{\"attributes\":{\"bottom_units\":\"screen\",\"fill_alpha\":{\"value\":0.5},\"fill_color\":{\"value\":\"lightgrey\"},\"left_units\":\"screen\",\"level\":\"overlay\",\"line_alpha\":{\"value\":1.0},\"line_color\":{\"value\":\"black\"},\"line_dash\":[4,4],\"line_width\":{\"value\":2},\"plot\":null,\"render_mode\":\"css\",\"right_units\":\"screen\",\"top_units\":\"screen\"},\"id\":\"89a1edd4-8d90-4f0c-b95e-0e285813f3d6\",\"type\":\"BoxAnnotation\"},{\"attributes\":{\"callback\":null,\"column_names\":[\"line_color\",\"line_alpha\",\"color\",\"fill_alpha\",\"height\",\"width\",\"y\",\"x\",\"label\"],\"data\":{\"AnimalType\":[\"Cat\"],\"OutcomeType\":[\"Transfer\"],\"chart_index\":[{\"AnimalType\":\"Cat\",\"OutcomeType\":\"Transfer\"}],\"color\":[\"#f22c40\"],\"fill_alpha\":[0.8],\"height\":[5505.0],\"label\":[{\"AnimalType\":\"Cat\",\"OutcomeType\":\"Transfer\"}],\"line_alpha\":[1.0],\"line_color\":[\"white\"],\"width\":[0.8],\"x\":[\"Transfer\"],\"y\":[2752.5]}},\"id\":\"8884301c-5a1e-433d-8cd2-1a5de3f6ce91\",\"type\":\"ColumnDataSource\"},{\"attributes\":{\"data_source\":{\"id\":\"e4625ee2-8b7d-4958-8fa8-37c1efd970da\",\"type\":\"ColumnDataSource\"},\"glyph\":{\"id\":\"2dd08c76-a35d-4dac-9069-1130fed39d8e\",\"type\":\"Rect\"},\"hover_glyph\":null,\"nonselection_glyph\":null,\"selection_glyph\":null},\"id\":\"f1649cd7-8d23-4c06-9c3d-a68dc92d0f3a\",\"type\":\"GlyphRenderer\"},{\"attributes\":{\"plot\":{\"id\":\"27db1ab2-b9dc-4c5b-a92c-2517e01bdfa0\",\"subtype\":\"Chart\",\"type\":\"Plot\"}},\"id\":\"1239941c-8249-4aaa-b7d2-72a4c6442f0f\",\"type\":\"WheelZoomTool\"},{\"attributes\":{\"callback\":null,\"column_names\":[\"line_color\",\"line_alpha\",\"color\",\"fill_alpha\",\"height\",\"width\",\"y\",\"x\",\"label\"],\"data\":{\"AnimalType\":[\"Cat\"],\"OutcomeType\":[\"Adoption\"],\"chart_index\":[{\"AnimalType\":\"Cat\",\"OutcomeType\":\"Adoption\"}],\"color\":[\"#f22c40\"],\"fill_alpha\":[0.8],\"height\":[4272.0],\"label\":[{\"AnimalType\":\"Cat\",\"OutcomeType\":\"Adoption\"}],\"line_alpha\":[1.0],\"line_color\":[\"white\"],\"width\":[0.8],\"x\":[\"Adoption\"],\"y\":[8633.0]}},\"id\":\"a37a7712-caef-42d0-804f-b36e8c5c3770\",\"type\":\"ColumnDataSource\"},{\"attributes\":{\"callback\":null,\"column_names\":[\"line_color\",\"line_alpha\",\"color\",\"fill_alpha\",\"height\",\"width\",\"y\",\"x\",\"label\"],\"data\":{\"AnimalType\":[\"Dog\"],\"OutcomeType\":[\"Euthanasia\"],\"chart_index\":[{\"AnimalType\":\"Dog\",\"OutcomeType\":\"Euthanasia\"}],\"color\":[\"#5ab738\"],\"fill_alpha\":[0.8],\"height\":[845.0],\"label\":[{\"AnimalType\":\"Dog\",\"OutcomeType\":\"Euthanasia\"}],\"line_alpha\":[1.0],\"line_color\":[\"white\"],\"width\":[0.8],\"x\":[\"Euthanasia\"],\"y\":[1132.5]}},\"id\":\"13ad19fe-de01-4437-9230-0a00f3227c7e\",\"type\":\"ColumnDataSource\"},{\"attributes\":{\"callback\":null,\"column_names\":[\"line_color\",\"line_alpha\",\"color\",\"fill_alpha\",\"height\",\"width\",\"y\",\"x\",\"label\"],\"data\":{\"AnimalType\":[\"Dog\"],\"OutcomeType\":[\"Return_to_owner\"],\"chart_index\":[{\"AnimalType\":\"Dog\",\"OutcomeType\":\"Return_to_owner\"}],\"color\":[\"#5ab738\"],\"fill_alpha\":[0.8],\"height\":[4286.0],\"label\":[{\"AnimalType\":\"Dog\",\"OutcomeType\":\"Return_to_owner\"}],\"line_alpha\":[1.0],\"line_color\":[\"white\"],\"width\":[0.8],\"x\":[\"Return_to_owner\"],\"y\":[2143.0]}},\"id\":\"396c260d-fd99-48c7-bb85-e3b8fc1ee4b6\",\"type\":\"ColumnDataSource\"},{\"attributes\":{\"callback\":null,\"column_names\":[\"line_color\",\"line_alpha\",\"color\",\"fill_alpha\",\"height\",\"width\",\"y\",\"x\",\"label\"],\"data\":{\"AnimalType\":[\"Dog\"],\"OutcomeType\":[\"Died\"],\"chart_index\":[{\"AnimalType\":\"Dog\",\"OutcomeType\":\"Died\"}],\"color\":[\"#5ab738\"],\"fill_alpha\":[0.8],\"height\":[50.0],\"label\":[{\"AnimalType\":\"Dog\",\"OutcomeType\":\"Died\"}],\"line_alpha\":[1.0],\"line_color\":[\"white\"],\"width\":[0.8],\"x\":[\"Died\"],\"y\":[172.0]}},\"id\":\"53237218-410a-4ec6-a9dc-20a37acc4a45\",\"type\":\"ColumnDataSource\"}],\"root_ids\":[\"27db1ab2-b9dc-4c5b-a92c-2517e01bdfa0\"]},\"title\":\"Bokeh Application\",\"version\":\"0.12.2\"}};\n",
       "            var render_items = [{\"docid\":\"d68a70e9-c559-40a1-b0eb-7b6d9fd6cdf0\",\"elementid\":\"ed474174-2b3d-4cbc-9f1b-4c8f696d6e23\",\"modelid\":\"27db1ab2-b9dc-4c5b-a92c-2517e01bdfa0\"}];\n",
       "            \n",
       "            Bokeh.embed.embed_items(docs_json, render_items);\n",
       "        });\n",
       "      },\n",
       "      function(Bokeh) {\n",
       "      }\n",
       "    ];\n",
       "  \n",
       "    function run_inline_js() {\n",
       "      \n",
       "      if ((window.Bokeh !== undefined) || (force === \"1\")) {\n",
       "        for (var i = 0; i < inline_js.length; i++) {\n",
       "          inline_js[i](window.Bokeh);\n",
       "        }if (force === \"1\") {\n",
       "          display_loaded();\n",
       "        }} else if (Date.now() < window._bokeh_timeout) {\n",
       "        setTimeout(run_inline_js, 100);\n",
       "      } else if (!window._bokeh_failed_load) {\n",
       "        console.log(\"Bokeh: BokehJS failed to load within specified timeout.\");\n",
       "        window._bokeh_failed_load = true;\n",
       "      } else if (!force) {\n",
       "        var cell = $(\"#ed474174-2b3d-4cbc-9f1b-4c8f696d6e23\").parents('.cell').data().cell;\n",
       "        cell.output_area.append_execute_result(NB_LOAD_WARNING)\n",
       "      }\n",
       "  \n",
       "    }\n",
       "  \n",
       "    if (window._bokeh_is_loading === 0) {\n",
       "      console.log(\"Bokeh: BokehJS loaded, going straight to plotting\");\n",
       "      run_inline_js();\n",
       "    } else {\n",
       "      load_libs(js_urls, function() {\n",
       "        console.log(\"Bokeh: BokehJS plotting callback run at\", now());\n",
       "        run_inline_js();\n",
       "      });\n",
       "    }\n",
       "  }(this));\n",
       "</script>"
      ]
     },
     "metadata": {},
     "output_type": "display_data"
    }
   ],
   "source": [
    "#Animal types\n",
    "p = Bar(data, label='OutcomeType', values = 'AnimalType', agg='count', stack='AnimalType',\n",
    "        title=\"Outcomes by Animal Type\", legend='top_right')\n",
    "show(p)"
   ]
  },
  {
   "cell_type": "markdown",
   "metadata": {},
   "source": [
    "## Modeling\n"
   ]
  },
  {
   "cell_type": "markdown",
   "metadata": {
    "collapsed": true
   },
   "source": [
    "### Logistic Regression Exploration\n",
    "\n",
    "- With more than 26,000 cases, we have a more than adequate sample size for modeling.\n",
    "- By their nature, the classes within the dependent variable (OutcomeType) should be independent of one another.\n",
    "- Based on our correlation matrix, we should have no significant issues with multicollinearity."
   ]
  },
  {
   "cell_type": "markdown",
   "metadata": {},
   "source": [
    "#### Check Animal Type\n",
    "\n",
    "We'll start by checking how dogs and cats perform in separate models, also using GridSearch to determine the best regularization strength."
   ]
  },
  {
   "cell_type": "code",
   "execution_count": 13,
   "metadata": {
    "collapsed": false,
    "scrolled": false
   },
   "outputs": [
    {
     "name": "stdout",
     "output_type": "stream",
     "text": [
      "Logistic Regression: Dogs Only\n",
      "(11696, 17)\n",
      "<class 'pandas.core.series.Series'>\n",
      "{'C': [0.001, 0.01, 0.1, 0.25, 0.5, 0.75, 1.0, 1.25, 1.5, 1.75, 2.0, 5.0, 10.0]}\n",
      "Train data: Logistic Regression score at C=0.250: 0.561560\n",
      "\n",
      "\n",
      "Classification Report:\n",
      " \n",
      "                 precision    recall  f1-score   support\n",
      "\n",
      "       Adoption       0.57      0.88      0.69      1629\n",
      "           Died       0.00      0.00      0.00         9\n",
      "     Euthanasia       0.38      0.02      0.03       187\n",
      "Return_to_owner       0.53      0.34      0.42      1086\n",
      "       Transfer       0.62      0.41      0.50       988\n",
      "\n",
      "    avg / total       0.56      0.57      0.53      3899\n",
      "\n",
      "Dev data: Logistic Regression score at C=0.250: 0.532516\n",
      "Weights:\n",
      "['Adoption' 'Died' 'Euthanasia' 'Return_to_owner' 'Transfer']\n",
      "Adoption\n",
      "BreedRank -0.037\n",
      "Female_Male -0.03\n",
      "AnimalType_Cat 0.0\n",
      "MixedBreed_Known Breed Combo 0.061\n",
      "Female_Female 0.259\n",
      "\n",
      "Died\n",
      "Named_Unnamed -0.034\n",
      "AnimalType_Cat 0.0\n",
      "Female_Unknown 0.036\n",
      "Intact_Unknown 0.036\n",
      "Intact_Intact 0.049\n",
      "\n",
      "Euthanasia\n",
      "Female_Unknown 0.0\n",
      "Intact_Unknown 0.0\n",
      "Named_Unnamed 0.07\n",
      "Intact_Intact 0.402\n",
      "ConvertedAge 0.595\n",
      "\n",
      "Return_to_owner\n",
      "BreedRank 0.005\n",
      "MixedBreed_Nonmixed 0.014\n",
      "TopBreed 0.131\n",
      "PitBull 0.321\n",
      "ConvertedAge 0.481\n",
      "\n",
      "Transfer\n",
      "TopBreed 0.112\n",
      "MixedBreed_Nonmixed 0.132\n",
      "Named_Unnamed 0.348\n",
      "Female_Unknown 0.405\n",
      "Intact_Unknown 0.405\n",
      "\n",
      "\n",
      "\n",
      "\n",
      "Logistic Regression: Cats Only\n",
      "(8350, 15)\n",
      "<class 'pandas.core.series.Series'>\n",
      "{'C': [0.001, 0.01, 0.1, 0.25, 0.5, 0.75, 1.0, 1.25, 1.5, 1.75, 2.0, 5.0, 10.0]}\n",
      "Train data: Logistic Regression score at C=0.010: 0.738683\n",
      "\n",
      "\n",
      "Classification Report:\n",
      " \n",
      "                 precision    recall  f1-score   support\n",
      "\n",
      "       Adoption       0.69      0.92      0.79      1045\n",
      "           Died       0.00      0.00      0.00        34\n",
      "     Euthanasia       0.86      0.03      0.06       183\n",
      "Return_to_owner       0.26      0.07      0.11       136\n",
      "       Transfer       0.81      0.78      0.79      1386\n",
      "\n",
      "    avg / total       0.73      0.74      0.70      2784\n",
      "\n",
      "Dev data: Logistic Regression score at C=0.010: 0.699516\n",
      "Weights:\n",
      "['Adoption' 'Died' 'Euthanasia' 'Return_to_owner' 'Transfer']\n",
      "Adoption\n",
      "MixedBreed_Known Breed Combo -0.021\n",
      "AnimalType_Dog 0.0\n",
      "Female_Male 0.072\n",
      "Female_Female 0.12\n",
      "Named_Named 0.369\n",
      "\n",
      "Died\n",
      "Intact_Unknown -0.117\n",
      "Intact_Intact -0.11\n",
      "MixedBreed_Nonmixed -0.05\n",
      "ConvertedAge -0.014\n",
      "AnimalType_Dog 0.0\n",
      "\n",
      "Euthanasia\n",
      "BlackCat -0.008\n",
      "MixedBreed_Known Breed Combo -0.003\n",
      "AnimalType_Dog 0.0\n",
      "Named_Unnamed 0.101\n",
      "Intact_Intact 0.141\n",
      "\n",
      "Return_to_owner\n",
      "Named_Named -0.091\n",
      "MixedBreed_Nonmixed -0.081\n",
      "Intact_Spayed/Neutered -0.036\n",
      "MixedBreed_Known Breed Combo -0.014\n",
      "AnimalType_Dog 0.0\n",
      "\n",
      "Transfer\n",
      "MixedBreed_Mixed Breed 0.107\n",
      "AnimalType_Cat 0.113\n",
      "Female_Unknown 0.396\n",
      "Intact_Unknown 0.396\n",
      "Named_Unnamed 0.423\n",
      "\n",
      "\n",
      "\n",
      "\n"
     ]
    }
   ],
   "source": [
    "#Find the best regularization strength\n",
    "      #Generate logistic regression\n",
    "def logit_reg(X_train, X_dev, y_train, y_dev, predict_anim):\n",
    "    logit_reg = LogisticRegression(penalty=\"l2\", multi_class='multinomial', solver='newton-cg')  \n",
    "    print X_train.shape\n",
    "    print type(pd.Series(y_train))\n",
    "    y_train = y_train.values.ravel()\n",
    "    y_dev = y_dev.values.ravel()\n",
    "    \n",
    "    #Test C within [0.001, 10]\n",
    "    param_domain = [0.001, 0.01, 0.1, 0.25, 0.5, 0.75, 1.0, 1.25, 1.5, 1.75, 2.0, 5.0, 10.0]\n",
    "    param_dict = dict(C = param_domain)\n",
    "    print param_dict\n",
    "\n",
    "    #Initialize GridSearchCV to identify the optimal parameter values\n",
    "    gridsearch = GridSearchCV(logit_reg, param_dict)\n",
    "    gridsearch.fit(X_train, y_train)\n",
    "\n",
    "    #Generate model at the best C value\n",
    "    C = gridsearch.best_params_[\"C\"]\n",
    "    print \"Train data: Logistic Regression score at C=%.3f: %f\" % (C, gridsearch.best_score_)\n",
    "    print ('\\n' * 1)\n",
    "    logit_reg = LogisticRegression(C=C, penalty=\"l2\")\n",
    "    logit_reg.fit(X_train, y_train)\n",
    "\n",
    "    #Predict on the X_dev set\n",
    "    logit_reg_dev = logit_reg.predict(X_dev)\n",
    "\n",
    "    #Generate classification report\n",
    "    print \"Classification Report:\"\n",
    "    print \" \"\n",
    "    print classification_report(y_dev, logit_reg_dev, target_names=logit_reg.classes_)\n",
    "    print \"Dev data: Logistic Regression score at C=%.3f: %f\" % (C, metrics.f1_score(y_dev, logit_reg_dev, average=\"weighted\"))    \n",
    "    print \"Weights:\"\n",
    "    #Get the variables with the highest weights for each outcome\n",
    "    print logit_reg.classes_\n",
    "    weights = []\n",
    "    for i in range(len(logit_reg.classes_)):\n",
    "        top_vars = np.argsort(logit_reg.coef_[i])[-6:-1]\n",
    "        print logit_reg.classes_[i]\n",
    "        for j in top_vars:\n",
    "            print predict_anim[j], round(logit_reg.coef_[i][j],3)\n",
    "        print\n",
    "    print ('\\n' * 2)\n",
    "\n",
    "\n",
    "    #Generate logistic regression and add the squared weight values to an array, at each C\n",
    "    logit_reg_coeff = []\n",
    "    for c in param_domain:\n",
    "        logit_reg = LogisticRegression(C=c, penalty=\"l2\") \n",
    "        logit_reg.fit(X_train, y_train)\n",
    "        squared_weights = []\n",
    "        squared_weights.append(c)                       \n",
    "        for i in range(0, 4):\n",
    "            [squared_weights.append(np.sum(np.power(logit_reg.coef_[i], 2)))]\n",
    "        logit_reg_coeff.append(squared_weights)\n",
    "\n",
    "    coeff = np.asarray(logit_reg_coeff, dtype = \"object\")\n",
    "\n",
    "print 'Logistic Regression: Dogs Only'\n",
    "logit_reg(X_dog_train, X_dog_dev, y_dog_train, y_dog_dev, predictors_dog)\n",
    "print 'Logistic Regression: Cats Only'\n",
    "logit_reg(X_cat_train, X_cat_dev, y_cat_train, y_cat_dev, predictors_cat)"
   ]
  },
  {
   "cell_type": "markdown",
   "metadata": {},
   "source": [
    "With the highest training accuracy on the dog-only model at 0.56 and the highest accuracy for cats at 0.74, here we see further evidence that cats and dogs should be modeled separately.\n",
    "\n",
    "The model weights also yield some interesting results; note that the factors we thought might be important and highly weighted are not. For instance, we assumed that the breed would have played a much larger role in the outcome. Also of note is that in the dog model, the variable AnimalType_Cat - that is, whether or not the animal is a cat - has a higher weight than some other factors. This is the dog data though, so this should be a meaningless column in terms of outcomes."
   ]
  },
  {
   "cell_type": "markdown",
   "metadata": {
    "collapsed": true
   },
   "source": [
    "### Logistic Regression Pipeline\n",
    "\n",
    "Here we'll define a pipeline to binarize the categorical variables, scale the continuous variables, and fit a logistic regression; we're creating different models for dogs and cats so we'll define separate pipelines."
   ]
  },
  {
   "cell_type": "code",
   "execution_count": 20,
   "metadata": {
    "collapsed": true
   },
   "outputs": [],
   "source": [
    "#Reset train/test split with pred\n",
    "data_dog = data[data['AnimalType'] == 'Dog']\n",
    "data_cat = data[data['AnimalType'] == 'Cat']\n",
    "X_dog = data_dog[pred['dog']]\n",
    "X_cat = data_cat[pred['cat']]\n",
    "y_dog = data_dog[[target]]\n",
    "y_cat = data_cat[[target]]\n",
    "X_dog_train, X_dog_dev, y_dog_train, y_dog_dev = train_test_split(X_dog, y_dog, random_state=2)\n",
    "X_cat_train, X_cat_dev, y_cat_train, y_cat_dev = train_test_split(X_cat, y_cat, random_state=2)\n"
   ]
  },
  {
   "cell_type": "code",
   "execution_count": 21,
   "metadata": {
    "collapsed": true
   },
   "outputs": [],
   "source": [
    "class MyVectorizer(BaseEstimator, TransformerMixin):\n",
    "\n",
    "    def __init__(self, cols, hashing=None):\n",
    "        \"\"\"\n",
    "        args:\n",
    "            cols: a list of column names of the categorical variables\n",
    "            hashing: \n",
    "                If None, then vectorization is a simple one-hot-encoding.\n",
    "                If an integer, then hashing is the number of features in the output.\n",
    "        \"\"\"\n",
    "        self.cols = cols\n",
    "        self.hashing = hashing\n",
    "        \n",
    "    def fit(self, X, y=None):\n",
    "\n",
    "        data = X[self.cols]\n",
    "        \n",
    "        # Choose a vectorizer\n",
    "        if self.hashing is None:\n",
    "            self.myvec = DictVectorizer(sparse=False)\n",
    "        else:\n",
    "            self.myvec = FeatureHasher(n_features = self.hashing)\n",
    "    \n",
    "        self.myvec.fit(X[self.cols].to_dict(orient='records'))\n",
    "        return self\n",
    "            \n",
    "    def transform(self, X):\n",
    "            \n",
    "        # Vectorize Input\n",
    "        if self.hashing is None:\n",
    "            return pd.DataFrame(\n",
    "                self.myvec.transform(X[self.cols].to_dict(orient='records')),\n",
    "                columns = self.myvec.feature_names_\n",
    "            )\n",
    "        else:\n",
    "            return pd.DataFrame(\n",
    "                self.myvec.transform(X[self.cols].to_dict(orient='records')).toarray()\n",
    "            )"
   ]
  },
  {
   "cell_type": "code",
   "execution_count": 22,
   "metadata": {
    "collapsed": false
   },
   "outputs": [],
   "source": [
    "class MyScaler():\n",
    "\n",
    "    def __init__(self, cols):\n",
    "        self.cols = cols\n",
    "    \n",
    "    def fit(self, X, y=None):\n",
    "        self.ss = StandardScaler()\n",
    "        self.ss.fit(X[self.cols])\n",
    "        return self\n",
    "    \n",
    "    def transform(self, X):\n",
    "        return self.ss.transform(X[self.cols])"
   ]
  },
  {
   "cell_type": "code",
   "execution_count": 23,
   "metadata": {
    "collapsed": true
   },
   "outputs": [],
   "source": [
    "#Set the pipelines for categorical variables\n",
    "discrete_pipe_dog = Pipeline(steps=[('Vectorizer', MyVectorizer(cols=discrete['dog'], hashing=None))])\n",
    "discrete_pipe_cat = Pipeline(steps=[('Vectorizer', MyVectorizer(cols=discrete['cat'], hashing=None))])\n",
    "\n",
    "#Set the pipelines for continuous variables\n",
    "continuous_pipe_cat = Pipeline(steps=[('Scale', MyScaler(continuous['cat']))])\n",
    "continuous_pipe_dog = Pipeline(steps=[('Scale', MyScaler(continuous['dog']))])\n",
    "\n",
    "#Bring the discrete and continuous pipelines together for cats and dogs\n",
    "union_dog = FeatureUnion([('Discrete', discrete_pipe_dog), ('Continuous', continuous_pipe_dog)])\n",
    "union_cat = FeatureUnion([('Discrete', discrete_pipe_cat), ('Continuous', continuous_pipe_cat)])"
   ]
  },
  {
   "cell_type": "code",
   "execution_count": 24,
   "metadata": {
    "collapsed": false
   },
   "outputs": [
    {
     "name": "stdout",
     "output_type": "stream",
     "text": [
      "Dogs: Multinomial Logistic Regression Train Accuracy ::  0.562670998632\n",
      "Dogs: Multinomial Logistic Regression Dev Accuracy ::  0.577840471916\n",
      "\n",
      "Cats: Multinomial Logistic Regression Train Accuracy ::  0.738323353293\n",
      "Cats: Multinomial Logistic Regression Dev Accuracy ::  0.739942528736\n"
     ]
    }
   ],
   "source": [
    "#Full pipelines, using the best regularization strengths for the dog and cat models, respectively\n",
    "pipeline_dog = Pipeline([('Preprocess', FeatureUnion([('Discrete', discrete_pipe_dog), ('Continuous', continuous_pipe_dog)])),\n",
    "                      ('Predict', LogisticRegression(multi_class='multinomial', C=0.25, solver='newton-cg'))])\n",
    "pipeline_cat = Pipeline([('Preprocess', FeatureUnion([('Discrete', discrete_pipe_cat), ('Continuous', continuous_pipe_cat)])),\n",
    "                      ('Predict', LogisticRegression(multi_class='multinomial', C=0.10, solver='newton-cg'))])\n",
    "\n",
    "#Fit the multinomial logistic regression for dogs and cats, respectively\n",
    "test_dog_lr = pipeline_dog.fit(X_dog_train, y_dog_train)\n",
    "test_cat_lr = pipeline_cat.fit(X_cat_train, y_cat_train)\n",
    "\n",
    "print \"Dogs: Multinomial Logistic Regression Train Accuracy :: \", metrics.accuracy_score(y_dog_train, test_dog_lr.predict(X_dog_train))\n",
    "print \"Dogs: Multinomial Logistic Regression Dev Accuracy :: \", metrics.accuracy_score(y_dog_dev, test_dog_lr.predict(X_dog_dev))\n",
    "print\n",
    "print \"Cats: Multinomial Logistic Regression Train Accuracy :: \", metrics.accuracy_score(y_cat_train, test_cat_lr.predict(X_cat_train))\n",
    "print \"Cats: Multinomial Logistic Regression Dev Accuracy :: \", metrics.accuracy_score(y_cat_dev, test_cat_lr.predict(X_cat_dev))"
   ]
  },
  {
   "cell_type": "code",
   "execution_count": 25,
   "metadata": {
    "collapsed": false,
    "scrolled": true
   },
   "outputs": [
    {
     "name": "stdout",
     "output_type": "stream",
     "text": [
      "Normalized confusion matrix\n",
      "[[  3.76e-01   9.21e-04   5.23e-01   1.00e-01   0.00e+00]\n",
      " [  3.37e-01   5.88e-02   2.67e-01   3.37e-01   0.00e+00]\n",
      " [  1.02e-01   6.14e-04   8.80e-01   1.72e-02   0.00e+00]\n",
      " [  1.23e-01   8.10e-03   4.64e-01   4.05e-01   0.00e+00]\n",
      " [  1.11e-01   0.00e+00   2.22e-01   6.67e-01   0.00e+00]]\n",
      "Normalized confusion matrix\n",
      "[[ 0.07  0.04  0.84  0.06  0.  ]\n",
      " [ 0.03  0.13  0.08  0.76  0.  ]\n",
      " [ 0.01  0.    0.91  0.08  0.  ]\n",
      " [ 0.01  0.    0.21  0.78  0.  ]\n",
      " [ 0.    0.    0.12  0.88  0.  ]]\n"
     ]
    },
    {
     "data": {
      "image/png": "[encoded data removed]",
      "text/plain": [
       "<matplotlib.figure.Figure at 0x135555c0>"
      ]
     },
     "metadata": {},
     "output_type": "display_data"
    },
    {
     "data": {
      "image/png": "[encoded data removed]",
      "text/plain": [
       "<matplotlib.figure.Figure at 0x1395dc18>"
      ]
     },
     "metadata": {},
     "output_type": "display_data"
    }
   ],
   "source": [
    "def plot_confusion_matrix(cm, classes, normalize = False, title = 'Confusion Matrix', cmap = plt.cm.Blues):\n",
    "    if normalize:\n",
    "        cm = cm.astype('float') / cm.sum(axis=1)[:, np.newaxis]\n",
    "        print(\"Normalized confusion matrix\")\n",
    "    else:\n",
    "        print('Confusion matrix, without normalization')\n",
    "\n",
    "    print(cm)\n",
    "    plt.imshow(cm, interpolation='nearest', cmap=cmap)\n",
    "    plt.title(title)\n",
    "    plt.colorbar()\n",
    "    tick_marks = np.arange(len(classes))\n",
    "    plt.xticks(tick_marks, classes, rotation=45)\n",
    "    plt.yticks(tick_marks, classes)\n",
    "\n",
    "    fmt = '.2f' if normalize else 'd'\n",
    "    thresh = cm.max() / 2.\n",
    "    for i, j in itertools.product(range(cm.shape[0]), range(cm.shape[1])):\n",
    "        plt.text(j, i, format(cm[i, j], fmt),\n",
    "                 horizontalalignment=\"center\",\n",
    "                 color=\"white\" if cm[i, j] > thresh else \"black\")\n",
    "\n",
    "    plt.tight_layout()\n",
    "    plt.ylabel('True label')\n",
    "    plt.xlabel('Predicted label')\n",
    "\n",
    "class_names = ['Return_to_owner', 'Euthanasia', 'Adoption', 'Transfer', 'Died']\n",
    "cnf_dog_matrix = confusion_matrix(y_dog_dev, test_dog_lr.predict(X_dog_dev), labels = class_names)\n",
    "np.set_printoptions(precision=2)\n",
    "\n",
    "plt.figure()\n",
    "plot_confusion_matrix(cnf_dog_matrix, classes=class_names, normalize = True,\n",
    "                      title='Confusion matrix for Dogs, with normalization')\n",
    "\n",
    "cnf_cat_matrix = confusion_matrix(y_cat_dev, test_cat_lr.predict(X_cat_dev), labels = class_names)\n",
    "np.set_printoptions(precision=2)\n",
    "\n",
    "plt.figure()\n",
    "plot_confusion_matrix(cnf_cat_matrix, classes=class_names, normalize = True,\n",
    "                      title='Confusion matrix for Cats, with normalization')\n",
    "plt.show()"
   ]
  },
  {
   "cell_type": "markdown",
   "metadata": {},
   "source": [
    "The difference in performance between the dog and cat models is interesting, but the confusion matrices can tell us a bit about where the models are going wrong.\n",
    "\n",
    "Dogs:  \n",
    "- Though a majority of the Adoption cases are predicted correctly, performance falls off sharply to the second-best category (Transfer).\n",
    "- The majority of Return To Owner cases are incorrectly identified as Adoption, and the same is true for Transfer.\n",
    "- There appear to be no successful Died predictions, with the majority going to Transfer.\n",
    "- Euthanasia is similarly unsuccessful as a prediction.\n",
    "\n",
    "Cats:\n",
    "- The disparity between the best and second-best categories (still Adoption and Transfer) is less sharp here.\n",
    "- The poor Return to Owner prediction rate in dogs is even worse in cats; the majority are predicted to be Adoption.\n",
    "- Died and Euthanasia are more often flagged as Transfer than any other category.\n",
    "\n",
    "A large part of the issue may be the comparatively small n sizes for the outcomes other than Adoption and Transfer. It appears that when so many cases have an adoption outcome, the model rewards erroneously predicting the adoption outcome - particularly so for dogs.\n",
    "\n",
    "For both dogs and cats, we see poor predictive power in the Died and Euthanasia categories. It seems likely that, beyond the distributions in the sample data, there are confounding factors that can't be captured with the data we have. For example, an animal that appears likely for Transfer based on these features may actually be euthanized due to health or temperament conditions outside of what is identifiable."
   ]
  },
  {
   "cell_type": "code",
   "execution_count": 26,
   "metadata": {
    "collapsed": false,
    "scrolled": true
   },
   "outputs": [
    {
     "name": "stdout",
     "output_type": "stream",
     "text": [
      "Classification Report: Dogs\n",
      "                 precision    recall  f1-score   support\n",
      "\n",
      "Return_to_owner       0.57      0.88      0.69      1629\n",
      "     Euthanasia       0.00      0.00      0.00         9\n",
      "       Adoption       0.52      0.06      0.11       187\n",
      "       Transfer       0.54      0.38      0.44      1086\n",
      "           Died       0.66      0.40      0.50       988\n",
      "\n",
      "    avg / total       0.58      0.58      0.54      3899\n",
      "\n",
      "\n",
      "\n",
      "Classification Report: Cats\n",
      "                 precision    recall  f1-score   support\n",
      "\n",
      "Return_to_owner       0.69      0.91      0.78      1045\n",
      "     Euthanasia       0.00      0.00      0.00        34\n",
      "       Adoption       0.70      0.13      0.21       183\n",
      "       Transfer       0.24      0.07      0.10       136\n",
      "           Died       0.81      0.78      0.79      1386\n",
      "\n",
      "    avg / total       0.72      0.74      0.71      2784\n",
      "\n",
      "\n",
      "\n"
     ]
    }
   ],
   "source": [
    "print(\"Classification Report: Dogs\")\n",
    "print(classification_report(y_dog_dev, test_dog_lr.predict(X_dog_dev), target_names=class_names))\n",
    "print '\\n'\n",
    "\n",
    "print(\"Classification Report: Cats\")\n",
    "print(classification_report(y_cat_dev, test_cat_lr.predict(X_cat_dev), target_names=class_names))\n",
    "print '\\n'"
   ]
  },
  {
   "cell_type": "markdown",
   "metadata": {},
   "source": [
    "Of course, the classification reports show a similar story.\n",
    "\n",
    "Though the cat model performs better overall, it performs quite poorly on Transfer prediction, with only 7% of Transfers being identified correctly. We see a fairly high precision for Died in both models, most likely because of so few positive cases being represented in the data."
   ]
  },
  {
   "cell_type": "markdown",
   "metadata": {},
   "source": [
    "### Neural Network Exploration\n",
    "\n",
    "As an alternative to logistic regression, we will use Keras for neural network modeling."
   ]
  },
  {
   "cell_type": "code",
   "execution_count": 27,
   "metadata": {
    "collapsed": false
   },
   "outputs": [
    {
     "name": "stderr",
     "output_type": "stream",
     "text": [
      "Using TensorFlow backend.\n"
     ]
    },
    {
     "ename": "ImportError",
     "evalue": "No module named tensorflow",
     "output_type": "error",
     "traceback": [
      "\u001b[0;31m---------------------------------------------------------------------------\u001b[0m",
      "\u001b[0;31mImportError\u001b[0m                               Traceback (most recent call last)",
      "\u001b[0;32m<ipython-input-27-b66a9c5d895f>\u001b[0m in \u001b[0;36m<module>\u001b[0;34m()\u001b[0m\n\u001b[1;32m      1\u001b[0m \u001b[1;31m# Using keras to predict outcome\u001b[0m\u001b[1;33m\u001b[0m\u001b[1;33m\u001b[0m\u001b[0m\n\u001b[0;32m----> 2\u001b[0;31m \u001b[1;32mfrom\u001b[0m \u001b[0mkeras\u001b[0m\u001b[1;33m.\u001b[0m\u001b[0mlayers\u001b[0m \u001b[1;32mimport\u001b[0m \u001b[0mDropout\u001b[0m\u001b[1;33m\u001b[0m\u001b[0m\n\u001b[0m\u001b[1;32m      3\u001b[0m model = Sequential([\n\u001b[1;32m      4\u001b[0m     \u001b[0mDense\u001b[0m\u001b[1;33m(\u001b[0m\u001b[1;36m32\u001b[0m\u001b[1;33m,\u001b[0m \u001b[0minput_shape\u001b[0m\u001b[1;33m=\u001b[0m\u001b[1;33m(\u001b[0m\u001b[1;36m15\u001b[0m\u001b[1;33m,\u001b[0m\u001b[1;33m)\u001b[0m\u001b[1;33m)\u001b[0m\u001b[1;33m,\u001b[0m\u001b[1;33m\u001b[0m\u001b[0m\n\u001b[1;32m      5\u001b[0m     \u001b[0mDropout\u001b[0m\u001b[1;33m(\u001b[0m\u001b[1;36m0.1\u001b[0m\u001b[1;33m)\u001b[0m\u001b[1;33m,\u001b[0m   \u001b[1;31m# Added a dropout layer of 10% to regulate neural network\u001b[0m\u001b[1;33m\u001b[0m\u001b[0m\n",
      "\u001b[0;32mC:\\Users\\Clay\\Anaconda2\\lib\\site-packages\\keras\\__init__.py\u001b[0m in \u001b[0;36m<module>\u001b[0;34m()\u001b[0m\n\u001b[1;32m      1\u001b[0m \u001b[1;32mfrom\u001b[0m \u001b[0m__future__\u001b[0m \u001b[1;32mimport\u001b[0m \u001b[0mabsolute_import\u001b[0m\u001b[1;33m\u001b[0m\u001b[0m\n\u001b[1;32m      2\u001b[0m \u001b[1;33m\u001b[0m\u001b[0m\n\u001b[0;32m----> 3\u001b[0;31m \u001b[1;32mfrom\u001b[0m \u001b[1;33m.\u001b[0m \u001b[1;32mimport\u001b[0m \u001b[0mutils\u001b[0m\u001b[1;33m\u001b[0m\u001b[0m\n\u001b[0m\u001b[1;32m      4\u001b[0m \u001b[1;32mfrom\u001b[0m \u001b[1;33m.\u001b[0m \u001b[1;32mimport\u001b[0m \u001b[0mactivations\u001b[0m\u001b[1;33m\u001b[0m\u001b[0m\n\u001b[1;32m      5\u001b[0m \u001b[1;32mfrom\u001b[0m \u001b[1;33m.\u001b[0m \u001b[1;32mimport\u001b[0m \u001b[0mapplications\u001b[0m\u001b[1;33m\u001b[0m\u001b[0m\n",
      "\u001b[0;32mC:\\Users\\Clay\\Anaconda2\\lib\\site-packages\\keras\\utils\\__init__.py\u001b[0m in \u001b[0;36m<module>\u001b[0;34m()\u001b[0m\n\u001b[1;32m      4\u001b[0m \u001b[1;32mfrom\u001b[0m \u001b[1;33m.\u001b[0m \u001b[1;32mimport\u001b[0m \u001b[0mdata_utils\u001b[0m\u001b[1;33m\u001b[0m\u001b[0m\n\u001b[1;32m      5\u001b[0m \u001b[1;32mfrom\u001b[0m \u001b[1;33m.\u001b[0m \u001b[1;32mimport\u001b[0m \u001b[0mio_utils\u001b[0m\u001b[1;33m\u001b[0m\u001b[0m\n\u001b[0;32m----> 6\u001b[0;31m \u001b[1;32mfrom\u001b[0m \u001b[1;33m.\u001b[0m \u001b[1;32mimport\u001b[0m \u001b[0mconv_utils\u001b[0m\u001b[1;33m\u001b[0m\u001b[0m\n\u001b[0m\u001b[1;32m      7\u001b[0m \u001b[1;33m\u001b[0m\u001b[0m\n\u001b[1;32m      8\u001b[0m \u001b[1;31m# Globally-importable utils.\u001b[0m\u001b[1;33m\u001b[0m\u001b[1;33m\u001b[0m\u001b[0m\n",
      "\u001b[0;32mC:\\Users\\Clay\\Anaconda2\\lib\\site-packages\\keras\\utils\\conv_utils.py\u001b[0m in \u001b[0;36m<module>\u001b[0;34m()\u001b[0m\n\u001b[1;32m      1\u001b[0m \u001b[1;32mfrom\u001b[0m \u001b[0msix\u001b[0m\u001b[1;33m.\u001b[0m\u001b[0mmoves\u001b[0m \u001b[1;32mimport\u001b[0m \u001b[0mrange\u001b[0m\u001b[1;33m\u001b[0m\u001b[0m\n\u001b[1;32m      2\u001b[0m \u001b[1;32mimport\u001b[0m \u001b[0mnumpy\u001b[0m \u001b[1;32mas\u001b[0m \u001b[0mnp\u001b[0m\u001b[1;33m\u001b[0m\u001b[0m\n\u001b[0;32m----> 3\u001b[0;31m \u001b[1;32mfrom\u001b[0m \u001b[1;33m.\u001b[0m\u001b[1;33m.\u001b[0m \u001b[1;32mimport\u001b[0m \u001b[0mbackend\u001b[0m \u001b[1;32mas\u001b[0m \u001b[0mK\u001b[0m\u001b[1;33m\u001b[0m\u001b[0m\n\u001b[0m\u001b[1;32m      4\u001b[0m \u001b[1;33m\u001b[0m\u001b[0m\n\u001b[1;32m      5\u001b[0m \u001b[1;33m\u001b[0m\u001b[0m\n",
      "\u001b[0;32mC:\\Users\\Clay\\Anaconda2\\lib\\site-packages\\keras\\backend\\__init__.py\u001b[0m in \u001b[0;36m<module>\u001b[0;34m()\u001b[0m\n\u001b[1;32m     81\u001b[0m \u001b[1;32melif\u001b[0m \u001b[0m_BACKEND\u001b[0m \u001b[1;33m==\u001b[0m \u001b[1;34m'tensorflow'\u001b[0m\u001b[1;33m:\u001b[0m\u001b[1;33m\u001b[0m\u001b[0m\n\u001b[1;32m     82\u001b[0m     \u001b[0msys\u001b[0m\u001b[1;33m.\u001b[0m\u001b[0mstderr\u001b[0m\u001b[1;33m.\u001b[0m\u001b[0mwrite\u001b[0m\u001b[1;33m(\u001b[0m\u001b[1;34m'Using TensorFlow backend.\\n'\u001b[0m\u001b[1;33m)\u001b[0m\u001b[1;33m\u001b[0m\u001b[0m\n\u001b[0;32m---> 83\u001b[0;31m     \u001b[1;32mfrom\u001b[0m \u001b[1;33m.\u001b[0m\u001b[0mtensorflow_backend\u001b[0m \u001b[1;32mimport\u001b[0m \u001b[1;33m*\u001b[0m\u001b[1;33m\u001b[0m\u001b[0m\n\u001b[0m\u001b[1;32m     84\u001b[0m \u001b[1;32melse\u001b[0m\u001b[1;33m:\u001b[0m\u001b[1;33m\u001b[0m\u001b[0m\n\u001b[1;32m     85\u001b[0m     \u001b[1;32mraise\u001b[0m \u001b[0mValueError\u001b[0m\u001b[1;33m(\u001b[0m\u001b[1;34m'Unknown backend: '\u001b[0m \u001b[1;33m+\u001b[0m \u001b[0mstr\u001b[0m\u001b[1;33m(\u001b[0m\u001b[0m_BACKEND\u001b[0m\u001b[1;33m)\u001b[0m\u001b[1;33m)\u001b[0m\u001b[1;33m\u001b[0m\u001b[0m\n",
      "\u001b[0;32mC:\\Users\\Clay\\Anaconda2\\lib\\site-packages\\keras\\backend\\tensorflow_backend.py\u001b[0m in \u001b[0;36m<module>\u001b[0;34m()\u001b[0m\n\u001b[0;32m----> 1\u001b[0;31m \u001b[1;32mimport\u001b[0m \u001b[0mtensorflow\u001b[0m \u001b[1;32mas\u001b[0m \u001b[0mtf\u001b[0m\u001b[1;33m\u001b[0m\u001b[0m\n\u001b[0m\u001b[1;32m      2\u001b[0m \u001b[1;32mfrom\u001b[0m \u001b[0mtensorflow\u001b[0m\u001b[1;33m.\u001b[0m\u001b[0mpython\u001b[0m\u001b[1;33m.\u001b[0m\u001b[0mtraining\u001b[0m \u001b[1;32mimport\u001b[0m \u001b[0mmoving_averages\u001b[0m\u001b[1;33m\u001b[0m\u001b[0m\n\u001b[1;32m      3\u001b[0m \u001b[1;32mfrom\u001b[0m \u001b[0mtensorflow\u001b[0m\u001b[1;33m.\u001b[0m\u001b[0mpython\u001b[0m\u001b[1;33m.\u001b[0m\u001b[0mops\u001b[0m \u001b[1;32mimport\u001b[0m \u001b[0mtensor_array_ops\u001b[0m\u001b[1;33m\u001b[0m\u001b[0m\n\u001b[1;32m      4\u001b[0m \u001b[1;32mfrom\u001b[0m \u001b[0mtensorflow\u001b[0m\u001b[1;33m.\u001b[0m\u001b[0mpython\u001b[0m\u001b[1;33m.\u001b[0m\u001b[0mops\u001b[0m \u001b[1;32mimport\u001b[0m \u001b[0mcontrol_flow_ops\u001b[0m\u001b[1;33m\u001b[0m\u001b[0m\n\u001b[1;32m      5\u001b[0m \u001b[1;32mfrom\u001b[0m \u001b[0mtensorflow\u001b[0m\u001b[1;33m.\u001b[0m\u001b[0mpython\u001b[0m\u001b[1;33m.\u001b[0m\u001b[0mops\u001b[0m \u001b[1;32mimport\u001b[0m \u001b[0mfunctional_ops\u001b[0m\u001b[1;33m\u001b[0m\u001b[0m\n",
      "\u001b[0;31mImportError\u001b[0m: No module named tensorflow"
     ]
    }
   ],
   "source": [
    "# Using keras to predict outcome\n",
    "from keras.layers import Dropout\n",
    "model = Sequential([\n",
    "    Dense(32, input_shape=(15,)),\n",
    "    Dropout(0.1),   # Added a dropout layer of 10% to regulate neural network\n",
    "    Activation('sigmoid'),\n",
    "    Dense(5),\n",
    "    Activation('softmax'),\n",
    "])\n",
    "\n",
    "model.compile(optimizer='adam',\n",
    "              loss='binary_crossentropy',\n",
    "              metrics=['accuracy'])\n",
    "model.fit(np.array(X_train), y_train_hot, epochs=10, batch_size=32)"
   ]
  },
  {
   "cell_type": "code",
   "execution_count": null,
   "metadata": {
    "collapsed": false
   },
   "outputs": [],
   "source": [
    "score = model.evaluate(np.array(X_dev), y_dev_hot, batch_size=16)\n",
    "\n",
    "print '\\nAccuracy on test data', score[1]"
   ]
  },
  {
   "cell_type": "markdown",
   "metadata": {
    "collapsed": true
   },
   "source": [
    "On a simple model with combined data, we see that the overall accuracy has improved over the logistic regression."
   ]
  },
  {
   "cell_type": "markdown",
   "metadata": {},
   "source": [
    "#### Eliminating unknown columns \n",
    "Now we'll try a more limited dataset, eliminating unknown gender and unknown intactness to see if the new dataset can give a better accuracy."
   ]
  },
  {
   "cell_type": "code",
   "execution_count": null,
   "metadata": {
    "collapsed": false
   },
   "outputs": [],
   "source": [
    "X_train_feature = X_train\n",
    "X_train_feature = X_train_feature.drop('Intact_Unknown', 1)\n",
    "X_train_feature = X_train_feature.drop('Female_Unknown', 1)\n",
    "X_dev_feature = X_dev\n",
    "X_dev_feature = X_dev_feature.drop('Intact_Unknown', 1)\n",
    "X_dev_feature = X_dev_feature.drop('Female_Unknown', 1)\n",
    "\n",
    "model2 = Sequential([\n",
    "    Dense(32, input_shape=(13,)),\n",
    "    Dropout(0.1),   \n",
    "    Activation('sigmoid'),\n",
    "    Dense(5),\n",
    "    Activation('softmax'),\n",
    "])\n",
    "\n",
    "model2.compile(optimizer='adam',\n",
    "              loss='binary_crossentropy',\n",
    "              metrics=['accuracy'])\n",
    "model2.fit(np.array(X_train_feature), y_train_hot, epochs=10, batch_size=32)"
   ]
  },
  {
   "cell_type": "code",
   "execution_count": null,
   "metadata": {
    "collapsed": false
   },
   "outputs": [],
   "source": [
    "score2 = model2.evaluate(np.array(X_dev_feature), y_dev_hot, batch_size=16)\n",
    "\n",
    "print '\\nAccuracy on new dataset with no unknown columns is', score2[1]"
   ]
  },
  {
   "cell_type": "markdown",
   "metadata": {},
   "source": [
    "We can see that by eliminating the unknown gender and intactness columns, the new model's accuracy is slightly higher than the original dataset."
   ]
  },
  {
   "cell_type": "markdown",
   "metadata": {},
   "source": [
    "#### Testing a Cat-Only Model"
   ]
  },
  {
   "cell_type": "code",
   "execution_count": null,
   "metadata": {
    "collapsed": false
   },
   "outputs": [],
   "source": [
    "X_train_dog = X_train_feature\n",
    "X_train_dog = X_train_feature.drop('AnimalType_Dog', 1)\n",
    "X_dev_dog = X_dev_feature\n",
    "X_dev_dog = X_dev_feature.drop('AnimalType_Dog', 1)\n",
    "\n",
    "model3 = Sequential([\n",
    "    Dense(32, input_shape=(12,)),\n",
    "    Dropout(0.1),  \n",
    "    Activation('sigmoid'),\n",
    "    Dense(5),\n",
    "    Activation('softmax'),\n",
    "])\n",
    "\n",
    "model3.compile(optimizer='adam',\n",
    "              loss='binary_crossentropy',\n",
    "              metrics=['accuracy'])\n",
    "model3.fit(np.array(X_train_dog), y_train_hot, epochs=10, batch_size=32)"
   ]
  },
  {
   "cell_type": "code",
   "execution_count": null,
   "metadata": {
    "collapsed": false
   },
   "outputs": [],
   "source": [
    "score3 = model3.evaluate(np.array(X_dev_dog), y_dev_hot, batch_size=16)\n",
    "\n",
    "print '\\nAccuracy on new dataset with only cat data is', score3[1]"
   ]
  },
  {
   "cell_type": "markdown",
   "metadata": {},
   "source": [
    "#### Testing a Dog-Only Model"
   ]
  },
  {
   "cell_type": "code",
   "execution_count": null,
   "metadata": {
    "collapsed": false
   },
   "outputs": [],
   "source": [
    "X_train_cat = X_train_feature\n",
    "X_train_cat = X_train_feature.drop('AnimalType_Cat', 1)\n",
    "X_dev_cat = X_dev_feature\n",
    "X_dev_cat = X_dev_feature.drop('AnimalType_Cat', 1)\n",
    "\n",
    "model4 = Sequential([\n",
    "    Dense(32, input_shape=(12,)),\n",
    "    Dropout(0.1),   \n",
    "    Activation('sigmoid'),\n",
    "    Dense(5),\n",
    "    Activation('softmax'),\n",
    "])\n",
    "\n",
    "model4.compile(optimizer='adam',\n",
    "              loss='binary_crossentropy',\n",
    "              metrics=['accuracy'])\n",
    "model4.fit(np.array(X_train_cat), y_train_hot, epochs=10, batch_size=32)"
   ]
  },
  {
   "cell_type": "code",
   "execution_count": null,
   "metadata": {
    "collapsed": false
   },
   "outputs": [],
   "source": [
    "score4 = model4.evaluate(np.array(X_dev_cat), y_dev_hot, batch_size=16)\n",
    "\n",
    "print '\\nAccuracy on new dataset with only dog data is', score4[1]"
   ]
  },
  {
   "cell_type": "markdown",
   "metadata": {},
   "source": [
    "It seems like the new dataset with only cat data has slightly higher accuracy (0.8634) than only dog data (0.8630), but the biggest takeaway is that the NN models increase performance substantially over the logistic models."
   ]
  },
  {
   "cell_type": "markdown",
   "metadata": {},
   "source": [
    "## Final Kaggle Submission"
   ]
  },
  {
   "cell_type": "code",
   "execution_count": null,
   "metadata": {
    "collapsed": true
   },
   "outputs": [],
   "source": [
    "#Import test data and process for dog and cat subsets\n",
    "\n",
    "#Predict dog and cat outcomes on the test data using the final chosen models\n",
    "\n",
    "#Write to CSV"
   ]
  },
  {
   "cell_type": "markdown",
   "metadata": {},
   "source": [
    "### Appendix"
   ]
  },
  {
   "cell_type": "markdown",
   "metadata": {},
   "source": [
    "#### Feature Engineering\n",
    "\n",
    "We're beginning with a simple multinomial logistic regression, which we will use to test combinations of features."
   ]
  },
  {
   "cell_type": "code",
   "execution_count": 17,
   "metadata": {
    "collapsed": false
   },
   "outputs": [
    {
     "name": "stdout",
     "output_type": "stream",
     "text": [
      "Accuracy at C=0.5: 0.633398174473\n",
      "Sum of Squared Weight: -20.7716088513\n"
     ]
    }
   ],
   "source": [
    "#Tested for C in 0.00001, 0.0001, 0.001, 0.01, 0.1,, 1.0, 2.0, 4.0, 6.0, 8.0, 10.0\n",
    "#Highest accuracy is when C=0.5\n",
    "\n",
    "for m in [0.5]: # 0.00001, 0.0001, 0.001, 0.01, 0.1,, 1.0, 2.0, 4.0, 6.0, 8.0, 10.0\n",
    "    lrq = LogisticRegression(C = m, penalty = 'l2')\n",
    "    lrq.fit(X_train, y_train)\n",
    "    weight1 = lrq.coef_\n",
    "    sum1 = sum(sum(weight1))\n",
    "    print 'Accuracy at C=0.5:', lrq.score(X_dev, y_dev)\n",
    "    print 'Sum of Squared Weight:', sum1\n"
   ]
  },
  {
   "cell_type": "markdown",
   "metadata": {},
   "source": [
    "For this dataset, we have 15 different features, including gender, breed, age, and so on.  In order to select the best\n",
    "features to add to the model, here we select features from the bottom up, starting from only 1 feature and adding more features based on the accuracy.\n",
    "\n"
   ]
  },
  {
   "cell_type": "code",
   "execution_count": 18,
   "metadata": {
    "collapsed": false
   },
   "outputs": [
    {
     "name": "stdout",
     "output_type": "stream",
     "text": [
      "At number of features = 1 the best feature to add is Intact_Spayed/Neutered and the accuracy is 0.6082597636\n",
      "At number of features = 2 the best feature to add is ConvertedAge and the accuracy is 0.6208289690\n",
      "At number of features = 3 the best feature to add is AnimalType_Cat and the accuracy is 0.6281610055\n",
      "At number of features = 4 the best feature to add is MixedBreed_Known Breed Combo and the accuracy is 0.6313033069\n",
      "At number of features = 5 the best feature to add is Named_Unnamed and the accuracy is 0.6345952417\n",
      "At number of features = 6 the best feature to add is MixedBreed_Nonmixed and the accuracy is 0.6347448751\n",
      "At number of features = 7 the best feature to add is AnimalType_Dog and the accuracy is 0.6347448751\n",
      "At number of features = 8 the best feature to add is Female_Unknown and the accuracy is 0.6347448751\n",
      "At number of features = 9 the best feature to add is Intact_Intact and the accuracy is 0.6347448751\n",
      "At number of features = 10 the best feature to add is Intact_Unknown and the accuracy is 0.6347448751\n",
      "At number of features = 11 the best feature to add is MixedBreed_Mixed Breed and the accuracy is 0.6347448751\n",
      "At number of features = 12 the best feature to add is Named_Named and the accuracy is 0.6347448751\n",
      "At number of features = 13 the best feature to add is BreedRank and the accuracy is 0.6342959749\n",
      "At number of features = 14 the best feature to add is Female_Female and the accuracy is 0.6333981745\n",
      "At number of features = 15 the best feature to add is Female_Male and the accuracy is 0.6333981745\n"
     ]
    }
   ],
   "source": [
    "#Importing this because of deprecation warnings cluttering the output\n",
    "import warnings\n",
    "warnings.filterwarnings('ignore')\n",
    "\n",
    "# Start the bottom up feature selection\n",
    "# Compute the accuracy of logistic regression with N features\n",
    "\n",
    "train = X_train\n",
    "dev = X_dev\n",
    "\n",
    "bestVec = [] \n",
    "\n",
    "for j in range(15):\n",
    "    maxacc = 0\n",
    "    maxi = 0\n",
    "    for i in range(15):\n",
    "        if i not in bestVec:\n",
    "            X_train_eng = pd.DataFrame(train.ix[:, bestVec + [i]])\n",
    "            X_dev_eng = pd.DataFrame(dev.ix[:, bestVec + [i]])\n",
    "            m=0.5\n",
    "            lrq = LogisticRegression(C = m, penalty = 'l2')\n",
    "            lrq.fit(X_train_eng, y_train)\n",
    "            if lrq.score(X_dev_eng, y_dev) > maxacc:\n",
    "                maxacc = lrq.score(X_dev_eng, y_dev)\n",
    "                maxi = i\n",
    "    bestVec = bestVec + [maxi]\n",
    "    print 'At number of features =', j+1,'the best feature to add is', predictors[maxi],'and the accuracy is %.10f' % maxacc"
   ]
  },
  {
   "cell_type": "markdown",
   "metadata": {},
   "source": [
    "Based on accuracy (highest 0.6347448751) and parsimony, the best model includes six features: Intact_Spayed/Neutered, ConvertedAge, AnimalType_Cat, MixedBreed_Known Breed Combo, Named_Unnamed, and MixedBreed_Nonmixed.\n",
    "\n",
    "However, further tests of this truncated dataset return lower accuracy overall, and were not used in the final modeling."
   ]
  }
 ],
 "metadata": {
  "anaconda-cloud": {},
  "kernelspec": {
   "display_name": "Python [default]",
   "language": "python",
   "name": "python2"
  },
  "language_info": {
   "codemirror_mode": {
    "name": "ipython",
    "version": 2
   },
   "file_extension": ".py",
   "mimetype": "text/x-python",
   "name": "python",
   "nbconvert_exporter": "python",
   "pygments_lexer": "ipython2",
   "version": "2.7.12"
  }
 },
 "nbformat": 4,
 "nbformat_minor": 1
}
