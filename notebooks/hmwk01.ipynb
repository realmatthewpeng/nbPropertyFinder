{
 "cells": [
  {
   "cell_type": "markdown",
   "metadata": {},
   "source": [
    "# Homework 1: Data Cleaning and Exploratory Data Analysis \n",
    "***\n",
    "\n",
    "**Name**: Sam Cuthbertson\n",
    "\n",
    "**Section**: 001\n",
    "***\n",
    "\n",
    "This assignment is due on Moodle by **5pm on Friday September 15th**. Your solutions to theoretical questions should be done in Markdown directly below the associated question.  Your solutions to computational questions should include any specified Python code and results as well as written commentary on your conclusions.  Remember that you are encouraged to discuss the problems with your classmates, but **you must write all code and solutions on your own**.   \n",
    "\n",
    "**NOTES**: \n",
    "\n",
    "- Unless a url is given for a data set, you will find the required data in the same directory as this assignment on GitHub.\n",
    "- If you're not familiar with typesetting math directly into Markdown then by all means, do your work on paper first and then typeset it later.  Remember that there is a [reference guide](https://math.meta.stackexchange.com/questions/5020/mathjax-basic-tutorial-and-quick-reference) linked on Piazza on writing math in Markdown. \n",
    "- It is **bad form** to make your reader interpret numerical output from your code.  If a question asks you to compute some value from the data you should show your code output **AND** write a summary of the results in Markdown directly below your code. \n",
    "\n"
   ]
  },
  {
   "cell_type": "code",
   "execution_count": null,
   "metadata": {
    "collapsed": true
   },
   "outputs": [],
   "source": [
    "import pandas as pd\n",
    "import numpy as np\n",
    "import matplotlib.pylab as plt\n",
    "%matplotlib inline"
   ]
  },
  {
   "cell_type": "markdown",
   "metadata": {},
   "source": [
    "### Problem 1 \n",
    "***\n",
    "\n",
    "An owner of a taxi company wants to estimate his fleet's average fuel economy over the next year in order to estimate the company's future fuel costs.  His fleet of taxis is made up of 100 Crown Victorias, 50 Toyota Priuses, and 50 Ford Escapes.  The owner randomly selects 12 vehicles from his vehicle registration rolls and tracks their fuel usage in miles per gallon over the next week.  So as to get a proper estimate, he intentionally selects 6 Crown Vics, 3 Priuses, and 3 Escapes to track. \n",
    "\n",
    "Identify the following: "
   ]
  },
  {
   "cell_type": "markdown",
   "metadata": {
    "collapsed": true
   },
   "source": [
    "- ** Population: The Fleet ** \n",
    "- ** Sample Frame: Vehicle Registration Rolls **\n",
    "- ** Sample: The 12 vehicles chosen ** \n",
    "- ** Sample Type: Simple Random **\n",
    "- ** QOI: Fuel Usage (mpg) **"
   ]
  },
  {
   "cell_type": "markdown",
   "metadata": {},
   "source": [
    "### Problem 2 \n",
    "***\n",
    "\n",
    "A method to investigate the sensitivity of the sample mean and the sample median to extreme outliers is to replace one or more elements in a given dataset by a number $y$ and investigate the eﬀect when $y$ goes to inﬁnity. To illustrate this, consider the dataset\n",
    "\n",
    "$$\n",
    "4.6 \\quad \n",
    "3.0 \\quad \n",
    "3.2 \\quad\n",
    "4.2 \\quad\n",
    "5.0\n",
    "$$\n",
    "\n",
    "with sample mean $4$ and sample median $4.2$. \n",
    "\n",
    "**Part A**: We replace the element $3.2$ by some real number $y$. What happens with the sample mean and the sample median of this new dataset as $y \\rightarrow \\infty$?\n"
   ]
  },
  {
   "cell_type": "markdown",
   "metadata": {
    "collapsed": true
   },
   "source": [
    "** The mean will approach infinity as well, as it depends on the value of all items in the set. The median will be y until y > 4.2, and then will remain at 4.2 as we aren't adding items to the set, merely modifying one of the values. **"
   ]
  },
  {
   "cell_type": "markdown",
   "metadata": {},
   "source": [
    "**Part B**: We replace a number of elements by some real number $y$. How many elements do we need to replace so that the sample median of the new dataset goes to infinity as $y \\rightarrow \\infty$?"
   ]
  },
  {
   "cell_type": "markdown",
   "metadata": {
    "collapsed": true
   },
   "source": [
    "** At least three, since we need the median to be y, and to do that we must replace at least n/2 elements. **"
   ]
  },
  {
   "cell_type": "markdown",
   "metadata": {},
   "source": [
    "**Part C**: Suppose we have another data set of size $n$. How many elements do we need to replace by some real number $y$, so that the sample mean of the new dataset goes to infinity as $y \\rightarrow \\infty$? And how many elements do we need to replace, so that the sample median of the new dataset goes to infinity? "
   ]
  },
  {
   "cell_type": "markdown",
   "metadata": {
    "collapsed": true
   },
   "source": [
    "**To make the sample mean approach infinity, we only need to replace one element. To make the sample median approach infinity, we need to replace (n/2) elements. In a set with an even number of elements, this will work through forcing the median to be y. In a set with an odd number of elements, the median will then be an average of two elements, where one element is y. That will make the median approach infinity in the same fashion that replacing one item in a set will make the mean approach infinity. **"
   ]
  },
  {
   "cell_type": "markdown",
   "metadata": {},
   "source": [
    "### Problem 3 \n",
    "***\n",
    "\n",
    "Let $x_1, x_2, \\ldots, x_n$ be $n$ observations of a variable of interest.  Recall that the sample mean $\\bar{x}_n$ and sample variance $s^2_n$ are given by \n",
    "\n",
    "$$\n",
    "\\bar{x}_n = \\frac{1}{n}\\sum_{k=1}^n x_k \\quad \\textrm{and} \\quad s^2_n = \\frac{1}{n-1}\\sum_{k=1}^n \\left( x_k - \\bar{x}_n\\right)^2\n",
    "$$\n",
    "\n",
    "where here the subscript $n$'s indicate the number of observations in the sample. Notice that a natural computation of the variance requires two passes over the data: one to compute the mean, and a second to subtract the mean from each observation and compute the sum of squares. It is often useful to be able to compute the variance in a single pass, inspecting each value $x_k$ only once; for example, when the data are being collected without enough storage to keep all the values, or when costs of memory access dominate those of computation. In this problem you will explore two methods for such an _online_ computation of the mean and variance.  \n",
    "\n",
    "**Part A**: Show algebraically that the following relation holds between the mean of the first $n-1$ observations and the mean of all $n$ observations: \n",
    "\n",
    "$$\n",
    "\\bar{x}_n = \\bar{x}_{n-1} + \\frac{x_n - \\bar{x}_{n-1}}{n}\n",
    "$$"
   ]
  },
  {
   "cell_type": "markdown",
   "metadata": {},
   "source": [
    "\\begin{align}\n",
    "\\frac{1}{n}\\sum_{k=1}^n x_k &= \\bar{x}_{n-1} + \\frac{x_n - \\bar{x}_{n-1}}{n} \\\\\n",
    "    &= \\frac{1}{n-1}\\sum_{k=1}^{n-1} x_k + \\frac{x_n - \\frac{1}{n-1}\\sum_{k=1}^{n-1} x_k }{n} \\\\\n",
    "    &= \\frac{1}{n-1}\\sum_{k=1}^{n-1} x_k + \\frac{x_n}{n} - \\frac{1}{n(n-1)} \\sum_{k=1}^{n-1} x_k \\\\\n",
    "    &= \\frac{(n-1)}{n(n-1)}\\sum_{k=1}^{n-1} x_k + \\frac{x_n}{n}\\\\\n",
    "    &= \\frac{1}{n}\\sum_{k=1}^n x_k\n",
    "\\end{align}"
   ]
  },
  {
   "cell_type": "markdown",
   "metadata": {},
   "source": [
    "**Part C**: It turns out that in some scenarios the variance calculation in **Part B** can suffer from numerical instability (that is, due to round-off errors and finite precision arithmetic, the algorithm can return garbage).  A better method is to update the sum of squares term incrementally and then divide by $n-1$ at the end.  Define the sum of squares with $n$ observations as $\n",
    "M_n = \\sum_{k=1}^n (x_k - \\bar{x}_n)^2$. We can then compute the sample variance as $s_n^2 = M_n/(n-1)$.\n",
    "\n",
    "Show algebraically that the following relation holds between the sum of squares with $n-1$ observations and the sum of squares with all $n$ observations: \n",
    "\n",
    "$$\n",
    "M_n = M_{n-1} + (x_n - \\bar{x}_{n-1})(x_n - \\bar{x}_n)\n",
    "$$"
   ]
  },
  {
   "cell_type": "markdown",
   "metadata": {
    "collapsed": true
   },
   "source": [
    "\\begin{align}\n",
    "\\sum_{k=1}^n (x_k - \\bar{x}_n)^2&= M_{n-1} + (x_n - \\bar{x}_{n-1})(x_n - \\bar{x}_n) \\\\\n",
    "    &= \\sum_{k=1}^{n-1}(x_{k}-\\bar x_{n-1})^2 + (x_n - \\bar{x}_{n-1})(x_n - \\bar{x}_n) \\\\\n",
    "    &= \\sum_{k=1}^{n}(x_{k}-\\bar x_{n-1})^2 - (x_{n}-\\bar x_{n-1})^2 + (x_n - \\bar{x}_{n-1})(x_n - \\bar{x}_n) \\\\\n",
    "    &= \\sum_{k=1}^{n}(x_{k}-\\bar x_{n})^2 - (x_{n}-\\bar x_{n-1})^2 - (x_{n}-\\bar x_{n})^2 + (x_n - \\bar{x}_{n-1})(x_n - \\bar{x}_n) \\\\\n",
    "    &= \\sum_{k=1}^{n}(x_{k}-\\bar x_{n})^2 \\\\\n",
    "\\end{align}"
   ]
  },
  {
   "cell_type": "markdown",
   "metadata": {},
   "source": [
    "**Informative But Not Required**: Write a Python function that implements the online variance computation in **Part C** and  requires only one pass over the data. "
   ]
  },
  {
   "cell_type": "markdown",
   "metadata": {},
   "source": [
    "### Problem 4\n",
    "*** \n",
    "Some claim that the final hours aboard the RMS Titanic were marked by class warfare; others claim it was characterized by male chivalry.  We have the data on survival rates by class and by sex, so let's figure out whether there is evidence for these scenarios. Access the titanic data in titanic_data.csv and store it in a Pandas DataFrame. The data contains information pertaining to class status (**Pclass**), survival of passengers (**Survived**), and gender (**Sex**), among others.  "
   ]
  },
  {
   "cell_type": "code",
   "execution_count": null,
   "metadata": {
    "collapsed": true
   },
   "outputs": [],
   "source": [
    "dfTiDirt = pd.read_csv('titanic_data.csv')"
   ]
  },
  {
   "cell_type": "markdown",
   "metadata": {},
   "source": [
    "**Part A**: Explain in words what patterns you might see in the data if there were male chivalry in the final hours aboard the Titanic?  What patterns might you see if there were class warfare in the final hours?"
   ]
  },
  {
   "cell_type": "markdown",
   "metadata": {
    "collapsed": true
   },
   "source": [
    "** If there was male chivalry, we should see much lower survival rates in males compared to the survival rates of females. **\n",
    "\n",
    "** If there was class warfare, we should see much higher survival rates in certain classes compared to other classes. **"
   ]
  },
  {
   "cell_type": "markdown",
   "metadata": {},
   "source": [
    "**Part B**: Create a clean data set by removing any rows from the DataFrame that are missing values corresponding to **Survived**, **Pclass**, **Age**, or **Sex**. Store the clean data in a DataFrame called dfTitanic. "
   ]
  },
  {
   "cell_type": "code",
   "execution_count": null,
   "metadata": {
    "collapsed": true
   },
   "outputs": [],
   "source": [
    "dfTitanic = dfTiDirt.dropna(subset=[\"Survived\", \"Pclass\", \"Age\", \"Sex\"]).copy()"
   ]
  },
  {
   "cell_type": "markdown",
   "metadata": {},
   "source": [
    "**Part C**: Determine the fraction of survivors from each passenger class. "
   ]
  },
  {
   "cell_type": "code",
   "execution_count": null,
   "metadata": {},
   "outputs": [],
   "source": [
    "firstClassRate = (dfTitanic.loc[(dfTiDirt[\"Survived\"] == 1) & (dfTitanic[\"Pclass\"] == 1), [\"Survived\"]].count() / dfTitanic.loc[dfTitanic[\"Pclass\"] == 1, [\"Survived\"]].count())\n",
    "secondClassRate = (dfTitanic.loc[(dfTiDirt[\"Survived\"] == 1) & (dfTitanic[\"Pclass\"] == 2), [\"Survived\"]].count() / dfTitanic.loc[dfTitanic[\"Pclass\"] == 2, [\"Survived\"]].count())\n",
    "thirdClassRate = (dfTitanic.loc[(dfTiDirt[\"Survived\"] == 1) & (dfTitanic[\"Pclass\"] == 3), [\"Survived\"]].count() / dfTitanic.loc[dfTitanic[\"Pclass\"] == 3, [\"Survived\"]].count())\n",
    "print(\"First Class Fraction: {0:.4f}\\nSecond Class Fraction: {1:.4f}\\nThird Class Fraction: {2:.4f}\".format(firstClassRate[\"Survived\"], secondClassRate[\"Survived\"], thirdClassRate[\"Survived\"]))"
   ]
  },
  {
   "cell_type": "markdown",
   "metadata": {
    "collapsed": true
   },
   "source": [
    "**Rather predictably, first class survived more than twice as often as third class and 20% more often than second class. This seems to show some form of class warfare. **"
   ]
  },
  {
   "cell_type": "markdown",
   "metadata": {},
   "source": [
    "**Part D**: Compute the fraction of survivors according to class and gender.  Did men in first class or women in third class have a higher survival rate? "
   ]
  },
  {
   "cell_type": "code",
   "execution_count": null,
   "metadata": {},
   "outputs": [],
   "source": [
    "firstClassMRate = (dfTitanic.loc[(dfTitanic[\"Survived\"] == 1) & (dfTitanic[\"Pclass\"] == 1) & (dfTitanic[\"Sex\"] == \"male\"), [\"Survived\"]].count() / dfTitanic.loc[(dfTitanic[\"Pclass\"] == 1) & (dfTitanic[\"Sex\"] == \"male\"), [\"Survived\"]].count())\n",
    "firstClassFRate = (dfTitanic.loc[(dfTitanic[\"Survived\"] == 1) & (dfTitanic[\"Pclass\"] == 1) & (dfTitanic[\"Sex\"] == \"female\"), [\"Survived\"]].count() / dfTitanic.loc[(dfTitanic[\"Pclass\"] == 1) & (dfTitanic[\"Sex\"] == \"female\"), [\"Survived\"]].count())\n",
    "secondClassMRate = (dfTitanic.loc[(dfTitanic[\"Survived\"] == 1) & (dfTitanic[\"Pclass\"] == 2) & (dfTitanic[\"Sex\"] == \"male\"), [\"Survived\"]].count() / dfTitanic.loc[(dfTitanic[\"Pclass\"] == 2) & (dfTitanic[\"Sex\"] == \"male\"), [\"Survived\"]].count())\n",
    "secondClassFRate = (dfTitanic.loc[(dfTitanic[\"Survived\"] == 1) & (dfTitanic[\"Pclass\"] == 2) & (dfTitanic[\"Sex\"] == \"female\"), [\"Survived\"]].count() / dfTitanic.loc[(dfTitanic[\"Pclass\"] == 2) & (dfTitanic[\"Sex\"] == \"female\"), [\"Survived\"]].count())\n",
    "thirdClassMRate = (dfTitanic.loc[(dfTitanic[\"Survived\"] == 1) & (dfTitanic[\"Pclass\"] == 3) & (dfTitanic[\"Sex\"] == \"male\"), [\"Survived\"]].count() / dfTitanic.loc[(dfTitanic[\"Pclass\"] == 3) & (dfTitanic[\"Sex\"] == \"male\"), [\"Survived\"]].count())\n",
    "thirdClassFRate = (dfTitanic.loc[(dfTitanic[\"Survived\"] == 1) & (dfTitanic[\"Pclass\"] == 3) & (dfTitanic[\"Sex\"] == \"female\"), [\"Survived\"]].count() / dfTitanic.loc[(dfTitanic[\"Pclass\"] == 3) & (dfTitanic[\"Sex\"] == \"female\"), [\"Survived\"]].count())\n",
    "print(\"First Class Male Fraction: {0:.4f} \\t First Class Female Fraction {1:.4f}\\nSecond Class Male Fraction: {2:.4f} \\t Second Class Female Fraction {3:.4f}\\nThird Class Male Fraction: {4:.4f} \\t Third Class Female Fraction {5:.4f}\".format(firstClassMRate[\"Survived\"], firstClassFRate[\"Survived\"], secondClassMRate[\"Survived\"], secondClassFRate[\"Survived\"], thirdClassMRate[\"Survived\"], thirdClassFRate[\"Survived\"]))"
   ]
  },
  {
   "cell_type": "markdown",
   "metadata": {
    "collapsed": true
   },
   "source": [
    "**As shown above, male survival rates are minisculely low compared to female survival rates. However, while you would almost definitely survive if you were a female in first class, if you were a female in third class you were only 13% better off than the average male in first class. **"
   ]
  },
  {
   "cell_type": "markdown",
   "metadata": {},
   "source": [
    "**Part E**: How would you characterize the distribution of **AGE**? (By _characterize_ we mean that you should indicate whether the data are unimodal, bimodal, multimodal, symmetric, negatively skewed, positively skewed, etc.)  Make any necessary graphical summaries to justify your conclusion. "
   ]
  },
  {
   "cell_type": "code",
   "execution_count": null,
   "metadata": {},
   "outputs": [],
   "source": [
    "fig, ax = plt.subplots(figsize=(8,4))\n",
    "dfTitanic.hist(column=\"Age\", ax=ax);\n",
    "print(dfTitanic[\"Age\"].describe())"
   ]
  },
  {
   "cell_type": "markdown",
   "metadata": {},
   "source": [
    "** The data is bimodal and positively skewed. There were few old (>60yrs) passengers, and more families brought children ages 1 through 8 than brought children 8 through 17. Finally, most passengers were ages 20 through 40. **"
   ]
  },
  {
   "cell_type": "markdown",
   "metadata": {},
   "source": [
    "**Part F**: Were the median and mean ages for females who survived higher or lower than for females who did not survive?  "
   ]
  },
  {
   "cell_type": "code",
   "execution_count": null,
   "metadata": {},
   "outputs": [],
   "source": [
    "dfTiFeSurvived = dfTitanic.loc[(dfTitanic[\"Sex\"] == \"female\") & (dfTitanic[\"Survived\"] == 1)]\n",
    "dfTiFeDied = dfTitanic.loc[(dfTitanic[\"Sex\"] == \"female\") & (dfTitanic[\"Survived\"] == 0)]\n",
    "print(\"Survived Female Mean Age: {0:2.2f}  Median Age: {1:2.2f}\\nDied Female Mean Age: {2:2.2f} \\t Median Age: {3:2.2f}\".format(dfTiFeSurvived[\"Age\"].mean(), dfTiFeSurvived[\"Age\"].median(), dfTiFeDied[\"Age\"].mean(), dfTiFeDied[\"Age\"].median()))"
   ]
  },
  {
   "cell_type": "markdown",
   "metadata": {
    "collapsed": true
   },
   "source": [
    "** Both the median and mean of females who survived is higher than those who died. **"
   ]
  },
  {
   "cell_type": "markdown",
   "metadata": {},
   "source": [
    "**Part G**: Do the data suggest class warfare, male chivalry, or some combination of both characteristics in the final hours aboard the Titanic?  Justify your conclusion based on the computations done above, or do any other analysis that you like, but be sure to clearly justify your conclusion. "
   ]
  },
  {
   "cell_type": "markdown",
   "metadata": {
    "collapsed": true
   },
   "source": [
    "**The data suggests some combination of class warfare and male chivalry, as shown excellently in the survival rates of males vs females across all classes. We see a strong correlation towards both females surviving, and people from a higher class surviving. **"
   ]
  },
  {
   "cell_type": "markdown",
   "metadata": {},
   "source": [
    "### Problem 5\n",
    "***\n",
    "Access the data from url https://www.stat.berkeley.edu/~statlabs/data/babies.data and store the information in a Pandas DataFrame.  A description of the variables can be found at https://www.stat.berkeley.edu/~statlabs/labs.html.  These data are a subset from a much larger study dealing with child health and development. \n"
   ]
  },
  {
   "cell_type": "code",
   "execution_count": null,
   "metadata": {
    "collapsed": true
   },
   "outputs": [],
   "source": [
    "dfBabyDirt = pd.read_csv('http://www.stat.berkeley.edu/~statlabs/data/babies.data', delim_whitespace=True)"
   ]
  },
  {
   "cell_type": "markdown",
   "metadata": {},
   "source": [
    "\n",
    "**Part A**: Create a clean data set that removes subjects if any observations on the subject are unknown.  Note that that collectors of the data set used values like $9$, $99$, $999$, to denote unknown values.  You can look at the documentation linked in the problem description to determine which unknown-value marker was used for each characteristic.  Store the modified data set in a Pandas DataFrame called dfBabies. "
   ]
  },
  {
   "cell_type": "code",
   "execution_count": null,
   "metadata": {
    "collapsed": true
   },
   "outputs": [],
   "source": [
    "dfBabies = dfBabyDirt[(dfBabyDirt[\"bwt\"] != 999) & (dfBabyDirt[\"gestation\"] != 999) & (dfBabyDirt[\"parity\"] != 9) & (dfBabyDirt[\"height\"] != 99) & (dfBabyDirt[\"weight\"] != 999) & (dfBabyDirt[\"smoke\"] != 9)]"
   ]
  },
  {
   "cell_type": "markdown",
   "metadata": {},
   "source": [
    "**Part B**: Use the information in dfBabies to create a density histogram of the birth weights of babies whose mothers have never smoked (smoke=0) and another histogram placed directly below the first in the same graphics device for the birth weights of babies whose mothers currently smoke (smoke=1).  Make the range of the horizontal axis $30$ to $180$ (ounces) for both histograms.  Make sure to give each subplot titles and label axes. "
   ]
  },
  {
   "cell_type": "code",
   "execution_count": null,
   "metadata": {},
   "outputs": [],
   "source": [
    "fig, axes = plt.subplots(nrows=2, ncols=1, figsize=(8,8))\n",
    "\n",
    "dfBabies.loc[dfBabies[\"smoke\"]==0].hist(column=\"weight\", ax=axes[0], facecolor=\"steelblue\", edgecolor=\"white\")                                                   \n",
    "axes[0].set_title(\"Baby Weight of Non-Smokers\", fontsize=20)\n",
    "axes[0].set_xlabel(\"Baby Weight (in ounces)\", fontsize=16)\n",
    "axes[0].set_ylabel(\"Frequency\", fontsize=16)\n",
    "axes[0].set_axisbelow(True)\n",
    "\n",
    "\n",
    "dfBabies.loc[dfBabies[\"smoke\"]==1].hist(column=\"weight\", ax=axes[1], facecolor=\"darkseagreen\", edgecolor=\"white\")\n",
    "axes[1].set_title(\"Baby Weight of Smokers\", fontsize=20)\n",
    "axes[1].set_xlabel(\"Baby Weight (in ounces)\", fontsize=16)\n",
    "axes[1].set_ylabel(\"Frequency\", fontsize=16)\n",
    "axes[1].set_axisbelow(True)\n",
    "\n",
    "# Set  axis limits to match\n",
    "axes[0].set_xlim([30,180])\n",
    "axes[1].set_xlim([30,180]);\n",
    "\n",
    "fig.subplots_adjust(hspace=.5)"
   ]
  },
  {
   "cell_type": "markdown",
   "metadata": {},
   "source": [
    "**Part C**: Based on the histograms in **Part B**, characterize the distribution of baby birth weights for both non-smoking and smoking mothers. "
   ]
  },
  {
   "cell_type": "markdown",
   "metadata": {
    "collapsed": true
   },
   "source": [
    "** Both distributions are unimodal and positively skewed. **"
   ]
  },
  {
   "cell_type": "markdown",
   "metadata": {},
   "source": [
    "**Part D**: What are the mean and median weight difference between babies of smokers and non-smokers?  Can you think of any reason not to use the mean as a measure of center to compare birth weights for this problem? "
   ]
  },
  {
   "cell_type": "code",
   "execution_count": null,
   "metadata": {},
   "outputs": [],
   "source": [
    "meanSmoke = dfBabies.loc[dfBabies[\"smoke\"]==1][\"weight\"].mean()\n",
    "medianSmoke = dfBabies.loc[dfBabies[\"smoke\"]==1][\"weight\"].median()\n",
    "meanNSmoke = dfBabies.loc[dfBabies[\"smoke\"]==0][\"weight\"].mean()\n",
    "medianNSmoke = dfBabies.loc[dfBabies[\"smoke\"]==0][\"weight\"].median()\n",
    "print(\"Mean Smoker: {0:2.2f} \\t Median Smoker: {1:2.2f}\\nMean Non-Smoker: {2:2.2f}  Median Non-Smoker: {3:2.2f}\".format(meanSmoke, medianSmoke, meanNSmoke, medianNSmoke))"
   ]
  },
  {
   "cell_type": "markdown",
   "metadata": {},
   "source": [
    "**Since weight is so heavily scewed, median would be a better measurment to use. Mean will be more heavily affected by the scew than median. **"
   ]
  },
  {
   "cell_type": "markdown",
   "metadata": {},
   "source": [
    "**Part E**: Create side-by-side box-and-whisker plots to compare the birth weights of babies whose mothers never smoked and those who currently smoke.  Use the box-and-whisker plot conventions discussed in lecture. "
   ]
  },
  {
   "cell_type": "code",
   "execution_count": null,
   "metadata": {},
   "outputs": [],
   "source": [
    "fig, ax = plt.subplots(figsize=(16,8))\n",
    "bp = dfBabies.boxplot(column=\"weight\", by=\"smoke\", ax=ax, return_type=\"dict\")\n",
    "\n",
    "for column in bp:\n",
    "    for box in column['boxes']:\n",
    "        box.set(color='steelblue', linewidth=2)\n",
    "    \n",
    "    for whisker in column['whiskers']:\n",
    "        whisker.set(color='gray', linewidth=2)\n",
    "\n",
    "    for cap in column['caps']:\n",
    "        cap.set(color='gray', linewidth=2)\n",
    "\n",
    "    for cap in column['medians']:\n",
    "        cap.set(color='green', linewidth=2, alpha=0.5)\n",
    "\n",
    "    for cap in column['fliers']:\n",
    "        cap.set(markerfacecolor='steelblue', linewidth=2, marker='s', markersize=6, alpha=0.5)\n",
    "\n",
    "ax.set_title('Weight of Smoker\\'s Babies vs Non-Smoker\\'s Babies', fontsize=18)\n",
    "ax.set_ylabel(\"Weight (in Ounces)\", fontsize=16)\n",
    "\n",
    "short_names = [\"Non-Smoker\", \"Smoker\"]\n",
    "plt.xticks(range(1,len(short_names)+1),short_names, rotation=90, fontsize=16)\n",
    "\n",
    "plt.suptitle(\"\")\n",
    "ax.set_xlabel(\"\")\n",
    "\n",
    "ax.grid(alpha=0.25);"
   ]
  },
  {
   "cell_type": "markdown",
   "metadata": {},
   "source": [
    "**Part F**: Using the box-and-whisker plots from **Part E** comment on the distributions of body weights of babies within each smoking / non-smoking groups as well as the comparison of the two classes. "
   ]
  },
  {
   "cell_type": "markdown",
   "metadata": {
    "collapsed": true
   },
   "source": [
    "**Looking at the box-and-whiskers plots, the most notable feature about the distributions is the strong screw to larger weights present in both distributions. The means are remarkably close, as is the size of the IQR, but the non-smoker's distribution is shifted slightly towards a heavier weight. Additionally, the non-smoker distribution has considerably more outliers which are found noticably farther away. **"
   ]
  },
  {
   "cell_type": "markdown",
   "metadata": {},
   "source": [
    "### Problem 6: Cleaning Election Results Data  \n",
    "***\n",
    "\n",
    "The file 2014\\_election\\_results.csv contains data from congressional district races during the 2014 midterm elections.  The problem is that the data is **extremely dirty**.  Your goal in the problem will be to use Pandas to clean the election result data and then, if possible, determine the names of the winners in each congressional district as well as the vote percentage margin that they won by.  Remember that data cleaning and wrangling is a messy business.  Don't be afraid to roll your sleeves up and get hacky!   \n",
    "\n",
    "**Part A**: Complete the clean_election_data( ) function to return a clean DataFrame that accomplishes the following: \n",
    "\n",
    "- remove rows in the DataFrame that are missing values in columns **STATE**, **D**, and/or **GENERAL PERCENT**\n",
    "\n",
    "<p> </p> \n",
    "\n",
    "- replace unknown names in **CANDIDATE NAME** with:  \n",
    "    - the value from **CANDIDATE NAME (Last)**, if available\n",
    "    - the string \"UNKNOWN\" if impossible to determine the full or last name \n",
    "    - **Note**: besides \"NaN\", data collectors appear to have used the string \"Scattered\" to indicate missing names as well\n",
    "<p> </p> \n",
    "- convert the strings in **GENERAL PERCENT** to values of type float between $0$ and $100$ \n",
    "<p> </p> \n",
    "- restrict the DataFrame to only the columns **STATE**, **D**, **CANDIDATE NAME**, **GENERAL PERCENT**"
   ]
  },
  {
   "cell_type": "code",
   "execution_count": null,
   "metadata": {
    "collapsed": true
   },
   "outputs": [],
   "source": [
    "def clean_election_data():\n",
    "    '''\n",
    "    Function to clean election data \n",
    "    '''\n",
    "    import math\n",
    "        \n",
    "    # read in dirty data \n",
    "    df = pd.read_csv(\"2014_election_results.csv\")\n",
    "    dfClean = df.dropna(subset=[\"STATE\", \"D\", \"GENERAL PERCENT\"]).copy()\n",
    "\n",
    "    for i in range(len(dfClean)):\n",
    "        row = dfClean.iloc[i]  \n",
    "        row[\"GENERAL PERCENT\"] = np.float(row[\"GENERAL PERCENT\"].strip(\"%\").replace(\",\", \".\"))\n",
    "        if(pd.isnull(row[\"CANDIDATE NAME\"]) or (row[\"CANDIDATE NAME\"] == 'Scattered')):\n",
    "            if(pd.isnull(row[\"CANDIDATE NAME (Last)\"]) or (row[\"CANDIDATE NAME (Last)\"] == 'Scattered')):\n",
    "                row[\"CANDIDATE NAME\"] = \"UNKNOWN\" \n",
    "            else:\n",
    "                row[\"CANDIDATE NAME\"] = row[\"CANDIDATE NAME (Last)\"]\n",
    "    \n",
    "    dfClean = dfClean[[\"STATE\", \"D\", \"CANDIDATE NAME\", \"GENERAL PERCENT\"]]\n",
    "    return dfClean"
   ]
  },
  {
   "cell_type": "markdown",
   "metadata": {},
   "source": [
    "**Part B**: Complete the function winners_and_margins( ) that takes in your clean DataFrame from **Part A** and returns a DataFrame with one row per state-district pair and with columns **STATE**, **D**, **WINNER**, and **MARGIN** where\n",
    "\n",
    "- **STATE** and **D** are as defined in the original DataFrame \n",
    "<p> </p> \n",
    "- **WINNER** is the name of the candidate that had the largest general vote percentage (which may possibly be \"UNKNOWN\")\n",
    "<p> </p> \n",
    "- **MARGIN** is the difference between the winning general vote percentage and the second highest vote percentage.  If there is only one candidate in a particular district you should list the general vote percentage obtained by the sole candidate. \n",
    "\n",
    "<p> </p> \n",
    "\n",
    "Finally, your DataFrame should be **sorted from most contentious races to least contentious** (i.e. from smallest winning margin to the largest). "
   ]
  },
  {
   "cell_type": "code",
   "execution_count": null,
   "metadata": {},
   "outputs": [],
   "source": [
    "def winners_and_margins(dfClean):\n",
    "    \n",
    "    dfNew = pd.DataFrame(columns = [\"STATE\", \"D\", \"WINNER\", \"MARGIN\", \"WINPER\"])\n",
    "    \n",
    "    for i in range(len(dfClean)):\n",
    "        row = dfClean.iloc[i]\n",
    "        district = dfNew.loc[(dfNew[\"STATE\"] == row[\"STATE\"]) & (dfNew[\"D\"] == row[\"D\"])]\n",
    "        \n",
    "        if(district.empty):\n",
    "            dfRow = row[[\"STATE\", \"D\"]]\n",
    "            dfRow[\"WINNER\"] = row[\"CANDIDATE NAME\"]\n",
    "            dfRow[\"MARGIN\"] = 100\n",
    "            dfRow[\"WINPER\"] = row[\"GENERAL PERCENT\"]\n",
    "            dfNew = dfNew.append(dfRow)\n",
    "        else:\n",
    "            (Margin, WinPer) = dfNew.loc[district.index[0], ['MARGIN', 'WINPER']]\n",
    "            if(WinPer < row[\"GENERAL PERCENT\"]):\n",
    "                dfNew.loc[district.index[0], 'WINPER'] = row[\"GENERAL PERCENT\"]\n",
    "            elif(Margin > WinPer - row[\"GENERAL PERCENT\"]):\n",
    "                dfNew.loc[district.index[0], 'MARGIN'] = WinPer - row[\"GENERAL PERCENT\"]\n",
    "    \n",
    "    dfNew = dfNew.sort_values(by='MARGIN')\n",
    "    dfNew.drop(['WINPER'], axis = 1, inplace = True)\n",
    "    \n",
    "    return dfNew\n",
    "\n",
    "winners_and_margins(clean_election_data())"
   ]
  },
  {
   "cell_type": "code",
   "execution_count": null,
   "metadata": {
    "collapsed": true
   },
   "outputs": [],
   "source": []
  }
 ],
 "metadata": {
  "kernelspec": {
   "display_name": "Python 3",
   "language": "python",
   "name": "python3"
  },
  "language_info": {
   "codemirror_mode": {
    "name": "ipython",
    "version": 3
   },
   "file_extension": ".py",
   "mimetype": "text/x-python",
   "name": "python",
   "nbconvert_exporter": "python",
   "pygments_lexer": "ipython3",
   "version": "3.6.1"
  }
 },
 "nbformat": 4,
 "nbformat_minor": 2
}
