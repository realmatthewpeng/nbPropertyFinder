{
 "cells": [
  {
   "cell_type": "code",
   "execution_count": null,
   "metadata": {},
   "outputs": [],
   "source": [
    "# Import packages relevant for all models\n",
    "import numpy as np\n",
    "import pandas as pd\n",
    "import matplotlib.pyplot as plt\n",
    "from sklearn.model_selection import train_test_split\n",
    "from sklearn.metrics import mean_absolute_error\n",
    "from sklearn.metrics import explained_variance_score\n",
    "from sklearn.model_selection import GridSearchCV\n",
    "from sklearn.pipeline import make_pipeline\n",
    "from sklearn.feature_selection import SelectPercentile\n",
    "from sklearn.preprocessing import MinMaxScaler\n",
    "from sklearn.neighbors import KNeighborsRegressor\n",
    "from sklearn.tree import DecisionTreeRegressor\n",
    "from sklearn.ensemble import AdaBoostRegressor\n",
    "\n",
    "# Load in modeling data from /data\n",
    "modeling_df = pd.read_csv('data/weather_with_avg_hourly_flight_delay.csv', index_col=False)"
   ]
  },
  {
   "cell_type": "code",
   "execution_count": null,
   "metadata": {},
   "outputs": [],
   "source": [
    "# split data into training and testing subsets\n",
    "train_features, test_features, train_outcome, test_outcome = train_test_split(\n",
    "    modeling_df.drop(['DATE', 'HourlySkyConditions', 'REPORT_TYPE', 'join_time', 'actual_weather_delay', 'avg_delay'], axis=1),\n",
    "    modeling_df.avg_delay,\n",
    "    test_size=0.20\n",
    ")\n",
    "\n",
    "# Explore sizes of resulting training and testing sets\n",
    "print('Training features shape: ' + str(train_features.shape))\n",
    "print('Testing features shape: ' + str(test_features.shape))\n",
    "print('Training outcomes shape: ' + str(train_outcome.shape))\n",
    "print('Testing outcomes shape: ' + str(test_outcome.shape))\n",
    "\n",
    "print(list(train_features))"
   ]
  },
  {
   "cell_type": "code",
   "execution_count": null,
   "metadata": {
    "scrolled": true
   },
   "outputs": [],
   "source": [
    "# construct pipeline\n",
    "pipe_knn = make_pipeline(\n",
    "    MinMaxScaler(), # used to normalize data onto a similar scale\n",
    "    SelectPercentile(), # used to filter out features that add noise\n",
    "    KNeighborsRegressor()\n",
    ")\n",
    "\n",
    "# create the parameter grid for hyperparameter tuning\n",
    "param_grid_knn = {\n",
    "    'selectpercentile__percentile':range(10, 30, 5), # what upper percentile of features to take\n",
    "    'kneighborsregressor__n_neighbors':range(1, 20), # the number of neighbors to take\n",
    "    'kneighborsregressor__weights':[\"uniform\", \"distance\"] # how to weight the connections between neighbors\n",
    "}\n",
    "\n",
    "# perform grid search of pipeline\n",
    "knn_grid = GridSearchCV(pipe_knn, param_grid_knn)\n",
    "\n",
    "# use results to create model on training data\n",
    "knn_grid.fit(train_features, train_outcome)\n",
    "\n",
    "# find the best parameters from the grid search\n",
    "knn_best_params = knn_grid.best_params_\n",
    "\n",
    "# find the score of our model on the test data\n",
    "knn_grid_score = knn_grid.score(test_features, test_outcome)\n",
    "\n",
    "# find the mean absolute error of our model on the test data\n",
    "knn_mae = mean_absolute_error(knn_grid.predict(test_features), test_outcome)\n",
    "\n",
    "# find the explained variance score of our model on the test data\n",
    "knn_evs = explained_variance_score(knn_grid.predict(test_features), test_outcome)"
   ]
  },
  {
   "cell_type": "code",
   "execution_count": null,
   "metadata": {},
   "outputs": [],
   "source": [
    "# construct pipeline\n",
    "pipe_dt = make_pipeline(\n",
    "    MinMaxScaler(), # used to normalize data onto a similar scale\n",
    "    SelectPercentile(), # used to filter out features that add noise\n",
    "    DecisionTreeRegressor()\n",
    ")\n",
    "\n",
    "# create the parameter grid for hyperparameter tuning\n",
    "param_grid_dt = {\n",
    "    'selectpercentile__percentile':range(5, 30, 5), # what upper percentile of features to take\n",
    "    'decisiontreeregressor__max_features':[\"auto\", \"sqrt\", \"log2\", None], # the number of features to conside when splitting\n",
    "    'decisiontreeregressor__max_depth':range(1, 10), # maximum depth of the decision tree\n",
    "    'decisiontreeregressor__min_samples_leaf':range(1, 4) # minimum number of samples required to be at a leaf node\n",
    "}\n",
    "\n",
    "# perform grid search of pipeline\n",
    "dt_grid = GridSearchCV(pipe_dt, param_grid_dt)\n",
    "\n",
    "# use results to create model on training data\n",
    "dt_grid.fit(train_features, train_outcome)\n",
    "\n",
    "# find the best parameters from the grid search\n",
    "dt_best_params = dt_grid.best_params_\n",
    "\n",
    "# find the score of our model on the test data\n",
    "dt_grid_score = dt_grid.score(test_features, test_outcome)\n",
    "\n",
    "# find the mean absolute error of our model on the test data\n",
    "dt_mae = mean_absolute_error(dt_grid.predict(test_features), test_outcome)\n",
    "\n",
    "# find the explained variance score of our model on the test data\n",
    "dt_evs = explained_variance_score(dt_grid.predict(test_features), test_outcome)"
   ]
  },
  {
   "cell_type": "code",
   "execution_count": null,
   "metadata": {},
   "outputs": [],
   "source": [
    "print('KNN R-squared: ' + str(knn_grid_score))\n",
    "print('Decision Tree R-squared: ' + str(dt_grid_score))\n",
    "print('KNN Mean Absolute Error: ' + str(knn_mae))\n",
    "print('Decision Tree Mean Absolute Error: ' + str(dt_mae))\n",
    "print('KNN Explained Variance Score: ' + str(knn_evs))\n",
    "print('Decision Explained Variance Score: ' + str(dt_evs))"
   ]
  },
  {
   "cell_type": "code",
   "execution_count": null,
   "metadata": {},
   "outputs": [],
   "source": [
    "print('Best KNN hyperparameters: ' + str(knn_best_params) + '\\n')\n",
    "print('Best Decision Tree hyperparameters: ' + str(dt_best_params) + '\\n')"
   ]
  },
  {
   "cell_type": "code",
   "execution_count": null,
   "metadata": {},
   "outputs": [],
   "source": [
    "import matplotlib.pyplot as plt\n",
    "\n",
    "plt.scatter(dt_grid.predict(test_features), test_outcome, alpha=0.5, label='DecisionTree')\n",
    "plt.scatter(knn_grid.predict(test_features), test_outcome, alpha=0.5, label='KNN')\n",
    "plt.plot(test_outcome, test_outcome, label='y=x', c='green', alpha=0.2)\n",
    "plt.legend()\n",
    "plt.ylabel('Actual Delay')\n",
    "plt.xlabel('Predicted Delay')\n",
    "plt.title('Predicted v.s. Actual Delay')\n",
    "plt.show()"
   ]
  },
  {
   "cell_type": "code",
   "execution_count": null,
   "metadata": {},
   "outputs": [],
   "source": []
  }
 ],
 "metadata": {
  "kernelspec": {
   "display_name": "Python 3",
   "language": "python",
   "name": "python3"
  },
  "language_info": {
   "codemirror_mode": {
    "name": "ipython",
    "version": 3
   },
   "file_extension": ".py",
   "mimetype": "text/x-python",
   "name": "python",
   "nbconvert_exporter": "python",
   "pygments_lexer": "ipython3",
   "version": "3.7.1"
  }
 },
 "nbformat": 4,
 "nbformat_minor": 2
}
