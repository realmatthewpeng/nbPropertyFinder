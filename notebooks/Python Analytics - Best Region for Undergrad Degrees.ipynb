{
 "cells": [
  {
   "cell_type": "code",
   "execution_count": null,
   "metadata": {},
   "outputs": [],
   "source": [
    "# import dependencies\n",
    "import json\n",
    "import pandas as pd\n",
    "import os\n",
    "import csv\n",
    "import numpy\n",
    "import requests\n",
    "import matplotlib.pyplot as plt\n",
    "from pprint import pprint\n",
    "\n",
    "#set up API URL\n",
    "api_key = \"a2rOTe8PfBiJBwTOSlRbteARqAEa0s6DsRyoSOOF\"\n",
    "url = 'https://api.data.gov/ed/collegescorecard/v1/schools.json?'\n",
    "\n",
    "search = 'school.degrees_awarded.predominant=3&_fields=id,school.name,latest.cost.tuition.in_state,latest.cost.tuition.out_of_state,school.region_id,latest.earnings.10_yrs_after_entry.median,latest.earnings.6_yrs_after_entry.median,latest.repayment.5_yr_repayment.completers_rate,latest.repayment.7_yr_repayment.completers_rate,latest.repayment.3_yr_repayment.completers_rate'\n",
    "\n",
    "search_url = url + search + '&api_key=' + api_key\n",
    "\n",
    "response = requests.get(search_url)\n",
    "response_json = response.json()\n"
   ]
  },
  {
   "cell_type": "code",
   "execution_count": null,
   "metadata": {},
   "outputs": [],
   "source": [
    "# # Store school id, name, regions, etc. in list\n",
    "\n",
    "# school_ids_list = []\n",
    "# schools_list = []\n",
    "# regions_list = []\n",
    "# school_ids_list = []\n",
    "# tuition_in_state_list = []\n",
    "# tuition_out_state_list = []\n",
    "# list_earnings_10_yrs_after_entry = []\n",
    "# list_earnings_6_yrs_after_entry = []\n",
    "\n",
    "# for page in range (0,105):\n",
    "#     search_url = f'{url}{search}&page={page}&api_key={api_key}'\n",
    "#     response = requests.get(search_url)\n",
    "#     response_json = response.json()\n",
    "       \n",
    "#     for num in range(0,20):\n",
    "#         school_id = response_json['results'][num]['id']\n",
    "#         school_ids_list.append(school_id)\n",
    "#         school_name = response_json['results'][num]['school.name']\n",
    "#         schools_list.append(school_name)  \n",
    "#         region_id = response_json['results'][num]['school.region_id']\n",
    "#         regions_list.append(region_id)              \n",
    "#         tuition_in = response_json['results'][num]['latest.cost.tuition.in_state']\n",
    "#         tuition_in_state_list.append(tuition_in)  \n",
    "#         tuition_out = response_json['results'][num]['latest.cost.tuition.out_of_state']\n",
    "#         tuition_out_state_list.append(tuition_out)\n",
    "#         earnings_10yrs_after = response_json['results'][num]['latest.earnings.10_yrs_after_entry.median']\n",
    "#         earnings_6yrs_after = response_json['results'][num]['latest.earnings.6_yrs_after_entry.median']\n",
    "#         list_earnings_10_yrs_after_entry.append(earnings_10yrs_after)\n",
    "#         list_earnings_6_yrs_after_entry.append(earnings_6yrs_after)\n",
    "\n",
    "# # set up school info in dataframe and export to CSV \n",
    "# schoolinfo_df = pd.DataFrame({\n",
    "#     \"school_id\": school_ids_list,\n",
    "#     \"school\": schools_list,\n",
    "#     \"region\": regions_list,\n",
    "#     \"tuition_in_state\": tuition_in_state_list,\n",
    "#     \"tuition_out_state\": tuition_out_state_list,\n",
    "#     \"earnings6years\": list_earnings_6_yrs_after_entry,\n",
    "#     \"earnings10years\": list_earnings_10_yrs_after_entry,\n",
    "# })\n",
    "\n",
    "# schoolinfo_df.to_csv(\"cost_earnings_stat_final.csv\", index=False, header=True)\n",
    "\n",
    "\n",
    "                \n",
    "            \n"
   ]
  },
  {
   "cell_type": "code",
   "execution_count": null,
   "metadata": {},
   "outputs": [],
   "source": [
    "region_stats = pd.read_csv('cost_earnings_stat_final.csv')\n",
    "region_stats.head()"
   ]
  },
  {
   "cell_type": "code",
   "execution_count": null,
   "metadata": {},
   "outputs": [],
   "source": [
    "#Size before data trimming\n",
    "\n",
    "region_stats.groupby(\"region\").size()\n"
   ]
  },
  {
   "cell_type": "code",
   "execution_count": null,
   "metadata": {
    "scrolled": true
   },
   "outputs": [],
   "source": [
    "#create summary table for all region aggregate \n",
    "grouped_region_stats = region_stats.groupby(['region']).mean()\n",
    "region_mean = grouped_region_stats.drop(columns=[\"school_id\"])\n",
    "region_mean['earnings_cost_ratio'] = region_mean['earnings6years']/region_mean['tuition_in_state']\n",
    "\n",
    "\n",
    "#drop region 0 and 9\n",
    "mean_df_clean = region_mean.drop([0,9])\n",
    "mean_df_clean"
   ]
  },
  {
   "cell_type": "markdown",
   "metadata": {},
   "source": [
    "# AVERAGE TUITION AND EARNINGS PER REGION PLOT"
   ]
  },
  {
   "cell_type": "code",
   "execution_count": null,
   "metadata": {},
   "outputs": [],
   "source": [
    "#average (region, tuition) & (region, earnings6years)\n",
    "y1 = mean_df_clean[\"tuition_in_state\"]\n",
    "y2 = mean_df_clean[\"earnings6years\"]\n",
    "\n",
    "x_axis = [x for x in range(1,9)]\n",
    "x_axis2 = [x+0.3 for x in range(1,9)]\n",
    "\n",
    "plt.bar(x_axis, y1, width = 0.3, label=\"Tuition\" )\n",
    "plt.bar(x_axis2, y2, width = 0.3, label=\"Earnings\")\n",
    "\n",
    "plt.title(\"Tuition and Earnings per Region\")\n",
    "plt.xlabel(\"Region\")\n",
    "plt.ylabel(\"Average Tuition & Earnings ($)\")\n",
    "plt.legend(title=[\"Legend\"])\n",
    "plt.legend(bbox_to_anchor=(1.05, 1), loc=2, borderaxespad=0.)\n",
    "#save fig\n",
    "#plt.savefig(\"Plots/Tuition&EarningsPerRegion.png\")"
   ]
  },
  {
   "cell_type": "markdown",
   "metadata": {},
   "source": [
    "# Earnings-cost ratio per region"
   ]
  },
  {
   "cell_type": "code",
   "execution_count": null,
   "metadata": {},
   "outputs": [],
   "source": [
    "x_axis = [x for x in range(1,9)]\n",
    "y_axis = mean_df_clean[\"earnings_cost_ratio\"]\n",
    "\n",
    "plt.plot(x_axis, y_axis, 'go--', linewidth=2, markersize=8, color='blue', label=\"Earning-Cost Ratio\")\n",
    "\n",
    "plt.title(\"Earnings/Cost ratio per region ($)\")\n",
    "plt.xlabel(\"Region\")\n",
    "plt.ylabel(\"Earnings/Cost Ratio\")\n",
    "plt.grid()\n",
    "plt.legend(title=[\"\"])\n",
    "plt.legend(bbox_to_anchor=(1.05, 1), loc=2, borderaxespad=0.)\n",
    "#save fig\n",
    "#plt.savefig(\"Plots/Earnings-CostRatioPerRegion.png\")"
   ]
  },
  {
   "cell_type": "code",
   "execution_count": null,
   "metadata": {},
   "outputs": [],
   "source": [
    "#list containing 'bins' for tuition\n",
    "quartile_bins = []\n",
    "\n",
    "#bin_names are given after tuition is binned i.e\n",
    "#the bin_names are up for change\n",
    "bins = [0,10000,18000,32000,100000]\n",
    "bin_names = [\"less_10k\",\"10k_18k\",\"18k_32k\", \"greater_32k\"]\n",
    "\n",
    "#list reference for obtaining min, median, and max tution\n",
    "tuition_list = region_stats['tuition_in_state']\n",
    "\n",
    "#obtain 25th percentile, then append to list\n",
    "twentyfive_Percentile = tuition_list.quantile(0.25)\n",
    "quartile_bins.append(twentyfive_Percentile)\n",
    "\n",
    "#obtain 50th percentile, then append to list\n",
    "fifty_Percentile = tuition_list.quantile(0.50)\n",
    "quartile_bins.append(fifty_Percentile)\n",
    "\n",
    "#obtain 75th percentile, then append to list\n",
    "seventyFive_Percentile = tuition_list.quantile(0.75)\n",
    "quartile_bins.append(seventyFive_Percentile)\n",
    "\n",
    "#obtain 100th percentile, then append to list\n",
    "ninetyNine_Percentile = tuition_list.quantile(1)\n",
    "quartile_bins.append(ninetyNine_Percentile)\n",
    "\n",
    "#print bins list\n",
    "quartile_bins"
   ]
  },
  {
   "cell_type": "code",
   "execution_count": null,
   "metadata": {},
   "outputs": [],
   "source": [
    "#add Tuition Cost Tier column to dataframe\n",
    "region_stats[\"tuition_cost_tier\"] = pd.cut(region_stats[\"tuition_in_state\"], bins, labels=bin_names)\n",
    "\n",
    "#store variables for ratio calculations\n",
    "cost = region_stats['tuition_in_state']\n",
    "earnings6 = region_stats['earnings6years']\n",
    "earnings10 = region_stats['earnings10years']\n",
    "\n",
    "#add columns for earnings/cost ratio, 6 - 10 year earnings growth ratio\n",
    "region_stats['earnings_cost_ratio'] = earnings6/cost\n",
    "region_stats['earnings_growth_y6_y10'] = earnings10/earnings6\n",
    "region_stats['weighted_growth_to_tuition'] = region_stats['earnings_cost_ratio'] * region_stats['earnings_growth_y6_y10']\n",
    "\n"
   ]
  },
  {
   "cell_type": "code",
   "execution_count": null,
   "metadata": {},
   "outputs": [],
   "source": [
    "#drop uneccesary columns for analysis\n",
    "clean_info = region_stats.drop(columns=['school_id', 'tuition_out_state'])\n"
   ]
  },
  {
   "cell_type": "code",
   "execution_count": null,
   "metadata": {},
   "outputs": [],
   "source": [
    "#organize seperate dataframes by cost tier for plotting + drop region 0 & 9 due to irrelevancy \n",
    "df0_10k = clean_info.loc[clean_info[\"tuition_cost_tier\"] == 'less_10k']\n",
    "df0_10k_edit0 = df0_10k[df0_10k.region != 0]\n",
    "df0_10k_edit9 = df0_10k_edit0[df0_10k_edit0.region != 9]\n",
    "\n",
    "df10_18k = clean_info.loc[clean_info[\"tuition_cost_tier\"] == '10k_18k']\n",
    "df10_18k_edit = df10_18k[df10_18k.region != 9]\n",
    "\n",
    "df18_32 = clean_info.loc[clean_info[\"tuition_cost_tier\"] == '18k_32k']\n",
    "\n",
    "df32 = clean_info.loc[clean_info[\"tuition_cost_tier\"] == 'greater_32k']"
   ]
  },
  {
   "cell_type": "code",
   "execution_count": null,
   "metadata": {},
   "outputs": [],
   "source": [
    "#aggregate mean value for plotting\n",
    "df0_10k_grouped = df0_10k_edit9.groupby(['region']).mean()\n",
    "\n",
    "df10_18k_grouped = df10_18k_edit.groupby(['region']).mean()\n",
    "\n",
    "df18_32_grouped = df18_32.groupby(['region']).mean()\n",
    "\n",
    "df32_grouped = df32.groupby(['region']).mean()\n"
   ]
  },
  {
   "cell_type": "code",
   "execution_count": null,
   "metadata": {},
   "outputs": [],
   "source": []
  },
  {
   "cell_type": "code",
   "execution_count": null,
   "metadata": {},
   "outputs": [],
   "source": [
    "#set up lists containing calculated rations for plotting \n",
    "earningscost10k = [earningscost for earningscost in df0_10k_grouped['earnings_cost_ratio']]\n",
    "earningsgrowth10k = [earnings for earnings in df0_10k_grouped['earnings_growth_y6_y10']]\n",
    "weighted_growth10k = [worthit for worthit in df0_10k_grouped['weighted_growth_to_tuition']]\n",
    "\n",
    "earningscost10k_18k = [earningscost for earningscost in df10_18k_grouped['earnings_cost_ratio']]\n",
    "earningsgrowth10k_18k = [earnings for earnings in df10_18k_grouped['earnings_growth_y6_y10']]\n",
    "weighted_growth10k_18k = [worthit for worthit in df10_18k_grouped['weighted_growth_to_tuition']]\n",
    "\n",
    "earningscost18k_32k = [earningscost for earningscost in df18_32_grouped['earnings_cost_ratio']]\n",
    "earningsgrowth18k_32k = [earnings for earnings in df18_32_grouped['earnings_growth_y6_y10']]\n",
    "weighted_growth18k_32k = [worthit for worthit in df18_32_grouped['weighted_growth_to_tuition']]\n",
    "\n",
    "earningscost32k = [earningscost for earningscost in df32_grouped['earnings_cost_ratio']]\n",
    "earningsgrowth32kk = [earnings for earnings in df32_grouped['earnings_growth_y6_y10']]\n",
    "weighted_growth32k = [worthit for worthit in df32_grouped['weighted_growth_to_tuition']]"
   ]
  },
  {
   "cell_type": "code",
   "execution_count": null,
   "metadata": {},
   "outputs": [],
   "source": [
    "#test group by region\n",
    "table10k = df0_10k_grouped.drop(['tuition_in_state','earnings6years',\n",
    "                                 'earnings10years','earnings_cost_ratio','earnings_growth_y6_y10'], axis = 1)\n",
    "\n",
    "table10k.rename(columns={'weighted_growth_to_tuition':'Worth-It Ratio'})"
   ]
  },
  {
   "cell_type": "markdown",
   "metadata": {},
   "source": [
    "# Tiered Earnings/Cost ratio"
   ]
  },
  {
   "cell_type": "code",
   "execution_count": null,
   "metadata": {},
   "outputs": [],
   "source": [
    "#bins = [0,10000,18000,32000,100000]\n",
    "#bin_names = [\"less_10k\",\"10k_18k\",\"18k_32k\", \"greater_32k\"]\n",
    "\n",
    "#(x,y) values for 4 tiers *note x value doesn't change only y does\n",
    "x_axis = [x for x in range(1,9)]\n",
    "y_axis1 = df0_10k_grouped[\"earnings_cost_ratio\"]\n",
    "y_axis2 = df10_18k_grouped[\"earnings_cost_ratio\"]\n",
    "y_axis3 = df18_32_grouped[\"earnings_cost_ratio\"]\n",
    "y_axis4 = df32_grouped[\"earnings_cost_ratio\"]\n",
    "\n",
    "#tiered \n",
    "lessThan10k = plt.plot(x_axis, y_axis1, 'go--', linewidth=2, markersize=8, color='blue', label='lessThan10k')\n",
    "TenKto18k = plt.plot(x_axis, y_axis2, 'go--', linewidth=2, markersize=8, color='green', label='10Kto18k')\n",
    "EighteenTo32k = plt.plot(x_axis, y_axis3, 'go--', linewidth=2, markersize=8, color='yellow', label='18kTo32k')\n",
    "greaterThan32k = plt.plot(x_axis, y_axis4, 'go--', linewidth=2, markersize=8, color='red', label=\">32k\")\n",
    "\n",
    "\n",
    "\n",
    "plt.title(\"Tiered Earnings-Cost ratio per region ($)\")\n",
    "plt.xlabel(\"Region\")\n",
    "plt.ylabel(\"Tiered Earnings-cost Ratio\")\n",
    "plt.grid()\n",
    "plt.legend(title=[\"Tiered Tuitions\"])\n",
    "plt.legend(bbox_to_anchor=(1.05, 1), loc=2, borderaxespad=0.)\n",
    "\n",
    "#save fig\n",
    "#plt.savefig(\"Plots/TieredEarningsCostRatio.png\")"
   ]
  },
  {
   "cell_type": "code",
   "execution_count": null,
   "metadata": {},
   "outputs": [],
   "source": [
    "# test list for earnings growth\n",
    "earningsgrowth10k\n",
    "y_axis1 \n"
   ]
  },
  {
   "cell_type": "code",
   "execution_count": null,
   "metadata": {},
   "outputs": [],
   "source": [
    "#test list for weighted growth\n",
    "weighted_growth10k"
   ]
  },
  {
   "cell_type": "markdown",
   "metadata": {},
   "source": [
    "# Earnings Growth\n"
   ]
  },
  {
   "cell_type": "code",
   "execution_count": null,
   "metadata": {},
   "outputs": [],
   "source": [
    "fig = plt.figure()\n",
    "fig.add_subplot()\n",
    "\n",
    "y1 = earningsgrowth10k\n",
    "y2 = earningsgrowth10k_18k\n",
    "y3 = earningsgrowth18k_32k\n",
    "y4 = earningsgrowth32kk\n",
    "\n",
    "x_axis = [x  for x in range(1,9)]\n",
    "x_axis2 = [x + 0.2 for x in range(1,9)]\n",
    "x_axis3 = [x + 0.4for x in range(1,9)]\n",
    "x_axis4 = [x + 0.6 for x in range(1,9)]\n",
    "\n",
    "plt.bar(x_axis, y1, width = 0.2, label='Growth for Tier:10k')\n",
    "plt.bar(x_axis2, y2, width = 0.2, label='Growth for Tier:10k-18k')\n",
    "plt.bar(x_axis3, y3, width = 0.2, label='Growth for Tier:18k-32k')\n",
    "plt.bar(x_axis4, y4, width = 0.2, label='Growth for Tier: 32k')\n",
    "\n",
    "plt.title(\"Earnings Growth years 6-10\")\n",
    "plt.xlabel(\"Region\")\n",
    "plt.ylabel(\"Earnings Growth\")\n",
    "plt.legend(title=[\"Earnings Growth years 6-10\"])\n",
    "plt.legend(bbox_to_anchor=(1.05, 1), loc=2, borderaxespad=0.)\n",
    "\n",
    "#save fig\n",
    "#plt.savefig(\"Plots/Worth_it.png\")"
   ]
  },
  {
   "cell_type": "markdown",
   "metadata": {},
   "source": [
    "# Worth it ratio"
   ]
  },
  {
   "cell_type": "code",
   "execution_count": null,
   "metadata": {},
   "outputs": [],
   "source": [
    "#test bar chart for growth mean 10k \n",
    "\n",
    "fig = plt.figure()\n",
    "fig.add_subplot()\n",
    "\n",
    "y1 = weighted_growth10k\n",
    "y2 = weighted_growth10k_18k\n",
    "y3 = weighted_growth18k_32k\n",
    "y4 = weighted_growth32k\n",
    "\n",
    "x_axis = [x  for x in range(1,9)]\n",
    "x_axis2 = [x + 0.2 for x in range(1,9)]\n",
    "x_axis3 = [x + 0.4for x in range(1,9)]\n",
    "x_axis4 = [x + 0.6 for x in range(1,9)]\n",
    "\n",
    "plt.bar(x_axis, y1, width = 0.2, label='Tier:10k')\n",
    "plt.bar(x_axis2, y2, width = 0.2, label='Growth for Tier:10k-18k')\n",
    "plt.bar(x_axis3, y3, width = 0.2, label='Growth for Tier:18k-32k')\n",
    "plt.bar(x_axis4, y4, width = 0.2, label='Growth for Tier: 32k')\n",
    "\n",
    "plt.title(\"Tiered 'Worth-it' ratios per Region\")\n",
    "plt.xlabel(\"Region\")\n",
    "plt.ylabel(\"Worth-It Ratio\")\n",
    "plt.legend(title=[\"\"])\n",
    "plt.legend(bbox_to_anchor=(1.05, 1), loc=2, borderaxespad=0.)\n",
    "\n",
    "#save fig\n",
    "#plt.savefig(\"Plots/Worth_it.png\")"
   ]
  },
  {
   "cell_type": "code",
   "execution_count": null,
   "metadata": {},
   "outputs": [],
   "source": []
  }
 ],
 "metadata": {
  "kernelspec": {
   "display_name": "Python 3",
   "language": "python",
   "name": "python3"
  },
  "language_info": {
   "codemirror_mode": {
    "name": "ipython",
    "version": 3
   },
   "file_extension": ".py",
   "mimetype": "text/x-python",
   "name": "python",
   "nbconvert_exporter": "python",
   "pygments_lexer": "ipython3",
   "version": "3.6.6"
  }
 },
 "nbformat": 4,
 "nbformat_minor": 2
}
