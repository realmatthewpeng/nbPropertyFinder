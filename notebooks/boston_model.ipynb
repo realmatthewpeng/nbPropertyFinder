{
 "cells": [
  {
   "cell_type": "code",
   "execution_count": 1,
   "metadata": {},
   "outputs": [],
   "source": [
    "# Import dependencies\n",
    "\n",
    "import matplotlib.pyplot as plt\n",
    "import numpy as np\n",
    "import pandas as pd\n",
    "import sys"
   ]
  },
  {
   "cell_type": "markdown",
   "metadata": {},
   "source": [
    "##### Regression Models \n",
    "\n",
    "**Variables/Columns**\n",
    "\n",
    "- `Age` - years\n",
    "- `5K etc. Duration` - seconds\n",
    "- `Temp` - Degrees Fahrenheit\n",
    "- `Height` - inches\n",
    "- `M/F` - Male or Female\n"
   ]
  },
  {
   "cell_type": "markdown",
   "metadata": {},
   "source": [
    "### Read the csv file into a pandas DataFrame"
   ]
  },
  {
   "cell_type": "code",
   "execution_count": 2,
   "metadata": {},
   "outputs": [
    {
     "data": {
      "text/plain": [
       "Index(['Year', 'Bib', 'Name', 'Age', 'M/F', 'City', 'State', 'Country',\n",
       "       'Citizen', 'Unnamed: 9', '5K', '10K', '15K', '20K', 'Half', '25K',\n",
       "       '30K', '35K', '40K', 'Pace', 'Proj Time', 'Official Time', 'Overall',\n",
       "       'Gender', 'Division', 'Temp (F)'],\n",
       "      dtype='object')"
      ]
     },
     "execution_count": 2,
     "metadata": {},
     "output_type": "execute_result"
    }
   ],
   "source": [
    "boston = pd.read_csv('marathon/Boston_Marathon_2015_to_2017.csv')\n",
    "#boston.head()\n",
    "#boston.shape\n",
    "boston.columns"
   ]
  },
  {
   "cell_type": "markdown",
   "metadata": {},
   "source": [
    "### Use Pandas get_dummies to convert categorical data"
   ]
  },
  {
   "cell_type": "code",
   "execution_count": 3,
   "metadata": {
    "nbgrader": {
     "grade": false,
     "grade_id": "cell-41760f7611f17b25",
     "locked": false,
     "schema_version": 1,
     "solution": true
    }
   },
   "outputs": [
    {
     "data": {
      "text/html": [
       "<div>\n",
       "<style scoped>\n",
       "    .dataframe tbody tr th:only-of-type {\n",
       "        vertical-align: middle;\n",
       "    }\n",
       "\n",
       "    .dataframe tbody tr th {\n",
       "        vertical-align: top;\n",
       "    }\n",
       "\n",
       "    .dataframe thead th {\n",
       "        text-align: right;\n",
       "    }\n",
       "</style>\n",
       "<table border=\"1\" class=\"dataframe\">\n",
       "  <thead>\n",
       "    <tr style=\"text-align: right;\">\n",
       "      <th></th>\n",
       "      <th>Year</th>\n",
       "      <th>Bib</th>\n",
       "      <th>Name</th>\n",
       "      <th>Age</th>\n",
       "      <th>M/F</th>\n",
       "      <th>City</th>\n",
       "      <th>State</th>\n",
       "      <th>Country</th>\n",
       "      <th>Citizen</th>\n",
       "      <th>Unnamed: 9</th>\n",
       "      <th>...</th>\n",
       "      <th>40K</th>\n",
       "      <th>Pace</th>\n",
       "      <th>Proj Time</th>\n",
       "      <th>Official Time</th>\n",
       "      <th>Overall</th>\n",
       "      <th>Gender</th>\n",
       "      <th>Division</th>\n",
       "      <th>Temp (F)</th>\n",
       "      <th>F</th>\n",
       "      <th>M</th>\n",
       "    </tr>\n",
       "  </thead>\n",
       "  <tbody>\n",
       "    <tr>\n",
       "      <th>0</th>\n",
       "      <td>2015</td>\n",
       "      <td>3</td>\n",
       "      <td>Desisa, Lelisa</td>\n",
       "      <td>25</td>\n",
       "      <td>M</td>\n",
       "      <td>Ambo</td>\n",
       "      <td>NaN</td>\n",
       "      <td>ETH</td>\n",
       "      <td>NaN</td>\n",
       "      <td>NaN</td>\n",
       "      <td>...</td>\n",
       "      <td>2:02:39</td>\n",
       "      <td>0:04:56</td>\n",
       "      <td>-</td>\n",
       "      <td>2:09:17</td>\n",
       "      <td>1</td>\n",
       "      <td>1</td>\n",
       "      <td>1</td>\n",
       "      <td>46</td>\n",
       "      <td>0</td>\n",
       "      <td>1</td>\n",
       "    </tr>\n",
       "    <tr>\n",
       "      <th>1</th>\n",
       "      <td>2015</td>\n",
       "      <td>4</td>\n",
       "      <td>Tsegay, Yemane Adhane</td>\n",
       "      <td>30</td>\n",
       "      <td>M</td>\n",
       "      <td>Addis Ababa</td>\n",
       "      <td>NaN</td>\n",
       "      <td>ETH</td>\n",
       "      <td>NaN</td>\n",
       "      <td>NaN</td>\n",
       "      <td>...</td>\n",
       "      <td>2:02:42</td>\n",
       "      <td>0:04:58</td>\n",
       "      <td>-</td>\n",
       "      <td>2:09:48</td>\n",
       "      <td>2</td>\n",
       "      <td>2</td>\n",
       "      <td>2</td>\n",
       "      <td>46</td>\n",
       "      <td>0</td>\n",
       "      <td>1</td>\n",
       "    </tr>\n",
       "    <tr>\n",
       "      <th>2</th>\n",
       "      <td>2015</td>\n",
       "      <td>8</td>\n",
       "      <td>Chebet, Wilson</td>\n",
       "      <td>29</td>\n",
       "      <td>M</td>\n",
       "      <td>Marakwet</td>\n",
       "      <td>NaN</td>\n",
       "      <td>KEN</td>\n",
       "      <td>NaN</td>\n",
       "      <td>NaN</td>\n",
       "      <td>...</td>\n",
       "      <td>2:03:01</td>\n",
       "      <td>0:04:59</td>\n",
       "      <td>-</td>\n",
       "      <td>2:10:22</td>\n",
       "      <td>3</td>\n",
       "      <td>3</td>\n",
       "      <td>3</td>\n",
       "      <td>46</td>\n",
       "      <td>0</td>\n",
       "      <td>1</td>\n",
       "    </tr>\n",
       "    <tr>\n",
       "      <th>3</th>\n",
       "      <td>2015</td>\n",
       "      <td>11</td>\n",
       "      <td>Kipyego, Bernard</td>\n",
       "      <td>28</td>\n",
       "      <td>M</td>\n",
       "      <td>Eldoret</td>\n",
       "      <td>NaN</td>\n",
       "      <td>KEN</td>\n",
       "      <td>NaN</td>\n",
       "      <td>NaN</td>\n",
       "      <td>...</td>\n",
       "      <td>2:03:47</td>\n",
       "      <td>0:05:00</td>\n",
       "      <td>-</td>\n",
       "      <td>2:10:47</td>\n",
       "      <td>4</td>\n",
       "      <td>4</td>\n",
       "      <td>4</td>\n",
       "      <td>46</td>\n",
       "      <td>0</td>\n",
       "      <td>1</td>\n",
       "    </tr>\n",
       "    <tr>\n",
       "      <th>4</th>\n",
       "      <td>2015</td>\n",
       "      <td>10</td>\n",
       "      <td>Korir, Wesley</td>\n",
       "      <td>32</td>\n",
       "      <td>M</td>\n",
       "      <td>Kitale</td>\n",
       "      <td>NaN</td>\n",
       "      <td>KEN</td>\n",
       "      <td>NaN</td>\n",
       "      <td>NaN</td>\n",
       "      <td>...</td>\n",
       "      <td>2:03:27</td>\n",
       "      <td>0:05:00</td>\n",
       "      <td>-</td>\n",
       "      <td>2:10:49</td>\n",
       "      <td>5</td>\n",
       "      <td>5</td>\n",
       "      <td>5</td>\n",
       "      <td>46</td>\n",
       "      <td>0</td>\n",
       "      <td>1</td>\n",
       "    </tr>\n",
       "  </tbody>\n",
       "</table>\n",
       "<p>5 rows × 28 columns</p>\n",
       "</div>"
      ],
      "text/plain": [
       "   Year  Bib                   Name  Age M/F         City State Country  \\\n",
       "0  2015    3         Desisa, Lelisa   25   M         Ambo   NaN     ETH   \n",
       "1  2015    4  Tsegay, Yemane Adhane   30   M  Addis Ababa   NaN     ETH   \n",
       "2  2015    8         Chebet, Wilson   29   M     Marakwet   NaN     KEN   \n",
       "3  2015   11       Kipyego, Bernard   28   M      Eldoret   NaN     KEN   \n",
       "4  2015   10          Korir, Wesley   32   M       Kitale   NaN     KEN   \n",
       "\n",
       "  Citizen Unnamed: 9 ...      40K     Pace Proj Time Official Time Overall  \\\n",
       "0     NaN        NaN ...  2:02:39  0:04:56         -       2:09:17       1   \n",
       "1     NaN        NaN ...  2:02:42  0:04:58         -       2:09:48       2   \n",
       "2     NaN        NaN ...  2:03:01  0:04:59         -       2:10:22       3   \n",
       "3     NaN        NaN ...  2:03:47  0:05:00         -       2:10:47       4   \n",
       "4     NaN        NaN ...  2:03:27  0:05:00         -       2:10:49       5   \n",
       "\n",
       "  Gender Division Temp (F)  F  M  \n",
       "0      1        1       46  0  1  \n",
       "1      2        2       46  0  1  \n",
       "2      3        3       46  0  1  \n",
       "3      4        4       46  0  1  \n",
       "4      5        5       46  0  1  \n",
       "\n",
       "[5 rows x 28 columns]"
      ]
     },
     "execution_count": 3,
     "metadata": {},
     "output_type": "execute_result"
    }
   ],
   "source": [
    "# convert male/female to 0/1s\n",
    "\n",
    "boston_mf=pd.get_dummies(boston['M/F'])\n",
    "\n",
    "# join the two dataframes\n",
    "\n",
    "boston_join=pd.concat([boston, boston_mf], axis=1) \n",
    "\n",
    "boston_join.head()\n",
    "# boston_join[['5K','10K','15K','20K','Half', '25K','30K']]"
   ]
  },
  {
   "cell_type": "code",
   "execution_count": 4,
   "metadata": {},
   "outputs": [
    {
     "data": {
      "text/plain": [
       "Index(['Year', 'Bib', 'Name', 'Age', 'M/F', 'City', 'State', 'Country',\n",
       "       'Citizen', 'Unnamed: 9', '5K', '10K', '15K', '20K', 'Half', '25K',\n",
       "       '30K', '35K', '40K', 'Pace', 'Proj Time', 'Official Time', 'Overall',\n",
       "       'Gender', 'Division', 'Temp (F)', 'F', 'M'],\n",
       "      dtype='object')"
      ]
     },
     "execution_count": 4,
     "metadata": {},
     "output_type": "execute_result"
    }
   ],
   "source": [
    "boston_join.columns"
   ]
  },
  {
   "cell_type": "code",
   "execution_count": 5,
   "metadata": {},
   "outputs": [
    {
     "data": {
      "text/plain": [
       "Index(['Bib', 'Age', '5K Duration', '10K Duration', '15K Duration',\n",
       "       '20K Duration', 'Half Duration', '25K Duration', '30K Duration',\n",
       "       '35K Duration', '40K Duration', 'Official Time Duration', 'Temp (F)',\n",
       "       'F', 'M'],\n",
       "      dtype='object')"
      ]
     },
     "execution_count": 5,
     "metadata": {},
     "output_type": "execute_result"
    }
   ],
   "source": [
    "# Convert HH:MM:SS to total seconds\n",
    "\n",
    "def time_convert(x):\n",
    "    if x == \"-\":\n",
    "        return None\n",
    "    else:\n",
    "        times = x.split(':')\n",
    "        return (3600*int(times[0])+60*int(times[1]))+int(times[2])\n",
    "\n",
    "\n",
    "boston_join['5K Duration'] = boston_join['5K'].apply(time_convert)\n",
    "boston_join['10K Duration'] = boston_join['10K'].apply(time_convert)\n",
    "boston_join['15K Duration'] = boston_join['15K'].apply(time_convert)\n",
    "boston_join['20K Duration'] = boston_join['20K'].apply(time_convert)\n",
    "boston_join['Half Duration'] = boston_join['Half'].apply(time_convert)\n",
    "boston_join['25K Duration'] = boston_join['25K'].apply(time_convert)\n",
    "boston_join['30K Duration'] = boston_join['30K'].apply(time_convert)\n",
    "boston_join['35K Duration'] = boston_join['35K'].apply(time_convert)\n",
    "boston_join['40K Duration'] = boston_join['40K'].apply(time_convert)\n",
    "boston_join['Official Time Duration'] = boston_join['Official Time'].apply(time_convert)\n",
    "\n",
    "# Drop rows with null values\n",
    "\n",
    "boston_join.dropna(inplace=True,subset=['Bib','Age','5K Duration','10K Duration','15K Duration','20K Duration', 'Half Duration', '25K Duration','30K Duration','35K Duration','40K Duration','Official Time Duration', 'Temp (F)'])\n",
    "\n",
    "boston_clean=boston_join[['Bib','Age','5K Duration','10K Duration','15K Duration','20K Duration', 'Half Duration', '25K Duration','30K Duration','35K Duration','40K Duration','Official Time Duration', 'Temp (F)', 'F', 'M']]\n",
    "\n",
    "# boston_clean[['Bib','5K Duration','10K Duration','15K Duration','20K Duration','Half Duration', '25K Duration','30K Duration','Official Time Duration']]\n",
    "\n",
    "boston_clean.columns"
   ]
  },
  {
   "cell_type": "markdown",
   "metadata": {},
   "source": [
    "### Assign X (data) and y (target)\n",
    "Make sure the data is in the appropriate shape"
   ]
  },
  {
   "cell_type": "code",
   "execution_count": 6,
   "metadata": {},
   "outputs": [
    {
     "name": "stdout",
     "output_type": "stream",
     "text": [
      "(79038, 6) (79038, 1)\n"
     ]
    }
   ],
   "source": [
    "### set up data for modeling\n",
    "X_5K = boston_clean[['Bib','Age','Official Time Duration', 'F', 'M', 'Temp (F)']]\n",
    "y_5K = boston_clean['5K Duration'].values.reshape(-1, 1)\n",
    "print(X_5K.shape, y_5K.shape)"
   ]
  },
  {
   "cell_type": "markdown",
   "metadata": {},
   "source": [
    "### Split the data into training and testing"
   ]
  },
  {
   "cell_type": "code",
   "execution_count": 7,
   "metadata": {
    "nbgrader": {
     "grade": false,
     "grade_id": "cell-62193e4c8caef9c5",
     "locked": false,
     "schema_version": 1,
     "solution": true
    }
   },
   "outputs": [
    {
     "data": {
      "text/html": [
       "<div>\n",
       "<style scoped>\n",
       "    .dataframe tbody tr th:only-of-type {\n",
       "        vertical-align: middle;\n",
       "    }\n",
       "\n",
       "    .dataframe tbody tr th {\n",
       "        vertical-align: top;\n",
       "    }\n",
       "\n",
       "    .dataframe thead th {\n",
       "        text-align: right;\n",
       "    }\n",
       "</style>\n",
       "<table border=\"1\" class=\"dataframe\">\n",
       "  <thead>\n",
       "    <tr style=\"text-align: right;\">\n",
       "      <th></th>\n",
       "      <th>Bib</th>\n",
       "      <th>Age</th>\n",
       "      <th>Official Time Duration</th>\n",
       "      <th>F</th>\n",
       "      <th>M</th>\n",
       "      <th>Temp (F)</th>\n",
       "    </tr>\n",
       "  </thead>\n",
       "  <tbody>\n",
       "    <tr>\n",
       "      <th>66445</th>\n",
       "      <td>30824</td>\n",
       "      <td>49</td>\n",
       "      <td>14006</td>\n",
       "      <td>0</td>\n",
       "      <td>1</td>\n",
       "      <td>73</td>\n",
       "    </tr>\n",
       "    <tr>\n",
       "      <th>56920</th>\n",
       "      <td>12298</td>\n",
       "      <td>26</td>\n",
       "      <td>11856</td>\n",
       "      <td>1</td>\n",
       "      <td>0</td>\n",
       "      <td>73</td>\n",
       "    </tr>\n",
       "    <tr>\n",
       "      <th>36463</th>\n",
       "      <td>20672</td>\n",
       "      <td>52</td>\n",
       "      <td>13093</td>\n",
       "      <td>1</td>\n",
       "      <td>0</td>\n",
       "      <td>61</td>\n",
       "    </tr>\n",
       "    <tr>\n",
       "      <th>57842</th>\n",
       "      <td>7090</td>\n",
       "      <td>51</td>\n",
       "      <td>12121</td>\n",
       "      <td>0</td>\n",
       "      <td>1</td>\n",
       "      <td>73</td>\n",
       "    </tr>\n",
       "    <tr>\n",
       "      <th>30644</th>\n",
       "      <td>4640</td>\n",
       "      <td>40</td>\n",
       "      <td>11853</td>\n",
       "      <td>0</td>\n",
       "      <td>1</td>\n",
       "      <td>61</td>\n",
       "    </tr>\n",
       "  </tbody>\n",
       "</table>\n",
       "</div>"
      ],
      "text/plain": [
       "         Bib  Age  Official Time Duration  F  M  Temp (F)\n",
       "66445  30824   49                   14006  0  1        73\n",
       "56920  12298   26                   11856  1  0        73\n",
       "36463  20672   52                   13093  1  0        61\n",
       "57842   7090   51                   12121  0  1        73\n",
       "30644   4640   40                   11853  0  1        61"
      ]
     },
     "execution_count": 7,
     "metadata": {},
     "output_type": "execute_result"
    }
   ],
   "source": [
    "from sklearn.model_selection import train_test_split\n",
    "\n",
    "X_train_5K, X_test_5K, y_train_5K, y_test_5K = train_test_split(X_5K, y_5K, random_state=29)\n",
    "\n",
    "X_train_5K.head()"
   ]
  },
  {
   "cell_type": "markdown",
   "metadata": {},
   "source": [
    "### Create a `StandardScaler` model and fit it to the training data"
   ]
  },
  {
   "cell_type": "code",
   "execution_count": 8,
   "metadata": {
    "nbgrader": {
     "grade": false,
     "grade_id": "cell-a885840c1f62d274",
     "locked": false,
     "schema_version": 1,
     "solution": true
    }
   },
   "outputs": [],
   "source": [
    "# from sklearn.preprocessing import StandardScaler\n",
    "\n",
    "\n",
    "# X_scaler = StandardScaler().fit(X_train)\n",
    "# y_scaler = StandardScaler().fit(y_train)\n",
    "\n",
    "### Transform the training and testing data using the your `StandardScaler` models created above\n",
    "\n",
    "# X_train_scaled = X_scaler.transform(X_train)\n",
    "# X_test_scaled = X_scaler.transform(X_test)\n",
    "# y_train_scaled = y_scaler.transform(y_train)\n",
    "# y_test_scaled = y_scaler.transform(y_test)"
   ]
  },
  {
   "cell_type": "markdown",
   "metadata": {},
   "source": [
    "### Create a LinearRegression model and fit it to the training data"
   ]
  },
  {
   "cell_type": "code",
   "execution_count": 9,
   "metadata": {
    "nbgrader": {
     "grade": false,
     "grade_id": "cell-4df70e615bb36ac1",
     "locked": false,
     "schema_version": 1,
     "solution": true
    }
   },
   "outputs": [
    {
     "data": {
      "text/plain": [
       "LinearRegression(copy_X=True, fit_intercept=True, n_jobs=1, normalize=False)"
      ]
     },
     "execution_count": 9,
     "metadata": {},
     "output_type": "execute_result"
    }
   ],
   "source": [
    "from sklearn.linear_model import LinearRegression\n",
    "model_5K = LinearRegression()\n",
    "model_5K.fit(X_train_5K, y_train_5K)"
   ]
  },
  {
   "cell_type": "markdown",
   "metadata": {},
   "source": [
    "### Make predictions using the test data"
   ]
  },
  {
   "cell_type": "code",
   "execution_count": 10,
   "metadata": {},
   "outputs": [],
   "source": [
    "predictions_5K = model_5K.predict(X_test_5K)"
   ]
  },
  {
   "cell_type": "code",
   "execution_count": 11,
   "metadata": {},
   "outputs": [
    {
     "name": "stdout",
     "output_type": "stream",
     "text": [
      "[[1594.27894476]\n",
      " [1656.65883747]\n",
      " [1859.40813675]\n",
      " ...\n",
      " [1440.48644662]\n",
      " [1678.51869071]\n",
      " [1547.44660759]]\n"
     ]
    }
   ],
   "source": [
    "# Predictions is an array of predicted values\n",
    "print(predictions_5K)"
   ]
  },
  {
   "cell_type": "code",
   "execution_count": 12,
   "metadata": {},
   "outputs": [
    {
     "data": {
      "text/plain": [
       "array([[2069.96957642]])"
      ]
     },
     "execution_count": 12,
     "metadata": {},
     "output_type": "execute_result"
    }
   ],
   "source": [
    "df2=pd.DataFrame({'Bib':[25000], 'Age':[42],'Official Time Duration':[22175], 'F':[0], 'M':[1],'Temp (F)':[65]})\n",
    "model_5K.predict(df2)"
   ]
  },
  {
   "cell_type": "markdown",
   "metadata": {},
   "source": [
    "### Plot the residual plot for the predictions on the scaled training and test data "
   ]
  },
  {
   "cell_type": "code",
   "execution_count": 13,
   "metadata": {
    "nbgrader": {
     "grade": false,
     "grade_id": "cell-ec6532d8dc790021",
     "locked": false,
     "schema_version": 1,
     "solution": true
    }
   },
   "outputs": [
    {
     "data": {
      "image/png": "[encoded data removed]",
      "text/plain": [
       "<Figure size 432x288 with 1 Axes>"
      ]
     },
     "metadata": {
      "needs_background": "light"
     },
     "output_type": "display_data"
    }
   ],
   "source": [
    "plt.scatter(model_5K.predict(X_train_5K), model_5K.predict(X_train_5K) - y_train_5K, c=\"blue\", label=\"Training Data\")\n",
    "plt.scatter(model_5K.predict(X_test_5K), model_5K.predict(X_test_5K) - y_test_5K, c=\"orange\", label=\"Testing Data\")\n",
    "plt.legend()\n",
    "plt.hlines(y=0, xmin=y_test_5K.min(), xmax=y_test_5K.max())\n",
    "plt.title(\"Residual Plot for 5K\")\n",
    "plt.savefig('model_5k.png')\n",
    "plt.show()\n"
   ]
  },
  {
   "cell_type": "markdown",
   "metadata": {},
   "source": [
    "### Calculate MSE and $R^2$ for the model"
   ]
  },
  {
   "cell_type": "code",
   "execution_count": 14,
   "metadata": {
    "nbgrader": {
     "grade": false,
     "grade_id": "cell-deb1d9b663c1883f",
     "locked": false,
     "schema_version": 1,
     "solution": true
    }
   },
   "outputs": [
    {
     "name": "stdout",
     "output_type": "stream",
     "text": [
      "MSE: 7302.074522731132, R2: 0.8684670365890306\n"
     ]
    }
   ],
   "source": [
    "# Used X_test_5K, y_test_5K, and model.predict(X_test_5K) to calculate MSE and R2\n",
    "\n",
    "from sklearn.metrics import mean_squared_error\n",
    "\n",
    "MSE = mean_squared_error(y_test_5K, predictions_5K)\n",
    "r2 = model_5K.score(X_test_5K, y_test_5K)\n",
    "\n",
    "\n",
    "print(f\"MSE: {MSE}, R2: {r2}\")\n",
    "\n",
    "# create lists of MSE and r2 values for each model\n",
    "boston_r2=[]\n",
    "boston_mse=[]\n",
    "boston_models = []\n",
    "\n",
    "boston_models.append('5K')\n",
    "boston_mse.append(MSE)\n",
    "boston_r2.append(r2)\n",
    "\n"
   ]
  },
  {
   "cell_type": "code",
   "execution_count": 15,
   "metadata": {},
   "outputs": [
    {
     "data": {
      "text/plain": [
       "['model_5K.pkl']"
      ]
     },
     "execution_count": 15,
     "metadata": {},
     "output_type": "execute_result"
    }
   ],
   "source": [
    "# Save the model as a pickle file\n",
    "\n",
    "import pickle\n",
    "from sklearn.externals import joblib\n",
    "\n",
    "joblib.dump(model_5K, 'model_5K.pkl')"
   ]
  },
  {
   "cell_type": "code",
   "execution_count": 16,
   "metadata": {},
   "outputs": [],
   "source": [
    "# # To save the model without the training data, in order to make predictions without re-training the model\n",
    "# # Source: https://www.geeksforgeeks.org/saving-a-machine-learning-model/\n",
    "\n",
    "# import pickle\n",
    "# from sklearn.externals import joblib \n",
    "  \n",
    "# # Save the model as a pickle in a file \n",
    "# joblib.dump(model_5K, 'model_5K.pkl')\n",
    "  \n",
    "# # Load the model from the file \n",
    "# model_5K_from_joblib = joblib.load('model_5K.pkl')  \n",
    "  \n",
    "# # Use the loaded model to make predictions \n",
    "# model_5K_from_joblib.predict(X_test_5K) "
   ]
  },
  {
   "cell_type": "markdown",
   "metadata": {},
   "source": [
    "### LASSO model\n",
    "\n",
    "performs feature selection by reducing small coefficient values to absolute zero"
   ]
  },
  {
   "cell_type": "code",
   "execution_count": 17,
   "metadata": {
    "nbgrader": {
     "grade": false,
     "grade_id": "cell-1dbfa38f409ceb7c",
     "locked": false,
     "schema_version": 1,
     "solution": true
    }
   },
   "outputs": [
    {
     "name": "stdout",
     "output_type": "stream",
     "text": [
      "MSE: 7302.074522731132, R2: 0.8684679246721407\n"
     ]
    }
   ],
   "source": [
    "# Note: Use an alpha of .01 when creating the model for this activity\n",
    "from sklearn.linear_model import Lasso\n",
    "\n",
    "lasso = Lasso(alpha=.01).fit(X_train_5K, y_train_5K)\n",
    "\n",
    "predictions = lasso.predict(X_test_5K)\n",
    "\n",
    "MSE = mean_squared_error(y_test_5K, predictions_5K)\n",
    "r2 = lasso.score(X_test_5K, y_test_5K)\n",
    "\n",
    "print(f\"MSE: {MSE}, R2: {r2}\")"
   ]
  },
  {
   "cell_type": "markdown",
   "metadata": {},
   "source": [
    "### Ridge model\n",
    "\n",
    "reduces multicollinearity\n",
    "create plot to show differences in coefficient values\n",
    "use code from here: https://www.analyticsvidhya.com/blog/2017/06/a-comprehensive-guide-for-linear-ridge-and-lasso-regression/"
   ]
  },
  {
   "cell_type": "code",
   "execution_count": 18,
   "metadata": {
    "nbgrader": {
     "grade": false,
     "grade_id": "cell-d7adb5db2fc7b236",
     "locked": false,
     "schema_version": 1,
     "solution": true
    }
   },
   "outputs": [
    {
     "name": "stdout",
     "output_type": "stream",
     "text": [
      "MSE: 7302.025220648334, R2: 0.8684670366340624\n"
     ]
    }
   ],
   "source": [
    "# Note: Use an alpha of .01 when creating the model for this activity\n",
    "from sklearn.linear_model import Ridge\n",
    "\n",
    "ridge_5K = Ridge(alpha=.01).fit(X_train_5K, y_train_5K)\n",
    "\n",
    "predictions_5K = ridge_5K.predict(X_test_5K)\n",
    "\n",
    "MSE = mean_squared_error(y_test_5K, predictions)\n",
    "r2 = ridge_5K.score(X_test_5K, y_test_5K)\n",
    "\n",
    "print(f\"MSE: {MSE}, R2: {r2}\")"
   ]
  },
  {
   "cell_type": "markdown",
   "metadata": {},
   "source": [
    "### ElasticNet model"
   ]
  },
  {
   "cell_type": "code",
   "execution_count": 19,
   "metadata": {
    "nbgrader": {
     "grade": false,
     "grade_id": "cell-5b0241abbdaa88e9",
     "locked": false,
     "schema_version": 1,
     "solution": true
    }
   },
   "outputs": [
    {
     "name": "stdout",
     "output_type": "stream",
     "text": [
      "MSE: 7302.025220648334, R2: 0.8684687609607744\n"
     ]
    }
   ],
   "source": [
    "# Note: Use an alpha of .01 when creating the model for this activity\n",
    "from sklearn.linear_model import ElasticNet\n",
    "\n",
    "elasticnet_5K = ElasticNet(alpha=.01).fit(X_train_5K, y_train_5K)\n",
    "\n",
    "predictions_5K = elasticnet_5K.predict(X_test_5K)\n",
    "\n",
    "MSE = mean_squared_error(y_test_5K, predictions)\n",
    "r2 = elasticnet_5K.score(X_test_5K, y_test_5K)\n",
    "\n",
    "\n",
    "print(f\"MSE: {MSE}, R2: {r2}\")"
   ]
  },
  {
   "cell_type": "code",
   "execution_count": 20,
   "metadata": {},
   "outputs": [
    {
     "name": "stdout",
     "output_type": "stream",
     "text": [
      "(79038, 5) (79038, 1)\n"
     ]
    },
    {
     "data": {
      "image/png": "[encoded data removed]",
      "text/plain": [
       "<Figure size 432x288 with 1 Axes>"
      ]
     },
     "metadata": {
      "needs_background": "light"
     },
     "output_type": "display_data"
    }
   ],
   "source": [
    "# Re-run the model without the Bib numbers as a feature to test if Bib numbers are helpful\n",
    "\n",
    "### set up data for modeling\n",
    "X_nobib = boston_clean[['Age','Official Time Duration', 'F', 'M', 'Temp (F)']]\n",
    "y_nobib = boston_clean['5K Duration'].values.reshape(-1, 1)\n",
    "print(X_nobib.shape, y_nobib.shape)\n",
    "\n",
    "# split the data into test and train subsets\n",
    "\n",
    "from sklearn.model_selection import train_test_split\n",
    "\n",
    "X_train_nobib, X_test_nobib, y_train_nobib, y_test_nobib = train_test_split(X_nobib, y_nobib, random_state=29)\n",
    "# X_train_nobib.head()\n",
    "\n",
    "# Create a linear regression model and fit it to the training data\n",
    "\n",
    "from sklearn.linear_model import LinearRegression\n",
    "model_nobib = LinearRegression()\n",
    "model_nobib.fit(X_train_nobib, y_train_nobib)\n",
    "\n",
    "# Make predictions\n",
    "\n",
    "predictions_nobib = model_nobib.predict(X_test_nobib)\n",
    "\n",
    "# Plot the residuals\n",
    "\n",
    "plt.scatter(model_nobib.predict(X_train_nobib), model_nobib.predict(X_train_nobib) - y_train_nobib, c=\"blue\", label=\"Training Data\")\n",
    "plt.scatter(model_nobib.predict(X_test_nobib), model_nobib.predict(X_test_nobib) - y_test_nobib, c=\"orange\", label=\"Testing Data\")\n",
    "plt.legend()\n",
    "plt.hlines(y=0, xmin=y_test_nobib.min(), xmax=y_test_nobib.max())\n",
    "plt.title(\"Residual Plot No Bib Model\")\n",
    "plt.savefig('model_nonbib.png')\n",
    "plt.show()"
   ]
  },
  {
   "cell_type": "code",
   "execution_count": 21,
   "metadata": {},
   "outputs": [
    {
     "name": "stdout",
     "output_type": "stream",
     "text": [
      "MSE: 7302.025220648334, R2: 0.805284760701195\n"
     ]
    }
   ],
   "source": [
    "# Used X_test, y_test, and model.predict(X_test) to calculate MSE and R2\n",
    "\n",
    "from sklearn.metrics import mean_squared_error\n",
    "\n",
    "MSE = mean_squared_error(y_test_nobib, predictions)\n",
    "r2 = model_nobib.score(X_test_nobib, y_test_nobib)\n",
    "\n",
    "\n",
    "print(f\"MSE: {MSE}, R2: {r2}\")\n",
    "\n",
    "# Model built without Bib numbers has a smaller R2 value, so Bib numbers was helping model predictions\n",
    "\n",
    "# create lists of MSE and r2 values for each model\n",
    "\n",
    "# boston_models.append('nobib')\n",
    "# boston_mse.append(MSE)\n",
    "# boston_r2.append(r2)\n"
   ]
  },
  {
   "cell_type": "code",
   "execution_count": 22,
   "metadata": {},
   "outputs": [
    {
     "name": "stdout",
     "output_type": "stream",
     "text": [
      "(79038, 7) (79038, 1)\n"
     ]
    },
    {
     "data": {
      "image/png": "[encoded data removed]",
      "text/plain": [
       "<Figure size 432x288 with 1 Axes>"
      ]
     },
     "metadata": {
      "needs_background": "light"
     },
     "output_type": "display_data"
    }
   ],
   "source": [
    "# Re-run the model with the Bib numbers as a feature and for the 5K split times to predict 10K time\n",
    "\n",
    "### set up data for modeling\n",
    "X_10K = boston_clean[['Bib', 'Age','Official Time Duration', 'F', 'M', 'Temp (F)', '5K Duration']]\n",
    "y_10K = boston_clean['10K Duration'].values.reshape(-1, 1)\n",
    "print(X_10K.shape, y_10K.shape)\n",
    "\n",
    "# split the data into test and train subsets\n",
    "\n",
    "from sklearn.model_selection import train_test_split\n",
    "\n",
    "X_train_10K, X_test_10K, y_train_10K, y_test_10K = train_test_split(X_10K, y_10K, random_state=29)\n",
    "# X_train_5K.head()\n",
    "\n",
    "# Create a linear regression model and fit it to the training data\n",
    "\n",
    "from sklearn.linear_model import LinearRegression\n",
    "model_10K = LinearRegression()\n",
    "model_10K.fit(X_train_10K, y_train_10K)\n",
    "\n",
    "# Make predictions\n",
    "\n",
    "predictions_10K = model_10K.predict(X_test_10K)\n",
    "\n",
    "# Plot the residuals\n",
    "\n",
    "plt.scatter(model_10K.predict(X_train_10K), model_10K.predict(X_train_10K) - y_train_10K, c=\"blue\", label=\"Training Data\")\n",
    "plt.scatter(model_10K.predict(X_test_10K), model_10K.predict(X_test_10K) - y_test_10K, c=\"orange\", label=\"Testing Data\")\n",
    "plt.legend()\n",
    "plt.hlines(y=0, xmin=y_test_10K.min(), xmax=y_test_10K.max())\n",
    "plt.title(\"Residual Plot 10K\")\n",
    "plt.savefig('model_10k.png')\n",
    "plt.show()\n"
   ]
  },
  {
   "cell_type": "code",
   "execution_count": 23,
   "metadata": {},
   "outputs": [
    {
     "data": {
      "text/plain": [
       "array([[3056.10076138],\n",
       "       [3592.10492139],\n",
       "       [3803.95565389],\n",
       "       ...,\n",
       "       [2853.06198174],\n",
       "       [3368.00961459],\n",
       "       [3134.12713497]])"
      ]
     },
     "execution_count": 23,
     "metadata": {},
     "output_type": "execute_result"
    }
   ],
   "source": [
    "predictions_10K"
   ]
  },
  {
   "cell_type": "code",
   "execution_count": 24,
   "metadata": {},
   "outputs": [
    {
     "name": "stdout",
     "output_type": "stream",
     "text": [
      "MSE: 2994.148451799666, R2: 0.9866864130443542\n"
     ]
    }
   ],
   "source": [
    "# Used X_test, y_test, and model.predict(X_test) to calculate MSE and R2\n",
    "\n",
    "from sklearn.metrics import mean_squared_error\n",
    "\n",
    "MSE = mean_squared_error(y_test_10K, predictions_10K)\n",
    "r2 = model_10K.score(X_test_10K, y_test_10K)\n",
    "\n",
    "\n",
    "print(f\"MSE: {MSE}, R2: {r2}\")\n",
    "\n",
    "# create lists of MSE and r2 values for each model\n",
    "\n",
    "boston_models.append('10K')\n",
    "boston_mse.append(MSE)\n",
    "boston_r2.append(r2)\n"
   ]
  },
  {
   "cell_type": "code",
   "execution_count": 25,
   "metadata": {},
   "outputs": [
    {
     "data": {
      "text/plain": [
       "['model_10K.pkl']"
      ]
     },
     "execution_count": 25,
     "metadata": {},
     "output_type": "execute_result"
    }
   ],
   "source": [
    "# Save the model as pickle file\n",
    "\n",
    "import pickle\n",
    "from sklearn.externals import joblib\n",
    "\n",
    "joblib.dump(model_10K, 'model_10K.pkl')"
   ]
  },
  {
   "cell_type": "code",
   "execution_count": 26,
   "metadata": {},
   "outputs": [
    {
     "name": "stdout",
     "output_type": "stream",
     "text": [
      "(79038, 8) (79038, 1)\n"
     ]
    },
    {
     "data": {
      "image/png": "[encoded data removed]",
      "text/plain": [
       "<Figure size 432x288 with 1 Axes>"
      ]
     },
     "metadata": {
      "needs_background": "light"
     },
     "output_type": "display_data"
    }
   ],
   "source": [
    "# Re-run the model with the Bib numbers as a feature and for the 5K and 10K split times to predict 15K time\n",
    "\n",
    "### set up data for modeling\n",
    "X_15K = boston_clean[['Bib', 'Age','Official Time Duration', 'F', 'M', 'Temp (F)', '5K Duration', '10K Duration']]\n",
    "y_15K = boston_clean['15K Duration'].values.reshape(-1, 1)\n",
    "print(X_15K.shape, y_15K.shape)\n",
    "\n",
    "# split the data into test and train subsets\n",
    "\n",
    "from sklearn.model_selection import train_test_split\n",
    "\n",
    "X_train_15K, X_test_15K, y_train_15K, y_test_15K = train_test_split(X_15K, y_15K, random_state=29)\n",
    "# X_train_15K.head()\n",
    "\n",
    "# Create a linear regression model and fit it to the training data\n",
    "\n",
    "from sklearn.linear_model import LinearRegression\n",
    "model_15K = LinearRegression()\n",
    "model_15K.fit(X_train_15K, y_train_15K)\n",
    "\n",
    "# Make predictions\n",
    "\n",
    "predictions_15K = model_15K.predict(X_test_15K)\n",
    "\n",
    "# Plot the residuals\n",
    "\n",
    "plt.scatter(model_15K.predict(X_train_15K), model_15K.predict(X_train_15K) - y_train_15K, c=\"blue\", label=\"Training Data\")\n",
    "plt.scatter(model_15K.predict(X_test_15K), model_15K.predict(X_test_15K) - y_test_15K, c=\"orange\", label=\"Testing Data\")\n",
    "plt.legend()\n",
    "plt.hlines(y=0, xmin=y_test_15K.min(), xmax=y_test_15K.max())\n",
    "plt.title(\"Residual Plot 15K\")\n",
    "plt.savefig('model_15k.png')\n",
    "plt.show()\n"
   ]
  },
  {
   "cell_type": "code",
   "execution_count": 27,
   "metadata": {},
   "outputs": [
    {
     "name": "stdout",
     "output_type": "stream",
     "text": [
      "MSE: 2828.968308130163, R2: 0.9946497344654838\n"
     ]
    }
   ],
   "source": [
    "# Used X_test, y_test, and model.predict(X_test) to calculate MSE and R2\n",
    "\n",
    "from sklearn.metrics import mean_squared_error\n",
    "\n",
    "MSE = mean_squared_error(y_test_15K, predictions_15K)\n",
    "r2 = model_15K.score(X_test_15K, y_test_15K)\n",
    "\n",
    "\n",
    "print(f\"MSE: {MSE}, R2: {r2}\")\n",
    "\n",
    "# create lists of MSE and r2 values for each model\n",
    "\n",
    "boston_models.append('15K')\n",
    "boston_mse.append(MSE)\n",
    "boston_r2.append(r2)\n"
   ]
  },
  {
   "cell_type": "code",
   "execution_count": 28,
   "metadata": {},
   "outputs": [
    {
     "data": {
      "text/plain": [
       "['model_15K.pkl']"
      ]
     },
     "execution_count": 28,
     "metadata": {},
     "output_type": "execute_result"
    }
   ],
   "source": [
    "# Save the model as pickle file\n",
    "\n",
    "import pickle\n",
    "from sklearn.externals import joblib\n",
    "\n",
    "joblib.dump(model_15K, 'model_15K.pkl')"
   ]
  },
  {
   "cell_type": "code",
   "execution_count": 29,
   "metadata": {},
   "outputs": [
    {
     "name": "stdout",
     "output_type": "stream",
     "text": [
      "(79038, 9) (79038, 1)\n"
     ]
    },
    {
     "data": {
      "image/png": "[encoded data removed]",
      "text/plain": [
       "<Figure size 432x288 with 1 Axes>"
      ]
     },
     "metadata": {
      "needs_background": "light"
     },
     "output_type": "display_data"
    }
   ],
   "source": [
    "# Re-run the model with the Bib numbers as a feature and for the 5K, 10K and 15K split times to predict 20K time\n",
    "\n",
    "### set up data for modeling\n",
    "X_20K = boston_clean[['Bib', 'Age','Official Time Duration', 'F', 'M', 'Temp (F)', '5K Duration', '10K Duration', '15K Duration']]\n",
    "y_20K = boston_clean['20K Duration'].values.reshape(-1, 1)\n",
    "print(X_20K.shape, y_20K.shape)\n",
    "\n",
    "# split the data into test and train subsets\n",
    "\n",
    "from sklearn.model_selection import train_test_split\n",
    "\n",
    "X_train_20K, X_test_20K, y_train_20K, y_test_20K = train_test_split(X_20K, y_20K, random_state=29)\n",
    "# X_train_20K.head()\n",
    "\n",
    "# Create a linear regression model and fit it to the training data\n",
    "\n",
    "from sklearn.linear_model import LinearRegression\n",
    "model_20K = LinearRegression()\n",
    "model_20K.fit(X_train_20K, y_train_20K)\n",
    "\n",
    "# Make predictions\n",
    "\n",
    "predictions_20K = model_20K.predict(X_test_20K)\n",
    "\n",
    "# Plot the residuals\n",
    "\n",
    "plt.scatter(model_20K.predict(X_train_20K), model_20K.predict(X_train_20K) - y_train_20K, c=\"blue\", label=\"Training Data\")\n",
    "plt.scatter(model_20K.predict(X_test_20K), model_20K.predict(X_test_20K) - y_test_20K, c=\"orange\", label=\"Testing Data\")\n",
    "plt.legend()\n",
    "plt.hlines(y=0, xmin=y_test_20K.min(), xmax=y_test_20K.max())\n",
    "plt.title(\"Residual Plot 20K\")\n",
    "plt.savefig('model_20k.png')\n",
    "plt.show()\n"
   ]
  },
  {
   "cell_type": "code",
   "execution_count": 30,
   "metadata": {},
   "outputs": [
    {
     "name": "stdout",
     "output_type": "stream",
     "text": [
      "MSE: 5065.672006739615, R2: 0.9949920389034161\n"
     ]
    }
   ],
   "source": [
    "# Used X_test, y_test, and model.predict(X_test) to calculate MSE and R2\n",
    "\n",
    "from sklearn.metrics import mean_squared_error\n",
    "\n",
    "MSE = mean_squared_error(y_test_20K, predictions_20K)\n",
    "r2 = model_20K.score(X_test_20K, y_test_20K)\n",
    "\n",
    "\n",
    "print(f\"MSE: {MSE}, R2: {r2}\")\n",
    "\n",
    "# create lists of MSE and r2 values for each model\n",
    "\n",
    "boston_models.append('20K')\n",
    "boston_mse.append(MSE)\n",
    "boston_r2.append(r2)\n"
   ]
  },
  {
   "cell_type": "code",
   "execution_count": 31,
   "metadata": {},
   "outputs": [
    {
     "data": {
      "text/plain": [
       "['model_20K.pkl']"
      ]
     },
     "execution_count": 31,
     "metadata": {},
     "output_type": "execute_result"
    }
   ],
   "source": [
    "# Save the model as pickle file\n",
    "\n",
    "import pickle\n",
    "from sklearn.externals import joblib\n",
    "\n",
    "joblib.dump(model_20K, 'model_20K.pkl')"
   ]
  },
  {
   "cell_type": "code",
   "execution_count": 32,
   "metadata": {},
   "outputs": [
    {
     "name": "stdout",
     "output_type": "stream",
     "text": [
      "(79038, 10) (79038, 1)\n"
     ]
    },
    {
     "data": {
      "image/png": "[encoded data removed]",
      "text/plain": [
       "<Figure size 432x288 with 1 Axes>"
      ]
     },
     "metadata": {
      "needs_background": "light"
     },
     "output_type": "display_data"
    }
   ],
   "source": [
    "# Re-run the model with the Bib numbers as a feature and for the 5K, 10K 15K and 20K split times to predict Half marathon time\n",
    "\n",
    "### set up data for modeling\n",
    "X_Half = boston_clean[['Bib', 'Age','Official Time Duration', 'F', 'M', 'Temp (F)', '5K Duration', '10K Duration', '15K Duration', '20K Duration']]\n",
    "y_Half = boston_clean['Half Duration'].values.reshape(-1, 1)\n",
    "print(X_Half.shape, y_Half.shape)\n",
    "\n",
    "# split the data into test and train subsets\n",
    "\n",
    "from sklearn.model_selection import train_test_split\n",
    "\n",
    "X_train_Half, X_test_Half, y_train_Half, y_test_Half = train_test_split(X_Half, y_Half, random_state=29)\n",
    "# X_train_Half.head()\n",
    "\n",
    "# Create a linear regression model and fit it to the training data\n",
    "\n",
    "from sklearn.linear_model import LinearRegression\n",
    "model_Half = LinearRegression()\n",
    "model_Half.fit(X_train_Half, y_train_Half)\n",
    "\n",
    "# Make predictions\n",
    "\n",
    "predictions_Half = model_Half.predict(X_test_Half)\n",
    "\n",
    "# Plot the residuals\n",
    "\n",
    "plt.scatter(model_Half.predict(X_train_Half), model_Half.predict(X_train_Half) - y_train_Half, c=\"blue\", label=\"Training Data\")\n",
    "plt.scatter(model_Half.predict(X_test_Half), model_Half.predict(X_test_Half) - y_test_Half, c=\"orange\", label=\"Testing Data\")\n",
    "plt.legend()\n",
    "plt.hlines(y=0, xmin=y_test_Half.min(), xmax=y_test_Half.max())\n",
    "plt.title(\"Residual Plot Half Marathon\")\n",
    "plt.savefig('model_Half.png')\n",
    "plt.show()\n"
   ]
  },
  {
   "cell_type": "code",
   "execution_count": 33,
   "metadata": {},
   "outputs": [
    {
     "name": "stdout",
     "output_type": "stream",
     "text": [
      "MSE: 320.63732522905667, R2: 0.9997163561866615\n"
     ]
    }
   ],
   "source": [
    "# Used X_test, y_test, and model.predict(X_test) to calculate MSE and R2\n",
    "\n",
    "from sklearn.metrics import mean_squared_error\n",
    "\n",
    "MSE = mean_squared_error(y_test_Half, predictions_Half)\n",
    "r2 = model_Half.score(X_test_Half, y_test_Half)\n",
    "\n",
    "\n",
    "print(f\"MSE: {MSE}, R2: {r2}\")\n",
    "\n",
    "# create lists of MSE and r2 values for each model\n",
    "\n",
    "boston_models.append('Half')\n",
    "boston_mse.append(MSE)\n",
    "boston_r2.append(r2)\n"
   ]
  },
  {
   "cell_type": "code",
   "execution_count": 34,
   "metadata": {},
   "outputs": [
    {
     "data": {
      "text/plain": [
       "['model_Half.pkl']"
      ]
     },
     "execution_count": 34,
     "metadata": {},
     "output_type": "execute_result"
    }
   ],
   "source": [
    "# Save the model as pickle file\n",
    "\n",
    "import pickle\n",
    "from sklearn.externals import joblib\n",
    "\n",
    "joblib.dump(model_Half, 'model_Half.pkl')"
   ]
  },
  {
   "cell_type": "code",
   "execution_count": 35,
   "metadata": {},
   "outputs": [
    {
     "name": "stdout",
     "output_type": "stream",
     "text": [
      "(79038, 11) (79038, 1)\n"
     ]
    },
    {
     "data": {
      "image/png": "[encoded data removed]",
      "text/plain": [
       "<Figure size 432x288 with 1 Axes>"
      ]
     },
     "metadata": {
      "needs_background": "light"
     },
     "output_type": "display_data"
    }
   ],
   "source": [
    "# Re-run the model with the Bib numbers as a feature and for the 5K, 10K 15K 20K and Half split times to predict 25K time\n",
    "\n",
    "### set up data for modeling\n",
    "X_25K = boston_clean[['Bib', 'Age','Official Time Duration', 'F', 'M', 'Temp (F)', '5K Duration', '10K Duration', '15K Duration', '20K Duration', 'Half Duration']]\n",
    "y_25K = boston_clean['25K Duration'].values.reshape(-1, 1)\n",
    "print(X_25K.shape, y_25K.shape)\n",
    "\n",
    "# split the data into test and train subsets\n",
    "\n",
    "from sklearn.model_selection import train_test_split\n",
    "\n",
    "X_train_25K, X_test_25K, y_train_25K, y_test_25K = train_test_split(X_25K, y_25K, random_state=29)\n",
    "# X_train_25K.head()\n",
    "\n",
    "# Create a linear regression model and fit it to the training data\n",
    "\n",
    "from sklearn.linear_model import LinearRegression\n",
    "model_25K = LinearRegression()\n",
    "model_25K.fit(X_train_25K, y_train_25K)\n",
    "\n",
    "# Make predictions\n",
    "\n",
    "predictions_25K = model_25K.predict(X_test_25K)\n",
    "\n",
    "# Plot the residuals\n",
    "\n",
    "plt.scatter(model_25K.predict(X_train_25K), model_25K.predict(X_train_25K) - y_train_25K, c=\"blue\", label=\"Training Data\")\n",
    "plt.scatter(model_25K.predict(X_test_25K), model_25K.predict(X_test_25K) - y_test_25K, c=\"orange\", label=\"Testing Data\")\n",
    "plt.legend()\n",
    "plt.hlines(y=0, xmin=y_test_25K.min(), xmax=y_test_25K.max())\n",
    "plt.title(\"Residual Plot 25K\")\n",
    "plt.savefig('model_25k.png')\n",
    "plt.show()\n"
   ]
  },
  {
   "cell_type": "code",
   "execution_count": 36,
   "metadata": {},
   "outputs": [
    {
     "name": "stdout",
     "output_type": "stream",
     "text": [
      "MSE: 6579.135267226174, R2: 0.9961762820043337\n"
     ]
    }
   ],
   "source": [
    "# Used X_test, y_test, and model.predict(X_test) to calculate MSE and R2\n",
    "\n",
    "from sklearn.metrics import mean_squared_error\n",
    "\n",
    "MSE = mean_squared_error(y_test_25K, predictions_25K)\n",
    "r2 = model_25K.score(X_test_25K, y_test_25K)\n",
    "\n",
    "\n",
    "print(f\"MSE: {MSE}, R2: {r2}\")\n",
    "\n",
    "# create lists of MSE and r2 values for each model\n",
    "\n",
    "boston_models.append('25K')\n",
    "boston_mse.append(MSE)\n",
    "boston_r2.append(r2)\n"
   ]
  },
  {
   "cell_type": "code",
   "execution_count": 37,
   "metadata": {},
   "outputs": [
    {
     "data": {
      "text/plain": [
       "['model_25K.pkl']"
      ]
     },
     "execution_count": 37,
     "metadata": {},
     "output_type": "execute_result"
    }
   ],
   "source": [
    "# Save the model as pickle file\n",
    "\n",
    "import pickle\n",
    "from sklearn.externals import joblib\n",
    "\n",
    "joblib.dump(model_25K, 'model_25K.pkl')"
   ]
  },
  {
   "cell_type": "code",
   "execution_count": 38,
   "metadata": {},
   "outputs": [
    {
     "name": "stdout",
     "output_type": "stream",
     "text": [
      "(79038, 12) (79038, 1)\n"
     ]
    },
    {
     "data": {
      "image/png": "[encoded data removed]",
      "text/plain": [
       "<Figure size 432x288 with 1 Axes>"
      ]
     },
     "metadata": {
      "needs_background": "light"
     },
     "output_type": "display_data"
    }
   ],
   "source": [
    "# Re-run the model with the Bib numbers as a feature and for the 5K, 10K 15K 20K 25K and half split times to predict 30K time\n",
    "\n",
    "### set up data for modeling\n",
    "X_30K = boston_clean[['Bib', 'Age','Official Time Duration', 'F', 'M', 'Temp (F)', '5K Duration', '10K Duration', '15K Duration', '20K Duration','Half Duration', '25K Duration']]\n",
    "y_30K = boston_clean['30K Duration'].values.reshape(-1, 1)\n",
    "print(X_30K.shape, y_30K.shape)\n",
    "\n",
    "# split the data into test and train subsets\n",
    "\n",
    "from sklearn.model_selection import train_test_split\n",
    "\n",
    "X_train_30K, X_test_30K, y_train_30K, y_test_30K = train_test_split(X_30K, y_30K, random_state=29)\n",
    "# X_train_30K.head()\n",
    "\n",
    "# Create a linear regression model and fit it to the training data\n",
    "\n",
    "from sklearn.linear_model import LinearRegression\n",
    "model_30K = LinearRegression()\n",
    "model_30K.fit(X_train_30K, y_train_30K)\n",
    "\n",
    "# Make predictions\n",
    "\n",
    "predictions_30K = model_30K.predict(X_test_30K)\n",
    "\n",
    "# Plot the residuals\n",
    "\n",
    "plt.scatter(model_30K.predict(X_train_30K), model_30K.predict(X_train_30K) - y_train_30K, c=\"blue\", label=\"Training Data\")\n",
    "plt.scatter(model_30K.predict(X_test_30K), model_30K.predict(X_test_30K) - y_test_30K, c=\"orange\", label=\"Testing Data\")\n",
    "plt.legend()\n",
    "plt.hlines(y=0, xmin=y_test_30K.min(), xmax=y_test_30K.max())\n",
    "plt.title(\"Residual Plot 30K\")\n",
    "plt.savefig('model_30k.png')\n",
    "plt.show()\n"
   ]
  },
  {
   "cell_type": "code",
   "execution_count": 39,
   "metadata": {},
   "outputs": [
    {
     "name": "stdout",
     "output_type": "stream",
     "text": [
      "MSE: 10553.949084271526, R2: 0.9961142998468477\n"
     ]
    }
   ],
   "source": [
    "# Used X_test, y_test, and model.predict(X_test) to calculate MSE and R2\n",
    "\n",
    "from sklearn.metrics import mean_squared_error\n",
    "\n",
    "MSE = mean_squared_error(y_test_30K, predictions_30K)\n",
    "r2 = model_30K.score(X_test_30K, y_test_30K)\n",
    "\n",
    "\n",
    "print(f\"MSE: {MSE}, R2: {r2}\")\n",
    "\n",
    "# create lists of MSE and r2 values for each model\n",
    "\n",
    "boston_models.append('30K')\n",
    "boston_mse.append(MSE)\n",
    "boston_r2.append(r2)\n"
   ]
  },
  {
   "cell_type": "code",
   "execution_count": 40,
   "metadata": {},
   "outputs": [
    {
     "data": {
      "text/plain": [
       "['model_30K.pkl']"
      ]
     },
     "execution_count": 40,
     "metadata": {},
     "output_type": "execute_result"
    }
   ],
   "source": [
    "# Save the model as pickle file\n",
    "\n",
    "import pickle\n",
    "from sklearn.externals import joblib\n",
    "\n",
    "joblib.dump(model_30K, 'model_30K.pkl')"
   ]
  },
  {
   "cell_type": "code",
   "execution_count": 41,
   "metadata": {},
   "outputs": [
    {
     "name": "stdout",
     "output_type": "stream",
     "text": [
      "(79038, 12) (79038, 1)\n"
     ]
    },
    {
     "data": {
      "image/png": "[encoded data removed]",
      "text/plain": [
       "<Figure size 432x288 with 1 Axes>"
      ]
     },
     "metadata": {
      "needs_background": "light"
     },
     "output_type": "display_data"
    }
   ],
   "source": [
    "# Re-run the model with the Bib numbers as a feature and for the 5K, 10K 15K 20K 25K half and 30K split times to predict 35K time\n",
    "\n",
    "### set up data for modeling\n",
    "X_35K = boston_clean[['Bib', 'Age','Official Time Duration', 'F', 'M', 'Temp (F)', '5K Duration', '10K Duration', '15K Duration', '20K Duration', 'Half Duration','25K Duration',  '30K Duration']]\n",
    "y_35K = boston_clean['35K Duration'].values.reshape(-1, 1)\n",
    "print(X_30K.shape, y_30K.shape)\n",
    "\n",
    "# split the data into test and train subsets\n",
    "\n",
    "from sklearn.model_selection import train_test_split\n",
    "\n",
    "X_train_35K, X_test_35K, y_train_35K, y_test_35K = train_test_split(X_35K, y_35K, random_state=29)\n",
    "# X_train_30K.head()\n",
    "\n",
    "# Create a linear regression model and fit it to the training data\n",
    "\n",
    "from sklearn.linear_model import LinearRegression\n",
    "model_35K = LinearRegression()\n",
    "model_35K.fit(X_train_35K, y_train_35K)\n",
    "\n",
    "# Make predictions\n",
    "\n",
    "predictions_35K = model_35K.predict(X_test_35K)\n",
    "\n",
    "# Plot the residuals\n",
    "\n",
    "plt.scatter(model_35K.predict(X_train_35K), model_35K.predict(X_train_35K) - y_train_35K, c=\"blue\", label=\"Training Data\")\n",
    "plt.scatter(model_35K.predict(X_test_35K), model_35K.predict(X_test_35K) - y_test_35K, c=\"orange\", label=\"Testing Data\")\n",
    "plt.legend()\n",
    "plt.hlines(y=0, xmin=y_test_35K.min(), xmax=y_test_35K.max())\n",
    "plt.title(\"Residual Plot 35K\")\n",
    "plt.savefig('model_35k.png')\n",
    "plt.show()\n"
   ]
  },
  {
   "cell_type": "code",
   "execution_count": 42,
   "metadata": {},
   "outputs": [
    {
     "name": "stdout",
     "output_type": "stream",
     "text": [
      "MSE: 11479.539783322492, R2: 0.9971232931237148\n"
     ]
    }
   ],
   "source": [
    "# Used X_test, y_test, and model.predict(X_test) to calculate MSE and R2\n",
    "\n",
    "from sklearn.metrics import mean_squared_error\n",
    "\n",
    "MSE = mean_squared_error(y_test_35K, predictions_35K)\n",
    "r2 = model_35K.score(X_test_35K, y_test_35K)\n",
    "\n",
    "\n",
    "print(f\"MSE: {MSE}, R2: {r2}\")\n",
    "\n",
    "# create lists of MSE and r2 values for each model\n",
    "\n",
    "boston_models.append('35K')\n",
    "boston_mse.append(MSE)\n",
    "boston_r2.append(r2)\n"
   ]
  },
  {
   "cell_type": "code",
   "execution_count": 43,
   "metadata": {},
   "outputs": [
    {
     "data": {
      "text/plain": [
       "['model_35K.pkl']"
      ]
     },
     "execution_count": 43,
     "metadata": {},
     "output_type": "execute_result"
    }
   ],
   "source": [
    "# Save the model as pickle file\n",
    "\n",
    "import pickle\n",
    "from sklearn.externals import joblib\n",
    "\n",
    "joblib.dump(model_35K, 'model_35K.pkl')"
   ]
  },
  {
   "cell_type": "code",
   "execution_count": 44,
   "metadata": {},
   "outputs": [
    {
     "name": "stdout",
     "output_type": "stream",
     "text": [
      "(79038, 14) (79038, 1)\n"
     ]
    },
    {
     "data": {
      "image/png": "[encoded data removed]",
      "text/plain": [
       "<Figure size 432x288 with 1 Axes>"
      ]
     },
     "metadata": {
      "needs_background": "light"
     },
     "output_type": "display_data"
    }
   ],
   "source": [
    "# Re-run the model with the Bib numbers as a feature and for the 5K, 10K 15K 20K 25K, half and 35K split times to predict 40K time\n",
    "\n",
    "### set up data for modeling\n",
    "X_40K = boston_clean[['Bib', 'Age','Official Time Duration', 'F', 'M', 'Temp (F)', '5K Duration', '10K Duration', '15K Duration', '20K Duration',  'Half Duration', '25K Duration', '30K Duration','35K Duration']]\n",
    "y_40K = boston_clean['40K Duration'].values.reshape(-1, 1)\n",
    "print(X_40K.shape, y_40K.shape)\n",
    "\n",
    "# split the data into test and train subsets\n",
    "\n",
    "from sklearn.model_selection import train_test_split\n",
    "\n",
    "X_train_40K, X_test_40K, y_train_40K, y_test_40K = train_test_split(X_40K, y_40K, random_state=29)\n",
    "# X_train_40K.head()\n",
    "\n",
    "# Create a linear regression model and fit it to the training data\n",
    "\n",
    "from sklearn.linear_model import LinearRegression\n",
    "model_40K = LinearRegression()\n",
    "model_40K.fit(X_train_40K, y_train_40K)\n",
    "\n",
    "# Make predictions\n",
    "\n",
    "predictions_40K = model_40K.predict(X_test_40K)\n",
    "\n",
    "# Plot the residuals\n",
    "\n",
    "plt.scatter(model_40K.predict(X_train_40K), model_40K.predict(X_train_40K) - y_train_40K, c=\"blue\", label=\"Training Data\")\n",
    "plt.scatter(model_40K.predict(X_test_40K), model_40K.predict(X_test_40K) - y_test_40K, c=\"orange\", label=\"Testing Data\")\n",
    "plt.legend()\n",
    "plt.hlines(y=0, xmin=y_test_40K.min(), xmax=y_test_40K.max())\n",
    "plt.title(\"Residual Plot 40K\")\n",
    "plt.savefig('model_40k.png')\n",
    "plt.show()\n"
   ]
  },
  {
   "cell_type": "code",
   "execution_count": 45,
   "metadata": {},
   "outputs": [
    {
     "name": "stdout",
     "output_type": "stream",
     "text": [
      "MSE: 4237.575080549742, R2: 0.9992173954387723\n"
     ]
    }
   ],
   "source": [
    "# Used X_test, y_test, and model.predict(X_test) to calculate MSE and R2\n",
    "\n",
    "from sklearn.metrics import mean_squared_error\n",
    "\n",
    "MSE = mean_squared_error(y_test_40K, predictions_40K)\n",
    "r2 = model_40K.score(X_test_40K, y_test_40K)\n",
    "\n",
    "\n",
    "print(f\"MSE: {MSE}, R2: {r2}\")\n",
    "\n",
    "# create lists of MSE and r2 values for each model\n",
    "\n",
    "boston_models.append('40K')\n",
    "boston_mse.append(MSE)\n",
    "boston_r2.append(r2)"
   ]
  },
  {
   "cell_type": "code",
   "execution_count": 46,
   "metadata": {},
   "outputs": [
    {
     "data": {
      "text/plain": [
       "['model_40K.pkl']"
      ]
     },
     "execution_count": 46,
     "metadata": {},
     "output_type": "execute_result"
    }
   ],
   "source": [
    "# Save the model as pickle file\n",
    "\n",
    "import pickle\n",
    "from sklearn.externals import joblib\n",
    "\n",
    "joblib.dump(model_40K, 'model_40K.pkl')"
   ]
  },
  {
   "cell_type": "code",
   "execution_count": 47,
   "metadata": {},
   "outputs": [
    {
     "name": "stdout",
     "output_type": "stream",
     "text": [
      "(79038, 14) (79038, 1)\n"
     ]
    },
    {
     "data": {
      "image/png": "[encoded data removed]",
      "text/plain": [
       "<Figure size 432x288 with 1 Axes>"
      ]
     },
     "metadata": {
      "needs_background": "light"
     },
     "output_type": "display_data"
    }
   ],
   "source": [
    "# Re-run the model with the Bib numbers as a feature and for the 5K, 10K 15K 20K 25K, half, 35K and 40K split times to predict Final time\n",
    "\n",
    "### set up data for modeling\n",
    "X_Final = boston_clean[['Bib', 'Age', 'F', 'M', 'Temp (F)', '5K Duration', '10K Duration', '15K Duration', '20K Duration','Half Duration', '25K Duration', '30K Duration', '35K Duration', '40K Duration']]\n",
    "y_Final = boston_clean['Official Time Duration'].values.reshape(-1, 1)\n",
    "print(X_Final.shape, y_Final.shape)\n",
    "\n",
    "# split the data into test and train subsets\n",
    "\n",
    "from sklearn.model_selection import train_test_split\n",
    "\n",
    "X_train_Final, X_test_Final, y_train_Final, y_test_Final = train_test_split(X_Final, y_Final, random_state=29)\n",
    "# X_train_Final.head()\n",
    "\n",
    "# Create a linear regression model and fit it to the training data\n",
    "\n",
    "from sklearn.linear_model import LinearRegression\n",
    "model_Final = LinearRegression()\n",
    "model_Final.fit(X_train_Final, y_train_Final)\n",
    "\n",
    "# Make predictions\n",
    "\n",
    "predictions_Final = model_Final.predict(X_test_Final)\n",
    "\n",
    "# Plot the residuals\n",
    "\n",
    "plt.scatter(model_Final.predict(X_train_Final), model_Final.predict(X_train_Final) - y_train_Final, c=\"blue\", label=\"Training Data\")\n",
    "plt.scatter(model_Final.predict(X_test_Final), model_Final.predict(X_test_Final) - y_test_Final, c=\"orange\", label=\"Testing Data\")\n",
    "plt.legend()\n",
    "plt.hlines(y=0, xmin=y_test_Final.min(), xmax=y_test_Final.max())\n",
    "plt.title(\"Residual Plot Final\")\n",
    "plt.savefig('model_Final.png')\n",
    "plt.show()\n"
   ]
  },
  {
   "cell_type": "code",
   "execution_count": 48,
   "metadata": {},
   "outputs": [
    {
     "name": "stdout",
     "output_type": "stream",
     "text": [
      "MSE: 7501.126684824572, R2: 0.9987580788583668\n"
     ]
    }
   ],
   "source": [
    "# Used X_test, y_test, and model.predict(X_test) to calculate MSE and R2\n",
    "\n",
    "from sklearn.metrics import mean_squared_error\n",
    "\n",
    "MSE = mean_squared_error(y_test_Final, predictions_Final)\n",
    "r2 = model_Final.score(X_test_Final, y_test_Final)\n",
    "\n",
    "\n",
    "print(f\"MSE: {MSE}, R2: {r2}\")\n",
    "\n",
    "# create lists of MSE and r2 values for each model\n",
    "\n",
    "boston_models.append('Final')\n",
    "boston_mse.append(MSE)\n",
    "boston_r2.append(r2)\n"
   ]
  },
  {
   "cell_type": "code",
   "execution_count": 49,
   "metadata": {},
   "outputs": [
    {
     "data": {
      "text/plain": [
       "['model_Final.pkl']"
      ]
     },
     "execution_count": 49,
     "metadata": {},
     "output_type": "execute_result"
    }
   ],
   "source": [
    "# Save the model as pickle file\n",
    "\n",
    "import pickle\n",
    "from sklearn.externals import joblib\n",
    "\n",
    "joblib.dump(model_Final, 'model_Final.pkl')"
   ]
  },
  {
   "cell_type": "code",
   "execution_count": 50,
   "metadata": {},
   "outputs": [
    {
     "data": {
      "text/plain": [
       "Index(['Bib', 'Age', '5K Duration', '10K Duration', '15K Duration',\n",
       "       '20K Duration', 'Half Duration', '25K Duration', '30K Duration',\n",
       "       '35K Duration', '40K Duration', 'Official Time Duration', 'Temp (F)',\n",
       "       'F', 'M'],\n",
       "      dtype='object')"
      ]
     },
     "execution_count": 50,
     "metadata": {},
     "output_type": "execute_result"
    }
   ],
   "source": [
    "boston_clean.columns"
   ]
  },
  {
   "cell_type": "code",
   "execution_count": 51,
   "metadata": {},
   "outputs": [
    {
     "data": {
      "text/plain": [
       "[7302.074522731132,\n",
       " 2994.148451799666,\n",
       " 2828.968308130163,\n",
       " 5065.672006739615,\n",
       " 320.63732522905667,\n",
       " 6579.135267226174,\n",
       " 10553.949084271526,\n",
       " 11479.539783322492,\n",
       " 4237.575080549742,\n",
       " 7501.126684824572]"
      ]
     },
     "execution_count": 51,
     "metadata": {},
     "output_type": "execute_result"
    }
   ],
   "source": [
    "boston_mse"
   ]
  },
  {
   "cell_type": "code",
   "execution_count": 52,
   "metadata": {},
   "outputs": [
    {
     "data": {
      "text/plain": [
       "[0.8684670365890306,\n",
       " 0.9866864130443542,\n",
       " 0.9946497344654838,\n",
       " 0.9949920389034161,\n",
       " 0.9997163561866615,\n",
       " 0.9961762820043337,\n",
       " 0.9961142998468477,\n",
       " 0.9971232931237148,\n",
       " 0.9992173954387723,\n",
       " 0.9987580788583668]"
      ]
     },
     "execution_count": 52,
     "metadata": {},
     "output_type": "execute_result"
    }
   ],
   "source": [
    "boston_r2"
   ]
  },
  {
   "cell_type": "code",
   "execution_count": 53,
   "metadata": {
    "nbgrader": {
     "grade": false,
     "grade_id": "cell-ec6532d8dc790021",
     "locked": false,
     "schema_version": 1,
     "solution": true
    }
   },
   "outputs": [
    {
     "data": {
      "text/html": [
       "<div>\n",
       "<style scoped>\n",
       "    .dataframe tbody tr th:only-of-type {\n",
       "        vertical-align: middle;\n",
       "    }\n",
       "\n",
       "    .dataframe tbody tr th {\n",
       "        vertical-align: top;\n",
       "    }\n",
       "\n",
       "    .dataframe thead th {\n",
       "        text-align: right;\n",
       "    }\n",
       "</style>\n",
       "<table border=\"1\" class=\"dataframe\">\n",
       "  <thead>\n",
       "    <tr style=\"text-align: right;\">\n",
       "      <th></th>\n",
       "      <th>boston_models</th>\n",
       "      <th>boston_mse</th>\n",
       "      <th>boston_r2</th>\n",
       "    </tr>\n",
       "  </thead>\n",
       "  <tbody>\n",
       "    <tr>\n",
       "      <th>0</th>\n",
       "      <td>5K</td>\n",
       "      <td>7302.074523</td>\n",
       "      <td>0.868467</td>\n",
       "    </tr>\n",
       "    <tr>\n",
       "      <th>1</th>\n",
       "      <td>10K</td>\n",
       "      <td>2994.148452</td>\n",
       "      <td>0.986686</td>\n",
       "    </tr>\n",
       "    <tr>\n",
       "      <th>2</th>\n",
       "      <td>15K</td>\n",
       "      <td>2828.968308</td>\n",
       "      <td>0.994650</td>\n",
       "    </tr>\n",
       "    <tr>\n",
       "      <th>3</th>\n",
       "      <td>20K</td>\n",
       "      <td>5065.672007</td>\n",
       "      <td>0.994992</td>\n",
       "    </tr>\n",
       "    <tr>\n",
       "      <th>4</th>\n",
       "      <td>Half</td>\n",
       "      <td>320.637325</td>\n",
       "      <td>0.999716</td>\n",
       "    </tr>\n",
       "    <tr>\n",
       "      <th>5</th>\n",
       "      <td>25K</td>\n",
       "      <td>6579.135267</td>\n",
       "      <td>0.996176</td>\n",
       "    </tr>\n",
       "    <tr>\n",
       "      <th>6</th>\n",
       "      <td>30K</td>\n",
       "      <td>10553.949084</td>\n",
       "      <td>0.996114</td>\n",
       "    </tr>\n",
       "    <tr>\n",
       "      <th>7</th>\n",
       "      <td>35K</td>\n",
       "      <td>11479.539783</td>\n",
       "      <td>0.997123</td>\n",
       "    </tr>\n",
       "    <tr>\n",
       "      <th>8</th>\n",
       "      <td>40K</td>\n",
       "      <td>4237.575081</td>\n",
       "      <td>0.999217</td>\n",
       "    </tr>\n",
       "    <tr>\n",
       "      <th>9</th>\n",
       "      <td>Final</td>\n",
       "      <td>7501.126685</td>\n",
       "      <td>0.998758</td>\n",
       "    </tr>\n",
       "  </tbody>\n",
       "</table>\n",
       "</div>"
      ],
      "text/plain": [
       "  boston_models    boston_mse  boston_r2\n",
       "0            5K   7302.074523   0.868467\n",
       "1           10K   2994.148452   0.986686\n",
       "2           15K   2828.968308   0.994650\n",
       "3           20K   5065.672007   0.994992\n",
       "4          Half    320.637325   0.999716\n",
       "5           25K   6579.135267   0.996176\n",
       "6           30K  10553.949084   0.996114\n",
       "7           35K  11479.539783   0.997123\n",
       "8           40K   4237.575081   0.999217\n",
       "9         Final   7501.126685   0.998758"
      ]
     },
     "execution_count": 53,
     "metadata": {},
     "output_type": "execute_result"
    }
   ],
   "source": [
    "boston_residuals_df=pd.DataFrame({\n",
    "    'boston_models':boston_models,\n",
    "    'boston_mse':boston_mse,\n",
    "    'boston_r2':boston_r2\n",
    "})\n",
    "boston_residuals_df"
   ]
  },
  {
   "cell_type": "code",
   "execution_count": 54,
   "metadata": {},
   "outputs": [
    {
     "data": {
      "image/png": "[encoded data removed]",
      "text/plain": [
       "<Figure size 432x288 with 1 Axes>"
      ]
     },
     "metadata": {
      "needs_background": "light"
     },
     "output_type": "display_data"
    }
   ],
   "source": [
    "# Plot the residuals of each model\n",
    "\n",
    "plt.scatter(boston_residuals_df['boston_models'], boston_mse, c=\"red\", label=\"MSE\")\n",
    "\n",
    "# plt.scatter(model_Final.predict(X_test_Final), model_Final.predict(X_test_Final) - y_test_Final, c=\"orange\", label=\"Testing Data\")\n",
    "# plt.legend()\n",
    "# plt.hlines(y=0, xmin=y_test_Final.min(), xmax=y_test_Final.max())\n",
    "plt.title(\"Mean Square Error for each model\")\n",
    "plt.savefig('MSE.png')\n",
    "plt.show()\n"
   ]
  },
  {
   "cell_type": "code",
   "execution_count": 55,
   "metadata": {},
   "outputs": [
    {
     "data": {
      "image/png": "[encoded data removed]",
      "text/plain": [
       "<Figure size 432x288 with 1 Axes>"
      ]
     },
     "metadata": {
      "needs_background": "light"
     },
     "output_type": "display_data"
    }
   ],
   "source": [
    "plt.scatter(boston_residuals_df['boston_models'], boston_r2, c=\"blue\", label=\"R2\")\n",
    "# plt.legend()\n",
    "plt.title(\"R2 for each model\")\n",
    "plt.savefig('R2.png')\n",
    "plt.show()\n"
   ]
  },
  {
   "cell_type": "code",
   "execution_count": 56,
   "metadata": {},
   "outputs": [
    {
     "data": {
      "text/html": [
       "<div>\n",
       "<style scoped>\n",
       "    .dataframe tbody tr th:only-of-type {\n",
       "        vertical-align: middle;\n",
       "    }\n",
       "\n",
       "    .dataframe tbody tr th {\n",
       "        vertical-align: top;\n",
       "    }\n",
       "\n",
       "    .dataframe thead th {\n",
       "        text-align: right;\n",
       "    }\n",
       "</style>\n",
       "<table border=\"1\" class=\"dataframe\">\n",
       "  <thead>\n",
       "    <tr style=\"text-align: right;\">\n",
       "      <th></th>\n",
       "      <th>Bib</th>\n",
       "      <th>Age</th>\n",
       "      <th>5K Duration</th>\n",
       "      <th>10K Duration</th>\n",
       "      <th>15K Duration</th>\n",
       "      <th>20K Duration</th>\n",
       "      <th>Half Duration</th>\n",
       "      <th>25K Duration</th>\n",
       "      <th>30K Duration</th>\n",
       "      <th>35K Duration</th>\n",
       "      <th>40K Duration</th>\n",
       "      <th>Official Time Duration</th>\n",
       "      <th>Temp (F)</th>\n",
       "      <th>F</th>\n",
       "      <th>M</th>\n",
       "    </tr>\n",
       "  </thead>\n",
       "  <tbody>\n",
       "    <tr>\n",
       "      <th>30</th>\n",
       "      <td>11</td>\n",
       "      <td>30</td>\n",
       "      <td>1019</td>\n",
       "      <td>2064</td>\n",
       "      <td>3109</td>\n",
       "      <td>4140</td>\n",
       "      <td>4365</td>\n",
       "      <td>5168</td>\n",
       "      <td>6204</td>\n",
       "      <td>7250</td>\n",
       "      <td>8250</td>\n",
       "      <td>8695</td>\n",
       "      <td>46</td>\n",
       "      <td>1</td>\n",
       "      <td>0</td>\n",
       "    </tr>\n",
       "    <tr>\n",
       "      <th>31</th>\n",
       "      <td>2</td>\n",
       "      <td>25</td>\n",
       "      <td>1018</td>\n",
       "      <td>2063</td>\n",
       "      <td>3108</td>\n",
       "      <td>4140</td>\n",
       "      <td>4365</td>\n",
       "      <td>5168</td>\n",
       "      <td>6203</td>\n",
       "      <td>7250</td>\n",
       "      <td>8250</td>\n",
       "      <td>8699</td>\n",
       "      <td>46</td>\n",
       "      <td>1</td>\n",
       "      <td>0</td>\n",
       "    </tr>\n",
       "    <tr>\n",
       "      <th>33</th>\n",
       "      <td>1</td>\n",
       "      <td>27</td>\n",
       "      <td>1017</td>\n",
       "      <td>2063</td>\n",
       "      <td>3109</td>\n",
       "      <td>4141</td>\n",
       "      <td>4365</td>\n",
       "      <td>5169</td>\n",
       "      <td>6204</td>\n",
       "      <td>7250</td>\n",
       "      <td>8250</td>\n",
       "      <td>8709</td>\n",
       "      <td>46</td>\n",
       "      <td>1</td>\n",
       "      <td>0</td>\n",
       "    </tr>\n",
       "    <tr>\n",
       "      <th>39</th>\n",
       "      <td>10</td>\n",
       "      <td>31</td>\n",
       "      <td>1020</td>\n",
       "      <td>2064</td>\n",
       "      <td>3108</td>\n",
       "      <td>4140</td>\n",
       "      <td>4365</td>\n",
       "      <td>5168</td>\n",
       "      <td>6203</td>\n",
       "      <td>7249</td>\n",
       "      <td>8271</td>\n",
       "      <td>8739</td>\n",
       "      <td>46</td>\n",
       "      <td>1</td>\n",
       "      <td>0</td>\n",
       "    </tr>\n",
       "    <tr>\n",
       "      <th>43</th>\n",
       "      <td>8</td>\n",
       "      <td>31</td>\n",
       "      <td>1019</td>\n",
       "      <td>2064</td>\n",
       "      <td>3109</td>\n",
       "      <td>4141</td>\n",
       "      <td>4366</td>\n",
       "      <td>5169</td>\n",
       "      <td>6204</td>\n",
       "      <td>7250</td>\n",
       "      <td>8282</td>\n",
       "      <td>8765</td>\n",
       "      <td>46</td>\n",
       "      <td>1</td>\n",
       "      <td>0</td>\n",
       "    </tr>\n",
       "    <tr>\n",
       "      <th>51</th>\n",
       "      <td>9</td>\n",
       "      <td>34</td>\n",
       "      <td>1018</td>\n",
       "      <td>2063</td>\n",
       "      <td>3108</td>\n",
       "      <td>4140</td>\n",
       "      <td>4364</td>\n",
       "      <td>5168</td>\n",
       "      <td>6203</td>\n",
       "      <td>7250</td>\n",
       "      <td>8291</td>\n",
       "      <td>8800</td>\n",
       "      <td>46</td>\n",
       "      <td>1</td>\n",
       "      <td>0</td>\n",
       "    </tr>\n",
       "    <tr>\n",
       "      <th>53</th>\n",
       "      <td>3</td>\n",
       "      <td>28</td>\n",
       "      <td>1018</td>\n",
       "      <td>2063</td>\n",
       "      <td>3109</td>\n",
       "      <td>4140</td>\n",
       "      <td>4365</td>\n",
       "      <td>5168</td>\n",
       "      <td>6204</td>\n",
       "      <td>7250</td>\n",
       "      <td>8291</td>\n",
       "      <td>8812</td>\n",
       "      <td>46</td>\n",
       "      <td>1</td>\n",
       "      <td>0</td>\n",
       "    </tr>\n",
       "    <tr>\n",
       "      <th>57</th>\n",
       "      <td>6</td>\n",
       "      <td>19</td>\n",
       "      <td>1018</td>\n",
       "      <td>2063</td>\n",
       "      <td>3109</td>\n",
       "      <td>4140</td>\n",
       "      <td>4366</td>\n",
       "      <td>5168</td>\n",
       "      <td>6204</td>\n",
       "      <td>7250</td>\n",
       "      <td>8301</td>\n",
       "      <td>8834</td>\n",
       "      <td>46</td>\n",
       "      <td>1</td>\n",
       "      <td>0</td>\n",
       "    </tr>\n",
       "    <tr>\n",
       "      <th>61</th>\n",
       "      <td>4</td>\n",
       "      <td>33</td>\n",
       "      <td>1018</td>\n",
       "      <td>2064</td>\n",
       "      <td>3109</td>\n",
       "      <td>4141</td>\n",
       "      <td>4365</td>\n",
       "      <td>5169</td>\n",
       "      <td>6214</td>\n",
       "      <td>7295</td>\n",
       "      <td>8385</td>\n",
       "      <td>8867</td>\n",
       "      <td>46</td>\n",
       "      <td>1</td>\n",
       "      <td>0</td>\n",
       "    </tr>\n",
       "    <tr>\n",
       "      <th>74</th>\n",
       "      <td>16</td>\n",
       "      <td>26</td>\n",
       "      <td>1018</td>\n",
       "      <td>2063</td>\n",
       "      <td>3108</td>\n",
       "      <td>4140</td>\n",
       "      <td>4365</td>\n",
       "      <td>5168</td>\n",
       "      <td>6203</td>\n",
       "      <td>7250</td>\n",
       "      <td>8334</td>\n",
       "      <td>8947</td>\n",
       "      <td>46</td>\n",
       "      <td>1</td>\n",
       "      <td>0</td>\n",
       "    </tr>\n",
       "    <tr>\n",
       "      <th>77</th>\n",
       "      <td>5</td>\n",
       "      <td>27</td>\n",
       "      <td>1029</td>\n",
       "      <td>2063</td>\n",
       "      <td>3109</td>\n",
       "      <td>4141</td>\n",
       "      <td>4366</td>\n",
       "      <td>5169</td>\n",
       "      <td>6255</td>\n",
       "      <td>7386</td>\n",
       "      <td>8482</td>\n",
       "      <td>8963</td>\n",
       "      <td>46</td>\n",
       "      <td>1</td>\n",
       "      <td>0</td>\n",
       "    </tr>\n",
       "    <tr>\n",
       "      <th>145</th>\n",
       "      <td>14</td>\n",
       "      <td>30</td>\n",
       "      <td>1027</td>\n",
       "      <td>2097</td>\n",
       "      <td>3184</td>\n",
       "      <td>4260</td>\n",
       "      <td>4500</td>\n",
       "      <td>5352</td>\n",
       "      <td>6492</td>\n",
       "      <td>7658</td>\n",
       "      <td>8814</td>\n",
       "      <td>9318</td>\n",
       "      <td>46</td>\n",
       "      <td>1</td>\n",
       "      <td>0</td>\n",
       "    </tr>\n",
       "    <tr>\n",
       "      <th>223</th>\n",
       "      <td>18</td>\n",
       "      <td>35</td>\n",
       "      <td>1028</td>\n",
       "      <td>2076</td>\n",
       "      <td>3178</td>\n",
       "      <td>4288</td>\n",
       "      <td>4533</td>\n",
       "      <td>5407</td>\n",
       "      <td>6546</td>\n",
       "      <td>7733</td>\n",
       "      <td>8959</td>\n",
       "      <td>9527</td>\n",
       "      <td>46</td>\n",
       "      <td>1</td>\n",
       "      <td>0</td>\n",
       "    </tr>\n",
       "    <tr>\n",
       "      <th>235</th>\n",
       "      <td>22</td>\n",
       "      <td>24</td>\n",
       "      <td>1061</td>\n",
       "      <td>2164</td>\n",
       "      <td>3276</td>\n",
       "      <td>4396</td>\n",
       "      <td>4638</td>\n",
       "      <td>5522</td>\n",
       "      <td>6682</td>\n",
       "      <td>7879</td>\n",
       "      <td>9047</td>\n",
       "      <td>9548</td>\n",
       "      <td>46</td>\n",
       "      <td>1</td>\n",
       "      <td>0</td>\n",
       "    </tr>\n",
       "    <tr>\n",
       "      <th>303</th>\n",
       "      <td>21</td>\n",
       "      <td>29</td>\n",
       "      <td>1089</td>\n",
       "      <td>2174</td>\n",
       "      <td>3275</td>\n",
       "      <td>4385</td>\n",
       "      <td>4631</td>\n",
       "      <td>5508</td>\n",
       "      <td>6668</td>\n",
       "      <td>7875</td>\n",
       "      <td>9082</td>\n",
       "      <td>9642</td>\n",
       "      <td>46</td>\n",
       "      <td>1</td>\n",
       "      <td>0</td>\n",
       "    </tr>\n",
       "    <tr>\n",
       "      <th>329</th>\n",
       "      <td>24</td>\n",
       "      <td>27</td>\n",
       "      <td>1133</td>\n",
       "      <td>2289</td>\n",
       "      <td>3455</td>\n",
       "      <td>4588</td>\n",
       "      <td>4835</td>\n",
       "      <td>5728</td>\n",
       "      <td>6876</td>\n",
       "      <td>8049</td>\n",
       "      <td>9183</td>\n",
       "      <td>9677</td>\n",
       "      <td>46</td>\n",
       "      <td>1</td>\n",
       "      <td>0</td>\n",
       "    </tr>\n",
       "    <tr>\n",
       "      <th>472</th>\n",
       "      <td>25</td>\n",
       "      <td>32</td>\n",
       "      <td>1134</td>\n",
       "      <td>2289</td>\n",
       "      <td>3456</td>\n",
       "      <td>4637</td>\n",
       "      <td>4892</td>\n",
       "      <td>5812</td>\n",
       "      <td>6986</td>\n",
       "      <td>8187</td>\n",
       "      <td>9349</td>\n",
       "      <td>9868</td>\n",
       "      <td>46</td>\n",
       "      <td>1</td>\n",
       "      <td>0</td>\n",
       "    </tr>\n",
       "    <tr>\n",
       "      <th>497</th>\n",
       "      <td>1339</td>\n",
       "      <td>23</td>\n",
       "      <td>1178</td>\n",
       "      <td>2347</td>\n",
       "      <td>3529</td>\n",
       "      <td>4714</td>\n",
       "      <td>4970</td>\n",
       "      <td>5894</td>\n",
       "      <td>7079</td>\n",
       "      <td>8261</td>\n",
       "      <td>9397</td>\n",
       "      <td>9896</td>\n",
       "      <td>46</td>\n",
       "      <td>1</td>\n",
       "      <td>0</td>\n",
       "    </tr>\n",
       "    <tr>\n",
       "      <th>596</th>\n",
       "      <td>775</td>\n",
       "      <td>34</td>\n",
       "      <td>1215</td>\n",
       "      <td>2413</td>\n",
       "      <td>3604</td>\n",
       "      <td>4777</td>\n",
       "      <td>5031</td>\n",
       "      <td>5948</td>\n",
       "      <td>7127</td>\n",
       "      <td>8318</td>\n",
       "      <td>9466</td>\n",
       "      <td>9982</td>\n",
       "      <td>46</td>\n",
       "      <td>1</td>\n",
       "      <td>0</td>\n",
       "    </tr>\n",
       "    <tr>\n",
       "      <th>607</th>\n",
       "      <td>1502</td>\n",
       "      <td>26</td>\n",
       "      <td>1131</td>\n",
       "      <td>2283</td>\n",
       "      <td>3418</td>\n",
       "      <td>4576</td>\n",
       "      <td>4828</td>\n",
       "      <td>5733</td>\n",
       "      <td>6928</td>\n",
       "      <td>8171</td>\n",
       "      <td>9415</td>\n",
       "      <td>9994</td>\n",
       "      <td>46</td>\n",
       "      <td>1</td>\n",
       "      <td>0</td>\n",
       "    </tr>\n",
       "    <tr>\n",
       "      <th>625</th>\n",
       "      <td>119</td>\n",
       "      <td>45</td>\n",
       "      <td>1134</td>\n",
       "      <td>2290</td>\n",
       "      <td>3457</td>\n",
       "      <td>4638</td>\n",
       "      <td>4893</td>\n",
       "      <td>5813</td>\n",
       "      <td>7028</td>\n",
       "      <td>8263</td>\n",
       "      <td>9460</td>\n",
       "      <td>10004</td>\n",
       "      <td>46</td>\n",
       "      <td>1</td>\n",
       "      <td>0</td>\n",
       "    </tr>\n",
       "    <tr>\n",
       "      <th>663</th>\n",
       "      <td>4793</td>\n",
       "      <td>24</td>\n",
       "      <td>1218</td>\n",
       "      <td>2414</td>\n",
       "      <td>3606</td>\n",
       "      <td>4788</td>\n",
       "      <td>5048</td>\n",
       "      <td>5968</td>\n",
       "      <td>7152</td>\n",
       "      <td>8337</td>\n",
       "      <td>9502</td>\n",
       "      <td>10035</td>\n",
       "      <td>46</td>\n",
       "      <td>1</td>\n",
       "      <td>0</td>\n",
       "    </tr>\n",
       "    <tr>\n",
       "      <th>665</th>\n",
       "      <td>29</td>\n",
       "      <td>22</td>\n",
       "      <td>1135</td>\n",
       "      <td>2290</td>\n",
       "      <td>3456</td>\n",
       "      <td>4637</td>\n",
       "      <td>4893</td>\n",
       "      <td>5813</td>\n",
       "      <td>7028</td>\n",
       "      <td>8263</td>\n",
       "      <td>9486</td>\n",
       "      <td>10037</td>\n",
       "      <td>46</td>\n",
       "      <td>1</td>\n",
       "      <td>0</td>\n",
       "    </tr>\n",
       "    <tr>\n",
       "      <th>735</th>\n",
       "      <td>2482</td>\n",
       "      <td>33</td>\n",
       "      <td>1138</td>\n",
       "      <td>2284</td>\n",
       "      <td>3443</td>\n",
       "      <td>4621</td>\n",
       "      <td>4879</td>\n",
       "      <td>5822</td>\n",
       "      <td>7067</td>\n",
       "      <td>8324</td>\n",
       "      <td>9535</td>\n",
       "      <td>10087</td>\n",
       "      <td>46</td>\n",
       "      <td>1</td>\n",
       "      <td>0</td>\n",
       "    </tr>\n",
       "    <tr>\n",
       "      <th>736</th>\n",
       "      <td>28</td>\n",
       "      <td>34</td>\n",
       "      <td>1134</td>\n",
       "      <td>2290</td>\n",
       "      <td>3459</td>\n",
       "      <td>4638</td>\n",
       "      <td>4894</td>\n",
       "      <td>5824</td>\n",
       "      <td>7037</td>\n",
       "      <td>8265</td>\n",
       "      <td>9509</td>\n",
       "      <td>10087</td>\n",
       "      <td>46</td>\n",
       "      <td>1</td>\n",
       "      <td>0</td>\n",
       "    </tr>\n",
       "    <tr>\n",
       "      <th>740</th>\n",
       "      <td>1282</td>\n",
       "      <td>24</td>\n",
       "      <td>1177</td>\n",
       "      <td>2351</td>\n",
       "      <td>3536</td>\n",
       "      <td>4727</td>\n",
       "      <td>4983</td>\n",
       "      <td>5924</td>\n",
       "      <td>7141</td>\n",
       "      <td>8375</td>\n",
       "      <td>9578</td>\n",
       "      <td>10090</td>\n",
       "      <td>46</td>\n",
       "      <td>1</td>\n",
       "      <td>0</td>\n",
       "    </tr>\n",
       "    <tr>\n",
       "      <th>768</th>\n",
       "      <td>101</td>\n",
       "      <td>44</td>\n",
       "      <td>1134</td>\n",
       "      <td>2289</td>\n",
       "      <td>3457</td>\n",
       "      <td>4637</td>\n",
       "      <td>4897</td>\n",
       "      <td>5842</td>\n",
       "      <td>7096</td>\n",
       "      <td>8351</td>\n",
       "      <td>9590</td>\n",
       "      <td>10108</td>\n",
       "      <td>46</td>\n",
       "      <td>1</td>\n",
       "      <td>0</td>\n",
       "    </tr>\n",
       "    <tr>\n",
       "      <th>777</th>\n",
       "      <td>1254</td>\n",
       "      <td>34</td>\n",
       "      <td>1185</td>\n",
       "      <td>2355</td>\n",
       "      <td>3519</td>\n",
       "      <td>4694</td>\n",
       "      <td>4950</td>\n",
       "      <td>5868</td>\n",
       "      <td>7177</td>\n",
       "      <td>8378</td>\n",
       "      <td>9576</td>\n",
       "      <td>10112</td>\n",
       "      <td>46</td>\n",
       "      <td>1</td>\n",
       "      <td>0</td>\n",
       "    </tr>\n",
       "    <tr>\n",
       "      <th>788</th>\n",
       "      <td>40</td>\n",
       "      <td>26</td>\n",
       "      <td>1150</td>\n",
       "      <td>2318</td>\n",
       "      <td>3479</td>\n",
       "      <td>4665</td>\n",
       "      <td>4923</td>\n",
       "      <td>5842</td>\n",
       "      <td>7059</td>\n",
       "      <td>8312</td>\n",
       "      <td>9547</td>\n",
       "      <td>10121</td>\n",
       "      <td>46</td>\n",
       "      <td>1</td>\n",
       "      <td>0</td>\n",
       "    </tr>\n",
       "    <tr>\n",
       "      <th>800</th>\n",
       "      <td>104</td>\n",
       "      <td>44</td>\n",
       "      <td>1160</td>\n",
       "      <td>2338</td>\n",
       "      <td>3514</td>\n",
       "      <td>4721</td>\n",
       "      <td>4984</td>\n",
       "      <td>5926</td>\n",
       "      <td>7165</td>\n",
       "      <td>8412</td>\n",
       "      <td>9607</td>\n",
       "      <td>10129</td>\n",
       "      <td>46</td>\n",
       "      <td>1</td>\n",
       "      <td>0</td>\n",
       "    </tr>\n",
       "    <tr>\n",
       "      <th>...</th>\n",
       "      <td>...</td>\n",
       "      <td>...</td>\n",
       "      <td>...</td>\n",
       "      <td>...</td>\n",
       "      <td>...</td>\n",
       "      <td>...</td>\n",
       "      <td>...</td>\n",
       "      <td>...</td>\n",
       "      <td>...</td>\n",
       "      <td>...</td>\n",
       "      <td>...</td>\n",
       "      <td>...</td>\n",
       "      <td>...</td>\n",
       "      <td>...</td>\n",
       "      <td>...</td>\n",
       "    </tr>\n",
       "    <tr>\n",
       "      <th>78970</th>\n",
       "      <td>25797</td>\n",
       "      <td>53</td>\n",
       "      <td>1850</td>\n",
       "      <td>3773</td>\n",
       "      <td>5823</td>\n",
       "      <td>8126</td>\n",
       "      <td>8652</td>\n",
       "      <td>11158</td>\n",
       "      <td>14353</td>\n",
       "      <td>17705</td>\n",
       "      <td>20707</td>\n",
       "      <td>21849</td>\n",
       "      <td>73</td>\n",
       "      <td>1</td>\n",
       "      <td>0</td>\n",
       "    </tr>\n",
       "    <tr>\n",
       "      <th>78971</th>\n",
       "      <td>26780</td>\n",
       "      <td>38</td>\n",
       "      <td>2036</td>\n",
       "      <td>4407</td>\n",
       "      <td>7005</td>\n",
       "      <td>9707</td>\n",
       "      <td>10293</td>\n",
       "      <td>12270</td>\n",
       "      <td>15097</td>\n",
       "      <td>17930</td>\n",
       "      <td>20785</td>\n",
       "      <td>21849</td>\n",
       "      <td>73</td>\n",
       "      <td>1</td>\n",
       "      <td>0</td>\n",
       "    </tr>\n",
       "    <tr>\n",
       "      <th>78973</th>\n",
       "      <td>28474</td>\n",
       "      <td>45</td>\n",
       "      <td>2002</td>\n",
       "      <td>4158</td>\n",
       "      <td>6698</td>\n",
       "      <td>10257</td>\n",
       "      <td>10791</td>\n",
       "      <td>13007</td>\n",
       "      <td>15684</td>\n",
       "      <td>18366</td>\n",
       "      <td>20864</td>\n",
       "      <td>21856</td>\n",
       "      <td>73</td>\n",
       "      <td>1</td>\n",
       "      <td>0</td>\n",
       "    </tr>\n",
       "    <tr>\n",
       "      <th>78976</th>\n",
       "      <td>26588</td>\n",
       "      <td>28</td>\n",
       "      <td>2119</td>\n",
       "      <td>4545</td>\n",
       "      <td>7190</td>\n",
       "      <td>9813</td>\n",
       "      <td>10369</td>\n",
       "      <td>12632</td>\n",
       "      <td>15304</td>\n",
       "      <td>18061</td>\n",
       "      <td>20739</td>\n",
       "      <td>21885</td>\n",
       "      <td>73</td>\n",
       "      <td>1</td>\n",
       "      <td>0</td>\n",
       "    </tr>\n",
       "    <tr>\n",
       "      <th>78978</th>\n",
       "      <td>28922</td>\n",
       "      <td>45</td>\n",
       "      <td>2192</td>\n",
       "      <td>4696</td>\n",
       "      <td>7262</td>\n",
       "      <td>9965</td>\n",
       "      <td>10525</td>\n",
       "      <td>12727</td>\n",
       "      <td>15503</td>\n",
       "      <td>18229</td>\n",
       "      <td>20794</td>\n",
       "      <td>21918</td>\n",
       "      <td>73</td>\n",
       "      <td>1</td>\n",
       "      <td>0</td>\n",
       "    </tr>\n",
       "    <tr>\n",
       "      <th>78979</th>\n",
       "      <td>27123</td>\n",
       "      <td>43</td>\n",
       "      <td>2172</td>\n",
       "      <td>4513</td>\n",
       "      <td>6982</td>\n",
       "      <td>9559</td>\n",
       "      <td>10120</td>\n",
       "      <td>12310</td>\n",
       "      <td>15061</td>\n",
       "      <td>18080</td>\n",
       "      <td>20841</td>\n",
       "      <td>21919</td>\n",
       "      <td>73</td>\n",
       "      <td>1</td>\n",
       "      <td>0</td>\n",
       "    </tr>\n",
       "    <tr>\n",
       "      <th>78980</th>\n",
       "      <td>25683</td>\n",
       "      <td>31</td>\n",
       "      <td>2065</td>\n",
       "      <td>4369</td>\n",
       "      <td>6656</td>\n",
       "      <td>9081</td>\n",
       "      <td>9598</td>\n",
       "      <td>11671</td>\n",
       "      <td>14674</td>\n",
       "      <td>17753</td>\n",
       "      <td>20752</td>\n",
       "      <td>21920</td>\n",
       "      <td>73</td>\n",
       "      <td>1</td>\n",
       "      <td>0</td>\n",
       "    </tr>\n",
       "    <tr>\n",
       "      <th>78981</th>\n",
       "      <td>29621</td>\n",
       "      <td>24</td>\n",
       "      <td>2202</td>\n",
       "      <td>4749</td>\n",
       "      <td>7155</td>\n",
       "      <td>9723</td>\n",
       "      <td>10291</td>\n",
       "      <td>12444</td>\n",
       "      <td>15193</td>\n",
       "      <td>18067</td>\n",
       "      <td>20792</td>\n",
       "      <td>21927</td>\n",
       "      <td>73</td>\n",
       "      <td>1</td>\n",
       "      <td>0</td>\n",
       "    </tr>\n",
       "    <tr>\n",
       "      <th>78982</th>\n",
       "      <td>25753</td>\n",
       "      <td>43</td>\n",
       "      <td>2017</td>\n",
       "      <td>4316</td>\n",
       "      <td>6699</td>\n",
       "      <td>9439</td>\n",
       "      <td>10160</td>\n",
       "      <td>12097</td>\n",
       "      <td>14935</td>\n",
       "      <td>18162</td>\n",
       "      <td>20771</td>\n",
       "      <td>21944</td>\n",
       "      <td>73</td>\n",
       "      <td>1</td>\n",
       "      <td>0</td>\n",
       "    </tr>\n",
       "    <tr>\n",
       "      <th>78984</th>\n",
       "      <td>29952</td>\n",
       "      <td>36</td>\n",
       "      <td>2109</td>\n",
       "      <td>4541</td>\n",
       "      <td>7174</td>\n",
       "      <td>9890</td>\n",
       "      <td>10402</td>\n",
       "      <td>12600</td>\n",
       "      <td>15529</td>\n",
       "      <td>18393</td>\n",
       "      <td>20934</td>\n",
       "      <td>21951</td>\n",
       "      <td>73</td>\n",
       "      <td>1</td>\n",
       "      <td>0</td>\n",
       "    </tr>\n",
       "    <tr>\n",
       "      <th>78986</th>\n",
       "      <td>24110</td>\n",
       "      <td>55</td>\n",
       "      <td>2536</td>\n",
       "      <td>5148</td>\n",
       "      <td>7652</td>\n",
       "      <td>10195</td>\n",
       "      <td>10761</td>\n",
       "      <td>12832</td>\n",
       "      <td>15450</td>\n",
       "      <td>18105</td>\n",
       "      <td>20771</td>\n",
       "      <td>21962</td>\n",
       "      <td>73</td>\n",
       "      <td>1</td>\n",
       "      <td>0</td>\n",
       "    </tr>\n",
       "    <tr>\n",
       "      <th>78991</th>\n",
       "      <td>24337</td>\n",
       "      <td>60</td>\n",
       "      <td>1697</td>\n",
       "      <td>3327</td>\n",
       "      <td>5063</td>\n",
       "      <td>10203</td>\n",
       "      <td>10769</td>\n",
       "      <td>12840</td>\n",
       "      <td>15459</td>\n",
       "      <td>18113</td>\n",
       "      <td>20779</td>\n",
       "      <td>21969</td>\n",
       "      <td>73</td>\n",
       "      <td>1</td>\n",
       "      <td>0</td>\n",
       "    </tr>\n",
       "    <tr>\n",
       "      <th>78992</th>\n",
       "      <td>25391</td>\n",
       "      <td>25</td>\n",
       "      <td>2079</td>\n",
       "      <td>4303</td>\n",
       "      <td>6805</td>\n",
       "      <td>9538</td>\n",
       "      <td>10090</td>\n",
       "      <td>12195</td>\n",
       "      <td>14922</td>\n",
       "      <td>18000</td>\n",
       "      <td>20854</td>\n",
       "      <td>21975</td>\n",
       "      <td>73</td>\n",
       "      <td>1</td>\n",
       "      <td>0</td>\n",
       "    </tr>\n",
       "    <tr>\n",
       "      <th>78993</th>\n",
       "      <td>20265</td>\n",
       "      <td>41</td>\n",
       "      <td>2077</td>\n",
       "      <td>4274</td>\n",
       "      <td>6397</td>\n",
       "      <td>8853</td>\n",
       "      <td>9336</td>\n",
       "      <td>11469</td>\n",
       "      <td>14103</td>\n",
       "      <td>17517</td>\n",
       "      <td>20654</td>\n",
       "      <td>21980</td>\n",
       "      <td>73</td>\n",
       "      <td>1</td>\n",
       "      <td>0</td>\n",
       "    </tr>\n",
       "    <tr>\n",
       "      <th>78995</th>\n",
       "      <td>25882</td>\n",
       "      <td>27</td>\n",
       "      <td>2017</td>\n",
       "      <td>4355</td>\n",
       "      <td>6838</td>\n",
       "      <td>9599</td>\n",
       "      <td>10132</td>\n",
       "      <td>12430</td>\n",
       "      <td>15158</td>\n",
       "      <td>17941</td>\n",
       "      <td>20812</td>\n",
       "      <td>22012</td>\n",
       "      <td>73</td>\n",
       "      <td>1</td>\n",
       "      <td>0</td>\n",
       "    </tr>\n",
       "    <tr>\n",
       "      <th>78998</th>\n",
       "      <td>25180</td>\n",
       "      <td>53</td>\n",
       "      <td>2142</td>\n",
       "      <td>4377</td>\n",
       "      <td>6856</td>\n",
       "      <td>9407</td>\n",
       "      <td>9979</td>\n",
       "      <td>12232</td>\n",
       "      <td>15259</td>\n",
       "      <td>18146</td>\n",
       "      <td>20816</td>\n",
       "      <td>22026</td>\n",
       "      <td>73</td>\n",
       "      <td>1</td>\n",
       "      <td>0</td>\n",
       "    </tr>\n",
       "    <tr>\n",
       "      <th>78999</th>\n",
       "      <td>22217</td>\n",
       "      <td>49</td>\n",
       "      <td>1978</td>\n",
       "      <td>4082</td>\n",
       "      <td>6615</td>\n",
       "      <td>9152</td>\n",
       "      <td>9761</td>\n",
       "      <td>12061</td>\n",
       "      <td>14897</td>\n",
       "      <td>17909</td>\n",
       "      <td>20871</td>\n",
       "      <td>22029</td>\n",
       "      <td>73</td>\n",
       "      <td>1</td>\n",
       "      <td>0</td>\n",
       "    </tr>\n",
       "    <tr>\n",
       "      <th>79001</th>\n",
       "      <td>26262</td>\n",
       "      <td>26</td>\n",
       "      <td>2207</td>\n",
       "      <td>4549</td>\n",
       "      <td>6862</td>\n",
       "      <td>9391</td>\n",
       "      <td>9909</td>\n",
       "      <td>12190</td>\n",
       "      <td>14815</td>\n",
       "      <td>18020</td>\n",
       "      <td>20843</td>\n",
       "      <td>22042</td>\n",
       "      <td>73</td>\n",
       "      <td>1</td>\n",
       "      <td>0</td>\n",
       "    </tr>\n",
       "    <tr>\n",
       "      <th>79002</th>\n",
       "      <td>26912</td>\n",
       "      <td>61</td>\n",
       "      <td>2246</td>\n",
       "      <td>4508</td>\n",
       "      <td>6992</td>\n",
       "      <td>9505</td>\n",
       "      <td>10064</td>\n",
       "      <td>12270</td>\n",
       "      <td>15089</td>\n",
       "      <td>18027</td>\n",
       "      <td>20873</td>\n",
       "      <td>22059</td>\n",
       "      <td>73</td>\n",
       "      <td>1</td>\n",
       "      <td>0</td>\n",
       "    </tr>\n",
       "    <tr>\n",
       "      <th>79003</th>\n",
       "      <td>25543</td>\n",
       "      <td>61</td>\n",
       "      <td>2370</td>\n",
       "      <td>4809</td>\n",
       "      <td>7376</td>\n",
       "      <td>10010</td>\n",
       "      <td>10549</td>\n",
       "      <td>12618</td>\n",
       "      <td>15429</td>\n",
       "      <td>18212</td>\n",
       "      <td>20859</td>\n",
       "      <td>22066</td>\n",
       "      <td>73</td>\n",
       "      <td>1</td>\n",
       "      <td>0</td>\n",
       "    </tr>\n",
       "    <tr>\n",
       "      <th>79005</th>\n",
       "      <td>25766</td>\n",
       "      <td>40</td>\n",
       "      <td>2431</td>\n",
       "      <td>4737</td>\n",
       "      <td>7189</td>\n",
       "      <td>9882</td>\n",
       "      <td>10440</td>\n",
       "      <td>12711</td>\n",
       "      <td>15801</td>\n",
       "      <td>18476</td>\n",
       "      <td>20993</td>\n",
       "      <td>22128</td>\n",
       "      <td>73</td>\n",
       "      <td>1</td>\n",
       "      <td>0</td>\n",
       "    </tr>\n",
       "    <tr>\n",
       "      <th>79007</th>\n",
       "      <td>24454</td>\n",
       "      <td>58</td>\n",
       "      <td>1705</td>\n",
       "      <td>3615</td>\n",
       "      <td>6215</td>\n",
       "      <td>8950</td>\n",
       "      <td>9441</td>\n",
       "      <td>11516</td>\n",
       "      <td>14344</td>\n",
       "      <td>17746</td>\n",
       "      <td>20980</td>\n",
       "      <td>22155</td>\n",
       "      <td>73</td>\n",
       "      <td>1</td>\n",
       "      <td>0</td>\n",
       "    </tr>\n",
       "    <tr>\n",
       "      <th>79008</th>\n",
       "      <td>24952</td>\n",
       "      <td>63</td>\n",
       "      <td>2182</td>\n",
       "      <td>4591</td>\n",
       "      <td>7573</td>\n",
       "      <td>10176</td>\n",
       "      <td>10705</td>\n",
       "      <td>12805</td>\n",
       "      <td>15603</td>\n",
       "      <td>18347</td>\n",
       "      <td>21025</td>\n",
       "      <td>22175</td>\n",
       "      <td>73</td>\n",
       "      <td>1</td>\n",
       "      <td>0</td>\n",
       "    </tr>\n",
       "    <tr>\n",
       "      <th>79009</th>\n",
       "      <td>25779</td>\n",
       "      <td>42</td>\n",
       "      <td>2054</td>\n",
       "      <td>4213</td>\n",
       "      <td>6352</td>\n",
       "      <td>8549</td>\n",
       "      <td>8999</td>\n",
       "      <td>11083</td>\n",
       "      <td>14301</td>\n",
       "      <td>17714</td>\n",
       "      <td>20850</td>\n",
       "      <td>22178</td>\n",
       "      <td>73</td>\n",
       "      <td>1</td>\n",
       "      <td>0</td>\n",
       "    </tr>\n",
       "    <tr>\n",
       "      <th>79010</th>\n",
       "      <td>24894</td>\n",
       "      <td>60</td>\n",
       "      <td>2107</td>\n",
       "      <td>4463</td>\n",
       "      <td>6867</td>\n",
       "      <td>9425</td>\n",
       "      <td>9954</td>\n",
       "      <td>11986</td>\n",
       "      <td>14969</td>\n",
       "      <td>18431</td>\n",
       "      <td>21079</td>\n",
       "      <td>22219</td>\n",
       "      <td>73</td>\n",
       "      <td>1</td>\n",
       "      <td>0</td>\n",
       "    </tr>\n",
       "    <tr>\n",
       "      <th>79011</th>\n",
       "      <td>23144</td>\n",
       "      <td>48</td>\n",
       "      <td>2010</td>\n",
       "      <td>4183</td>\n",
       "      <td>6548</td>\n",
       "      <td>9077</td>\n",
       "      <td>9636</td>\n",
       "      <td>13033</td>\n",
       "      <td>15958</td>\n",
       "      <td>18747</td>\n",
       "      <td>21304</td>\n",
       "      <td>22406</td>\n",
       "      <td>73</td>\n",
       "      <td>1</td>\n",
       "      <td>0</td>\n",
       "    </tr>\n",
       "    <tr>\n",
       "      <th>79014</th>\n",
       "      <td>26889</td>\n",
       "      <td>37</td>\n",
       "      <td>2039</td>\n",
       "      <td>4269</td>\n",
       "      <td>6657</td>\n",
       "      <td>9254</td>\n",
       "      <td>9836</td>\n",
       "      <td>12159</td>\n",
       "      <td>15326</td>\n",
       "      <td>18471</td>\n",
       "      <td>21305</td>\n",
       "      <td>22564</td>\n",
       "      <td>73</td>\n",
       "      <td>1</td>\n",
       "      <td>0</td>\n",
       "    </tr>\n",
       "    <tr>\n",
       "      <th>79025</th>\n",
       "      <td>25262</td>\n",
       "      <td>44</td>\n",
       "      <td>2147</td>\n",
       "      <td>4622</td>\n",
       "      <td>7558</td>\n",
       "      <td>10353</td>\n",
       "      <td>11011</td>\n",
       "      <td>13412</td>\n",
       "      <td>16671</td>\n",
       "      <td>19878</td>\n",
       "      <td>22701</td>\n",
       "      <td>23905</td>\n",
       "      <td>73</td>\n",
       "      <td>1</td>\n",
       "      <td>0</td>\n",
       "    </tr>\n",
       "    <tr>\n",
       "      <th>79028</th>\n",
       "      <td>25263</td>\n",
       "      <td>49</td>\n",
       "      <td>2551</td>\n",
       "      <td>5265</td>\n",
       "      <td>8283</td>\n",
       "      <td>11152</td>\n",
       "      <td>11756</td>\n",
       "      <td>14150</td>\n",
       "      <td>17255</td>\n",
       "      <td>20312</td>\n",
       "      <td>23156</td>\n",
       "      <td>24390</td>\n",
       "      <td>73</td>\n",
       "      <td>1</td>\n",
       "      <td>0</td>\n",
       "    </tr>\n",
       "    <tr>\n",
       "      <th>79034</th>\n",
       "      <td>25166</td>\n",
       "      <td>61</td>\n",
       "      <td>2804</td>\n",
       "      <td>5741</td>\n",
       "      <td>8615</td>\n",
       "      <td>11564</td>\n",
       "      <td>12211</td>\n",
       "      <td>15126</td>\n",
       "      <td>18188</td>\n",
       "      <td>21318</td>\n",
       "      <td>24417</td>\n",
       "      <td>25779</td>\n",
       "      <td>73</td>\n",
       "      <td>1</td>\n",
       "      <td>0</td>\n",
       "    </tr>\n",
       "  </tbody>\n",
       "</table>\n",
       "<p>35907 rows × 15 columns</p>\n",
       "</div>"
      ],
      "text/plain": [
       "         Bib  Age  5K Duration  10K Duration  15K Duration  20K Duration  \\\n",
       "30        11   30         1019          2064          3109          4140   \n",
       "31         2   25         1018          2063          3108          4140   \n",
       "33         1   27         1017          2063          3109          4141   \n",
       "39        10   31         1020          2064          3108          4140   \n",
       "43         8   31         1019          2064          3109          4141   \n",
       "51         9   34         1018          2063          3108          4140   \n",
       "53         3   28         1018          2063          3109          4140   \n",
       "57         6   19         1018          2063          3109          4140   \n",
       "61         4   33         1018          2064          3109          4141   \n",
       "74        16   26         1018          2063          3108          4140   \n",
       "77         5   27         1029          2063          3109          4141   \n",
       "145       14   30         1027          2097          3184          4260   \n",
       "223       18   35         1028          2076          3178          4288   \n",
       "235       22   24         1061          2164          3276          4396   \n",
       "303       21   29         1089          2174          3275          4385   \n",
       "329       24   27         1133          2289          3455          4588   \n",
       "472       25   32         1134          2289          3456          4637   \n",
       "497     1339   23         1178          2347          3529          4714   \n",
       "596      775   34         1215          2413          3604          4777   \n",
       "607     1502   26         1131          2283          3418          4576   \n",
       "625      119   45         1134          2290          3457          4638   \n",
       "663     4793   24         1218          2414          3606          4788   \n",
       "665       29   22         1135          2290          3456          4637   \n",
       "735     2482   33         1138          2284          3443          4621   \n",
       "736       28   34         1134          2290          3459          4638   \n",
       "740     1282   24         1177          2351          3536          4727   \n",
       "768      101   44         1134          2289          3457          4637   \n",
       "777     1254   34         1185          2355          3519          4694   \n",
       "788       40   26         1150          2318          3479          4665   \n",
       "800      104   44         1160          2338          3514          4721   \n",
       "...      ...  ...          ...           ...           ...           ...   \n",
       "78970  25797   53         1850          3773          5823          8126   \n",
       "78971  26780   38         2036          4407          7005          9707   \n",
       "78973  28474   45         2002          4158          6698         10257   \n",
       "78976  26588   28         2119          4545          7190          9813   \n",
       "78978  28922   45         2192          4696          7262          9965   \n",
       "78979  27123   43         2172          4513          6982          9559   \n",
       "78980  25683   31         2065          4369          6656          9081   \n",
       "78981  29621   24         2202          4749          7155          9723   \n",
       "78982  25753   43         2017          4316          6699          9439   \n",
       "78984  29952   36         2109          4541          7174          9890   \n",
       "78986  24110   55         2536          5148          7652         10195   \n",
       "78991  24337   60         1697          3327          5063         10203   \n",
       "78992  25391   25         2079          4303          6805          9538   \n",
       "78993  20265   41         2077          4274          6397          8853   \n",
       "78995  25882   27         2017          4355          6838          9599   \n",
       "78998  25180   53         2142          4377          6856          9407   \n",
       "78999  22217   49         1978          4082          6615          9152   \n",
       "79001  26262   26         2207          4549          6862          9391   \n",
       "79002  26912   61         2246          4508          6992          9505   \n",
       "79003  25543   61         2370          4809          7376         10010   \n",
       "79005  25766   40         2431          4737          7189          9882   \n",
       "79007  24454   58         1705          3615          6215          8950   \n",
       "79008  24952   63         2182          4591          7573         10176   \n",
       "79009  25779   42         2054          4213          6352          8549   \n",
       "79010  24894   60         2107          4463          6867          9425   \n",
       "79011  23144   48         2010          4183          6548          9077   \n",
       "79014  26889   37         2039          4269          6657          9254   \n",
       "79025  25262   44         2147          4622          7558         10353   \n",
       "79028  25263   49         2551          5265          8283         11152   \n",
       "79034  25166   61         2804          5741          8615         11564   \n",
       "\n",
       "       Half Duration  25K Duration  30K Duration  35K Duration  40K Duration  \\\n",
       "30              4365          5168          6204          7250          8250   \n",
       "31              4365          5168          6203          7250          8250   \n",
       "33              4365          5169          6204          7250          8250   \n",
       "39              4365          5168          6203          7249          8271   \n",
       "43              4366          5169          6204          7250          8282   \n",
       "51              4364          5168          6203          7250          8291   \n",
       "53              4365          5168          6204          7250          8291   \n",
       "57              4366          5168          6204          7250          8301   \n",
       "61              4365          5169          6214          7295          8385   \n",
       "74              4365          5168          6203          7250          8334   \n",
       "77              4366          5169          6255          7386          8482   \n",
       "145             4500          5352          6492          7658          8814   \n",
       "223             4533          5407          6546          7733          8959   \n",
       "235             4638          5522          6682          7879          9047   \n",
       "303             4631          5508          6668          7875          9082   \n",
       "329             4835          5728          6876          8049          9183   \n",
       "472             4892          5812          6986          8187          9349   \n",
       "497             4970          5894          7079          8261          9397   \n",
       "596             5031          5948          7127          8318          9466   \n",
       "607             4828          5733          6928          8171          9415   \n",
       "625             4893          5813          7028          8263          9460   \n",
       "663             5048          5968          7152          8337          9502   \n",
       "665             4893          5813          7028          8263          9486   \n",
       "735             4879          5822          7067          8324          9535   \n",
       "736             4894          5824          7037          8265          9509   \n",
       "740             4983          5924          7141          8375          9578   \n",
       "768             4897          5842          7096          8351          9590   \n",
       "777             4950          5868          7177          8378          9576   \n",
       "788             4923          5842          7059          8312          9547   \n",
       "800             4984          5926          7165          8412          9607   \n",
       "...              ...           ...           ...           ...           ...   \n",
       "78970           8652         11158         14353         17705         20707   \n",
       "78971          10293         12270         15097         17930         20785   \n",
       "78973          10791         13007         15684         18366         20864   \n",
       "78976          10369         12632         15304         18061         20739   \n",
       "78978          10525         12727         15503         18229         20794   \n",
       "78979          10120         12310         15061         18080         20841   \n",
       "78980           9598         11671         14674         17753         20752   \n",
       "78981          10291         12444         15193         18067         20792   \n",
       "78982          10160         12097         14935         18162         20771   \n",
       "78984          10402         12600         15529         18393         20934   \n",
       "78986          10761         12832         15450         18105         20771   \n",
       "78991          10769         12840         15459         18113         20779   \n",
       "78992          10090         12195         14922         18000         20854   \n",
       "78993           9336         11469         14103         17517         20654   \n",
       "78995          10132         12430         15158         17941         20812   \n",
       "78998           9979         12232         15259         18146         20816   \n",
       "78999           9761         12061         14897         17909         20871   \n",
       "79001           9909         12190         14815         18020         20843   \n",
       "79002          10064         12270         15089         18027         20873   \n",
       "79003          10549         12618         15429         18212         20859   \n",
       "79005          10440         12711         15801         18476         20993   \n",
       "79007           9441         11516         14344         17746         20980   \n",
       "79008          10705         12805         15603         18347         21025   \n",
       "79009           8999         11083         14301         17714         20850   \n",
       "79010           9954         11986         14969         18431         21079   \n",
       "79011           9636         13033         15958         18747         21304   \n",
       "79014           9836         12159         15326         18471         21305   \n",
       "79025          11011         13412         16671         19878         22701   \n",
       "79028          11756         14150         17255         20312         23156   \n",
       "79034          12211         15126         18188         21318         24417   \n",
       "\n",
       "       Official Time Duration  Temp (F)  F  M  \n",
       "30                       8695        46  1  0  \n",
       "31                       8699        46  1  0  \n",
       "33                       8709        46  1  0  \n",
       "39                       8739        46  1  0  \n",
       "43                       8765        46  1  0  \n",
       "51                       8800        46  1  0  \n",
       "53                       8812        46  1  0  \n",
       "57                       8834        46  1  0  \n",
       "61                       8867        46  1  0  \n",
       "74                       8947        46  1  0  \n",
       "77                       8963        46  1  0  \n",
       "145                      9318        46  1  0  \n",
       "223                      9527        46  1  0  \n",
       "235                      9548        46  1  0  \n",
       "303                      9642        46  1  0  \n",
       "329                      9677        46  1  0  \n",
       "472                      9868        46  1  0  \n",
       "497                      9896        46  1  0  \n",
       "596                      9982        46  1  0  \n",
       "607                      9994        46  1  0  \n",
       "625                     10004        46  1  0  \n",
       "663                     10035        46  1  0  \n",
       "665                     10037        46  1  0  \n",
       "735                     10087        46  1  0  \n",
       "736                     10087        46  1  0  \n",
       "740                     10090        46  1  0  \n",
       "768                     10108        46  1  0  \n",
       "777                     10112        46  1  0  \n",
       "788                     10121        46  1  0  \n",
       "800                     10129        46  1  0  \n",
       "...                       ...       ... .. ..  \n",
       "78970                   21849        73  1  0  \n",
       "78971                   21849        73  1  0  \n",
       "78973                   21856        73  1  0  \n",
       "78976                   21885        73  1  0  \n",
       "78978                   21918        73  1  0  \n",
       "78979                   21919        73  1  0  \n",
       "78980                   21920        73  1  0  \n",
       "78981                   21927        73  1  0  \n",
       "78982                   21944        73  1  0  \n",
       "78984                   21951        73  1  0  \n",
       "78986                   21962        73  1  0  \n",
       "78991                   21969        73  1  0  \n",
       "78992                   21975        73  1  0  \n",
       "78993                   21980        73  1  0  \n",
       "78995                   22012        73  1  0  \n",
       "78998                   22026        73  1  0  \n",
       "78999                   22029        73  1  0  \n",
       "79001                   22042        73  1  0  \n",
       "79002                   22059        73  1  0  \n",
       "79003                   22066        73  1  0  \n",
       "79005                   22128        73  1  0  \n",
       "79007                   22155        73  1  0  \n",
       "79008                   22175        73  1  0  \n",
       "79009                   22178        73  1  0  \n",
       "79010                   22219        73  1  0  \n",
       "79011                   22406        73  1  0  \n",
       "79014                   22564        73  1  0  \n",
       "79025                   23905        73  1  0  \n",
       "79028                   24390        73  1  0  \n",
       "79034                   25779        73  1  0  \n",
       "\n",
       "[35907 rows x 15 columns]"
      ]
     },
     "execution_count": 56,
     "metadata": {},
     "output_type": "execute_result"
    }
   ],
   "source": [
    "boston_females=boston_clean.loc[boston_clean['F'] == 1]\n",
    "boston_females"
   ]
  },
  {
   "cell_type": "code",
   "execution_count": 57,
   "metadata": {},
   "outputs": [
    {
     "name": "stdout",
     "output_type": "stream",
     "text": [
      "(35907, 14) (35907, 1)\n"
     ]
    },
    {
     "data": {
      "image/png": "[encoded data removed]",
      "text/plain": [
       "<Figure size 432x288 with 1 Axes>"
      ]
     },
     "metadata": {
      "needs_background": "light"
     },
     "output_type": "display_data"
    }
   ],
   "source": [
    "# Re-run the model with ONLY female runners, and  features of the 5K, 10K 15K 20K 25K, half and 35K split times to predict 40K time\n",
    "\n",
    "### set up data for modeling\n",
    "X_F40K = boston_females[['Bib', 'Age','Official Time Duration', 'F', 'M', 'Temp (F)', '5K Duration', '10K Duration', '15K Duration', '20K Duration','Half Duration', '25K Duration', '30K Duration', '35K Duration']]\n",
    "y_F40K = boston_females['40K Duration'].values.reshape(-1, 1)\n",
    "print(X_F40K.shape, y_F40K.shape)\n",
    "\n",
    "# split the data into test and train subsets\n",
    "\n",
    "from sklearn.model_selection import train_test_split\n",
    "\n",
    "X_train_F40K, X_test_F40K, y_train_F40K, y_test_F40K = train_test_split(X_F40K, y_F40K, random_state=29)\n",
    "# X_train_F40K.head()\n",
    "\n",
    "# Create a linear regression model and fit it to the training data\n",
    "\n",
    "from sklearn.linear_model import LinearRegression\n",
    "model_F40K = LinearRegression()\n",
    "model_F40K.fit(X_train_F40K, y_train_F40K)\n",
    "\n",
    "# Make predictions\n",
    "\n",
    "predictions_F40K = model_F40K.predict(X_test_F40K)\n",
    "\n",
    "# Plot the residuals\n",
    "\n",
    "plt.scatter(model_F40K.predict(X_train_F40K), model_F40K.predict(X_train_F40K) - y_train_F40K, c=\"blue\", label=\"Training Data\")\n",
    "plt.scatter(model_F40K.predict(X_test_F40K), model_F40K.predict(X_test_F40K) - y_test_F40K, c=\"orange\", label=\"Testing Data\")\n",
    "plt.legend()\n",
    "plt.hlines(y=0, xmin=y_test_F40K.min(), xmax=y_test_F40K.max())\n",
    "plt.title(\"Residual Plot Female Runners 40K\")\n",
    "plt.savefig('model_F40K.png')\n",
    "plt.show()\n"
   ]
  },
  {
   "cell_type": "code",
   "execution_count": 58,
   "metadata": {},
   "outputs": [
    {
     "name": "stdout",
     "output_type": "stream",
     "text": [
      "MSE: 4219.460135952604, R2: 0.9990982695390382\n"
     ]
    },
    {
     "data": {
      "text/html": [
       "<div>\n",
       "<style scoped>\n",
       "    .dataframe tbody tr th:only-of-type {\n",
       "        vertical-align: middle;\n",
       "    }\n",
       "\n",
       "    .dataframe tbody tr th {\n",
       "        vertical-align: top;\n",
       "    }\n",
       "\n",
       "    .dataframe thead th {\n",
       "        text-align: right;\n",
       "    }\n",
       "</style>\n",
       "<table border=\"1\" class=\"dataframe\">\n",
       "  <thead>\n",
       "    <tr style=\"text-align: right;\">\n",
       "      <th></th>\n",
       "      <th>boston_models</th>\n",
       "      <th>boston_mse</th>\n",
       "      <th>boston_r2</th>\n",
       "    </tr>\n",
       "  </thead>\n",
       "  <tbody>\n",
       "    <tr>\n",
       "      <th>0</th>\n",
       "      <td>5K</td>\n",
       "      <td>7302.074523</td>\n",
       "      <td>0.868467</td>\n",
       "    </tr>\n",
       "    <tr>\n",
       "      <th>1</th>\n",
       "      <td>10K</td>\n",
       "      <td>2994.148452</td>\n",
       "      <td>0.986686</td>\n",
       "    </tr>\n",
       "    <tr>\n",
       "      <th>2</th>\n",
       "      <td>15K</td>\n",
       "      <td>2828.968308</td>\n",
       "      <td>0.994650</td>\n",
       "    </tr>\n",
       "    <tr>\n",
       "      <th>3</th>\n",
       "      <td>20K</td>\n",
       "      <td>5065.672007</td>\n",
       "      <td>0.994992</td>\n",
       "    </tr>\n",
       "    <tr>\n",
       "      <th>4</th>\n",
       "      <td>Half</td>\n",
       "      <td>320.637325</td>\n",
       "      <td>0.999716</td>\n",
       "    </tr>\n",
       "    <tr>\n",
       "      <th>5</th>\n",
       "      <td>25K</td>\n",
       "      <td>6579.135267</td>\n",
       "      <td>0.996176</td>\n",
       "    </tr>\n",
       "    <tr>\n",
       "      <th>6</th>\n",
       "      <td>30K</td>\n",
       "      <td>10553.949084</td>\n",
       "      <td>0.996114</td>\n",
       "    </tr>\n",
       "    <tr>\n",
       "      <th>7</th>\n",
       "      <td>35K</td>\n",
       "      <td>11479.539783</td>\n",
       "      <td>0.997123</td>\n",
       "    </tr>\n",
       "    <tr>\n",
       "      <th>8</th>\n",
       "      <td>40K</td>\n",
       "      <td>4237.575081</td>\n",
       "      <td>0.999217</td>\n",
       "    </tr>\n",
       "    <tr>\n",
       "      <th>9</th>\n",
       "      <td>Final</td>\n",
       "      <td>7501.126685</td>\n",
       "      <td>0.998758</td>\n",
       "    </tr>\n",
       "  </tbody>\n",
       "</table>\n",
       "</div>"
      ],
      "text/plain": [
       "  boston_models    boston_mse  boston_r2\n",
       "0            5K   7302.074523   0.868467\n",
       "1           10K   2994.148452   0.986686\n",
       "2           15K   2828.968308   0.994650\n",
       "3           20K   5065.672007   0.994992\n",
       "4          Half    320.637325   0.999716\n",
       "5           25K   6579.135267   0.996176\n",
       "6           30K  10553.949084   0.996114\n",
       "7           35K  11479.539783   0.997123\n",
       "8           40K   4237.575081   0.999217\n",
       "9         Final   7501.126685   0.998758"
      ]
     },
     "execution_count": 58,
     "metadata": {},
     "output_type": "execute_result"
    }
   ],
   "source": [
    "# Used X_test, y_test, and model.predict(X_test) to calculate MSE and R2\n",
    "\n",
    "from sklearn.metrics import mean_squared_error\n",
    "\n",
    "MSE = mean_squared_error(y_test_F40K, predictions_F40K)\n",
    "r2 = model_F40K.score(X_test_F40K, y_test_F40K)\n",
    "\n",
    "\n",
    "print(f\"MSE: {MSE}, R2: {r2}\")\n",
    "\n",
    "# create lists of MSE and r2 values for each model\n",
    "\n",
    "# boston_models.append('F40K')\n",
    "# boston_mse.append(MSE)\n",
    "# boston_r2.append(r2)\n",
    "\n",
    "# boston_residuals_df=pd.DataFrame({\n",
    "#     'boston_models':boston_models,\n",
    "#     'boston_mse':boston_mse,\n",
    "#     'boston_r2':boston_r2\n",
    "# })\n",
    "boston_residuals_df"
   ]
  },
  {
   "cell_type": "code",
   "execution_count": 59,
   "metadata": {},
   "outputs": [
    {
     "data": {
      "image/png": "[encoded data removed]",
      "text/plain": [
       "<Figure size 432x288 with 1 Axes>"
      ]
     },
     "metadata": {
      "needs_background": "light"
     },
     "output_type": "display_data"
    }
   ],
   "source": [
    "plt.scatter(boston_residuals_df['boston_models'], boston_r2, c=\"blue\", label=\"R2\")\n",
    "# plt.legend()\n",
    "plt.title(\"R2 for each model\")\n",
    "plt.savefig('R2.png')\n",
    "plt.show()\n"
   ]
  },
  {
   "cell_type": "code",
   "execution_count": 60,
   "metadata": {},
   "outputs": [],
   "source": [
    "# # Univariate Density Plots\n",
    "\n",
    "# # names = ['preg', 'plas', 'pres', 'skin', 'test', 'mass', 'pedi', 'age', 'class']\n",
    "# # data = pandas.read_csv(url, names=names)\n",
    "# boston_clean.plot(kind='density', subplots=True, layout=(6,3), sharex=False)\n",
    "# plt.show()"
   ]
  },
  {
   "cell_type": "code",
   "execution_count": null,
   "metadata": {},
   "outputs": [],
   "source": []
  }
 ],
 "metadata": {
  "celltoolbar": "Create Assignment",
  "kernelspec": {
   "display_name": "Python 3",
   "language": "python",
   "name": "python3"
  },
  "language_info": {
   "codemirror_mode": {
    "name": "ipython",
    "version": 3
   },
   "file_extension": ".py",
   "mimetype": "text/x-python",
   "name": "python",
   "nbconvert_exporter": "python",
   "pygments_lexer": "ipython3",
   "version": "3.7.0"
  },
  "varInspector": {
   "cols": {
    "lenName": 16,
    "lenType": 16,
    "lenVar": 40
   },
   "kernels_config": {
    "python": {
     "delete_cmd_postfix": "",
     "delete_cmd_prefix": "del ",
     "library": "var_list.py",
     "varRefreshCmd": "print(var_dic_list())"
    },
    "r": {
     "delete_cmd_postfix": ") ",
     "delete_cmd_prefix": "rm(",
     "library": "var_list.r",
     "varRefreshCmd": "cat(var_dic_list()) "
    }
   },
   "types_to_exclude": [
    "module",
    "function",
    "builtin_function_or_method",
    "instance",
    "_Feature"
   ],
   "window_display": false
  }
 },
 "nbformat": 4,
 "nbformat_minor": 2
}
