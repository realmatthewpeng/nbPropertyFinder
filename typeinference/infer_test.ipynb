{
 "cells": [
  {
   "cell_type": "code",
   "execution_count": null,
   "metadata": {},
   "outputs": [],
   "source": [
    "import pandas as pd\n",
    "import matplotlib.pyplot as plt\n",
    "from IPython.display import display, display_html"
   ]
  },
  {
   "cell_type": "code",
   "execution_count": null,
   "metadata": {},
   "outputs": [],
   "source": [
    "data = pd.read_csv(\"../data/prices.csv\")"
   ]
  },
  {
   "cell_type": "code",
   "execution_count": null,
   "metadata": {},
   "outputs": [],
   "source": [
    "data[data.symbol == \"FB\"].head()"
   ]
  },
  {
   "cell_type": "code",
   "execution_count": null,
   "metadata": {},
   "outputs": [],
   "source": [
    "len(data.symbol.unique())"
   ]
  },
  {
   "cell_type": "code",
   "execution_count": null,
   "metadata": {},
   "outputs": [],
   "source": [
    "# Variation of AAPL Stock\n",
    "# Ref: https://plot.ly/python/ohlc-charts/\n",
    "\n",
    "\n",
    "aapl = data[data.symbol == \"AAPL\"]\n",
    "trace = go.Ohlc(x=aapl['date'],\n",
    "                open=aapl['open'],\n",
    "                high=aapl['high'],\n",
    "                low=aapl['low'],\n",
    "                close=aapl['close'],\n",
    "                increasing=dict(line=dict(color= '#17BECF')),\n",
    "                decreasing=dict(line=dict(color= '#7F7F7F')))\n",
    "\n",
    "layout = {\n",
    "    'title' : 'AAPL Stock Variation',\n",
    "    'yaxis' : {'title': 'Stock Value'},\n",
    "    'xaxis' : {'title' : 'Year'},\n",
    "    'shapes': [{\n",
    "        'x0': '2014-06-09', 'x1': '2014-06-09',\n",
    "        'y0': 0, 'y1': 1, 'xref': 'x', 'yref': 'paper',\n",
    "        'line': {'color': 'rgb(30,30,30)', 'width': 1}\n",
    "    }],\n",
    "     'annotations': [{\n",
    "        'x': '2014-06-09', 'y': 0.05, 'xref': 'x', 'yref': 'paper',\n",
    "        'showarrow': False, 'xanchor': 'left',\n",
    "        'text': 'Steep Drop in Stock Price'\n",
    "    }]\n",
    "}\n",
    "\n",
    "data_aapl = [trace]\n",
    "fig = dict(data=data_aapl, layout=layout)\n",
    "\n",
    "py.iplot(fig, filename='simple_ohlc')"
   ]
  }
 ],
 "metadata": {
  "language_info": {
   "name": "python"
  }
 },
 "nbformat": 4,
 "nbformat_minor": 2
}
