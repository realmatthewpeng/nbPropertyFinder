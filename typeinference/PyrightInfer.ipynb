{
 "cells": [
  {
   "cell_type": "code",
   "execution_count": 37,
   "metadata": {},
   "outputs": [],
   "source": [
    "import io\n",
    "import json\n",
    "import os\n",
    "import re\n",
    "import sys\n",
    "import subprocess\n",
    "import tempfile as tmp\n",
    "from pprint import pprint\n",
    "from textwrap import dedent\n",
    "\n",
    "from collections import defaultdict"
   ]
  },
  {
   "cell_type": "code",
   "execution_count": 38,
   "metadata": {},
   "outputs": [],
   "source": [
    "test_py_src = dedent(\"\"\"\n",
    "    import pandas as pd\n",
    "    from sklearn.datasets import load_iris\n",
    "    \n",
    "    # Load Iris dataset\n",
    "    iris = load_iris()\n",
    "    df = pd.DataFrame(data=iris.data, columns=iris.feature_names)\n",
    "    \n",
    "    # Calculate mean and standard deviation for sepal length and width\n",
    "    sepal_length_mean = df['sepal length (cm)'].mean()\n",
    "    sepal_width_mean = df['sepal width (cm)'].mean()\n",
    "    sepal_length_std = df['sepal length (cm)'].std()\n",
    "    sepal_width_std = df['sepal width (cm)'].std()\n",
    "    \n",
    "    print(f\"Sepal Length - Mean: {sepal_length_mean:.2f}, Std: {sepal_length_std:.2f}\")\n",
    "    print(f\"Sepal Width - Mean: {sepal_width_mean:.2f}, Std: {sepal_width_std:.2f}\")\n",
    "    \n",
    "    my_str = \"foo\"\n",
    "    \n",
    "    my_dict = {}\n",
    "    my_dict[my_str] = 123\n",
    "\n",
    "    if True:\n",
    "        scoped_df = pd.DataFrame()\n",
    "\"\"\")\n",
    "\n",
    "with open(\"test.py\", \"w\") as f:\n",
    "    f.write(test_py_src)\n",
    "    f.flush()"
   ]
  },
  {
   "cell_type": "code",
   "execution_count": 39,
   "metadata": {},
   "outputs": [],
   "source": [
    "pyright_config = {\n",
    "    \"reportMissingImports\": False\n",
    "}\n",
    "\n",
    "with open(\"pyrightconfig.json\", \"w\") as f:\n",
    "    json.dump(pyright_config, f)"
   ]
  },
  {
   "cell_type": "code",
   "execution_count": 40,
   "metadata": {},
   "outputs": [],
   "source": [
    "pyright_cmd_base = ['pyright', '--outputjson']\n",
    "\n",
    "def pyright_run(source: str):\n",
    "    with tmp.NamedTemporaryFile(mode='w', suffix=\".py\") as file:\n",
    "        file.write(source)\n",
    "        file.flush()\n",
    "\n",
    "        try:\n",
    "            result = subprocess.run([*pyright_cmd_base, file.name], check=True, capture_output=True)\n",
    "            return json.loads(result.stdout)\n",
    "        except subprocess.CalledProcessError as cpe:\n",
    "            print(cpe)\n",
    "            print(cpe.output.decode())"
   ]
  },
  {
   "cell_type": "code",
   "execution_count": 41,
   "metadata": {},
   "outputs": [
    {
     "data": {
      "text/plain": [
       "{'version': '1.1.361',\n",
       " 'time': '1715027177806',\n",
       " 'generalDiagnostics': [],\n",
       " 'summary': {'filesAnalyzed': 1,\n",
       "  'errorCount': 0,\n",
       "  'warningCount': 0,\n",
       "  'informationCount': 0,\n",
       "  'timeInSec': 0.872}}"
      ]
     },
     "execution_count": 41,
     "metadata": {},
     "output_type": "execute_result"
    }
   ],
   "source": [
    "pyright_run(open(\"./test.py\").read())"
   ]
  },
  {
   "cell_type": "code",
   "execution_count": 42,
   "metadata": {},
   "outputs": [],
   "source": [
    "def pyright_infer(source: str, targets: list[tuple[str, int | None]]):\n",
    "    \"\"\"\n",
    "    Infers types for expressions. Each target may have a line number specified, in which case the\n",
    "    type revelation is inserted after that line. If None, it's inserted at the end.\n",
    "\n",
    "    :param source: original source to infer\n",
    "    :param targets: list of target expressions to infer, and the line to do so after (or None for EOF).\n",
    "    \"\"\"\n",
    "    str_io = io.StringIO()\n",
    "    target_exprs, _ = zip(*targets)  # this is python magic to unzip...\n",
    "\n",
    "    ln_no_to_target_exprs = defaultdict(list)\n",
    "    for (target_expr, target_line) in targets:\n",
    "        ln_no_to_target_exprs[target_line].append(target_expr)\n",
    "\n",
    "\n",
    "    target_name_to_expr = {}\n",
    "    next_id = 0\n",
    "        \n",
    "    # Iterate through the source line by line, inserting line-specific targets.\n",
    "    for ln_no, source_line in enumerate(source.splitlines()):\n",
    "        ln_no = ln_no + 1  # index from 1, not 0!\n",
    "\n",
    "        # print(f\"{source_line}\\n\")\n",
    "        \n",
    "        str_io.write(f\"{source_line}\\n\")\n",
    "\n",
    "        # Gotcha: make sure to use the _same indentation as the line!_\n",
    "        indent_level = len(source_line) - len(source_line.lstrip())\n",
    "        indent = indent_level * \" \"\n",
    "\n",
    "        for target_expr in ln_no_to_target_exprs[ln_no]:\n",
    "            target_name = f\"__infer_target_{next_id}__\"\n",
    "            next_id = next_id + 1\n",
    "\n",
    "            target_name_to_expr[target_name] = target_expr\n",
    "\n",
    "            # print(f\"\\n{indent}{target_name} = {target_expr}\")\n",
    "            # print(f\"\\n{indent}reveal_type({target_name})\")\n",
    "\n",
    "            str_io.write(f\"\\n{indent}{target_name} = {target_expr}\")\n",
    "            str_io.write(f\"\\n{indent}reveal_type({target_name})\")\n",
    "    str_io.write(\"\\n\")\n",
    "\n",
    "    # Insert the end-of-file targets.\n",
    "    for target_expr in ln_no_to_target_exprs[None]:\n",
    "        target_name = f\"__infer_target_{next_id}__\"\n",
    "        next_id = next_id + 1\n",
    "\n",
    "        target_name_to_expr[target_name] = target_expr\n",
    "        \n",
    "        str_io.write(f\"\\n{target_name} = {target_expr}\")\n",
    "        str_io.write(f\"\\nreveal_type({target_name})\")\n",
    "    str_io.write(\"\\n\")\n",
    "\n",
    "    # Rewind and feed the augmented script into pyright.\n",
    "    str_io.seek(0)\n",
    "    \n",
    "    result = pyright_run(str_io.read())\n",
    "\n",
    "    # Pull out what we want to know from the 'information's \n",
    "    pattern = r'Type of \"(?P<target>\\w+)\" is \"(?P<type>.+?)\"'\n",
    "    regex = re.compile(pattern)\n",
    "    \n",
    "    informations = {}\n",
    "    inferred_types = dict.fromkeys(target_exprs)\n",
    "    \n",
    "    for diagnostic in result['generalDiagnostics']:\n",
    "        # print(diagnostic)\n",
    "        if diagnostic['severity'] == 'information':\n",
    "            message = diagnostic['message']\n",
    "            if (match := regex.fullmatch(message)):\n",
    "                target_name = match.group(\"target\")\n",
    "                inferred_type = match.group(\"type\")\n",
    "\n",
    "                inferred_types[target_name_to_expr[target_name]] = inferred_type\n",
    "            else:\n",
    "                continue\n",
    "\n",
    "    return inferred_types"
   ]
  },
  {
   "cell_type": "code",
   "execution_count": 43,
   "metadata": {},
   "outputs": [
    {
     "data": {
      "text/plain": [
       "{'df': 'DataFrame',\n",
       " \"df['foo']\": 'Series[Unknown]',\n",
       " 'df[df[\"bar\"] > 0]': 'DataFrame',\n",
       " 'my_dict': 'dict[Unknown, Unknown]',\n",
       " \"my_dict['foo']\": 'Unknown',\n",
       " 'scoped_df': 'DataFrame'}"
      ]
     },
     "execution_count": 43,
     "metadata": {},
     "output_type": "execute_result"
    }
   ],
   "source": [
    "pyright_infer(open(\"./test.py\").read(), [\n",
    "    (\"df\", None),\n",
    "    (\"df['foo']\", None),\n",
    "    ('df[df[\"bar\"] > 0]', None),\n",
    "    (\"my_dict\", None), \n",
    "    (\"my_dict['foo']\", None),\n",
    "    (\"scoped_df\", 24)\n",
    "])"
   ]
  }
 ],
 "metadata": {
  "kernelspec": {
   "display_name": "Python 3 (ipykernel)",
   "language": "python",
   "name": "python3"
  },
  "language_info": {
   "codemirror_mode": {
    "name": "ipython",
    "version": 3
   },
   "file_extension": ".py",
   "mimetype": "text/x-python",
   "name": "python",
   "nbconvert_exporter": "python",
   "pygments_lexer": "ipython3",
   "version": "3.11.5"
  }
 },
 "nbformat": 4,
 "nbformat_minor": 4
}
